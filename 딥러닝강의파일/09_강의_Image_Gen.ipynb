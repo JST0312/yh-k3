{
  "cells": [
    {
      "cell_type": "markdown",
      "metadata": {
        "id": "xSK1qF6cfLHa"
      },
      "source": [
        "이미지 파일 다운로드. 말, 인간 분류하기 위한 사진 파일 다운로드 하기"
      ]
    },
    {
      "cell_type": "code",
      "execution_count": 1,
      "metadata": {
        "colab": {
          "base_uri": "https://localhost:8080/"
        },
        "id": "RXZT2UsyIVe_",
        "outputId": "9e85f87b-0909-4670-c7c8-1f79bcee23d2"
      },
      "outputs": [
        {
          "output_type": "stream",
          "name": "stdout",
          "text": [
            "--2022-12-30 02:07:03--  https://storage.googleapis.com/laurencemoroney-blog.appspot.com/horse-or-human.zip\n",
            "Resolving storage.googleapis.com (storage.googleapis.com)... 173.194.202.128, 173.194.203.128, 74.125.20.128, ...\n",
            "Connecting to storage.googleapis.com (storage.googleapis.com)|173.194.202.128|:443... connected.\n",
            "HTTP request sent, awaiting response... 200 OK\n",
            "Length: 149574867 (143M) [application/zip]\n",
            "Saving to: ‘/tmp/horse-or-human.zip’\n",
            "\n",
            "/tmp/horse-or-human 100%[===================>] 142.65M   239MB/s    in 0.6s    \n",
            "\n",
            "2022-12-30 02:07:04 (239 MB/s) - ‘/tmp/horse-or-human.zip’ saved [149574867/149574867]\n",
            "\n"
          ]
        }
      ],
      "source": [
        "!wget --no-check-certificate \\\n",
        "    https://storage.googleapis.com/laurencemoroney-blog.appspot.com/horse-or-human.zip \\\n",
        "    -O /tmp/horse-or-human.zip"
      ]
    },
    {
      "cell_type": "code",
      "execution_count": 2,
      "metadata": {
        "id": "tJyfF9OYKoxu",
        "colab": {
          "base_uri": "https://localhost:8080/"
        },
        "outputId": "11a7b778-8ca1-4586-b801-fec4d2cd56f0"
      },
      "outputs": [
        {
          "output_type": "stream",
          "name": "stdout",
          "text": [
            "--2022-12-30 02:09:38--  https://storage.googleapis.com/laurencemoroney-blog.appspot.com/validation-horse-or-human.zip\n",
            "Resolving storage.googleapis.com (storage.googleapis.com)... 74.125.20.128, 74.125.197.128, 74.125.135.128, ...\n",
            "Connecting to storage.googleapis.com (storage.googleapis.com)|74.125.20.128|:443... connected.\n",
            "HTTP request sent, awaiting response... 200 OK\n",
            "Length: 11480187 (11M) [application/zip]\n",
            "Saving to: ‘/tmp/validation-horse-or-human.zip’\n",
            "\n",
            "/tmp/validation-hor 100%[===================>]  10.95M  44.9MB/s    in 0.2s    \n",
            "\n",
            "2022-12-30 02:09:39 (44.9 MB/s) - ‘/tmp/validation-horse-or-human.zip’ saved [11480187/11480187]\n",
            "\n"
          ]
        }
      ],
      "source": [
        "!wget --no-check-certificate \\\n",
        "    https://storage.googleapis.com/laurencemoroney-blog.appspot.com/validation-horse-or-human.zip \\\n",
        "    -O /tmp/validation-horse-or-human.zip"
      ]
    },
    {
      "cell_type": "markdown",
      "metadata": {
        "id": "XBvdHMczfWwD"
      },
      "source": [
        "압축파일 풀기"
      ]
    },
    {
      "cell_type": "code",
      "execution_count": 3,
      "metadata": {
        "id": "XslcaKClhuA7"
      },
      "outputs": [],
      "source": [
        "import zipfile"
      ]
    },
    {
      "cell_type": "code",
      "source": [
        "file = zipfile.ZipFile('/tmp/horse-or-human.zip')"
      ],
      "metadata": {
        "id": "897LWHmYy6Ut"
      },
      "execution_count": 4,
      "outputs": []
    },
    {
      "cell_type": "code",
      "source": [
        "file.extractall('/tmp/horse-or-human')"
      ],
      "metadata": {
        "id": "6gSij7Qpy6Mv"
      },
      "execution_count": 5,
      "outputs": []
    },
    {
      "cell_type": "code",
      "source": [
        "file = zipfile.ZipFile('/tmp/validation-horse-or-human.zip')"
      ],
      "metadata": {
        "id": "s4_5TH2CzeJd"
      },
      "execution_count": 6,
      "outputs": []
    },
    {
      "cell_type": "code",
      "source": [
        "file.extractall('/tmp/validation-horse-or-human')"
      ],
      "metadata": {
        "id": "OJHwT9fu45Vt"
      },
      "execution_count": 7,
      "outputs": []
    },
    {
      "cell_type": "code",
      "source": [],
      "metadata": {
        "id": "uSl9bAcd45QN"
      },
      "execution_count": null,
      "outputs": []
    },
    {
      "cell_type": "markdown",
      "metadata": {
        "id": "o-qUPyfO7Qr8"
      },
      "source": [
        "사진이 저장된 폴더 경로 만들기"
      ]
    },
    {
      "cell_type": "code",
      "source": [
        "train_horse_dir = '/tmp/horse-or-human/horses'"
      ],
      "metadata": {
        "id": "R5jvJLCH5V33"
      },
      "execution_count": 8,
      "outputs": []
    },
    {
      "cell_type": "code",
      "source": [
        "train_human_dir = '/tmp/horse-or-human/humans'"
      ],
      "metadata": {
        "id": "umnPFhF_5Vv9"
      },
      "execution_count": 9,
      "outputs": []
    },
    {
      "cell_type": "code",
      "source": [
        "validation_horse_dir = '/tmp/validation-horse-or-human/horses'"
      ],
      "metadata": {
        "id": "kti8wK775gON"
      },
      "execution_count": 10,
      "outputs": []
    },
    {
      "cell_type": "code",
      "execution_count": 11,
      "metadata": {
        "id": "LlJknwpJhvDN"
      },
      "outputs": [],
      "source": [
        "validation_human_dir = '/tmp/validation-horse-or-human/humans'"
      ]
    },
    {
      "cell_type": "code",
      "source": [],
      "metadata": {
        "id": "0MTKdvZg5yMV"
      },
      "execution_count": null,
      "outputs": []
    },
    {
      "cell_type": "markdown",
      "metadata": {
        "id": "LuBYtA_Zd8_T"
      },
      "source": [
        "각 폴더에 저장되어 있는 사진파일이름들 출력하기"
      ]
    },
    {
      "cell_type": "code",
      "source": [
        "import os"
      ],
      "metadata": {
        "id": "V8x38iXX57RN"
      },
      "execution_count": 12,
      "outputs": []
    },
    {
      "cell_type": "code",
      "source": [
        "os.listdir(train_horse_dir)"
      ],
      "metadata": {
        "colab": {
          "base_uri": "https://localhost:8080/"
        },
        "id": "zsNfhPll57Jm",
        "outputId": "4e8c99c7-7842-4081-bd9e-61d688d7a69d"
      },
      "execution_count": 13,
      "outputs": [
        {
          "output_type": "execute_result",
          "data": {
            "text/plain": [
              "['horse21-3.png',\n",
              " 'horse04-7.png',\n",
              " 'horse43-9.png',\n",
              " 'horse19-8.png',\n",
              " 'horse18-2.png',\n",
              " 'horse27-1.png',\n",
              " 'horse17-0.png',\n",
              " 'horse30-8.png',\n",
              " 'horse10-9.png',\n",
              " 'horse48-7.png',\n",
              " 'horse48-0.png',\n",
              " 'horse01-1.png',\n",
              " 'horse23-4.png',\n",
              " 'horse21-1.png',\n",
              " 'horse42-0.png',\n",
              " 'horse50-6.png',\n",
              " 'horse39-9.png',\n",
              " 'horse41-3.png',\n",
              " 'horse15-6.png',\n",
              " 'horse33-8.png',\n",
              " 'horse31-1.png',\n",
              " 'horse28-0.png',\n",
              " 'horse49-3.png',\n",
              " 'horse34-2.png',\n",
              " 'horse25-7.png',\n",
              " 'horse40-9.png',\n",
              " 'horse36-0.png',\n",
              " 'horse04-2.png',\n",
              " 'horse19-0.png',\n",
              " 'horse13-9.png',\n",
              " 'horse39-5.png',\n",
              " 'horse22-2.png',\n",
              " 'horse28-7.png',\n",
              " 'horse26-5.png',\n",
              " 'horse25-5.png',\n",
              " 'horse03-9.png',\n",
              " 'horse15-0.png',\n",
              " 'horse35-6.png',\n",
              " 'horse30-7.png',\n",
              " 'horse45-0.png',\n",
              " 'horse24-4.png',\n",
              " 'horse27-9.png',\n",
              " 'horse23-1.png',\n",
              " 'horse42-5.png',\n",
              " 'horse48-8.png',\n",
              " 'horse01-5.png',\n",
              " 'horse49-1.png',\n",
              " 'horse20-0.png',\n",
              " 'horse35-5.png',\n",
              " 'horse46-2.png',\n",
              " 'horse22-6.png',\n",
              " 'horse23-2.png',\n",
              " 'horse20-8.png',\n",
              " 'horse35-0.png',\n",
              " 'horse49-2.png',\n",
              " 'horse08-2.png',\n",
              " 'horse36-1.png',\n",
              " 'horse17-5.png',\n",
              " 'horse15-1.png',\n",
              " 'horse29-9.png',\n",
              " 'horse32-1.png',\n",
              " 'horse07-0.png',\n",
              " 'horse11-8.png',\n",
              " 'horse25-9.png',\n",
              " 'horse44-5.png',\n",
              " 'horse13-5.png',\n",
              " 'horse34-9.png',\n",
              " 'horse02-6.png',\n",
              " 'horse35-3.png',\n",
              " 'horse43-8.png',\n",
              " 'horse28-4.png',\n",
              " 'horse16-5.png',\n",
              " 'horse16-3.png',\n",
              " 'horse39-1.png',\n",
              " 'horse03-3.png',\n",
              " 'horse14-6.png',\n",
              " 'horse27-0.png',\n",
              " 'horse16-1.png',\n",
              " 'horse02-0.png',\n",
              " 'horse27-6.png',\n",
              " 'horse14-9.png',\n",
              " 'horse10-2.png',\n",
              " 'horse46-1.png',\n",
              " 'horse25-3.png',\n",
              " 'horse09-1.png',\n",
              " 'horse12-1.png',\n",
              " 'horse14-2.png',\n",
              " 'horse32-6.png',\n",
              " 'horse43-7.png',\n",
              " 'horse20-6.png',\n",
              " 'horse43-0.png',\n",
              " 'horse19-1.png',\n",
              " 'horse09-2.png',\n",
              " 'horse28-2.png',\n",
              " 'horse39-8.png',\n",
              " 'horse02-9.png',\n",
              " 'horse38-0.png',\n",
              " 'horse47-5.png',\n",
              " 'horse42-8.png',\n",
              " 'horse07-8.png',\n",
              " 'horse17-9.png',\n",
              " 'horse31-0.png',\n",
              " 'horse34-5.png',\n",
              " 'horse15-5.png',\n",
              " 'horse08-6.png',\n",
              " 'horse38-4.png',\n",
              " 'horse21-4.png',\n",
              " 'horse02-4.png',\n",
              " 'horse25-2.png',\n",
              " 'horse22-9.png',\n",
              " 'horse13-2.png',\n",
              " 'horse26-0.png',\n",
              " 'horse04-4.png',\n",
              " 'horse12-3.png',\n",
              " 'horse11-0.png',\n",
              " 'horse39-2.png',\n",
              " 'horse12-4.png',\n",
              " 'horse22-0.png',\n",
              " 'horse13-1.png',\n",
              " 'horse32-8.png',\n",
              " 'horse31-2.png',\n",
              " 'horse29-8.png',\n",
              " 'horse20-4.png',\n",
              " 'horse31-9.png',\n",
              " 'horse23-3.png',\n",
              " 'horse34-4.png',\n",
              " 'horse01-6.png',\n",
              " 'horse29-7.png',\n",
              " 'horse24-5.png',\n",
              " 'horse40-3.png',\n",
              " 'horse15-9.png',\n",
              " 'horse15-2.png',\n",
              " 'horse19-3.png',\n",
              " 'horse32-2.png',\n",
              " 'horse08-3.png',\n",
              " 'horse33-1.png',\n",
              " 'horse50-8.png',\n",
              " 'horse40-7.png',\n",
              " 'horse18-7.png',\n",
              " 'horse10-5.png',\n",
              " 'horse41-0.png',\n",
              " 'horse05-5.png',\n",
              " 'horse40-5.png',\n",
              " 'horse19-9.png',\n",
              " 'horse43-5.png',\n",
              " 'horse18-1.png',\n",
              " 'horse33-2.png',\n",
              " 'horse27-3.png',\n",
              " 'horse23-9.png',\n",
              " 'horse01-7.png',\n",
              " 'horse38-7.png',\n",
              " 'horse27-4.png',\n",
              " 'horse49-7.png',\n",
              " 'horse50-1.png',\n",
              " 'horse33-9.png',\n",
              " 'horse45-1.png',\n",
              " 'horse21-9.png',\n",
              " 'horse21-5.png',\n",
              " 'horse19-4.png',\n",
              " 'horse06-8.png',\n",
              " 'horse11-1.png',\n",
              " 'horse16-4.png',\n",
              " 'horse22-3.png',\n",
              " 'horse44-7.png',\n",
              " 'horse39-0.png',\n",
              " 'horse26-6.png',\n",
              " 'horse44-1.png',\n",
              " 'horse17-4.png',\n",
              " 'horse25-8.png',\n",
              " 'horse26-8.png',\n",
              " 'horse46-7.png',\n",
              " 'horse24-9.png',\n",
              " 'horse12-2.png',\n",
              " 'horse24-0.png',\n",
              " 'horse25-6.png',\n",
              " 'horse30-3.png',\n",
              " 'horse17-7.png',\n",
              " 'horse44-6.png',\n",
              " 'horse13-4.png',\n",
              " 'horse41-7.png',\n",
              " 'horse03-2.png',\n",
              " 'horse33-0.png',\n",
              " 'horse49-0.png',\n",
              " 'horse16-8.png',\n",
              " 'horse04-0.png',\n",
              " 'horse35-8.png',\n",
              " 'horse04-8.png',\n",
              " 'horse41-8.png',\n",
              " 'horse06-1.png',\n",
              " 'horse14-0.png',\n",
              " 'horse36-6.png',\n",
              " 'horse41-5.png',\n",
              " 'horse06-5.png',\n",
              " 'horse02-8.png',\n",
              " 'horse06-3.png',\n",
              " 'horse38-5.png',\n",
              " 'horse47-3.png',\n",
              " 'horse36-4.png',\n",
              " 'horse36-3.png',\n",
              " 'horse11-4.png',\n",
              " 'horse05-6.png',\n",
              " 'horse30-9.png',\n",
              " 'horse34-8.png',\n",
              " 'horse27-8.png',\n",
              " 'horse33-4.png',\n",
              " 'horse29-5.png',\n",
              " 'horse21-8.png',\n",
              " 'horse12-0.png',\n",
              " 'horse30-6.png',\n",
              " 'horse35-1.png',\n",
              " 'horse24-1.png',\n",
              " 'horse23-6.png',\n",
              " 'horse18-6.png',\n",
              " 'horse46-4.png',\n",
              " 'horse12-5.png',\n",
              " 'horse15-8.png',\n",
              " 'horse01-0.png',\n",
              " 'horse08-1.png',\n",
              " 'horse18-9.png',\n",
              " 'horse13-6.png',\n",
              " 'horse04-1.png',\n",
              " 'horse12-8.png',\n",
              " 'horse26-7.png',\n",
              " 'horse50-5.png',\n",
              " 'horse21-2.png',\n",
              " 'horse33-6.png',\n",
              " 'horse30-4.png',\n",
              " 'horse40-2.png',\n",
              " 'horse30-5.png',\n",
              " 'horse07-7.png',\n",
              " 'horse09-4.png',\n",
              " 'horse47-9.png',\n",
              " 'horse23-0.png',\n",
              " 'horse05-2.png',\n",
              " 'horse08-5.png',\n",
              " 'horse12-9.png',\n",
              " 'horse09-8.png',\n",
              " 'horse29-4.png',\n",
              " 'horse31-4.png',\n",
              " 'horse21-0.png',\n",
              " 'horse14-1.png',\n",
              " 'horse27-5.png',\n",
              " 'horse19-2.png',\n",
              " 'horse05-3.png',\n",
              " 'horse49-8.png',\n",
              " 'horse45-7.png',\n",
              " 'horse46-3.png',\n",
              " 'horse50-7.png',\n",
              " 'horse05-4.png',\n",
              " 'horse32-4.png',\n",
              " 'horse06-4.png',\n",
              " 'horse24-2.png',\n",
              " 'horse17-2.png',\n",
              " 'horse34-6.png',\n",
              " 'horse34-3.png',\n",
              " 'horse08-4.png',\n",
              " 'horse12-6.png',\n",
              " 'horse17-6.png',\n",
              " 'horse24-7.png',\n",
              " 'horse44-3.png',\n",
              " 'horse24-8.png',\n",
              " 'horse05-8.png',\n",
              " 'horse04-6.png',\n",
              " 'horse44-0.png',\n",
              " 'horse32-3.png',\n",
              " 'horse28-8.png',\n",
              " 'horse03-1.png',\n",
              " 'horse31-6.png',\n",
              " 'horse03-7.png',\n",
              " 'horse07-3.png',\n",
              " 'horse01-2.png',\n",
              " 'horse08-7.png',\n",
              " 'horse22-8.png',\n",
              " 'horse28-3.png',\n",
              " 'horse05-1.png',\n",
              " 'horse37-3.png',\n",
              " 'horse31-3.png',\n",
              " 'horse43-4.png',\n",
              " 'horse43-3.png',\n",
              " 'horse37-8.png',\n",
              " 'horse13-8.png',\n",
              " 'horse10-3.png',\n",
              " 'horse30-0.png',\n",
              " 'horse45-8.png',\n",
              " 'horse23-8.png',\n",
              " 'horse34-7.png',\n",
              " 'horse46-0.png',\n",
              " 'horse19-5.png',\n",
              " 'horse07-9.png',\n",
              " 'horse25-1.png',\n",
              " 'horse43-6.png',\n",
              " 'horse03-0.png',\n",
              " 'horse13-3.png',\n",
              " 'horse20-7.png',\n",
              " 'horse16-2.png',\n",
              " 'horse14-5.png',\n",
              " 'horse02-3.png',\n",
              " 'horse50-2.png',\n",
              " 'horse35-9.png',\n",
              " 'horse11-9.png',\n",
              " 'horse20-1.png',\n",
              " 'horse34-0.png',\n",
              " 'horse03-4.png',\n",
              " 'horse29-6.png',\n",
              " 'horse11-2.png',\n",
              " 'horse16-9.png',\n",
              " 'horse41-4.png',\n",
              " 'horse02-5.png',\n",
              " 'horse27-2.png',\n",
              " 'horse41-6.png',\n",
              " 'horse07-6.png',\n",
              " 'horse11-6.png',\n",
              " 'horse05-7.png',\n",
              " 'horse18-3.png',\n",
              " 'horse22-5.png',\n",
              " 'horse38-3.png',\n",
              " 'horse31-8.png',\n",
              " 'horse37-7.png',\n",
              " 'horse23-5.png',\n",
              " 'horse44-9.png',\n",
              " 'horse28-5.png',\n",
              " 'horse28-1.png',\n",
              " 'horse22-1.png',\n",
              " 'horse49-9.png',\n",
              " 'horse50-0.png',\n",
              " 'horse50-4.png',\n",
              " 'horse25-0.png',\n",
              " 'horse21-6.png',\n",
              " 'horse45-3.png',\n",
              " 'horse09-0.png',\n",
              " 'horse39-6.png',\n",
              " 'horse06-7.png',\n",
              " 'horse15-3.png',\n",
              " 'horse38-9.png',\n",
              " 'horse37-6.png',\n",
              " 'horse46-6.png',\n",
              " 'horse39-4.png',\n",
              " 'horse07-5.png',\n",
              " 'horse20-2.png',\n",
              " 'horse47-2.png',\n",
              " 'horse40-0.png',\n",
              " 'horse06-2.png',\n",
              " 'horse39-3.png',\n",
              " 'horse47-7.png',\n",
              " 'horse40-6.png',\n",
              " 'horse28-6.png',\n",
              " 'horse10-6.png',\n",
              " 'horse50-3.png',\n",
              " 'horse43-2.png',\n",
              " 'horse18-0.png',\n",
              " 'horse23-7.png',\n",
              " 'horse04-5.png',\n",
              " 'horse48-9.png',\n",
              " 'horse37-5.png',\n",
              " 'horse30-2.png',\n",
              " 'horse15-7.png',\n",
              " 'horse06-6.png',\n",
              " 'horse26-3.png',\n",
              " 'horse05-9.png',\n",
              " 'horse32-7.png',\n",
              " 'horse46-8.png',\n",
              " 'horse14-7.png',\n",
              " 'horse09-3.png',\n",
              " 'horse48-2.png',\n",
              " 'horse41-2.png',\n",
              " 'horse36-7.png',\n",
              " 'horse42-6.png',\n",
              " 'horse48-3.png',\n",
              " 'horse11-3.png',\n",
              " 'horse04-9.png',\n",
              " 'horse37-0.png',\n",
              " 'horse39-7.png',\n",
              " 'horse45-2.png',\n",
              " 'horse10-1.png',\n",
              " 'horse47-8.png',\n",
              " 'horse41-1.png',\n",
              " 'horse14-4.png',\n",
              " 'horse08-9.png',\n",
              " 'horse29-0.png',\n",
              " 'horse42-7.png',\n",
              " 'horse42-9.png',\n",
              " 'horse03-6.png',\n",
              " 'horse38-1.png',\n",
              " 'horse25-4.png',\n",
              " 'horse42-2.png',\n",
              " 'horse38-8.png',\n",
              " 'horse26-9.png',\n",
              " 'horse22-4.png',\n",
              " 'horse47-1.png',\n",
              " 'horse32-5.png',\n",
              " 'horse47-6.png',\n",
              " 'horse35-4.png',\n",
              " 'horse30-1.png',\n",
              " 'horse07-2.png',\n",
              " 'horse07-1.png',\n",
              " 'horse19-7.png',\n",
              " 'horse16-6.png',\n",
              " 'horse47-0.png',\n",
              " 'horse20-5.png',\n",
              " 'horse45-6.png',\n",
              " 'horse42-1.png',\n",
              " 'horse14-8.png',\n",
              " 'horse33-5.png',\n",
              " 'horse47-4.png',\n",
              " 'horse28-9.png',\n",
              " 'horse45-4.png',\n",
              " 'horse11-5.png',\n",
              " 'horse37-9.png',\n",
              " 'horse37-1.png',\n",
              " 'horse48-6.png',\n",
              " 'horse18-5.png',\n",
              " 'horse43-1.png',\n",
              " 'horse46-9.png',\n",
              " 'horse16-0.png',\n",
              " 'horse01-4.png',\n",
              " 'horse49-4.png',\n",
              " 'horse36-2.png',\n",
              " 'horse20-9.png',\n",
              " 'horse06-9.png',\n",
              " 'horse38-2.png',\n",
              " 'horse10-7.png',\n",
              " 'horse26-1.png',\n",
              " 'horse02-1.png',\n",
              " 'horse37-4.png',\n",
              " 'horse03-8.png',\n",
              " 'horse02-7.png',\n",
              " 'horse18-8.png',\n",
              " 'horse05-0.png',\n",
              " 'horse36-9.png',\n",
              " 'horse32-0.png',\n",
              " 'horse01-9.png',\n",
              " 'horse34-1.png',\n",
              " 'horse44-2.png',\n",
              " 'horse12-7.png',\n",
              " 'horse42-4.png',\n",
              " 'horse08-0.png',\n",
              " 'horse15-4.png',\n",
              " 'horse26-4.png',\n",
              " 'horse19-6.png',\n",
              " 'horse09-9.png',\n",
              " 'horse48-4.png',\n",
              " 'horse01-8.png',\n",
              " 'horse36-8.png',\n",
              " 'horse48-1.png',\n",
              " 'horse18-4.png',\n",
              " 'horse02-2.png',\n",
              " 'horse48-5.png',\n",
              " 'horse29-3.png',\n",
              " 'horse50-9.png',\n",
              " 'horse09-6.png',\n",
              " 'horse14-3.png',\n",
              " 'horse01-3.png',\n",
              " 'horse45-5.png',\n",
              " 'horse40-8.png',\n",
              " 'horse29-2.png',\n",
              " 'horse38-6.png',\n",
              " 'horse24-3.png',\n",
              " 'horse03-5.png',\n",
              " 'horse46-5.png',\n",
              " 'horse16-7.png',\n",
              " 'horse11-7.png',\n",
              " 'horse41-9.png',\n",
              " 'horse10-0.png',\n",
              " 'horse36-5.png',\n",
              " 'horse27-7.png',\n",
              " 'horse08-8.png',\n",
              " 'horse33-3.png',\n",
              " 'horse06-0.png',\n",
              " 'horse20-3.png',\n",
              " 'horse40-4.png',\n",
              " 'horse09-5.png',\n",
              " 'horse13-7.png',\n",
              " 'horse49-6.png',\n",
              " 'horse04-3.png',\n",
              " 'horse07-4.png',\n",
              " 'horse24-6.png',\n",
              " 'horse13-0.png',\n",
              " 'horse35-7.png',\n",
              " 'horse35-2.png',\n",
              " 'horse31-7.png',\n",
              " 'horse22-7.png',\n",
              " 'horse10-4.png',\n",
              " 'horse42-3.png',\n",
              " 'horse33-7.png',\n",
              " 'horse45-9.png',\n",
              " 'horse32-9.png',\n",
              " 'horse44-4.png',\n",
              " 'horse40-1.png',\n",
              " 'horse17-1.png',\n",
              " 'horse26-2.png',\n",
              " 'horse10-8.png',\n",
              " 'horse21-7.png',\n",
              " 'horse17-8.png',\n",
              " 'horse49-5.png',\n",
              " 'horse17-3.png',\n",
              " 'horse29-1.png',\n",
              " 'horse44-8.png',\n",
              " 'horse31-5.png',\n",
              " 'horse37-2.png',\n",
              " 'horse09-7.png']"
            ]
          },
          "metadata": {},
          "execution_count": 13
        }
      ]
    },
    {
      "cell_type": "code",
      "source": [],
      "metadata": {
        "id": "x6DhD-wR6QMl"
      },
      "execution_count": null,
      "outputs": []
    },
    {
      "cell_type": "markdown",
      "metadata": {
        "id": "HlqN5KbafhLI"
      },
      "source": [
        "각 디렉토리에 저장된 파일의 갯수 확인하기"
      ]
    },
    {
      "cell_type": "code",
      "execution_count": 15,
      "metadata": {
        "id": "9QIh9hdZhwdy",
        "colab": {
          "base_uri": "https://localhost:8080/"
        },
        "outputId": "c75c9d57-94bf-4c16-d6ec-406d8519963c"
      },
      "outputs": [
        {
          "output_type": "execute_result",
          "data": {
            "text/plain": [
              "500"
            ]
          },
          "metadata": {},
          "execution_count": 15
        }
      ],
      "source": [
        "len(  os.listdir(train_horse_dir) )"
      ]
    },
    {
      "cell_type": "code",
      "source": [
        "len(  os.listdir(train_human_dir) )"
      ],
      "metadata": {
        "colab": {
          "base_uri": "https://localhost:8080/"
        },
        "id": "SRbK3y446Q6W",
        "outputId": "823e8127-9db1-44af-f114-cd2e73c77fe8"
      },
      "execution_count": 16,
      "outputs": [
        {
          "output_type": "execute_result",
          "data": {
            "text/plain": [
              "527"
            ]
          },
          "metadata": {},
          "execution_count": 16
        }
      ]
    },
    {
      "cell_type": "code",
      "source": [
        "len(  os.listdir(validation_horse_dir) )"
      ],
      "metadata": {
        "colab": {
          "base_uri": "https://localhost:8080/"
        },
        "id": "5EtJ7TVn6Qxe",
        "outputId": "38e88b97-5775-4a03-df8d-6024c7b6b8ed"
      },
      "execution_count": 17,
      "outputs": [
        {
          "output_type": "execute_result",
          "data": {
            "text/plain": [
              "128"
            ]
          },
          "metadata": {},
          "execution_count": 17
        }
      ]
    },
    {
      "cell_type": "code",
      "source": [
        "len(  os.listdir(validation_human_dir) )"
      ],
      "metadata": {
        "colab": {
          "base_uri": "https://localhost:8080/"
        },
        "id": "3Yy6Kz-D6chG",
        "outputId": "36335ec4-315c-4e72-9ed0-efc77bccd199"
      },
      "execution_count": 18,
      "outputs": [
        {
          "output_type": "execute_result",
          "data": {
            "text/plain": [
              "128"
            ]
          },
          "metadata": {},
          "execution_count": 18
        }
      ]
    },
    {
      "cell_type": "code",
      "source": [],
      "metadata": {
        "id": "OSwhkkzB6jBm"
      },
      "execution_count": null,
      "outputs": []
    },
    {
      "cell_type": "code",
      "execution_count": null,
      "metadata": {
        "id": "Sor5gKBExLwQ"
      },
      "outputs": [],
      "source": []
    },
    {
      "cell_type": "code",
      "execution_count": null,
      "metadata": {
        "id": "bPRY89Uhhz0J"
      },
      "outputs": [],
      "source": []
    },
    {
      "cell_type": "markdown",
      "metadata": {
        "id": "5oqBkNBJmtUv"
      },
      "source": [
        "## Building a Small Model from Scratch\n",
        "이미지는 300X300 칼라 이미지다.\n",
        "간단한 모델링 하기.\n",
        "사진의 결과는 2개중의 하나이미로, 맨 마지막 액티베이션 함수는 시그모이드 사용"
      ]
    },
    {
      "cell_type": "code",
      "execution_count": 19,
      "metadata": {
        "id": "qvfZg3LQbD-5"
      },
      "outputs": [],
      "source": [
        "import tensorflow as tf\n",
        "from keras.layers import Dense, Flatten, Conv2D, MaxPooling2D\n",
        "from keras.models import Sequential"
      ]
    },
    {
      "cell_type": "code",
      "execution_count": 20,
      "metadata": {
        "id": "W0S7Jpo4h3i1"
      },
      "outputs": [],
      "source": [
        "def build_model():\n",
        "  model = Sequential()\n",
        "  model.add( Conv2D(16, (3,3) , activation='relu' , input_shape=(300,300,3)  ) )\n",
        "  model.add( MaxPooling2D( (2,2) , 2 ) )\n",
        "  model.add( Conv2D(32, (3,3), activation='relu'))\n",
        "  model.add( MaxPooling2D( (2,2) , 2 ) )\n",
        "  model.add( Conv2D(64, (3,3) , activation='relu'))\n",
        "  model.add( MaxPooling2D( (2,2) , 2 ) )\n",
        "\n",
        "  model.add(Flatten())\n",
        "  model.add(Dense(512, 'relu'))\n",
        "  model.add(Dense(1, 'sigmoid'))\n",
        "  \n",
        "  model.compile('rmsprop', 'binary_crossentropy', metrics=['accuracy'])\n",
        "  return model"
      ]
    },
    {
      "cell_type": "code",
      "execution_count": null,
      "metadata": {
        "id": "U-9xlfivh2xb"
      },
      "outputs": [],
      "source": []
    },
    {
      "cell_type": "markdown",
      "metadata": {
        "id": "s9EaFDP5srBa"
      },
      "source": [
        "prints a summary of the NN "
      ]
    },
    {
      "cell_type": "code",
      "execution_count": 21,
      "metadata": {
        "id": "NaHLmCJmh6ks"
      },
      "outputs": [],
      "source": [
        "model = build_model()"
      ]
    },
    {
      "cell_type": "code",
      "source": [
        "model.summary()"
      ],
      "metadata": {
        "colab": {
          "base_uri": "https://localhost:8080/"
        },
        "id": "ElukQN7J9MYn",
        "outputId": "43aa5e57-f5c4-4984-dbdb-ed717b038034"
      },
      "execution_count": 22,
      "outputs": [
        {
          "output_type": "stream",
          "name": "stdout",
          "text": [
            "Model: \"sequential\"\n",
            "_________________________________________________________________\n",
            " Layer (type)                Output Shape              Param #   \n",
            "=================================================================\n",
            " conv2d (Conv2D)             (None, 298, 298, 16)      448       \n",
            "                                                                 \n",
            " max_pooling2d (MaxPooling2D  (None, 149, 149, 16)     0         \n",
            " )                                                               \n",
            "                                                                 \n",
            " conv2d_1 (Conv2D)           (None, 147, 147, 32)      4640      \n",
            "                                                                 \n",
            " max_pooling2d_1 (MaxPooling  (None, 73, 73, 32)       0         \n",
            " 2D)                                                             \n",
            "                                                                 \n",
            " conv2d_2 (Conv2D)           (None, 71, 71, 64)        18496     \n",
            "                                                                 \n",
            " max_pooling2d_2 (MaxPooling  (None, 35, 35, 64)       0         \n",
            " 2D)                                                             \n",
            "                                                                 \n",
            " flatten (Flatten)           (None, 78400)             0         \n",
            "                                                                 \n",
            " dense (Dense)               (None, 512)               40141312  \n",
            "                                                                 \n",
            " dense_1 (Dense)             (None, 1)                 513       \n",
            "                                                                 \n",
            "=================================================================\n",
            "Total params: 40,165,409\n",
            "Trainable params: 40,165,409\n",
            "Non-trainable params: 0\n",
            "_________________________________________________________________\n"
          ]
        }
      ]
    },
    {
      "cell_type": "markdown",
      "metadata": {
        "id": "PEkKSpZlvJXA"
      },
      "source": [
        "**NOTE**: 각 알고리즘 레퍼런스 페이지 \n",
        "\n",
        " [RMSprop optimization algorithm](https://wikipedia.org/wiki/Stochastic_gradient_descent#RMSProp) RMSprop automates learning-rate tuning for us\n",
        "\n",
        " [stochastic gradient descent](https://developers.google.com/machine-learning/glossary/#SGD) (SGD)\n",
        " \n",
        " \n",
        "  [Adam](https://wikipedia.org/wiki/Stochastic_gradient_descent#Adam) and [Adagrad](https://developers.google.com/machine-learning/glossary/#AdaGrad), also automatically adapt the learning rate during training, and would work equally well here."
      ]
    },
    {
      "cell_type": "markdown",
      "metadata": {
        "id": "gjk1k-fDg8Rl"
      },
      "source": [
        " RMSprop optimization algorithm 사용하여 컴파일 해보자"
      ]
    },
    {
      "cell_type": "markdown",
      "metadata": {
        "id": "Sn9m9D3UimHM"
      },
      "source": [
        "### Data Preprocessing\n",
        "\n"
      ]
    },
    {
      "cell_type": "code",
      "execution_count": null,
      "metadata": {
        "id": "MaBGx-sriiZs"
      },
      "outputs": [],
      "source": [
        "# 아직 학습할 준비가 다 되지 않았다.\n",
        "# 왜냐하면, fit 함수에 들어가는 데이터는\n",
        "# 넘파이 어레이가 들어가야 한다. \n",
        "# 하지만 우리가 가지고 있는 데이터는, 이미지 파일(png) 이다.\n",
        "# 따라서, 현재 상태로는 fit 함수 이용한 학습 불가능 하다."
      ]
    },
    {
      "cell_type": "code",
      "execution_count": 23,
      "metadata": {
        "id": "Jdy4n43HiiBs"
      },
      "outputs": [],
      "source": [
        "# 이미지파일을 넘파이 어레이로 변환시켜주는, ImageDataGenerator 라이브러리를 사용한다."
      ]
    },
    {
      "cell_type": "code",
      "source": [
        "from keras.preprocessing.image import ImageDataGenerator"
      ],
      "metadata": {
        "id": "cuanxfI-9uJ_"
      },
      "execution_count": 24,
      "outputs": []
    },
    {
      "cell_type": "code",
      "source": [
        "train_datagen = ImageDataGenerator(rescale= 1/255.0 )"
      ],
      "metadata": {
        "id": "EUtI2lE897_-"
      },
      "execution_count": 25,
      "outputs": []
    },
    {
      "cell_type": "code",
      "source": [
        "validation_datagen = ImageDataGenerator(rescale= 1/255.0)"
      ],
      "metadata": {
        "id": "Srghw2OA-J74"
      },
      "execution_count": 26,
      "outputs": []
    },
    {
      "cell_type": "code",
      "source": [
        "# 라이브러리를 변수로 만들었으면, 그다음 할일은,\n",
        "# 이미지가 들어있는 디렉토리의 정보와 이미지 사이즈정보와 몇개로 분류할지 정보를 \n",
        "# 알려준다."
      ],
      "metadata": {
        "id": "j1HZwCtC97y1"
      },
      "execution_count": 27,
      "outputs": []
    },
    {
      "cell_type": "code",
      "source": [
        "# 넘파이의 target_size 와  모델의 input_shape 은, 가로 세로가 같아야 한다."
      ],
      "metadata": {
        "id": "RoTdScPtAQEe"
      },
      "execution_count": null,
      "outputs": []
    },
    {
      "cell_type": "code",
      "source": [
        "# 클래스모드는, 2개로 분류할땐 binary, 3개 이상일땐 categorical 사용."
      ],
      "metadata": {
        "id": "P1yimw6zAp5-"
      },
      "execution_count": null,
      "outputs": []
    },
    {
      "cell_type": "code",
      "source": [
        "train_generator = train_datagen.flow_from_directory('/tmp/horse-or-human' , target_size=(300,300) , \n",
        "                                  class_mode= 'binary')"
      ],
      "metadata": {
        "colab": {
          "base_uri": "https://localhost:8080/"
        },
        "id": "tMuUS4my_HN9",
        "outputId": "47e86e40-a42a-4fe0-e054-beaf261538fd"
      },
      "execution_count": 29,
      "outputs": [
        {
          "output_type": "stream",
          "name": "stdout",
          "text": [
            "Found 1027 images belonging to 2 classes.\n"
          ]
        }
      ]
    },
    {
      "cell_type": "code",
      "source": [
        "validation_generator = validation_datagen.flow_from_directory('/tmp/validation-horse-or-human', (300,300),\n",
        "                                       class_mode = 'binary')"
      ],
      "metadata": {
        "colab": {
          "base_uri": "https://localhost:8080/"
        },
        "id": "5Kui9JCM_Shu",
        "outputId": "d3cb9681-59a7-4825-f3bc-c1351770054c"
      },
      "execution_count": 31,
      "outputs": [
        {
          "output_type": "stream",
          "name": "stdout",
          "text": [
            "Found 256 images belonging to 2 classes.\n"
          ]
        }
      ]
    },
    {
      "cell_type": "code",
      "source": [],
      "metadata": {
        "id": "cyvve0Ec_HFV"
      },
      "execution_count": null,
      "outputs": []
    },
    {
      "cell_type": "markdown",
      "metadata": {
        "id": "mu3Jdwkjwax4"
      },
      "source": [
        "### Training\n",
        "Let's train for 15 epochs "
      ]
    },
    {
      "cell_type": "code",
      "execution_count": 32,
      "metadata": {
        "id": "VlJp44lRiktG",
        "colab": {
          "base_uri": "https://localhost:8080/"
        },
        "outputId": "48b11d50-bc33-4bfd-9c1b-489ffb1ee340"
      },
      "outputs": [
        {
          "output_type": "stream",
          "name": "stdout",
          "text": [
            "Epoch 1/15\n",
            "33/33 [==============================] - 18s 250ms/step - loss: 1.1018 - accuracy: 0.7108 - val_loss: 4.1230 - val_accuracy: 0.5820\n",
            "Epoch 2/15\n",
            "33/33 [==============================] - 10s 293ms/step - loss: 0.2408 - accuracy: 0.9192 - val_loss: 2.6752 - val_accuracy: 0.7656\n",
            "Epoch 3/15\n",
            "33/33 [==============================] - 9s 266ms/step - loss: 0.2734 - accuracy: 0.9406 - val_loss: 3.4808 - val_accuracy: 0.7070\n",
            "Epoch 4/15\n",
            "33/33 [==============================] - 8s 252ms/step - loss: 0.0488 - accuracy: 0.9844 - val_loss: 2.0623 - val_accuracy: 0.7930\n",
            "Epoch 5/15\n",
            "33/33 [==============================] - 9s 274ms/step - loss: 0.0620 - accuracy: 0.9883 - val_loss: 3.9295 - val_accuracy: 0.8008\n",
            "Epoch 6/15\n",
            "33/33 [==============================] - 9s 276ms/step - loss: 0.0998 - accuracy: 0.9893 - val_loss: 3.3362 - val_accuracy: 0.7891\n",
            "Epoch 7/15\n",
            "33/33 [==============================] - 9s 258ms/step - loss: 1.3373 - accuracy: 0.9679 - val_loss: 2.7077 - val_accuracy: 0.8242\n",
            "Epoch 8/15\n",
            "33/33 [==============================] - 9s 266ms/step - loss: 5.9244e-04 - accuracy: 1.0000 - val_loss: 4.0331 - val_accuracy: 0.8047\n",
            "Epoch 9/15\n",
            "33/33 [==============================] - 8s 253ms/step - loss: 0.1203 - accuracy: 0.9825 - val_loss: 3.5257 - val_accuracy: 0.7812\n",
            "Epoch 10/15\n",
            "33/33 [==============================] - 8s 244ms/step - loss: 0.0350 - accuracy: 0.9903 - val_loss: 3.2035 - val_accuracy: 0.8125\n",
            "Epoch 11/15\n",
            "33/33 [==============================] - 8s 243ms/step - loss: 3.4859 - accuracy: 0.9591 - val_loss: 3.2631 - val_accuracy: 0.8438\n",
            "Epoch 12/15\n",
            "33/33 [==============================] - 8s 245ms/step - loss: 3.1364e-04 - accuracy: 1.0000 - val_loss: 4.1206 - val_accuracy: 0.8594\n",
            "Epoch 13/15\n",
            "33/33 [==============================] - 8s 250ms/step - loss: 2.2887e-05 - accuracy: 1.0000 - val_loss: 4.2485 - val_accuracy: 0.8555\n",
            "Epoch 14/15\n",
            "33/33 [==============================] - 8s 245ms/step - loss: 8.8417e-06 - accuracy: 1.0000 - val_loss: 4.8890 - val_accuracy: 0.8477\n",
            "Epoch 15/15\n",
            "33/33 [==============================] - 8s 244ms/step - loss: 4.0425e-05 - accuracy: 1.0000 - val_loss: 13.4818 - val_accuracy: 0.7383\n"
          ]
        }
      ],
      "source": [
        "epoch_history = model.fit(train_generator, epochs=15, \n",
        "                          validation_data= (validation_generator) )"
      ]
    },
    {
      "cell_type": "code",
      "source": [
        "# 모델 평가"
      ],
      "metadata": {
        "id": "lqn36MluB8Q-"
      },
      "execution_count": 33,
      "outputs": []
    },
    {
      "cell_type": "code",
      "source": [
        "model.evaluate(validation_generator)"
      ],
      "metadata": {
        "colab": {
          "base_uri": "https://localhost:8080/"
        },
        "id": "K9hQh1bEGYbu",
        "outputId": "e9a1363a-13de-481f-c0a3-3cfb546d7e01"
      },
      "execution_count": 34,
      "outputs": [
        {
          "output_type": "stream",
          "name": "stdout",
          "text": [
            "8/8 [==============================] - 1s 125ms/step - loss: 13.4818 - accuracy: 0.7383\n"
          ]
        },
        {
          "output_type": "execute_result",
          "data": {
            "text/plain": [
              "[13.481772422790527, 0.73828125]"
            ]
          },
          "metadata": {},
          "execution_count": 34
        }
      ]
    },
    {
      "cell_type": "code",
      "source": [
        "import matplotlib.pyplot as plt\n"
      ],
      "metadata": {
        "id": "wrVJYpYxHPUm"
      },
      "execution_count": 35,
      "outputs": []
    },
    {
      "cell_type": "code",
      "source": [
        "plt.plot(epoch_history.history['accuracy'])\n",
        "plt.plot(epoch_history.history['val_accuracy'])\n",
        "plt.legend(['train', 'validation'])\n",
        "plt.show()"
      ],
      "metadata": {
        "colab": {
          "base_uri": "https://localhost:8080/",
          "height": 265
        },
        "id": "vHVuhpgbGYMv",
        "outputId": "d1386525-d3a6-4fea-86e1-8eae0b875b11"
      },
      "execution_count": 36,
      "outputs": [
        {
          "output_type": "display_data",
          "data": {
            "text/plain": [
              "<Figure size 432x288 with 1 Axes>"
            ],
            "image/png": "[encoded data removed]"
          },
          "metadata": {
            "needs_background": "light"
          }
        }
      ]
    },
    {
      "cell_type": "code",
      "source": [],
      "metadata": {
        "id": "lHsDQqdwB8HJ"
      },
      "execution_count": null,
      "outputs": []
    },
    {
      "cell_type": "markdown",
      "metadata": {
        "id": "o6vSHzPR2ghH"
      },
      "source": [
        "### Running the Model\n",
        "\n",
        "\n"
      ]
    },
    {
      "cell_type": "code",
      "execution_count": 37,
      "metadata": {
        "id": "HAczVHIdipI5",
        "colab": {
          "base_uri": "https://localhost:8080/",
          "height": 1000
        },
        "outputId": "4be36e03-a2a1-43d8-cf40-bd468ab560a6"
      },
      "outputs": [
        {
          "output_type": "display_data",
          "data": {
            "text/plain": [
              "<IPython.core.display.HTML object>"
            ],
            "text/html": [
              "\n",
              "     <input type=\"file\" id=\"files-4a9497d0-133c-4330-b796-71e3ba99232f\" name=\"files[]\" multiple disabled\n",
              "        style=\"border:none\" />\n",
              "     <output id=\"result-4a9497d0-133c-4330-b796-71e3ba99232f\">\n",
              "      Upload widget is only available when the cell has been executed in the\n",
              "      current browser session. Please rerun this cell to enable.\n",
              "      </output>\n",
              "      <script>// Copyright 2017 Google LLC\n",
              "//\n",
              "// Licensed under the Apache License, Version 2.0 (the \"License\");\n",
              "// you may not use this file except in compliance with the License.\n",
              "// You may obtain a copy of the License at\n",
              "//\n",
              "//      http://www.apache.org/licenses/LICENSE-2.0\n",
              "//\n",
              "// Unless required by applicable law or agreed to in writing, software\n",
              "// distributed under the License is distributed on an \"AS IS\" BASIS,\n",
              "// WITHOUT WARRANTIES OR CONDITIONS OF ANY KIND, either express or implied.\n",
              "// See the License for the specific language governing permissions and\n",
              "// limitations under the License.\n",
              "\n",
              "/**\n",
              " * @fileoverview Helpers for google.colab Python module.\n",
              " */\n",
              "(function(scope) {\n",
              "function span(text, styleAttributes = {}) {\n",
              "  const element = document.createElement('span');\n",
              "  element.textContent = text;\n",
              "  for (const key of Object.keys(styleAttributes)) {\n",
              "    element.style[key] = styleAttributes[key];\n",
              "  }\n",
              "  return element;\n",
              "}\n",
              "\n",
              "// Max number of bytes which will be uploaded at a time.\n",
              "const MAX_PAYLOAD_SIZE = 100 * 1024;\n",
              "\n",
              "function _uploadFiles(inputId, outputId) {\n",
              "  const steps = uploadFilesStep(inputId, outputId);\n",
              "  const outputElement = document.getElementById(outputId);\n",
              "  // Cache steps on the outputElement to make it available for the next call\n",
              "  // to uploadFilesContinue from Python.\n",
              "  outputElement.steps = steps;\n",
              "\n",
              "  return _uploadFilesContinue(outputId);\n",
              "}\n",
              "\n",
              "// This is roughly an async generator (not supported in the browser yet),\n",
              "// where there are multiple asynchronous steps and the Python side is going\n",
              "// to poll for completion of each step.\n",
              "// This uses a Promise to block the python side on completion of each step,\n",
              "// then passes the result of the previous step as the input to the next step.\n",
              "function _uploadFilesContinue(outputId) {\n",
              "  const outputElement = document.getElementById(outputId);\n",
              "  const steps = outputElement.steps;\n",
              "\n",
              "  const next = steps.next(outputElement.lastPromiseValue);\n",
              "  return Promise.resolve(next.value.promise).then((value) => {\n",
              "    // Cache the last promise value to make it available to the next\n",
              "    // step of the generator.\n",
              "    outputElement.lastPromiseValue = value;\n",
              "    return next.value.response;\n",
              "  });\n",
              "}\n",
              "\n",
              "/**\n",
              " * Generator function which is called between each async step of the upload\n",
              " * process.\n",
              " * @param {string} inputId Element ID of the input file picker element.\n",
              " * @param {string} outputId Element ID of the output display.\n",
              " * @return {!Iterable<!Object>} Iterable of next steps.\n",
              " */\n",
              "function* uploadFilesStep(inputId, outputId) {\n",
              "  const inputElement = document.getElementById(inputId);\n",
              "  inputElement.disabled = false;\n",
              "\n",
              "  const outputElement = document.getElementById(outputId);\n",
              "  outputElement.innerHTML = '';\n",
              "\n",
              "  const pickedPromise = new Promise((resolve) => {\n",
              "    inputElement.addEventListener('change', (e) => {\n",
              "      resolve(e.target.files);\n",
              "    });\n",
              "  });\n",
              "\n",
              "  const cancel = document.createElement('button');\n",
              "  inputElement.parentElement.appendChild(cancel);\n",
              "  cancel.textContent = 'Cancel upload';\n",
              "  const cancelPromise = new Promise((resolve) => {\n",
              "    cancel.onclick = () => {\n",
              "      resolve(null);\n",
              "    };\n",
              "  });\n",
              "\n",
              "  // Wait for the user to pick the files.\n",
              "  const files = yield {\n",
              "    promise: Promise.race([pickedPromise, cancelPromise]),\n",
              "    response: {\n",
              "      action: 'starting',\n",
              "    }\n",
              "  };\n",
              "\n",
              "  cancel.remove();\n",
              "\n",
              "  // Disable the input element since further picks are not allowed.\n",
              "  inputElement.disabled = true;\n",
              "\n",
              "  if (!files) {\n",
              "    return {\n",
              "      response: {\n",
              "        action: 'complete',\n",
              "      }\n",
              "    };\n",
              "  }\n",
              "\n",
              "  for (const file of files) {\n",
              "    const li = document.createElement('li');\n",
              "    li.append(span(file.name, {fontWeight: 'bold'}));\n",
              "    li.append(span(\n",
              "        `(${file.type || 'n/a'}) - ${file.size} bytes, ` +\n",
              "        `last modified: ${\n",
              "            file.lastModifiedDate ? file.lastModifiedDate.toLocaleDateString() :\n",
              "                                    'n/a'} - `));\n",
              "    const percent = span('0% done');\n",
              "    li.appendChild(percent);\n",
              "\n",
              "    outputElement.appendChild(li);\n",
              "\n",
              "    const fileDataPromise = new Promise((resolve) => {\n",
              "      const reader = new FileReader();\n",
              "      reader.onload = (e) => {\n",
              "        resolve(e.target.result);\n",
              "      };\n",
              "      reader.readAsArrayBuffer(file);\n",
              "    });\n",
              "    // Wait for the data to be ready.\n",
              "    let fileData = yield {\n",
              "      promise: fileDataPromise,\n",
              "      response: {\n",
              "        action: 'continue',\n",
              "      }\n",
              "    };\n",
              "\n",
              "    // Use a chunked sending to avoid message size limits. See b/62115660.\n",
              "    let position = 0;\n",
              "    do {\n",
              "      const length = Math.min(fileData.byteLength - position, MAX_PAYLOAD_SIZE);\n",
              "      const chunk = new Uint8Array(fileData, position, length);\n",
              "      position += length;\n",
              "\n",
              "      const base64 = btoa(String.fromCharCode.apply(null, chunk));\n",
              "      yield {\n",
              "        response: {\n",
              "          action: 'append',\n",
              "          file: file.name,\n",
              "          data: base64,\n",
              "        },\n",
              "      };\n",
              "\n",
              "      let percentDone = fileData.byteLength === 0 ?\n",
              "          100 :\n",
              "          Math.round((position / fileData.byteLength) * 100);\n",
              "      percent.textContent = `${percentDone}% done`;\n",
              "\n",
              "    } while (position < fileData.byteLength);\n",
              "  }\n",
              "\n",
              "  // All done.\n",
              "  yield {\n",
              "    response: {\n",
              "      action: 'complete',\n",
              "    }\n",
              "  };\n",
              "}\n",
              "\n",
              "scope.google = scope.google || {};\n",
              "scope.google.colab = scope.google.colab || {};\n",
              "scope.google.colab._files = {\n",
              "  _uploadFiles,\n",
              "  _uploadFilesContinue,\n",
              "};\n",
              "})(self);\n",
              "</script> "
            ]
          },
          "metadata": {}
        },
        {
          "output_type": "stream",
          "name": "stdout",
          "text": [
            "Saving aaa.jpg to aaa.jpg\n",
            "[[[0.37254903 0.65882355 0.0627451 ]\n",
            "  [0.54509807 0.7529412  0.20392157]\n",
            "  [0.4509804  0.7019608  0.08627451]\n",
            "  ...\n",
            "  [0.627451   0.6039216  0.41568628]\n",
            "  [0.5529412  0.5411765  0.34117648]\n",
            "  [0.4509804  0.42352942 0.2509804 ]]\n",
            "\n",
            " [[0.4509804  0.68235296 0.13333334]\n",
            "  [0.70980394 0.8745098  0.4509804 ]\n",
            "  [0.56078434 0.77254903 0.3372549 ]\n",
            "  ...\n",
            "  [0.3647059  0.3882353  0.20784314]\n",
            "  [0.53333336 0.5647059  0.3647059 ]\n",
            "  [0.5529412  0.58431375 0.39215687]]\n",
            "\n",
            " [[0.4392157  0.6745098  0.15686275]\n",
            "  [0.6627451  0.84705883 0.39215687]\n",
            "  [0.68235296 0.8901961  0.44313726]\n",
            "  ...\n",
            "  [0.23921569 0.3254902  0.13333334]\n",
            "  [0.34117648 0.4392157  0.22352941]\n",
            "  [0.21960784 0.31764707 0.09411765]]\n",
            "\n",
            " ...\n",
            "\n",
            " [[0.77254903 0.7647059  0.7764706 ]\n",
            "  [0.77254903 0.7647059  0.7764706 ]\n",
            "  [0.78431374 0.7764706  0.7882353 ]\n",
            "  ...\n",
            "  [0.80784315 0.8        0.8117647 ]\n",
            "  [0.79607844 0.7882353  0.7921569 ]\n",
            "  [0.80784315 0.8        0.8039216 ]]\n",
            "\n",
            " [[0.8        0.7921569  0.8039216 ]\n",
            "  [0.8039216  0.79607844 0.80784315]\n",
            "  [0.7921569  0.78431374 0.79607844]\n",
            "  ...\n",
            "  [0.80784315 0.8        0.8117647 ]\n",
            "  [0.79607844 0.7882353  0.7921569 ]\n",
            "  [0.79607844 0.7882353  0.7921569 ]]\n",
            "\n",
            " [[0.80784315 0.8        0.8117647 ]\n",
            "  [0.8        0.7921569  0.8039216 ]\n",
            "  [0.80784315 0.8        0.8117647 ]\n",
            "  ...\n",
            "  [0.8039216  0.79607844 0.8       ]\n",
            "  [0.8        0.7921569  0.79607844]\n",
            "  [0.78039217 0.77254903 0.7764706 ]]]\n",
            "(300, 300, 3)\n",
            "(1, 300, 300, 3)\n",
            "1/1 [==============================] - 0s 203ms/step\n",
            "[[7.7797196e-32]]\n",
            "aaa.jpg is a horse\n"
          ]
        }
      ],
      "source": [
        "import numpy as np\n",
        "from google.colab import files\n",
        "from tensorflow.keras.preprocessing import image\n",
        "\n",
        "uploaded = files.upload()\n",
        "\n",
        "for fn in uploaded.keys() :\n",
        "  path = '/content/' + fn\n",
        "  img = image.load_img(path, target_size=(300,300))\n",
        "  x = image.img_to_array(img) / 255.0\n",
        "  print(x)\n",
        "  print(x.shape)\n",
        "\n",
        "  x = np.expand_dims(x, axis = 0)\n",
        "\n",
        "  print(x.shape)\n",
        "\n",
        "  images = np.vstack( [x] )\n",
        "  classes = model.predict( images, batch_size = 10 )\n",
        "  \n",
        "  print(classes)\n",
        "\n",
        "  if classes[0] > 0.5 :\n",
        "    print(fn + \" is a human\")\n",
        "  else :\n",
        "    print(fn + \" is a horse\")"
      ]
    },
    {
      "cell_type": "code",
      "execution_count": null,
      "metadata": {
        "id": "M9SZ5YvCiosc"
      },
      "outputs": [],
      "source": []
    },
    {
      "cell_type": "code",
      "execution_count": null,
      "metadata": {
        "id": "k621XnxFiwtM"
      },
      "outputs": [],
      "source": []
    }
  ],
  "metadata": {
    "accelerator": "GPU",
    "colab": {
      "provenance": []
    },
    "kernelspec": {
      "display_name": "Python 3",
      "language": "python",
      "name": "python3"
    },
    "language_info": {
      "codemirror_mode": {
        "name": "ipython",
        "version": 3
      },
      "file_extension": ".py",
      "mimetype": "text/x-python",
      "name": "python",
      "nbconvert_exporter": "python",
      "pygments_lexer": "ipython3",
      "version": "3.8.8"
    }
  },
  "nbformat": 4,
  "nbformat_minor": 0
}