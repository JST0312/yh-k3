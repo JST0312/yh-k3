{
  "cells": [
    {
      "cell_type": "markdown",
      "metadata": {
        "id": "TkHRnVTdzTEh"
      },
      "source": [
        "\n",
        "# CNN을 이용하여, CIFAR-10 이미지 분류하기\n"
      ]
    },
    {
      "cell_type": "markdown",
      "metadata": {
        "id": "xlAEEjWIzTEm"
      },
      "source": [
        "# STEP 0: 데이터셋 설명"
      ]
    },
    {
      "cell_type": "markdown",
      "metadata": {
        "id": "l8mfDu3bzTEm"
      },
      "source": [
        "- CIFAR-10 is a dataset that consists of several images divided into the following 10 classes: \n",
        "    - Airplanes\n",
        "    - Cars \n",
        "    - Birds\n",
        "    - Cats\n",
        "    - Deer\n",
        "    - Dogs\n",
        "    - Frogs\n",
        "    - Horses\n",
        "    - Ships\n",
        "    - Trucks\n",
        "\n",
        "- The dataset stands for the Canadian Institute For Advanced Research (CIFAR)\n",
        "- CIFAR-10 is widely used for machine learning and computer vision applications. \n",
        "- The dataset consists of 60,000 32x32 color images and 6,000 images of each class.\n",
        "- Images have low resolution (32x32). \n",
        "- Data Source: https://www.cs.toronto.edu/~kriz/cifar.html\n"
      ]
    },
    {
      "cell_type": "markdown",
      "metadata": {
        "id": "Hnwk5G2wzTEn"
      },
      "source": [
        "# STEP #1: 환결 설정 및 라이브러리 임포트"
      ]
    },
    {
      "cell_type": "markdown",
      "metadata": {
        "id": "e93yyb_8NTI9"
      },
      "source": [
        "### 구글 드라이브 연결하여, 워킹 디렉토리 설정\n",
        "\n",
        "[연결 방법 링크](https://vision-ai.tistory.com/entry/%EC%BD%94%EB%9E%A9%EC%97%90%EC%84%9C-%EB%93%9C%EB%9D%BC%EC%9D%B4%EB%B8%8C%EC%9D%98-csv-%ED%8C%8C%EC%9D%BC-%EC%9D%BD%EA%B8%B0)"
      ]
    },
    {
      "cell_type": "code",
      "execution_count": null,
      "metadata": {
        "id": "WQtLIDyHYkFF"
      },
      "outputs": [],
      "source": []
    },
    {
      "cell_type": "code",
      "execution_count": null,
      "metadata": {
        "id": "o0LKErPgYjz3"
      },
      "outputs": [],
      "source": []
    },
    {
      "cell_type": "markdown",
      "metadata": {
        "id": "iKjUkiysNpen"
      },
      "source": [
        "### 라이브러리 임포트 하고, 데이터 셋 가져오기  "
      ]
    },
    {
      "cell_type": "code",
      "execution_count": 1,
      "metadata": {
        "id": "5ras8X4JzTEn"
      },
      "outputs": [],
      "source": [
        "import pandas as pd\n",
        "import numpy as np\n",
        "import matplotlib.pyplot as plt\n",
        "import seaborn "
      ]
    },
    {
      "cell_type": "code",
      "execution_count": 2,
      "metadata": {
        "id": "5xKwx52KzTEo",
        "colab": {
          "base_uri": "https://localhost:8080/"
        },
        "outputId": "0cdce120-f43e-4219-bf49-291415bc9c7c"
      },
      "outputs": [
        {
          "output_type": "stream",
          "name": "stdout",
          "text": [
            "Downloading data from https://www.cs.toronto.edu/~kriz/cifar-10-python.tar.gz\n",
            "170498071/170498071 [==============================] - 7s 0us/step\n"
          ]
        }
      ],
      "source": [
        "from keras.datasets import cifar10\n",
        "(X_train, y_train) , (X_test, y_test) = cifar10.load_data()"
      ]
    },
    {
      "cell_type": "code",
      "execution_count": 3,
      "metadata": {
        "id": "C2PetsIlYpsE",
        "colab": {
          "base_uri": "https://localhost:8080/"
        },
        "outputId": "731c49e9-eac2-4426-c85f-47d184e0eecf"
      },
      "outputs": [
        {
          "output_type": "execute_result",
          "data": {
            "text/plain": [
              "(50000, 32, 32, 3)"
            ]
          },
          "metadata": {},
          "execution_count": 3
        }
      ],
      "source": [
        "X_train.shape"
      ]
    },
    {
      "cell_type": "code",
      "execution_count": 4,
      "metadata": {
        "id": "CdoX5kpeYppN",
        "colab": {
          "base_uri": "https://localhost:8080/"
        },
        "outputId": "ecb158d6-6127-4551-b83e-65c5c45207b0"
      },
      "outputs": [
        {
          "output_type": "execute_result",
          "data": {
            "text/plain": [
              "array([[6],\n",
              "       [9],\n",
              "       [9],\n",
              "       ...,\n",
              "       [9],\n",
              "       [1],\n",
              "       [1]], dtype=uint8)"
            ]
          },
          "metadata": {},
          "execution_count": 4
        }
      ],
      "source": [
        "y_train"
      ]
    },
    {
      "cell_type": "markdown",
      "metadata": {
        "id": "uY-2COLOzTEr"
      },
      "source": [
        "# STEP #2: 이미지 Visualizing 해보자"
      ]
    },
    {
      "cell_type": "code",
      "execution_count": 6,
      "metadata": {
        "id": "NZ0jOpTozTEt",
        "colab": {
          "base_uri": "https://localhost:8080/"
        },
        "outputId": "447913ed-a0ec-4d59-ac6c-142813994557"
      },
      "outputs": [
        {
          "output_type": "execute_result",
          "data": {
            "text/plain": [
              "(50000, 32, 32, 3)"
            ]
          },
          "metadata": {},
          "execution_count": 6
        }
      ],
      "source": [
        "X_train.shape"
      ]
    },
    {
      "cell_type": "code",
      "execution_count": 10,
      "metadata": {
        "id": "QyKbPjp1YtkP",
        "colab": {
          "base_uri": "https://localhost:8080/",
          "height": 266
        },
        "outputId": "5d204a28-255e-45f9-e6bb-120c082e360a"
      },
      "outputs": [
        {
          "output_type": "display_data",
          "data": {
            "text/plain": [
              "<Figure size 432x288 with 1 Axes>"
            ],
            "image/png": "[encoded data removed]"
          },
          "metadata": {
            "needs_background": "light"
          }
        }
      ],
      "source": [
        "plt.imshow( X_train[1] )\n",
        "plt.show()"
      ]
    },
    {
      "cell_type": "code",
      "execution_count": 11,
      "metadata": {
        "id": "VXRj3GxAYtgi",
        "colab": {
          "base_uri": "https://localhost:8080/"
        },
        "outputId": "8620fde8-c3fb-4f83-ef6f-54337c42b959"
      },
      "outputs": [
        {
          "output_type": "execute_result",
          "data": {
            "text/plain": [
              "array([9], dtype=uint8)"
            ]
          },
          "metadata": {},
          "execution_count": 11
        }
      ],
      "source": [
        "y_train[1]"
      ]
    },
    {
      "cell_type": "markdown",
      "metadata": {
        "id": "qH_j7sihzTEt"
      },
      "source": [
        "# STEP #3: DATA 준비"
      ]
    },
    {
      "cell_type": "code",
      "execution_count": 14,
      "metadata": {
        "id": "sgMgw_35YwH2"
      },
      "outputs": [],
      "source": [
        "X_train = X_train / 255.0"
      ]
    },
    {
      "cell_type": "code",
      "execution_count": 15,
      "metadata": {
        "id": "SuGnoiUAYwEm"
      },
      "outputs": [],
      "source": [
        "X_test = X_test / 255.0"
      ]
    },
    {
      "cell_type": "markdown",
      "metadata": {
        "id": "9p8Cs125YM-W"
      },
      "source": [
        "### 이 딥러닝의 결과는, 총 10개의 결과로 분류하는 문제이므로, y_train 과 y_test 의 값을 원핫인코딩으로 바꾸시오. "
      ]
    },
    {
      "cell_type": "code",
      "execution_count": 16,
      "metadata": {
        "id": "WZ_6yO5DzTEv",
        "colab": {
          "base_uri": "https://localhost:8080/"
        },
        "outputId": "4b848173-c723-4354-fdc3-b9929ed4f2bb"
      },
      "outputs": [
        {
          "output_type": "execute_result",
          "data": {
            "text/plain": [
              "(50000, 32, 32, 3)"
            ]
          },
          "metadata": {},
          "execution_count": 16
        }
      ],
      "source": [
        "X_train.shape"
      ]
    },
    {
      "cell_type": "code",
      "execution_count": 17,
      "metadata": {
        "id": "x5DzFfkuZDXe",
        "colab": {
          "base_uri": "https://localhost:8080/"
        },
        "outputId": "660dc983-da70-4a36-a34a-2fc09536b923"
      },
      "outputs": [
        {
          "output_type": "execute_result",
          "data": {
            "text/plain": [
              "array([[6],\n",
              "       [9],\n",
              "       [9],\n",
              "       ...,\n",
              "       [9],\n",
              "       [1],\n",
              "       [1]], dtype=uint8)"
            ]
          },
          "metadata": {},
          "execution_count": 17
        }
      ],
      "source": [
        "y_train"
      ]
    },
    {
      "cell_type": "code",
      "execution_count": 18,
      "metadata": {
        "id": "yF1kIs6pZDTz"
      },
      "outputs": [],
      "source": [
        "from keras.utils import to_categorical"
      ]
    },
    {
      "cell_type": "code",
      "execution_count": 20,
      "metadata": {
        "id": "5txwsdXOZDRc"
      },
      "outputs": [],
      "source": [
        "y_train = to_categorical(y_train, 10)"
      ]
    },
    {
      "cell_type": "code",
      "execution_count": 22,
      "metadata": {
        "id": "WXzG7GCjZDOr"
      },
      "outputs": [],
      "source": [
        "y_test = to_categorical(y_test, 10)"
      ]
    },
    {
      "cell_type": "markdown",
      "metadata": {
        "id": "TC-gce8QYm3f"
      },
      "source": [
        "### 피처스케일링 하시오."
      ]
    },
    {
      "cell_type": "code",
      "execution_count": null,
      "metadata": {
        "id": "URauS_8eZLQx"
      },
      "outputs": [],
      "source": []
    },
    {
      "cell_type": "markdown",
      "metadata": {
        "id": "z_a6HLpVzTEy"
      },
      "source": [
        "# STEP #4: 모델링 및 학습시키기"
      ]
    },
    {
      "cell_type": "markdown",
      "metadata": {
        "id": "HpBI4V9rzTE1"
      },
      "source": [
        "### Data Augmentation 을 통한, 모델 Improving"
      ]
    },
    {
      "cell_type": "markdown",
      "metadata": {
        "id": "PTFx3eebzTE1"
      },
      "source": [
        "- 원래 주어진 이미지를 통해, 이를 변형하여서 학습을 시키면 정확도가 증가한다. \n",
        "- 다음처럼 flipping, enlarging, rotating 을 통해서 원래의 이미지를 변형하여 학습시킨다.\n",
        "- 또한 이미지를 이동시키거나 밝기 조정도 데이터 증강에 해당된다."
      ]
    },
    {
      "cell_type": "code",
      "execution_count": 23,
      "metadata": {
        "id": "Zn4SIAukzTEy"
      },
      "outputs": [],
      "source": [
        "from tensorflow.keras.models import Sequential\n",
        "from tensorflow.keras.layers import Conv2D, MaxPooling2D, AveragePooling2D, Dense, Flatten, Dropout\n",
        "from tensorflow.keras.optimizers import Adam\n",
        "\n"
      ]
    },
    {
      "cell_type": "code",
      "execution_count": 28,
      "metadata": {
        "id": "6sPwA9VRZOSH"
      },
      "outputs": [],
      "source": [
        "def build_model() :\n",
        "  model = Sequential()\n",
        "  model.add(Conv2D(32, (3,3), activation='relu', input_shape=(32,32,3)))\n",
        "  model.add( MaxPooling2D( (2,2)  ) )\n",
        "  model.add(Conv2D(64, (3,3), activation='relu'))\n",
        "  model.add( MaxPooling2D( (2,2)  ) )\n",
        "\n",
        "  model.add( Flatten() )\n",
        "  model.add( Dropout(0.4) )\n",
        "  model.add( Dense(128, 'relu') )\n",
        "  model.add( Dense(10, 'softmax') )\n",
        "  model.compile('rmsprop', 'categorical_crossentropy', ['accuracy'])\n",
        "  return model"
      ]
    },
    {
      "cell_type": "markdown",
      "metadata": {
        "id": "Ax3mYlhO5o-A"
      },
      "source": [
        "### 옵티마이저는 RMSprop로 컴파일 하고, 학습을 진행하시오. 학습 결과는 저장하시오.\n",
        "\n",
        "[옵티마이저 종류](https://vision-ai.tistory.com/entry/%EC%98%B5%ED%8B%B0%EB%A7%88%EC%9D%B4%EC%A0%80-Optimizer-%EC%A2%85%EB%A5%98)"
      ]
    },
    {
      "cell_type": "code",
      "execution_count": 29,
      "metadata": {
        "id": "GMPlDUy7zTEz"
      },
      "outputs": [],
      "source": [
        "model = build_model()"
      ]
    },
    {
      "cell_type": "code",
      "execution_count": 30,
      "metadata": {
        "id": "12Ko0eF4ZRTc",
        "colab": {
          "base_uri": "https://localhost:8080/"
        },
        "outputId": "db408187-6376-4017-e0e1-728888842681"
      },
      "outputs": [
        {
          "output_type": "stream",
          "name": "stdout",
          "text": [
            "Model: \"sequential_1\"\n",
            "_________________________________________________________________\n",
            " Layer (type)                Output Shape              Param #   \n",
            "=================================================================\n",
            " conv2d_2 (Conv2D)           (None, 30, 30, 32)        896       \n",
            "                                                                 \n",
            " max_pooling2d_2 (MaxPooling  (None, 15, 15, 32)       0         \n",
            " 2D)                                                             \n",
            "                                                                 \n",
            " conv2d_3 (Conv2D)           (None, 13, 13, 64)        18496     \n",
            "                                                                 \n",
            " max_pooling2d_3 (MaxPooling  (None, 6, 6, 64)         0         \n",
            " 2D)                                                             \n",
            "                                                                 \n",
            " flatten_1 (Flatten)         (None, 2304)              0         \n",
            "                                                                 \n",
            " dropout_1 (Dropout)         (None, 2304)              0         \n",
            "                                                                 \n",
            " dense_2 (Dense)             (None, 128)               295040    \n",
            "                                                                 \n",
            " dense_3 (Dense)             (None, 10)                1290      \n",
            "                                                                 \n",
            "=================================================================\n",
            "Total params: 315,722\n",
            "Trainable params: 315,722\n",
            "Non-trainable params: 0\n",
            "_________________________________________________________________\n"
          ]
        }
      ],
      "source": [
        "model.summary()"
      ]
    },
    {
      "cell_type": "code",
      "execution_count": 31,
      "metadata": {
        "id": "x1q0xJETZRQm",
        "colab": {
          "base_uri": "https://localhost:8080/"
        },
        "outputId": "6d51a36b-a297-45dd-9a58-485ba0e690c0"
      },
      "outputs": [
        {
          "output_type": "stream",
          "name": "stdout",
          "text": [
            "Epoch 1/10\n",
            "1563/1563 [==============================] - 15s 5ms/step - loss: 1.4899 - accuracy: 0.4690\n",
            "Epoch 2/10\n",
            "1563/1563 [==============================] - 8s 5ms/step - loss: 1.1613 - accuracy: 0.5925\n",
            "Epoch 3/10\n",
            "1563/1563 [==============================] - 7s 4ms/step - loss: 1.0477 - accuracy: 0.6337\n",
            "Epoch 4/10\n",
            "1563/1563 [==============================] - 7s 4ms/step - loss: 0.9755 - accuracy: 0.6608\n",
            "Epoch 5/10\n",
            "1563/1563 [==============================] - 7s 4ms/step - loss: 0.9194 - accuracy: 0.6814\n",
            "Epoch 6/10\n",
            "1563/1563 [==============================] - 7s 4ms/step - loss: 0.8745 - accuracy: 0.6981\n",
            "Epoch 7/10\n",
            "1563/1563 [==============================] - 7s 4ms/step - loss: 0.8415 - accuracy: 0.7111\n",
            "Epoch 8/10\n",
            "1563/1563 [==============================] - 7s 5ms/step - loss: 0.8084 - accuracy: 0.7208\n",
            "Epoch 9/10\n",
            "1563/1563 [==============================] - 7s 5ms/step - loss: 0.7831 - accuracy: 0.7299\n",
            "Epoch 10/10\n",
            "1563/1563 [==============================] - 7s 4ms/step - loss: 0.7639 - accuracy: 0.7388\n"
          ]
        }
      ],
      "source": [
        "epoch_history = model.fit(X_train, y_train, epochs=10)"
      ]
    },
    {
      "cell_type": "markdown",
      "metadata": {
        "id": "fiV8FOQszTEz"
      },
      "source": [
        "# STEP #5: 모델 평가"
      ]
    },
    {
      "cell_type": "markdown",
      "metadata": {
        "id": "qaZl1IjBhdVg"
      },
      "source": [
        "### 테스트셋을 통해서, 정확도를 구해보자"
      ]
    },
    {
      "cell_type": "code",
      "execution_count": 32,
      "metadata": {
        "id": "eL7wsQuhZYcv",
        "colab": {
          "base_uri": "https://localhost:8080/"
        },
        "outputId": "2d2873e3-72f5-4239-ba76-368e8d8a280b"
      },
      "outputs": [
        {
          "output_type": "stream",
          "name": "stdout",
          "text": [
            "313/313 [==============================] - 1s 3ms/step - loss: 0.8323 - accuracy: 0.7274\n"
          ]
        },
        {
          "output_type": "execute_result",
          "data": {
            "text/plain": [
              "[0.8323127031326294, 0.727400004863739]"
            ]
          },
          "metadata": {},
          "execution_count": 32
        }
      ],
      "source": [
        "model.evaluate(X_test, y_test)"
      ]
    },
    {
      "cell_type": "code",
      "execution_count": null,
      "metadata": {
        "id": "Wt11TqPXZYZb"
      },
      "outputs": [],
      "source": []
    },
    {
      "cell_type": "code",
      "source": [
        "from keras.preprocessing.image import ImageDataGenerator"
      ],
      "metadata": {
        "id": "s0b3i_YX_Xmd"
      },
      "execution_count": 33,
      "outputs": []
    },
    {
      "cell_type": "code",
      "execution_count": 38,
      "metadata": {
        "id": "hNEfWce3ZYT1"
      },
      "outputs": [],
      "source": [
        "train_datagen = ImageDataGenerator( width_shift_range=0.2, height_shift_range=0.2,\n",
        "                                   zoom_range=0.2, horizontal_flip=True)"
      ]
    },
    {
      "cell_type": "code",
      "source": [
        "train_generator = train_datagen.flow(X_train, y_train)"
      ],
      "metadata": {
        "id": "36R02ULf_rPS"
      },
      "execution_count": 39,
      "outputs": []
    },
    {
      "cell_type": "code",
      "source": [
        "model = build_model()"
      ],
      "metadata": {
        "id": "E6W4WAd3AqmS"
      },
      "execution_count": 40,
      "outputs": []
    },
    {
      "cell_type": "code",
      "source": [
        "model.fit(train_generator , epochs = 10)"
      ],
      "metadata": {
        "colab": {
          "base_uri": "https://localhost:8080/"
        },
        "id": "oAxy81Y__rIS",
        "outputId": "bb5fc32a-013d-40e8-efdc-2cc3cb299c14"
      },
      "execution_count": 41,
      "outputs": [
        {
          "output_type": "stream",
          "name": "stdout",
          "text": [
            "Epoch 1/10\n",
            "1563/1563 [==============================] - 32s 20ms/step - loss: 1.7431 - accuracy: 0.3632\n",
            "Epoch 2/10\n",
            "1563/1563 [==============================] - 30s 19ms/step - loss: 1.4902 - accuracy: 0.4635\n",
            "Epoch 3/10\n",
            "1563/1563 [==============================] - 30s 19ms/step - loss: 1.3959 - accuracy: 0.5010\n",
            "Epoch 4/10\n",
            "1563/1563 [==============================] - 32s 20ms/step - loss: 1.3357 - accuracy: 0.5243\n",
            "Epoch 5/10\n",
            "1563/1563 [==============================] - 30s 19ms/step - loss: 1.3039 - accuracy: 0.5387\n",
            "Epoch 6/10\n",
            "1563/1563 [==============================] - 31s 20ms/step - loss: 1.2816 - accuracy: 0.5474\n",
            "Epoch 7/10\n",
            "1563/1563 [==============================] - 31s 20ms/step - loss: 1.2673 - accuracy: 0.5564\n",
            "Epoch 8/10\n",
            "1563/1563 [==============================] - 32s 20ms/step - loss: 1.2587 - accuracy: 0.5590\n",
            "Epoch 9/10\n",
            "1563/1563 [==============================] - 31s 20ms/step - loss: 1.2490 - accuracy: 0.5644\n",
            "Epoch 10/10\n",
            "1563/1563 [==============================] - 31s 20ms/step - loss: 1.2432 - accuracy: 0.5703\n"
          ]
        },
        {
          "output_type": "execute_result",
          "data": {
            "text/plain": [
              "<keras.callbacks.History at 0x7f359c13ac40>"
            ]
          },
          "metadata": {},
          "execution_count": 41
        }
      ]
    },
    {
      "cell_type": "code",
      "execution_count": 42,
      "metadata": {
        "id": "HdJwLJQEZYQe",
        "colab": {
          "base_uri": "https://localhost:8080/"
        },
        "outputId": "e16f987f-2dc6-4d13-f885-ac708dadc460"
      },
      "outputs": [
        {
          "output_type": "stream",
          "name": "stdout",
          "text": [
            "313/313 [==============================] - 1s 3ms/step - loss: 0.9953 - accuracy: 0.6555\n"
          ]
        },
        {
          "output_type": "execute_result",
          "data": {
            "text/plain": [
              "[0.9952670931816101, 0.6554999947547913]"
            ]
          },
          "metadata": {},
          "execution_count": 42
        }
      ],
      "source": [
        "model.evaluate(X_test, y_test)"
      ]
    },
    {
      "cell_type": "markdown",
      "metadata": {
        "id": "ep3nlgOBoEfH"
      },
      "source": [
        "### 테스트셋으로 예측한 결과를 가져오시오. 그리고 첫번째 이미지에 대한 결과값을 확인하시오."
      ]
    },
    {
      "cell_type": "code",
      "execution_count": 44,
      "metadata": {
        "id": "2-TJEcFLZaiE",
        "colab": {
          "base_uri": "https://localhost:8080/"
        },
        "outputId": "0b971d04-043b-4720-ebaf-da64e76c133f"
      },
      "outputs": [
        {
          "output_type": "stream",
          "name": "stdout",
          "text": [
            "313/313 [==============================] - 1s 2ms/step\n"
          ]
        }
      ],
      "source": [
        "y_pred = model.predict(X_test)"
      ]
    },
    {
      "cell_type": "code",
      "execution_count": 46,
      "metadata": {
        "id": "Y6Y3JdHrZaey",
        "colab": {
          "base_uri": "https://localhost:8080/"
        },
        "outputId": "b4af1194-73a9-449b-e41b-490a0938d725"
      },
      "outputs": [
        {
          "output_type": "execute_result",
          "data": {
            "text/plain": [
              "(10000, 10)"
            ]
          },
          "metadata": {},
          "execution_count": 46
        }
      ],
      "source": [
        "y_pred.shape"
      ]
    },
    {
      "cell_type": "code",
      "execution_count": 49,
      "metadata": {
        "id": "xns8CISaZacG",
        "colab": {
          "base_uri": "https://localhost:8080/"
        },
        "outputId": "125248ba-4914-49bf-c67d-bd6f093bd12c"
      },
      "outputs": [
        {
          "output_type": "execute_result",
          "data": {
            "text/plain": [
              "3"
            ]
          },
          "metadata": {},
          "execution_count": 49
        }
      ],
      "source": [
        "y_pred[0].argmax()"
      ]
    },
    {
      "cell_type": "code",
      "execution_count": 50,
      "metadata": {
        "id": "RwrHIUtEZaaD",
        "colab": {
          "base_uri": "https://localhost:8080/",
          "height": 266
        },
        "outputId": "01da8f1b-240c-4568-bce6-63128fcaae39"
      },
      "outputs": [
        {
          "output_type": "display_data",
          "data": {
            "text/plain": [
              "<Figure size 432x288 with 1 Axes>"
            ],
            "image/png": "[encoded data removed]"
          },
          "metadata": {
            "needs_background": "light"
          }
        }
      ],
      "source": [
        "plt.imshow(X_test[0])\n",
        "plt.show()"
      ]
    },
    {
      "cell_type": "code",
      "execution_count": 52,
      "metadata": {
        "id": "Ll7lwAIKZaWZ",
        "colab": {
          "base_uri": "https://localhost:8080/"
        },
        "outputId": "9634179d-8520-4db1-ea8c-b6b1ba4f7853"
      },
      "outputs": [
        {
          "output_type": "execute_result",
          "data": {
            "text/plain": [
              "3"
            ]
          },
          "metadata": {},
          "execution_count": 52
        }
      ],
      "source": [
        "y_test[0].argmax()"
      ]
    },
    {
      "cell_type": "code",
      "source": [],
      "metadata": {
        "id": "Dcbp5EoeC4lS"
      },
      "execution_count": null,
      "outputs": []
    },
    {
      "cell_type": "markdown",
      "metadata": {
        "id": "fVxdWPXIpUzl"
      },
      "source": [
        "### y_pred 에서, 각각 가장 큰 값들의 인덱스만 가져오시오. 그러면 그 인덱스를 통해서, 10가지 중에 무엇인지 확인이 가능합니다."
      ]
    },
    {
      "cell_type": "code",
      "execution_count": 58,
      "metadata": {
        "id": "URzjxAPKZc0v"
      },
      "outputs": [],
      "source": [
        "y_pred = y_pred.argmax(axis = 1)"
      ]
    },
    {
      "cell_type": "markdown",
      "metadata": {
        "id": "OVuy7x5ikwV5"
      },
      "source": [
        "### 실제 값들(ground truth) y_test 에서도, 가장 큰 값들의 인덱스만 가져오시오. 그러면 두개를 비교할 수 있습니다."
      ]
    },
    {
      "cell_type": "code",
      "execution_count": 61,
      "metadata": {
        "id": "ijfFnZlnZgZD"
      },
      "outputs": [],
      "source": [
        "y_test = y_test.argmax(axis = 1)"
      ]
    },
    {
      "cell_type": "markdown",
      "metadata": {
        "id": "HyGOY8ixjzSu"
      },
      "source": [
        "### 컨퓨전 매트릭스를 확인하시오. 그리고 seaborn 의 히트맵으로 시각화 하시오."
      ]
    },
    {
      "cell_type": "code",
      "execution_count": 63,
      "metadata": {
        "id": "tzvWsAeJzTE1"
      },
      "outputs": [],
      "source": [
        "from sklearn.metrics import confusion_matrix\n",
        "import seaborn as sb"
      ]
    },
    {
      "cell_type": "code",
      "execution_count": 64,
      "metadata": {
        "id": "MlgBvHIsgcWp"
      },
      "outputs": [],
      "source": [
        "cm = confusion_matrix(y_test, y_pred)"
      ]
    },
    {
      "cell_type": "code",
      "execution_count": 65,
      "metadata": {
        "id": "WsWb1g8aZtbl",
        "colab": {
          "base_uri": "https://localhost:8080/"
        },
        "outputId": "8172b02c-c2a8-4662-a6ca-e2107a0ef0aa"
      },
      "outputs": [
        {
          "output_type": "execute_result",
          "data": {
            "text/plain": [
              "array([[728,  26,  17,  30,   7,  24,   5,  33,  42,  88],\n",
              "       [  6, 739,   1,   8,   2,  10,   5,  11,   4, 214],\n",
              "       [ 85,  13, 329, 111,  53, 177, 107,  95,  10,  20],\n",
              "       [ 14,  10,  14, 464,  16, 320,  64,  64,   7,  27],\n",
              "       [ 25,   2,  29,  83, 422,  87, 107, 223,  14,   8],\n",
              "       [  9,   4,  14, 121,  16, 736,  19,  63,   1,  17],\n",
              "       [  5,   5,  14,  83,  15,  63, 762,  34,   4,  15],\n",
              "       [ 10,   1,   2,  37,  10, 101,  10, 804,   2,  23],\n",
              "       [ 92,  47,   2,  28,   5,  19,   3,  15, 680, 109],\n",
              "       [ 15,  44,   1,  13,   1,   9,   1,  17,   8, 891]])"
            ]
          },
          "metadata": {},
          "execution_count": 65
        }
      ],
      "source": [
        "cm"
      ]
    },
    {
      "cell_type": "code",
      "execution_count": 66,
      "metadata": {
        "id": "d-94zImTZtYb",
        "colab": {
          "base_uri": "https://localhost:8080/",
          "height": 265
        },
        "outputId": "dd7281dc-f006-45e3-c1d5-cc2dc2f6fb8c"
      },
      "outputs": [
        {
          "output_type": "display_data",
          "data": {
            "text/plain": [
              "<Figure size 432x288 with 2 Axes>"
            ],
            "image/png": "[encoded data removed]"
          },
          "metadata": {
            "needs_background": "light"
          }
        }
      ],
      "source": [
        "sb.heatmap(cm , annot=True, fmt='.0f', cmap='RdPu')\n",
        "plt.show()"
      ]
    },
    {
      "cell_type": "code",
      "source": [],
      "metadata": {
        "id": "26-yt8X7DhPS"
      },
      "execution_count": null,
      "outputs": []
    },
    {
      "cell_type": "markdown",
      "metadata": {
        "id": "5N6kHghCzTE1"
      },
      "source": [
        "# STEP #6: 모델 저장하기"
      ]
    },
    {
      "cell_type": "code",
      "execution_count": 67,
      "metadata": {
        "id": "g_G6t4V0ZwQH"
      },
      "outputs": [],
      "source": [
        "model.save('cifa10_model.h5')"
      ]
    },
    {
      "cell_type": "code",
      "execution_count": null,
      "metadata": {
        "id": "KDIOFlcVZwL5"
      },
      "outputs": [],
      "source": []
    },
    {
      "cell_type": "code",
      "execution_count": null,
      "metadata": {
        "id": "wq3VQuXrZwJd"
      },
      "outputs": [],
      "source": []
    },
    {
      "cell_type": "code",
      "execution_count": null,
      "metadata": {
        "id": "AQTiJHFBZwGA"
      },
      "outputs": [],
      "source": []
    },
    {
      "cell_type": "code",
      "execution_count": null,
      "metadata": {
        "id": "zdWp-8ipZwC5"
      },
      "outputs": [],
      "source": []
    },
    {
      "cell_type": "code",
      "execution_count": null,
      "metadata": {
        "id": "Nw6Hrcrns6rM"
      },
      "outputs": [],
      "source": []
    },
    {
      "cell_type": "code",
      "execution_count": null,
      "metadata": {
        "id": "L1EGCKHx4U84"
      },
      "outputs": [],
      "source": []
    },
    {
      "cell_type": "code",
      "execution_count": null,
      "metadata": {
        "id": "8_8zo_HV4PjQ"
      },
      "outputs": [],
      "source": []
    }
  ],
  "metadata": {
    "accelerator": "GPU",
    "colab": {
      "provenance": []
    },
    "kernelspec": {
      "display_name": "Python 3",
      "language": "python",
      "name": "python3"
    },
    "language_info": {
      "codemirror_mode": {
        "name": "ipython",
        "version": 3
      },
      "file_extension": ".py",
      "mimetype": "text/x-python",
      "name": "python",
      "nbconvert_exporter": "python",
      "pygments_lexer": "ipython3",
      "version": "3.8.8"
    }
  },
  "nbformat": 4,
  "nbformat_minor": 0
}