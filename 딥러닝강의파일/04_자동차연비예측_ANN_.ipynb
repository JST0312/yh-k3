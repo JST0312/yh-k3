{
  "nbformat": 4,
  "nbformat_minor": 0,
  "metadata": {
    "colab": {
      "provenance": []
    },
    "kernelspec": {
      "name": "python3",
      "display_name": "Python 3"
    },
    "language_info": {
      "name": "python"
    }
  },
  "cells": [
    {
      "cell_type": "markdown",
      "metadata": {
        "id": "zt0BNy8OCIai"
      },
      "source": [
        "### Auto MPG 데이터셋을 사용하여 1970년대 후반과 1980년대 초반의 자동차 연비를 예측하는 모델을 만듭니다. 이 정보에는 실린더 수, 배기량, 마력(horsepower), 공차 중량 같은 속성이 포함됩니다."
      ]
    },
    {
      "cell_type": "code",
      "metadata": {
        "id": "iNUpNJoWB7zd"
      },
      "source": [
        "import pandas as pd\n",
        "import numpy as np\n",
        "import matplotlib.pyplot as plt\n"
      ],
      "execution_count": 1,
      "outputs": []
    },
    {
      "cell_type": "code",
      "metadata": {
        "id": "YKPm4mQ6DcSL"
      },
      "source": [
        "# 구글 드라이브 마운트\n"
      ],
      "execution_count": null,
      "outputs": []
    },
    {
      "cell_type": "code",
      "metadata": {
        "id": "dDwMXlRPbhSn"
      },
      "source": [],
      "execution_count": null,
      "outputs": []
    },
    {
      "cell_type": "code",
      "metadata": {
        "id": "jsZtOg8NCH7q"
      },
      "source": [
        "# Working Directory 설정\n",
        "import os"
      ],
      "execution_count": 2,
      "outputs": []
    },
    {
      "cell_type": "code",
      "metadata": {
        "id": "2YuKKZX0bhqG"
      },
      "source": [
        "os.chdir('/content/drive/MyDrive/Colab Notebooks/ml_plus/data')"
      ],
      "execution_count": 3,
      "outputs": []
    },
    {
      "cell_type": "markdown",
      "metadata": {
        "id": "yhKEaW6jChOq"
      },
      "source": [
        "파일은 auto-mpg.csv 입니다."
      ]
    },
    {
      "cell_type": "code",
      "metadata": {
        "id": "LzRVMCyNCHsi"
      },
      "source": [
        "df = pd.read_csv('auto-mpg.csv')"
      ],
      "execution_count": 4,
      "outputs": []
    },
    {
      "cell_type": "code",
      "metadata": {
        "id": "oPk1vfCME1Yj",
        "colab": {
          "base_uri": "https://localhost:8080/",
          "height": 424
        },
        "outputId": "6b8f4eec-296d-4f18-b545-d34716972d7c"
      },
      "source": [
        "df"
      ],
      "execution_count": 5,
      "outputs": [
        {
          "output_type": "execute_result",
          "data": {
            "text/plain": [
              "      mpg  cyl  displ   hp  weight  accel  yr  origin  \\\n",
              "0    18.0    8  307.0  130    3504   12.0  70       1   \n",
              "1    15.0    8  350.0  165    3693   11.5  70       1   \n",
              "2    18.0    8  318.0  150    3436   11.0  70       1   \n",
              "3    16.0    8  304.0  150    3433   12.0  70       1   \n",
              "4    17.0    8  302.0  140    3449   10.5  70       1   \n",
              "..    ...  ...    ...  ...     ...    ...  ..     ...   \n",
              "387  27.0    4  140.0   86    2790   15.6  82       1   \n",
              "388  44.0    4   97.0   52    2130   24.6  82       2   \n",
              "389  32.0    4  135.0   84    2295   11.6  82       1   \n",
              "390  28.0    4  120.0   79    2625   18.6  82       1   \n",
              "391  31.0    4  119.0   82    2720   19.4  82       1   \n",
              "\n",
              "                          name  \n",
              "0    chevrolet chevelle malibu  \n",
              "1            buick skylark 320  \n",
              "2           plymouth satellite  \n",
              "3                amc rebel sst  \n",
              "4                  ford torino  \n",
              "..                         ...  \n",
              "387            ford mustang gl  \n",
              "388                  vw pickup  \n",
              "389              dodge rampage  \n",
              "390                ford ranger  \n",
              "391                 chevy s-10  \n",
              "\n",
              "[392 rows x 9 columns]"
            ],
            "text/html": [
              "\n",
              "  <div id=\"df-e5e36ae5-877a-42d3-9bf5-04353f14fe43\">\n",
              "    <div class=\"colab-df-container\">\n",
              "      <div>\n",
              "<style scoped>\n",
              "    .dataframe tbody tr th:only-of-type {\n",
              "        vertical-align: middle;\n",
              "    }\n",
              "\n",
              "    .dataframe tbody tr th {\n",
              "        vertical-align: top;\n",
              "    }\n",
              "\n",
              "    .dataframe thead th {\n",
              "        text-align: right;\n",
              "    }\n",
              "</style>\n",
              "<table border=\"1\" class=\"dataframe\">\n",
              "  <thead>\n",
              "    <tr style=\"text-align: right;\">\n",
              "      <th></th>\n",
              "      <th>mpg</th>\n",
              "      <th>cyl</th>\n",
              "      <th>displ</th>\n",
              "      <th>hp</th>\n",
              "      <th>weight</th>\n",
              "      <th>accel</th>\n",
              "      <th>yr</th>\n",
              "      <th>origin</th>\n",
              "      <th>name</th>\n",
              "    </tr>\n",
              "  </thead>\n",
              "  <tbody>\n",
              "    <tr>\n",
              "      <th>0</th>\n",
              "      <td>18.0</td>\n",
              "      <td>8</td>\n",
              "      <td>307.0</td>\n",
              "      <td>130</td>\n",
              "      <td>3504</td>\n",
              "      <td>12.0</td>\n",
              "      <td>70</td>\n",
              "      <td>1</td>\n",
              "      <td>chevrolet chevelle malibu</td>\n",
              "    </tr>\n",
              "    <tr>\n",
              "      <th>1</th>\n",
              "      <td>15.0</td>\n",
              "      <td>8</td>\n",
              "      <td>350.0</td>\n",
              "      <td>165</td>\n",
              "      <td>3693</td>\n",
              "      <td>11.5</td>\n",
              "      <td>70</td>\n",
              "      <td>1</td>\n",
              "      <td>buick skylark 320</td>\n",
              "    </tr>\n",
              "    <tr>\n",
              "      <th>2</th>\n",
              "      <td>18.0</td>\n",
              "      <td>8</td>\n",
              "      <td>318.0</td>\n",
              "      <td>150</td>\n",
              "      <td>3436</td>\n",
              "      <td>11.0</td>\n",
              "      <td>70</td>\n",
              "      <td>1</td>\n",
              "      <td>plymouth satellite</td>\n",
              "    </tr>\n",
              "    <tr>\n",
              "      <th>3</th>\n",
              "      <td>16.0</td>\n",
              "      <td>8</td>\n",
              "      <td>304.0</td>\n",
              "      <td>150</td>\n",
              "      <td>3433</td>\n",
              "      <td>12.0</td>\n",
              "      <td>70</td>\n",
              "      <td>1</td>\n",
              "      <td>amc rebel sst</td>\n",
              "    </tr>\n",
              "    <tr>\n",
              "      <th>4</th>\n",
              "      <td>17.0</td>\n",
              "      <td>8</td>\n",
              "      <td>302.0</td>\n",
              "      <td>140</td>\n",
              "      <td>3449</td>\n",
              "      <td>10.5</td>\n",
              "      <td>70</td>\n",
              "      <td>1</td>\n",
              "      <td>ford torino</td>\n",
              "    </tr>\n",
              "    <tr>\n",
              "      <th>...</th>\n",
              "      <td>...</td>\n",
              "      <td>...</td>\n",
              "      <td>...</td>\n",
              "      <td>...</td>\n",
              "      <td>...</td>\n",
              "      <td>...</td>\n",
              "      <td>...</td>\n",
              "      <td>...</td>\n",
              "      <td>...</td>\n",
              "    </tr>\n",
              "    <tr>\n",
              "      <th>387</th>\n",
              "      <td>27.0</td>\n",
              "      <td>4</td>\n",
              "      <td>140.0</td>\n",
              "      <td>86</td>\n",
              "      <td>2790</td>\n",
              "      <td>15.6</td>\n",
              "      <td>82</td>\n",
              "      <td>1</td>\n",
              "      <td>ford mustang gl</td>\n",
              "    </tr>\n",
              "    <tr>\n",
              "      <th>388</th>\n",
              "      <td>44.0</td>\n",
              "      <td>4</td>\n",
              "      <td>97.0</td>\n",
              "      <td>52</td>\n",
              "      <td>2130</td>\n",
              "      <td>24.6</td>\n",
              "      <td>82</td>\n",
              "      <td>2</td>\n",
              "      <td>vw pickup</td>\n",
              "    </tr>\n",
              "    <tr>\n",
              "      <th>389</th>\n",
              "      <td>32.0</td>\n",
              "      <td>4</td>\n",
              "      <td>135.0</td>\n",
              "      <td>84</td>\n",
              "      <td>2295</td>\n",
              "      <td>11.6</td>\n",
              "      <td>82</td>\n",
              "      <td>1</td>\n",
              "      <td>dodge rampage</td>\n",
              "    </tr>\n",
              "    <tr>\n",
              "      <th>390</th>\n",
              "      <td>28.0</td>\n",
              "      <td>4</td>\n",
              "      <td>120.0</td>\n",
              "      <td>79</td>\n",
              "      <td>2625</td>\n",
              "      <td>18.6</td>\n",
              "      <td>82</td>\n",
              "      <td>1</td>\n",
              "      <td>ford ranger</td>\n",
              "    </tr>\n",
              "    <tr>\n",
              "      <th>391</th>\n",
              "      <td>31.0</td>\n",
              "      <td>4</td>\n",
              "      <td>119.0</td>\n",
              "      <td>82</td>\n",
              "      <td>2720</td>\n",
              "      <td>19.4</td>\n",
              "      <td>82</td>\n",
              "      <td>1</td>\n",
              "      <td>chevy s-10</td>\n",
              "    </tr>\n",
              "  </tbody>\n",
              "</table>\n",
              "<p>392 rows × 9 columns</p>\n",
              "</div>\n",
              "      <button class=\"colab-df-convert\" onclick=\"convertToInteractive('df-e5e36ae5-877a-42d3-9bf5-04353f14fe43')\"\n",
              "              title=\"Convert this dataframe to an interactive table.\"\n",
              "              style=\"display:none;\">\n",
              "        \n",
              "  <svg xmlns=\"http://www.w3.org/2000/svg\" height=\"24px\"viewBox=\"0 0 24 24\"\n",
              "       width=\"24px\">\n",
              "    <path d=\"M0 0h24v24H0V0z\" fill=\"none\"/>\n",
              "    <path d=\"M18.56 5.44l.94 2.06.94-2.06 2.06-.94-2.06-.94-.94-2.06-.94 2.06-2.06.94zm-11 1L8.5 8.5l.94-2.06 2.06-.94-2.06-.94L8.5 2.5l-.94 2.06-2.06.94zm10 10l.94 2.06.94-2.06 2.06-.94-2.06-.94-.94-2.06-.94 2.06-2.06.94z\"/><path d=\"M17.41 7.96l-1.37-1.37c-.4-.4-.92-.59-1.43-.59-.52 0-1.04.2-1.43.59L10.3 9.45l-7.72 7.72c-.78.78-.78 2.05 0 2.83L4 21.41c.39.39.9.59 1.41.59.51 0 1.02-.2 1.41-.59l7.78-7.78 2.81-2.81c.8-.78.8-2.07 0-2.86zM5.41 20L4 18.59l7.72-7.72 1.47 1.35L5.41 20z\"/>\n",
              "  </svg>\n",
              "      </button>\n",
              "      \n",
              "  <style>\n",
              "    .colab-df-container {\n",
              "      display:flex;\n",
              "      flex-wrap:wrap;\n",
              "      gap: 12px;\n",
              "    }\n",
              "\n",
              "    .colab-df-convert {\n",
              "      background-color: #E8F0FE;\n",
              "      border: none;\n",
              "      border-radius: 50%;\n",
              "      cursor: pointer;\n",
              "      display: none;\n",
              "      fill: #1967D2;\n",
              "      height: 32px;\n",
              "      padding: 0 0 0 0;\n",
              "      width: 32px;\n",
              "    }\n",
              "\n",
              "    .colab-df-convert:hover {\n",
              "      background-color: #E2EBFA;\n",
              "      box-shadow: 0px 1px 2px rgba(60, 64, 67, 0.3), 0px 1px 3px 1px rgba(60, 64, 67, 0.15);\n",
              "      fill: #174EA6;\n",
              "    }\n",
              "\n",
              "    [theme=dark] .colab-df-convert {\n",
              "      background-color: #3B4455;\n",
              "      fill: #D2E3FC;\n",
              "    }\n",
              "\n",
              "    [theme=dark] .colab-df-convert:hover {\n",
              "      background-color: #434B5C;\n",
              "      box-shadow: 0px 1px 3px 1px rgba(0, 0, 0, 0.15);\n",
              "      filter: drop-shadow(0px 1px 2px rgba(0, 0, 0, 0.3));\n",
              "      fill: #FFFFFF;\n",
              "    }\n",
              "  </style>\n",
              "\n",
              "      <script>\n",
              "        const buttonEl =\n",
              "          document.querySelector('#df-e5e36ae5-877a-42d3-9bf5-04353f14fe43 button.colab-df-convert');\n",
              "        buttonEl.style.display =\n",
              "          google.colab.kernel.accessAllowed ? 'block' : 'none';\n",
              "\n",
              "        async function convertToInteractive(key) {\n",
              "          const element = document.querySelector('#df-e5e36ae5-877a-42d3-9bf5-04353f14fe43');\n",
              "          const dataTable =\n",
              "            await google.colab.kernel.invokeFunction('convertToInteractive',\n",
              "                                                     [key], {});\n",
              "          if (!dataTable) return;\n",
              "\n",
              "          const docLinkHtml = 'Like what you see? Visit the ' +\n",
              "            '<a target=\"_blank\" href=https://colab.research.google.com/notebooks/data_table.ipynb>data table notebook</a>'\n",
              "            + ' to learn more about interactive tables.';\n",
              "          element.innerHTML = '';\n",
              "          dataTable['output_type'] = 'display_data';\n",
              "          await google.colab.output.renderOutput(dataTable, element);\n",
              "          const docLink = document.createElement('div');\n",
              "          docLink.innerHTML = docLinkHtml;\n",
              "          element.appendChild(docLink);\n",
              "        }\n",
              "      </script>\n",
              "    </div>\n",
              "  </div>\n",
              "  "
            ]
          },
          "metadata": {},
          "execution_count": 5
        }
      ]
    },
    {
      "cell_type": "code",
      "metadata": {
        "id": "5__OhTvCE1Vl",
        "colab": {
          "base_uri": "https://localhost:8080/"
        },
        "outputId": "1588e48c-df92-45d5-e9c5-ca1bdf836fd2"
      },
      "source": [
        "# 1  빈데이터 확인\n",
        "df.isna().sum()"
      ],
      "execution_count": 6,
      "outputs": [
        {
          "output_type": "execute_result",
          "data": {
            "text/plain": [
              "mpg       0\n",
              "cyl       0\n",
              "displ     0\n",
              "hp        0\n",
              "weight    0\n",
              "accel     0\n",
              "yr        0\n",
              "origin    0\n",
              "name      0\n",
              "dtype: int64"
            ]
          },
          "metadata": {},
          "execution_count": 6
        }
      ]
    },
    {
      "cell_type": "code",
      "metadata": {
        "id": "xwhcBWs9E1Sj"
      },
      "source": [
        "# 2 빈 데이터 삭제\n",
        "df.dropna(inplace = True)"
      ],
      "execution_count": 8,
      "outputs": []
    },
    {
      "cell_type": "code",
      "metadata": {
        "id": "KEQsx0qXT1Oy"
      },
      "source": [
        "# 3. X , y 셋팅"
      ],
      "execution_count": null,
      "outputs": []
    },
    {
      "cell_type": "code",
      "metadata": {
        "id": "KTFPGytNbrGw",
        "colab": {
          "base_uri": "https://localhost:8080/",
          "height": 81
        },
        "outputId": "dded79a9-7892-4458-c0b3-230364ea8a69"
      },
      "source": [
        "df.head(1)"
      ],
      "execution_count": 9,
      "outputs": [
        {
          "output_type": "execute_result",
          "data": {
            "text/plain": [
              "    mpg  cyl  displ   hp  weight  accel  yr  origin                       name\n",
              "0  18.0    8  307.0  130    3504   12.0  70       1  chevrolet chevelle malibu"
            ],
            "text/html": [
              "\n",
              "  <div id=\"df-d047e06e-aa30-48b7-bb95-e8b4f20d7560\">\n",
              "    <div class=\"colab-df-container\">\n",
              "      <div>\n",
              "<style scoped>\n",
              "    .dataframe tbody tr th:only-of-type {\n",
              "        vertical-align: middle;\n",
              "    }\n",
              "\n",
              "    .dataframe tbody tr th {\n",
              "        vertical-align: top;\n",
              "    }\n",
              "\n",
              "    .dataframe thead th {\n",
              "        text-align: right;\n",
              "    }\n",
              "</style>\n",
              "<table border=\"1\" class=\"dataframe\">\n",
              "  <thead>\n",
              "    <tr style=\"text-align: right;\">\n",
              "      <th></th>\n",
              "      <th>mpg</th>\n",
              "      <th>cyl</th>\n",
              "      <th>displ</th>\n",
              "      <th>hp</th>\n",
              "      <th>weight</th>\n",
              "      <th>accel</th>\n",
              "      <th>yr</th>\n",
              "      <th>origin</th>\n",
              "      <th>name</th>\n",
              "    </tr>\n",
              "  </thead>\n",
              "  <tbody>\n",
              "    <tr>\n",
              "      <th>0</th>\n",
              "      <td>18.0</td>\n",
              "      <td>8</td>\n",
              "      <td>307.0</td>\n",
              "      <td>130</td>\n",
              "      <td>3504</td>\n",
              "      <td>12.0</td>\n",
              "      <td>70</td>\n",
              "      <td>1</td>\n",
              "      <td>chevrolet chevelle malibu</td>\n",
              "    </tr>\n",
              "  </tbody>\n",
              "</table>\n",
              "</div>\n",
              "      <button class=\"colab-df-convert\" onclick=\"convertToInteractive('df-d047e06e-aa30-48b7-bb95-e8b4f20d7560')\"\n",
              "              title=\"Convert this dataframe to an interactive table.\"\n",
              "              style=\"display:none;\">\n",
              "        \n",
              "  <svg xmlns=\"http://www.w3.org/2000/svg\" height=\"24px\"viewBox=\"0 0 24 24\"\n",
              "       width=\"24px\">\n",
              "    <path d=\"M0 0h24v24H0V0z\" fill=\"none\"/>\n",
              "    <path d=\"M18.56 5.44l.94 2.06.94-2.06 2.06-.94-2.06-.94-.94-2.06-.94 2.06-2.06.94zm-11 1L8.5 8.5l.94-2.06 2.06-.94-2.06-.94L8.5 2.5l-.94 2.06-2.06.94zm10 10l.94 2.06.94-2.06 2.06-.94-2.06-.94-.94-2.06-.94 2.06-2.06.94z\"/><path d=\"M17.41 7.96l-1.37-1.37c-.4-.4-.92-.59-1.43-.59-.52 0-1.04.2-1.43.59L10.3 9.45l-7.72 7.72c-.78.78-.78 2.05 0 2.83L4 21.41c.39.39.9.59 1.41.59.51 0 1.02-.2 1.41-.59l7.78-7.78 2.81-2.81c.8-.78.8-2.07 0-2.86zM5.41 20L4 18.59l7.72-7.72 1.47 1.35L5.41 20z\"/>\n",
              "  </svg>\n",
              "      </button>\n",
              "      \n",
              "  <style>\n",
              "    .colab-df-container {\n",
              "      display:flex;\n",
              "      flex-wrap:wrap;\n",
              "      gap: 12px;\n",
              "    }\n",
              "\n",
              "    .colab-df-convert {\n",
              "      background-color: #E8F0FE;\n",
              "      border: none;\n",
              "      border-radius: 50%;\n",
              "      cursor: pointer;\n",
              "      display: none;\n",
              "      fill: #1967D2;\n",
              "      height: 32px;\n",
              "      padding: 0 0 0 0;\n",
              "      width: 32px;\n",
              "    }\n",
              "\n",
              "    .colab-df-convert:hover {\n",
              "      background-color: #E2EBFA;\n",
              "      box-shadow: 0px 1px 2px rgba(60, 64, 67, 0.3), 0px 1px 3px 1px rgba(60, 64, 67, 0.15);\n",
              "      fill: #174EA6;\n",
              "    }\n",
              "\n",
              "    [theme=dark] .colab-df-convert {\n",
              "      background-color: #3B4455;\n",
              "      fill: #D2E3FC;\n",
              "    }\n",
              "\n",
              "    [theme=dark] .colab-df-convert:hover {\n",
              "      background-color: #434B5C;\n",
              "      box-shadow: 0px 1px 3px 1px rgba(0, 0, 0, 0.15);\n",
              "      filter: drop-shadow(0px 1px 2px rgba(0, 0, 0, 0.3));\n",
              "      fill: #FFFFFF;\n",
              "    }\n",
              "  </style>\n",
              "\n",
              "      <script>\n",
              "        const buttonEl =\n",
              "          document.querySelector('#df-d047e06e-aa30-48b7-bb95-e8b4f20d7560 button.colab-df-convert');\n",
              "        buttonEl.style.display =\n",
              "          google.colab.kernel.accessAllowed ? 'block' : 'none';\n",
              "\n",
              "        async function convertToInteractive(key) {\n",
              "          const element = document.querySelector('#df-d047e06e-aa30-48b7-bb95-e8b4f20d7560');\n",
              "          const dataTable =\n",
              "            await google.colab.kernel.invokeFunction('convertToInteractive',\n",
              "                                                     [key], {});\n",
              "          if (!dataTable) return;\n",
              "\n",
              "          const docLinkHtml = 'Like what you see? Visit the ' +\n",
              "            '<a target=\"_blank\" href=https://colab.research.google.com/notebooks/data_table.ipynb>data table notebook</a>'\n",
              "            + ' to learn more about interactive tables.';\n",
              "          element.innerHTML = '';\n",
              "          dataTable['output_type'] = 'display_data';\n",
              "          await google.colab.output.renderOutput(dataTable, element);\n",
              "          const docLink = document.createElement('div');\n",
              "          docLink.innerHTML = docLinkHtml;\n",
              "          element.appendChild(docLink);\n",
              "        }\n",
              "      </script>\n",
              "    </div>\n",
              "  </div>\n",
              "  "
            ]
          },
          "metadata": {},
          "execution_count": 9
        }
      ]
    },
    {
      "cell_type": "code",
      "source": [
        "X = df.loc[ : , 'cyl' :  'origin']"
      ],
      "metadata": {
        "id": "mdNKPfQSMOYJ"
      },
      "execution_count": 11,
      "outputs": []
    },
    {
      "cell_type": "code",
      "metadata": {
        "id": "UiJQxuSJbq-X"
      },
      "source": [
        "y = df['mpg']"
      ],
      "execution_count": 12,
      "outputs": []
    },
    {
      "cell_type": "code",
      "metadata": {
        "id": "wSOXzBc0CHpq"
      },
      "source": [
        "# 4. 카테고리컬 데이터 처리 \n",
        "# Origin 컬럼은 다음과 같다. (1. American, 2. European,3. Japanese)."
      ],
      "execution_count": null,
      "outputs": []
    },
    {
      "cell_type": "code",
      "metadata": {
        "id": "n3ZUf8W0buPH",
        "colab": {
          "base_uri": "https://localhost:8080/"
        },
        "outputId": "d711e141-7113-4541-ac4f-b8a1b5c7cd5b"
      },
      "source": [
        "X['origin'].nunique()"
      ],
      "execution_count": 13,
      "outputs": [
        {
          "output_type": "execute_result",
          "data": {
            "text/plain": [
              "3"
            ]
          },
          "metadata": {},
          "execution_count": 13
        }
      ]
    },
    {
      "cell_type": "code",
      "source": [
        "from sklearn.preprocessing import OneHotEncoder"
      ],
      "metadata": {
        "id": "ve7OZC-lMo3J"
      },
      "execution_count": 14,
      "outputs": []
    },
    {
      "cell_type": "code",
      "source": [
        "from sklearn.compose import ColumnTransformer"
      ],
      "metadata": {
        "id": "KMJiNakOMouZ"
      },
      "execution_count": 15,
      "outputs": []
    },
    {
      "cell_type": "code",
      "source": [
        "X.head(1)"
      ],
      "metadata": {
        "colab": {
          "base_uri": "https://localhost:8080/",
          "height": 81
        },
        "id": "TfIy8ctdM-jp",
        "outputId": "2f4fbf64-99d9-4a44-ec7a-502e714d2df8"
      },
      "execution_count": 16,
      "outputs": [
        {
          "output_type": "execute_result",
          "data": {
            "text/plain": [
              "   cyl  displ   hp  weight  accel  yr  origin\n",
              "0    8  307.0  130    3504   12.0  70       1"
            ],
            "text/html": [
              "\n",
              "  <div id=\"df-58d6ad27-f820-471d-9d78-172c7f97696e\">\n",
              "    <div class=\"colab-df-container\">\n",
              "      <div>\n",
              "<style scoped>\n",
              "    .dataframe tbody tr th:only-of-type {\n",
              "        vertical-align: middle;\n",
              "    }\n",
              "\n",
              "    .dataframe tbody tr th {\n",
              "        vertical-align: top;\n",
              "    }\n",
              "\n",
              "    .dataframe thead th {\n",
              "        text-align: right;\n",
              "    }\n",
              "</style>\n",
              "<table border=\"1\" class=\"dataframe\">\n",
              "  <thead>\n",
              "    <tr style=\"text-align: right;\">\n",
              "      <th></th>\n",
              "      <th>cyl</th>\n",
              "      <th>displ</th>\n",
              "      <th>hp</th>\n",
              "      <th>weight</th>\n",
              "      <th>accel</th>\n",
              "      <th>yr</th>\n",
              "      <th>origin</th>\n",
              "    </tr>\n",
              "  </thead>\n",
              "  <tbody>\n",
              "    <tr>\n",
              "      <th>0</th>\n",
              "      <td>8</td>\n",
              "      <td>307.0</td>\n",
              "      <td>130</td>\n",
              "      <td>3504</td>\n",
              "      <td>12.0</td>\n",
              "      <td>70</td>\n",
              "      <td>1</td>\n",
              "    </tr>\n",
              "  </tbody>\n",
              "</table>\n",
              "</div>\n",
              "      <button class=\"colab-df-convert\" onclick=\"convertToInteractive('df-58d6ad27-f820-471d-9d78-172c7f97696e')\"\n",
              "              title=\"Convert this dataframe to an interactive table.\"\n",
              "              style=\"display:none;\">\n",
              "        \n",
              "  <svg xmlns=\"http://www.w3.org/2000/svg\" height=\"24px\"viewBox=\"0 0 24 24\"\n",
              "       width=\"24px\">\n",
              "    <path d=\"M0 0h24v24H0V0z\" fill=\"none\"/>\n",
              "    <path d=\"M18.56 5.44l.94 2.06.94-2.06 2.06-.94-2.06-.94-.94-2.06-.94 2.06-2.06.94zm-11 1L8.5 8.5l.94-2.06 2.06-.94-2.06-.94L8.5 2.5l-.94 2.06-2.06.94zm10 10l.94 2.06.94-2.06 2.06-.94-2.06-.94-.94-2.06-.94 2.06-2.06.94z\"/><path d=\"M17.41 7.96l-1.37-1.37c-.4-.4-.92-.59-1.43-.59-.52 0-1.04.2-1.43.59L10.3 9.45l-7.72 7.72c-.78.78-.78 2.05 0 2.83L4 21.41c.39.39.9.59 1.41.59.51 0 1.02-.2 1.41-.59l7.78-7.78 2.81-2.81c.8-.78.8-2.07 0-2.86zM5.41 20L4 18.59l7.72-7.72 1.47 1.35L5.41 20z\"/>\n",
              "  </svg>\n",
              "      </button>\n",
              "      \n",
              "  <style>\n",
              "    .colab-df-container {\n",
              "      display:flex;\n",
              "      flex-wrap:wrap;\n",
              "      gap: 12px;\n",
              "    }\n",
              "\n",
              "    .colab-df-convert {\n",
              "      background-color: #E8F0FE;\n",
              "      border: none;\n",
              "      border-radius: 50%;\n",
              "      cursor: pointer;\n",
              "      display: none;\n",
              "      fill: #1967D2;\n",
              "      height: 32px;\n",
              "      padding: 0 0 0 0;\n",
              "      width: 32px;\n",
              "    }\n",
              "\n",
              "    .colab-df-convert:hover {\n",
              "      background-color: #E2EBFA;\n",
              "      box-shadow: 0px 1px 2px rgba(60, 64, 67, 0.3), 0px 1px 3px 1px rgba(60, 64, 67, 0.15);\n",
              "      fill: #174EA6;\n",
              "    }\n",
              "\n",
              "    [theme=dark] .colab-df-convert {\n",
              "      background-color: #3B4455;\n",
              "      fill: #D2E3FC;\n",
              "    }\n",
              "\n",
              "    [theme=dark] .colab-df-convert:hover {\n",
              "      background-color: #434B5C;\n",
              "      box-shadow: 0px 1px 3px 1px rgba(0, 0, 0, 0.15);\n",
              "      filter: drop-shadow(0px 1px 2px rgba(0, 0, 0, 0.3));\n",
              "      fill: #FFFFFF;\n",
              "    }\n",
              "  </style>\n",
              "\n",
              "      <script>\n",
              "        const buttonEl =\n",
              "          document.querySelector('#df-58d6ad27-f820-471d-9d78-172c7f97696e button.colab-df-convert');\n",
              "        buttonEl.style.display =\n",
              "          google.colab.kernel.accessAllowed ? 'block' : 'none';\n",
              "\n",
              "        async function convertToInteractive(key) {\n",
              "          const element = document.querySelector('#df-58d6ad27-f820-471d-9d78-172c7f97696e');\n",
              "          const dataTable =\n",
              "            await google.colab.kernel.invokeFunction('convertToInteractive',\n",
              "                                                     [key], {});\n",
              "          if (!dataTable) return;\n",
              "\n",
              "          const docLinkHtml = 'Like what you see? Visit the ' +\n",
              "            '<a target=\"_blank\" href=https://colab.research.google.com/notebooks/data_table.ipynb>data table notebook</a>'\n",
              "            + ' to learn more about interactive tables.';\n",
              "          element.innerHTML = '';\n",
              "          dataTable['output_type'] = 'display_data';\n",
              "          await google.colab.output.renderOutput(dataTable, element);\n",
              "          const docLink = document.createElement('div');\n",
              "          docLink.innerHTML = docLinkHtml;\n",
              "          element.appendChild(docLink);\n",
              "        }\n",
              "      </script>\n",
              "    </div>\n",
              "  </div>\n",
              "  "
            ]
          },
          "metadata": {},
          "execution_count": 16
        }
      ]
    },
    {
      "cell_type": "code",
      "source": [
        "ct = ColumnTransformer([('encoder', OneHotEncoder(), [6])], remainder='passthrough')"
      ],
      "metadata": {
        "id": "arKyC3nvMxzs"
      },
      "execution_count": 17,
      "outputs": []
    },
    {
      "cell_type": "code",
      "metadata": {
        "id": "QH6at5_rbuJ_"
      },
      "source": [
        "X = ct.fit_transform(X.values)"
      ],
      "execution_count": 20,
      "outputs": []
    },
    {
      "cell_type": "code",
      "source": [],
      "metadata": {
        "id": "2znwzOWANSuZ"
      },
      "execution_count": null,
      "outputs": []
    },
    {
      "cell_type": "code",
      "metadata": {
        "id": "K1CuoYsTCHja"
      },
      "source": [
        "# 5. X 만 피처 스케일링 하시오 (차트 확인을 위해, y는 하지 않습니다.)"
      ],
      "execution_count": null,
      "outputs": []
    },
    {
      "cell_type": "code",
      "metadata": {
        "id": "KGYf57sUbwIO"
      },
      "source": [
        "from sklearn.preprocessing import MinMaxScaler"
      ],
      "execution_count": 22,
      "outputs": []
    },
    {
      "cell_type": "code",
      "metadata": {
        "id": "EYvwXkODbwFH"
      },
      "source": [
        "scaler_X = MinMaxScaler()"
      ],
      "execution_count": 23,
      "outputs": []
    },
    {
      "cell_type": "code",
      "metadata": {
        "id": "2sOTMgt8bwB_"
      },
      "source": [
        "X = scaler_X.fit_transform(X)"
      ],
      "execution_count": 25,
      "outputs": []
    },
    {
      "cell_type": "code",
      "metadata": {
        "id": "RlLmqK8_CHSL"
      },
      "source": [
        "# 5. 트레인 / 테스트용 셋으로 분리"
      ],
      "execution_count": null,
      "outputs": []
    },
    {
      "cell_type": "code",
      "source": [
        "from sklearn.model_selection import train_test_split"
      ],
      "metadata": {
        "id": "y1oT4CA7N5ri"
      },
      "execution_count": 26,
      "outputs": []
    },
    {
      "cell_type": "code",
      "metadata": {
        "id": "zO9z5bjvb4nL"
      },
      "source": [
        "X_train, X_test, y_train, y_test = train_test_split(X, y, test_size=0.2, random_state=7 )"
      ],
      "execution_count": 27,
      "outputs": []
    },
    {
      "cell_type": "code",
      "metadata": {
        "id": "xtB3Y7znb4hd"
      },
      "source": [],
      "execution_count": null,
      "outputs": []
    },
    {
      "cell_type": "code",
      "metadata": {
        "id": "_Gu6ZarpVkjD"
      },
      "source": [
        "# 딥러닝 모델링"
      ],
      "execution_count": null,
      "outputs": []
    },
    {
      "cell_type": "code",
      "metadata": {
        "id": "S2BlAQYeWCU3"
      },
      "source": [
        "import tensorflow as tf\n",
        "from tensorflow.keras.models import Sequential\n",
        "from tensorflow.keras.layers import Dense"
      ],
      "execution_count": 28,
      "outputs": []
    },
    {
      "cell_type": "code",
      "source": [
        "X_train.shape"
      ],
      "metadata": {
        "colab": {
          "base_uri": "https://localhost:8080/"
        },
        "id": "w1DdC07yOiBI",
        "outputId": "546f844b-9eeb-470a-f8f3-a9bce247c4e9"
      },
      "execution_count": 29,
      "outputs": [
        {
          "output_type": "execute_result",
          "data": {
            "text/plain": [
              "(313, 9)"
            ]
          },
          "metadata": {},
          "execution_count": 29
        }
      ]
    },
    {
      "cell_type": "code",
      "source": [],
      "metadata": {
        "id": "lWiXY1pyQQBJ"
      },
      "execution_count": 30,
      "outputs": []
    },
    {
      "cell_type": "code",
      "metadata": {
        "id": "pj74iWXRb9iI"
      },
      "source": [
        "def build_model():\n",
        "  model = Sequential()\n",
        "  model.add(  Dense(64 , 'relu', input_shape= (9,) )  )\n",
        "  model.add( Dense(64, 'relu') )\n",
        "  model.add( Dense(1, 'linear'))\n",
        "  model.compile(optimizer= tf.keras.optimizers.Adam(learning_rate=0.001) ,\n",
        "                loss= 'mse', metrics=['mse', 'mae'])\n",
        "  return model"
      ],
      "execution_count": 36,
      "outputs": []
    },
    {
      "cell_type": "code",
      "source": [
        "model = build_model()"
      ],
      "metadata": {
        "id": "W7m6TJdgOQho"
      },
      "execution_count": 41,
      "outputs": []
    },
    {
      "cell_type": "code",
      "source": [
        "model.summary()"
      ],
      "metadata": {
        "colab": {
          "base_uri": "https://localhost:8080/"
        },
        "id": "sdqWrMj3OQVp",
        "outputId": "adee0dca-2994-4413-9db0-2fdd7ad77f20"
      },
      "execution_count": 38,
      "outputs": [
        {
          "output_type": "stream",
          "name": "stdout",
          "text": [
            "Model: \"sequential_1\"\n",
            "_________________________________________________________________\n",
            " Layer (type)                Output Shape              Param #   \n",
            "=================================================================\n",
            " dense_3 (Dense)             (None, 64)                640       \n",
            "                                                                 \n",
            " dense_4 (Dense)             (None, 64)                4160      \n",
            "                                                                 \n",
            " dense_5 (Dense)             (None, 1)                 65        \n",
            "                                                                 \n",
            "=================================================================\n",
            "Total params: 4,865\n",
            "Trainable params: 4,865\n",
            "Non-trainable params: 0\n",
            "_________________________________________________________________\n"
          ]
        }
      ]
    },
    {
      "cell_type": "code",
      "metadata": {
        "id": "xJKcDp_Lb9dn",
        "colab": {
          "base_uri": "https://localhost:8080/"
        },
        "outputId": "c683fe32-b844-4777-d9dc-1d5e2caf0000"
      },
      "source": [
        "epoch_history = model.fit(X_train, y_train, epochs = 200, validation_split= 0.2 )"
      ],
      "execution_count": 42,
      "outputs": [
        {
          "output_type": "stream",
          "name": "stdout",
          "text": [
            "Epoch 1/200\n",
            "8/8 [==============================] - 1s 30ms/step - loss: 610.5374 - mse: 610.5374 - mae: 23.4399 - val_loss: 555.8674 - val_mse: 555.8674 - val_mae: 22.1386\n",
            "Epoch 2/200\n",
            "8/8 [==============================] - 0s 6ms/step - loss: 587.2214 - mse: 587.2214 - mae: 22.9077 - val_loss: 532.2105 - val_mse: 532.2105 - val_mae: 21.5705\n",
            "Epoch 3/200\n",
            "8/8 [==============================] - 0s 7ms/step - loss: 561.8102 - mse: 561.8102 - mae: 22.3228 - val_loss: 504.5652 - val_mse: 504.5652 - val_mae: 20.8901\n",
            "Epoch 4/200\n",
            "8/8 [==============================] - 0s 6ms/step - loss: 531.5095 - mse: 531.5095 - mae: 21.5949 - val_loss: 470.3656 - val_mse: 470.3656 - val_mae: 20.0139\n",
            "Epoch 5/200\n",
            "8/8 [==============================] - 0s 5ms/step - loss: 492.5634 - mse: 492.5634 - mae: 20.6467 - val_loss: 427.5130 - val_mse: 427.5130 - val_mae: 18.8520\n",
            "Epoch 6/200\n",
            "8/8 [==============================] - 0s 5ms/step - loss: 444.5004 - mse: 444.5004 - mae: 19.3795 - val_loss: 374.8641 - val_mse: 374.8641 - val_mae: 17.3120\n",
            "Epoch 7/200\n",
            "8/8 [==============================] - 0s 5ms/step - loss: 386.0351 - mse: 386.0351 - mae: 17.6932 - val_loss: 313.7102 - val_mse: 313.7102 - val_mae: 15.3243\n",
            "Epoch 8/200\n",
            "8/8 [==============================] - 0s 5ms/step - loss: 318.4284 - mse: 318.4284 - mae: 15.5767 - val_loss: 247.5028 - val_mse: 247.5028 - val_mae: 12.8828\n",
            "Epoch 9/200\n",
            "8/8 [==============================] - 0s 5ms/step - loss: 247.0252 - mse: 247.0252 - mae: 13.0805 - val_loss: 184.0246 - val_mse: 184.0246 - val_mae: 10.6758\n",
            "Epoch 10/200\n",
            "8/8 [==============================] - 0s 5ms/step - loss: 183.7446 - mse: 183.7446 - mae: 11.0107 - val_loss: 133.9976 - val_mse: 133.9976 - val_mae: 9.1379\n",
            "Epoch 11/200\n",
            "8/8 [==============================] - 0s 6ms/step - loss: 133.6352 - mse: 133.6352 - mae: 9.5273 - val_loss: 106.7519 - val_mse: 106.7519 - val_mae: 8.4876\n",
            "Epoch 12/200\n",
            "8/8 [==============================] - 0s 6ms/step - loss: 107.0834 - mse: 107.0834 - mae: 8.7567 - val_loss: 94.6945 - val_mse: 94.6945 - val_mae: 8.3487\n",
            "Epoch 13/200\n",
            "8/8 [==============================] - 0s 5ms/step - loss: 91.4992 - mse: 91.4992 - mae: 8.2164 - val_loss: 83.8478 - val_mse: 83.8478 - val_mae: 7.9705\n",
            "Epoch 14/200\n",
            "8/8 [==============================] - 0s 5ms/step - loss: 78.9082 - mse: 78.9082 - mae: 7.5953 - val_loss: 70.1514 - val_mse: 70.1514 - val_mae: 7.2641\n",
            "Epoch 15/200\n",
            "8/8 [==============================] - 0s 5ms/step - loss: 67.3723 - mse: 67.3723 - mae: 6.9973 - val_loss: 57.7053 - val_mse: 57.7053 - val_mae: 6.5356\n",
            "Epoch 16/200\n",
            "8/8 [==============================] - 0s 6ms/step - loss: 57.1633 - mse: 57.1633 - mae: 6.4171 - val_loss: 47.3547 - val_mse: 47.3547 - val_mae: 5.8650\n",
            "Epoch 17/200\n",
            "8/8 [==============================] - 0s 5ms/step - loss: 49.3955 - mse: 49.3955 - mae: 5.9405 - val_loss: 38.8662 - val_mse: 38.8662 - val_mae: 5.3023\n",
            "Epoch 18/200\n",
            "8/8 [==============================] - 0s 5ms/step - loss: 42.4804 - mse: 42.4804 - mae: 5.4878 - val_loss: 32.4099 - val_mse: 32.4099 - val_mae: 4.8699\n",
            "Epoch 19/200\n",
            "8/8 [==============================] - 0s 6ms/step - loss: 37.2430 - mse: 37.2430 - mae: 5.1044 - val_loss: 27.2017 - val_mse: 27.2017 - val_mae: 4.4595\n",
            "Epoch 20/200\n",
            "8/8 [==============================] - 0s 6ms/step - loss: 33.0055 - mse: 33.0055 - mae: 4.7607 - val_loss: 23.1102 - val_mse: 23.1102 - val_mae: 4.0899\n",
            "Epoch 21/200\n",
            "8/8 [==============================] - 0s 6ms/step - loss: 29.7815 - mse: 29.7815 - mae: 4.4517 - val_loss: 19.9738 - val_mse: 19.9738 - val_mae: 3.7615\n",
            "Epoch 22/200\n",
            "8/8 [==============================] - 0s 8ms/step - loss: 27.3098 - mse: 27.3098 - mae: 4.1985 - val_loss: 17.5762 - val_mse: 17.5762 - val_mae: 3.4686\n",
            "Epoch 23/200\n",
            "8/8 [==============================] - 0s 6ms/step - loss: 25.4008 - mse: 25.4008 - mae: 3.9997 - val_loss: 15.8443 - val_mse: 15.8443 - val_mae: 3.2345\n",
            "Epoch 24/200\n",
            "8/8 [==============================] - 0s 5ms/step - loss: 23.7674 - mse: 23.7674 - mae: 3.8284 - val_loss: 14.6037 - val_mse: 14.6037 - val_mae: 3.0430\n",
            "Epoch 25/200\n",
            "8/8 [==============================] - 0s 6ms/step - loss: 22.5475 - mse: 22.5475 - mae: 3.6971 - val_loss: 13.6856 - val_mse: 13.6856 - val_mae: 2.8968\n",
            "Epoch 26/200\n",
            "8/8 [==============================] - 0s 5ms/step - loss: 21.4856 - mse: 21.4856 - mae: 3.5901 - val_loss: 13.0161 - val_mse: 13.0161 - val_mae: 2.7994\n",
            "Epoch 27/200\n",
            "8/8 [==============================] - 0s 5ms/step - loss: 20.6037 - mse: 20.6037 - mae: 3.5080 - val_loss: 12.4908 - val_mse: 12.4908 - val_mae: 2.7278\n",
            "Epoch 28/200\n",
            "8/8 [==============================] - 0s 5ms/step - loss: 19.7657 - mse: 19.7657 - mae: 3.4310 - val_loss: 12.1564 - val_mse: 12.1564 - val_mae: 2.6871\n",
            "Epoch 29/200\n",
            "8/8 [==============================] - 0s 6ms/step - loss: 19.0941 - mse: 19.0941 - mae: 3.3685 - val_loss: 11.8288 - val_mse: 11.8288 - val_mae: 2.6449\n",
            "Epoch 30/200\n",
            "8/8 [==============================] - 0s 8ms/step - loss: 18.4482 - mse: 18.4482 - mae: 3.3195 - val_loss: 11.5292 - val_mse: 11.5292 - val_mae: 2.6065\n",
            "Epoch 31/200\n",
            "8/8 [==============================] - 0s 6ms/step - loss: 17.9625 - mse: 17.9625 - mae: 3.2872 - val_loss: 11.3057 - val_mse: 11.3057 - val_mae: 2.5822\n",
            "Epoch 32/200\n",
            "8/8 [==============================] - 0s 6ms/step - loss: 17.4541 - mse: 17.4541 - mae: 3.2501 - val_loss: 11.1391 - val_mse: 11.1391 - val_mae: 2.5637\n",
            "Epoch 33/200\n",
            "8/8 [==============================] - 0s 6ms/step - loss: 17.0801 - mse: 17.0801 - mae: 3.2208 - val_loss: 11.0194 - val_mse: 11.0194 - val_mae: 2.5530\n",
            "Epoch 34/200\n",
            "8/8 [==============================] - 0s 6ms/step - loss: 16.6462 - mse: 16.6462 - mae: 3.1813 - val_loss: 10.8409 - val_mse: 10.8409 - val_mae: 2.5368\n",
            "Epoch 35/200\n",
            "8/8 [==============================] - 0s 5ms/step - loss: 16.3411 - mse: 16.3411 - mae: 3.1580 - val_loss: 10.7006 - val_mse: 10.7006 - val_mae: 2.5246\n",
            "Epoch 36/200\n",
            "8/8 [==============================] - 0s 6ms/step - loss: 15.9564 - mse: 15.9564 - mae: 3.1253 - val_loss: 10.5472 - val_mse: 10.5472 - val_mae: 2.5120\n",
            "Epoch 37/200\n",
            "8/8 [==============================] - 0s 6ms/step - loss: 15.6446 - mse: 15.6446 - mae: 3.0844 - val_loss: 10.4310 - val_mse: 10.4310 - val_mae: 2.5129\n",
            "Epoch 38/200\n",
            "8/8 [==============================] - 0s 6ms/step - loss: 15.3360 - mse: 15.3360 - mae: 3.0514 - val_loss: 10.2061 - val_mse: 10.2061 - val_mae: 2.4831\n",
            "Epoch 39/200\n",
            "8/8 [==============================] - 0s 6ms/step - loss: 15.0080 - mse: 15.0080 - mae: 3.0244 - val_loss: 10.0220 - val_mse: 10.0220 - val_mae: 2.4607\n",
            "Epoch 40/200\n",
            "8/8 [==============================] - 0s 5ms/step - loss: 14.7655 - mse: 14.7655 - mae: 3.0005 - val_loss: 9.8989 - val_mse: 9.8989 - val_mae: 2.4490\n",
            "Epoch 41/200\n",
            "8/8 [==============================] - 0s 9ms/step - loss: 14.5376 - mse: 14.5376 - mae: 2.9727 - val_loss: 9.7635 - val_mse: 9.7635 - val_mae: 2.4404\n",
            "Epoch 42/200\n",
            "8/8 [==============================] - 0s 5ms/step - loss: 14.3009 - mse: 14.3009 - mae: 2.9438 - val_loss: 9.6027 - val_mse: 9.6027 - val_mae: 2.4217\n",
            "Epoch 43/200\n",
            "8/8 [==============================] - 0s 5ms/step - loss: 14.0813 - mse: 14.0813 - mae: 2.9243 - val_loss: 9.4737 - val_mse: 9.4737 - val_mae: 2.4126\n",
            "Epoch 44/200\n",
            "8/8 [==============================] - 0s 6ms/step - loss: 13.8894 - mse: 13.8894 - mae: 2.9002 - val_loss: 9.3345 - val_mse: 9.3345 - val_mae: 2.3988\n",
            "Epoch 45/200\n",
            "8/8 [==============================] - 0s 6ms/step - loss: 13.7003 - mse: 13.7003 - mae: 2.8720 - val_loss: 9.2178 - val_mse: 9.2178 - val_mae: 2.3853\n",
            "Epoch 46/200\n",
            "8/8 [==============================] - 0s 6ms/step - loss: 13.5790 - mse: 13.5790 - mae: 2.8630 - val_loss: 9.1127 - val_mse: 9.1127 - val_mae: 2.3802\n",
            "Epoch 47/200\n",
            "8/8 [==============================] - 0s 6ms/step - loss: 13.2865 - mse: 13.2865 - mae: 2.8226 - val_loss: 8.9789 - val_mse: 8.9789 - val_mae: 2.3563\n",
            "Epoch 48/200\n",
            "8/8 [==============================] - 0s 6ms/step - loss: 13.1183 - mse: 13.1183 - mae: 2.7962 - val_loss: 8.8638 - val_mse: 8.8638 - val_mae: 2.3413\n",
            "Epoch 49/200\n",
            "8/8 [==============================] - 0s 6ms/step - loss: 12.9516 - mse: 12.9516 - mae: 2.7741 - val_loss: 8.7479 - val_mse: 8.7479 - val_mae: 2.3310\n",
            "Epoch 50/200\n",
            "8/8 [==============================] - 0s 5ms/step - loss: 12.7754 - mse: 12.7754 - mae: 2.7568 - val_loss: 8.5933 - val_mse: 8.5933 - val_mae: 2.3097\n",
            "Epoch 51/200\n",
            "8/8 [==============================] - 0s 7ms/step - loss: 12.6136 - mse: 12.6136 - mae: 2.7334 - val_loss: 8.4373 - val_mse: 8.4373 - val_mae: 2.2883\n",
            "Epoch 52/200\n",
            "8/8 [==============================] - 0s 6ms/step - loss: 12.4314 - mse: 12.4314 - mae: 2.7141 - val_loss: 8.3413 - val_mse: 8.3413 - val_mae: 2.2792\n",
            "Epoch 53/200\n",
            "8/8 [==============================] - 0s 6ms/step - loss: 12.2841 - mse: 12.2841 - mae: 2.6933 - val_loss: 8.2385 - val_mse: 8.2385 - val_mae: 2.2617\n",
            "Epoch 54/200\n",
            "8/8 [==============================] - 0s 6ms/step - loss: 12.1313 - mse: 12.1313 - mae: 2.6647 - val_loss: 8.1410 - val_mse: 8.1410 - val_mae: 2.2478\n",
            "Epoch 55/200\n",
            "8/8 [==============================] - 0s 6ms/step - loss: 12.0388 - mse: 12.0388 - mae: 2.6556 - val_loss: 8.0465 - val_mse: 8.0465 - val_mae: 2.2447\n",
            "Epoch 56/200\n",
            "8/8 [==============================] - 0s 6ms/step - loss: 11.8904 - mse: 11.8904 - mae: 2.6318 - val_loss: 7.9064 - val_mse: 7.9064 - val_mae: 2.2176\n",
            "Epoch 57/200\n",
            "8/8 [==============================] - 0s 6ms/step - loss: 11.6832 - mse: 11.6832 - mae: 2.6003 - val_loss: 7.7879 - val_mse: 7.7879 - val_mae: 2.2033\n",
            "Epoch 58/200\n",
            "8/8 [==============================] - 0s 6ms/step - loss: 11.5917 - mse: 11.5917 - mae: 2.5990 - val_loss: 7.7434 - val_mse: 7.7434 - val_mae: 2.2012\n",
            "Epoch 59/200\n",
            "8/8 [==============================] - 0s 7ms/step - loss: 11.4880 - mse: 11.4880 - mae: 2.5823 - val_loss: 7.6485 - val_mse: 7.6485 - val_mae: 2.1762\n",
            "Epoch 60/200\n",
            "8/8 [==============================] - 0s 6ms/step - loss: 11.4004 - mse: 11.4004 - mae: 2.5566 - val_loss: 7.5204 - val_mse: 7.5204 - val_mae: 2.1692\n",
            "Epoch 61/200\n",
            "8/8 [==============================] - 0s 6ms/step - loss: 11.1985 - mse: 11.1985 - mae: 2.5352 - val_loss: 7.4536 - val_mse: 7.4536 - val_mae: 2.1422\n",
            "Epoch 62/200\n",
            "8/8 [==============================] - 0s 8ms/step - loss: 11.1340 - mse: 11.1340 - mae: 2.5139 - val_loss: 7.3482 - val_mse: 7.3482 - val_mae: 2.1267\n",
            "Epoch 63/200\n",
            "8/8 [==============================] - 0s 7ms/step - loss: 10.9211 - mse: 10.9211 - mae: 2.4883 - val_loss: 7.2583 - val_mse: 7.2583 - val_mae: 2.1267\n",
            "Epoch 64/200\n",
            "8/8 [==============================] - 0s 5ms/step - loss: 10.8325 - mse: 10.8325 - mae: 2.4789 - val_loss: 7.1446 - val_mse: 7.1446 - val_mae: 2.1179\n",
            "Epoch 65/200\n",
            "8/8 [==============================] - 0s 5ms/step - loss: 10.7321 - mse: 10.7321 - mae: 2.4611 - val_loss: 7.0858 - val_mse: 7.0858 - val_mae: 2.1129\n",
            "Epoch 66/200\n",
            "8/8 [==============================] - 0s 5ms/step - loss: 10.7946 - mse: 10.7946 - mae: 2.4636 - val_loss: 7.1356 - val_mse: 7.1356 - val_mae: 2.1370\n",
            "Epoch 67/200\n",
            "8/8 [==============================] - 0s 5ms/step - loss: 10.5564 - mse: 10.5564 - mae: 2.4303 - val_loss: 6.9588 - val_mse: 6.9588 - val_mae: 2.0693\n",
            "Epoch 68/200\n",
            "8/8 [==============================] - 0s 6ms/step - loss: 10.4179 - mse: 10.4179 - mae: 2.3947 - val_loss: 6.8891 - val_mse: 6.8891 - val_mae: 2.0659\n",
            "Epoch 69/200\n",
            "8/8 [==============================] - 0s 7ms/step - loss: 10.3072 - mse: 10.3072 - mae: 2.3934 - val_loss: 6.8527 - val_mse: 6.8527 - val_mae: 2.0751\n",
            "Epoch 70/200\n",
            "8/8 [==============================] - 0s 6ms/step - loss: 10.1909 - mse: 10.1909 - mae: 2.3812 - val_loss: 6.7352 - val_mse: 6.7352 - val_mae: 2.0534\n",
            "Epoch 71/200\n",
            "8/8 [==============================] - 0s 6ms/step - loss: 10.1041 - mse: 10.1041 - mae: 2.3622 - val_loss: 6.7036 - val_mse: 6.7036 - val_mae: 2.0501\n",
            "Epoch 72/200\n",
            "8/8 [==============================] - 0s 7ms/step - loss: 9.9997 - mse: 9.9997 - mae: 2.3447 - val_loss: 6.5982 - val_mse: 6.5982 - val_mae: 2.0270\n",
            "Epoch 73/200\n",
            "8/8 [==============================] - 0s 6ms/step - loss: 9.9163 - mse: 9.9163 - mae: 2.3337 - val_loss: 6.5374 - val_mse: 6.5374 - val_mae: 2.0270\n",
            "Epoch 74/200\n",
            "8/8 [==============================] - 0s 6ms/step - loss: 9.8272 - mse: 9.8272 - mae: 2.3205 - val_loss: 6.4653 - val_mse: 6.4653 - val_mae: 2.0064\n",
            "Epoch 75/200\n",
            "8/8 [==============================] - 0s 6ms/step - loss: 9.7366 - mse: 9.7366 - mae: 2.3028 - val_loss: 6.4311 - val_mse: 6.4311 - val_mae: 2.0039\n",
            "Epoch 76/200\n",
            "8/8 [==============================] - 0s 6ms/step - loss: 9.6904 - mse: 9.6904 - mae: 2.3087 - val_loss: 6.4705 - val_mse: 6.4705 - val_mae: 2.0292\n",
            "Epoch 77/200\n",
            "8/8 [==============================] - 0s 6ms/step - loss: 9.6037 - mse: 9.6037 - mae: 2.2986 - val_loss: 6.3964 - val_mse: 6.3964 - val_mae: 2.0079\n",
            "Epoch 78/200\n",
            "8/8 [==============================] - 0s 7ms/step - loss: 9.4764 - mse: 9.4764 - mae: 2.2623 - val_loss: 6.3324 - val_mse: 6.3324 - val_mae: 1.9799\n",
            "Epoch 79/200\n",
            "8/8 [==============================] - 0s 6ms/step - loss: 9.4499 - mse: 9.4499 - mae: 2.2497 - val_loss: 6.3193 - val_mse: 6.3193 - val_mae: 1.9779\n",
            "Epoch 80/200\n",
            "8/8 [==============================] - 0s 5ms/step - loss: 9.3485 - mse: 9.3485 - mae: 2.2495 - val_loss: 6.2941 - val_mse: 6.2941 - val_mae: 1.9858\n",
            "Epoch 81/200\n",
            "8/8 [==============================] - 0s 6ms/step - loss: 9.2960 - mse: 9.2960 - mae: 2.2416 - val_loss: 6.2599 - val_mse: 6.2599 - val_mae: 1.9653\n",
            "Epoch 82/200\n",
            "8/8 [==============================] - 0s 5ms/step - loss: 9.1961 - mse: 9.1961 - mae: 2.2260 - val_loss: 6.1909 - val_mse: 6.1909 - val_mae: 1.9665\n",
            "Epoch 83/200\n",
            "8/8 [==============================] - 0s 8ms/step - loss: 9.1546 - mse: 9.1546 - mae: 2.2285 - val_loss: 6.1662 - val_mse: 6.1662 - val_mae: 1.9658\n",
            "Epoch 84/200\n",
            "8/8 [==============================] - 0s 5ms/step - loss: 9.0837 - mse: 9.0837 - mae: 2.2094 - val_loss: 6.0886 - val_mse: 6.0886 - val_mae: 1.9414\n",
            "Epoch 85/200\n",
            "8/8 [==============================] - 0s 6ms/step - loss: 9.0086 - mse: 9.0086 - mae: 2.1981 - val_loss: 6.0996 - val_mse: 6.0996 - val_mae: 1.9394\n",
            "Epoch 86/200\n",
            "8/8 [==============================] - 0s 5ms/step - loss: 8.9451 - mse: 8.9451 - mae: 2.1951 - val_loss: 6.0498 - val_mse: 6.0498 - val_mae: 1.9309\n",
            "Epoch 87/200\n",
            "8/8 [==============================] - 0s 7ms/step - loss: 8.9111 - mse: 8.9111 - mae: 2.1839 - val_loss: 6.0078 - val_mse: 6.0078 - val_mae: 1.9173\n",
            "Epoch 88/200\n",
            "8/8 [==============================] - 0s 8ms/step - loss: 8.8281 - mse: 8.8281 - mae: 2.1796 - val_loss: 6.0516 - val_mse: 6.0516 - val_mae: 1.9354\n",
            "Epoch 89/200\n",
            "8/8 [==============================] - 0s 5ms/step - loss: 8.9412 - mse: 8.9412 - mae: 2.2176 - val_loss: 6.1234 - val_mse: 6.1234 - val_mae: 1.9528\n",
            "Epoch 90/200\n",
            "8/8 [==============================] - 0s 5ms/step - loss: 8.6830 - mse: 8.6830 - mae: 2.1502 - val_loss: 5.9693 - val_mse: 5.9693 - val_mae: 1.9112\n",
            "Epoch 91/200\n",
            "8/8 [==============================] - 0s 5ms/step - loss: 8.7588 - mse: 8.7588 - mae: 2.1546 - val_loss: 5.9227 - val_mse: 5.9227 - val_mae: 1.8983\n",
            "Epoch 92/200\n",
            "8/8 [==============================] - 0s 6ms/step - loss: 8.6174 - mse: 8.6174 - mae: 2.1453 - val_loss: 6.0591 - val_mse: 6.0591 - val_mae: 1.9165\n",
            "Epoch 93/200\n",
            "8/8 [==============================] - 0s 5ms/step - loss: 8.6028 - mse: 8.6028 - mae: 2.1596 - val_loss: 5.9743 - val_mse: 5.9743 - val_mae: 1.9044\n",
            "Epoch 94/200\n",
            "8/8 [==============================] - 0s 5ms/step - loss: 8.5457 - mse: 8.5457 - mae: 2.1434 - val_loss: 5.8902 - val_mse: 5.8902 - val_mae: 1.8879\n",
            "Epoch 95/200\n",
            "8/8 [==============================] - 0s 5ms/step - loss: 8.5232 - mse: 8.5232 - mae: 2.1401 - val_loss: 5.9072 - val_mse: 5.9072 - val_mae: 1.8945\n",
            "Epoch 96/200\n",
            "8/8 [==============================] - 0s 6ms/step - loss: 8.4492 - mse: 8.4492 - mae: 2.1359 - val_loss: 5.8464 - val_mse: 5.8464 - val_mae: 1.8740\n",
            "Epoch 97/200\n",
            "8/8 [==============================] - 0s 6ms/step - loss: 8.4076 - mse: 8.4076 - mae: 2.1203 - val_loss: 5.8244 - val_mse: 5.8244 - val_mae: 1.8695\n",
            "Epoch 98/200\n",
            "8/8 [==============================] - 0s 8ms/step - loss: 8.3923 - mse: 8.3923 - mae: 2.1150 - val_loss: 5.9121 - val_mse: 5.9121 - val_mae: 1.8852\n",
            "Epoch 99/200\n",
            "8/8 [==============================] - 0s 6ms/step - loss: 8.3939 - mse: 8.3939 - mae: 2.1134 - val_loss: 5.7852 - val_mse: 5.7852 - val_mae: 1.8584\n",
            "Epoch 100/200\n",
            "8/8 [==============================] - 0s 6ms/step - loss: 8.3706 - mse: 8.3706 - mae: 2.1272 - val_loss: 5.8852 - val_mse: 5.8852 - val_mae: 1.8740\n",
            "Epoch 101/200\n",
            "8/8 [==============================] - 0s 5ms/step - loss: 8.2809 - mse: 8.2809 - mae: 2.1089 - val_loss: 5.8162 - val_mse: 5.8162 - val_mae: 1.8543\n",
            "Epoch 102/200\n",
            "8/8 [==============================] - 0s 8ms/step - loss: 8.2461 - mse: 8.2461 - mae: 2.1012 - val_loss: 5.8693 - val_mse: 5.8693 - val_mae: 1.8542\n",
            "Epoch 103/200\n",
            "8/8 [==============================] - 0s 8ms/step - loss: 8.2006 - mse: 8.2006 - mae: 2.0888 - val_loss: 5.7855 - val_mse: 5.7855 - val_mae: 1.8525\n",
            "Epoch 104/200\n",
            "8/8 [==============================] - 0s 7ms/step - loss: 8.1680 - mse: 8.1680 - mae: 2.0911 - val_loss: 5.8389 - val_mse: 5.8389 - val_mae: 1.8648\n",
            "Epoch 105/200\n",
            "8/8 [==============================] - 0s 7ms/step - loss: 8.1278 - mse: 8.1278 - mae: 2.0912 - val_loss: 5.8004 - val_mse: 5.8004 - val_mae: 1.8495\n",
            "Epoch 106/200\n",
            "8/8 [==============================] - 0s 5ms/step - loss: 8.0956 - mse: 8.0956 - mae: 2.0812 - val_loss: 5.7032 - val_mse: 5.7032 - val_mae: 1.8290\n",
            "Epoch 107/200\n",
            "8/8 [==============================] - 0s 5ms/step - loss: 8.1133 - mse: 8.1133 - mae: 2.0816 - val_loss: 5.7486 - val_mse: 5.7486 - val_mae: 1.8301\n",
            "Epoch 108/200\n",
            "8/8 [==============================] - 0s 8ms/step - loss: 8.0198 - mse: 8.0198 - mae: 2.0665 - val_loss: 5.8315 - val_mse: 5.8315 - val_mae: 1.8348\n",
            "Epoch 109/200\n",
            "8/8 [==============================] - 0s 7ms/step - loss: 8.0323 - mse: 8.0323 - mae: 2.0790 - val_loss: 5.8456 - val_mse: 5.8456 - val_mae: 1.8435\n",
            "Epoch 110/200\n",
            "8/8 [==============================] - 0s 6ms/step - loss: 8.0128 - mse: 8.0128 - mae: 2.0733 - val_loss: 5.7559 - val_mse: 5.7559 - val_mae: 1.8324\n",
            "Epoch 111/200\n",
            "8/8 [==============================] - 0s 7ms/step - loss: 7.9655 - mse: 7.9655 - mae: 2.0650 - val_loss: 5.7960 - val_mse: 5.7960 - val_mae: 1.8343\n",
            "Epoch 112/200\n",
            "8/8 [==============================] - 0s 6ms/step - loss: 7.9916 - mse: 7.9916 - mae: 2.0744 - val_loss: 5.8355 - val_mse: 5.8355 - val_mae: 1.8347\n",
            "Epoch 113/200\n",
            "8/8 [==============================] - 0s 5ms/step - loss: 7.9119 - mse: 7.9119 - mae: 2.0596 - val_loss: 5.7218 - val_mse: 5.7218 - val_mae: 1.8092\n",
            "Epoch 114/200\n",
            "8/8 [==============================] - 0s 7ms/step - loss: 7.9395 - mse: 7.9395 - mae: 2.0559 - val_loss: 5.6871 - val_mse: 5.6871 - val_mae: 1.8046\n",
            "Epoch 115/200\n",
            "8/8 [==============================] - 0s 6ms/step - loss: 7.8459 - mse: 7.8459 - mae: 2.0525 - val_loss: 5.8098 - val_mse: 5.8098 - val_mae: 1.8223\n",
            "Epoch 116/200\n",
            "8/8 [==============================] - 0s 5ms/step - loss: 7.8621 - mse: 7.8621 - mae: 2.0627 - val_loss: 5.8035 - val_mse: 5.8035 - val_mae: 1.8176\n",
            "Epoch 117/200\n",
            "8/8 [==============================] - 0s 6ms/step - loss: 7.8204 - mse: 7.8204 - mae: 2.0494 - val_loss: 5.7248 - val_mse: 5.7248 - val_mae: 1.8000\n",
            "Epoch 118/200\n",
            "8/8 [==============================] - 0s 5ms/step - loss: 7.8093 - mse: 7.8093 - mae: 2.0486 - val_loss: 5.7724 - val_mse: 5.7724 - val_mae: 1.8127\n",
            "Epoch 119/200\n",
            "8/8 [==============================] - 0s 5ms/step - loss: 7.7537 - mse: 7.7537 - mae: 2.0413 - val_loss: 5.7078 - val_mse: 5.7078 - val_mae: 1.7950\n",
            "Epoch 120/200\n",
            "8/8 [==============================] - 0s 6ms/step - loss: 7.7068 - mse: 7.7068 - mae: 2.0308 - val_loss: 5.6842 - val_mse: 5.6842 - val_mae: 1.7914\n",
            "Epoch 121/200\n",
            "8/8 [==============================] - 0s 6ms/step - loss: 7.6740 - mse: 7.6740 - mae: 2.0264 - val_loss: 5.6541 - val_mse: 5.6541 - val_mae: 1.7878\n",
            "Epoch 122/200\n",
            "8/8 [==============================] - 0s 7ms/step - loss: 7.6905 - mse: 7.6905 - mae: 2.0225 - val_loss: 5.6139 - val_mse: 5.6139 - val_mae: 1.7673\n",
            "Epoch 123/200\n",
            "8/8 [==============================] - 0s 6ms/step - loss: 7.6875 - mse: 7.6875 - mae: 2.0320 - val_loss: 5.9081 - val_mse: 5.9081 - val_mae: 1.8299\n",
            "Epoch 124/200\n",
            "8/8 [==============================] - 0s 6ms/step - loss: 7.6396 - mse: 7.6396 - mae: 2.0306 - val_loss: 5.6473 - val_mse: 5.6473 - val_mae: 1.7902\n",
            "Epoch 125/200\n",
            "8/8 [==============================] - 0s 6ms/step - loss: 7.6119 - mse: 7.6119 - mae: 2.0170 - val_loss: 5.5895 - val_mse: 5.5895 - val_mae: 1.7854\n",
            "Epoch 126/200\n",
            "8/8 [==============================] - 0s 6ms/step - loss: 7.6300 - mse: 7.6300 - mae: 2.0236 - val_loss: 5.7204 - val_mse: 5.7204 - val_mae: 1.7927\n",
            "Epoch 127/200\n",
            "8/8 [==============================] - 0s 7ms/step - loss: 7.5820 - mse: 7.5820 - mae: 2.0153 - val_loss: 5.5979 - val_mse: 5.5979 - val_mae: 1.7643\n",
            "Epoch 128/200\n",
            "8/8 [==============================] - 0s 7ms/step - loss: 7.5746 - mse: 7.5746 - mae: 2.0123 - val_loss: 5.6194 - val_mse: 5.6194 - val_mae: 1.7782\n",
            "Epoch 129/200\n",
            "8/8 [==============================] - 0s 6ms/step - loss: 7.5944 - mse: 7.5944 - mae: 2.0083 - val_loss: 5.5376 - val_mse: 5.5376 - val_mae: 1.7544\n",
            "Epoch 130/200\n",
            "8/8 [==============================] - 0s 6ms/step - loss: 7.5581 - mse: 7.5581 - mae: 2.0091 - val_loss: 5.7189 - val_mse: 5.7189 - val_mae: 1.7771\n",
            "Epoch 131/200\n",
            "8/8 [==============================] - 0s 5ms/step - loss: 7.5133 - mse: 7.5133 - mae: 2.0057 - val_loss: 5.6646 - val_mse: 5.6646 - val_mae: 1.7890\n",
            "Epoch 132/200\n",
            "8/8 [==============================] - 0s 8ms/step - loss: 7.4939 - mse: 7.4939 - mae: 2.0024 - val_loss: 5.6466 - val_mse: 5.6466 - val_mae: 1.7917\n",
            "Epoch 133/200\n",
            "8/8 [==============================] - 0s 6ms/step - loss: 7.4746 - mse: 7.4746 - mae: 1.9985 - val_loss: 5.6439 - val_mse: 5.6439 - val_mae: 1.7862\n",
            "Epoch 134/200\n",
            "8/8 [==============================] - 0s 7ms/step - loss: 7.4681 - mse: 7.4681 - mae: 1.9991 - val_loss: 5.6242 - val_mse: 5.6242 - val_mae: 1.7770\n",
            "Epoch 135/200\n",
            "8/8 [==============================] - 0s 5ms/step - loss: 7.4693 - mse: 7.4693 - mae: 1.9990 - val_loss: 5.6134 - val_mse: 5.6134 - val_mae: 1.7742\n",
            "Epoch 136/200\n",
            "8/8 [==============================] - 0s 5ms/step - loss: 7.5190 - mse: 7.5190 - mae: 2.0005 - val_loss: 5.5234 - val_mse: 5.5234 - val_mae: 1.7660\n",
            "Epoch 137/200\n",
            "8/8 [==============================] - 0s 6ms/step - loss: 7.6178 - mse: 7.6178 - mae: 2.0307 - val_loss: 5.8178 - val_mse: 5.8178 - val_mae: 1.8208\n",
            "Epoch 138/200\n",
            "8/8 [==============================] - 0s 5ms/step - loss: 7.4356 - mse: 7.4356 - mae: 1.9903 - val_loss: 5.5308 - val_mse: 5.5308 - val_mae: 1.7585\n",
            "Epoch 139/200\n",
            "8/8 [==============================] - 0s 6ms/step - loss: 7.4950 - mse: 7.4950 - mae: 1.9945 - val_loss: 5.5566 - val_mse: 5.5566 - val_mae: 1.7475\n",
            "Epoch 140/200\n",
            "8/8 [==============================] - 0s 6ms/step - loss: 7.5458 - mse: 7.5458 - mae: 2.0094 - val_loss: 5.8547 - val_mse: 5.8547 - val_mae: 1.8315\n",
            "Epoch 141/200\n",
            "8/8 [==============================] - 0s 6ms/step - loss: 7.5204 - mse: 7.5204 - mae: 2.0033 - val_loss: 5.5321 - val_mse: 5.5321 - val_mae: 1.7743\n",
            "Epoch 142/200\n",
            "8/8 [==============================] - 0s 7ms/step - loss: 7.3889 - mse: 7.3889 - mae: 1.9788 - val_loss: 5.6473 - val_mse: 5.6473 - val_mae: 1.7800\n",
            "Epoch 143/200\n",
            "8/8 [==============================] - 0s 5ms/step - loss: 7.3786 - mse: 7.3786 - mae: 1.9952 - val_loss: 5.7527 - val_mse: 5.7527 - val_mae: 1.8049\n",
            "Epoch 144/200\n",
            "8/8 [==============================] - 0s 6ms/step - loss: 7.3789 - mse: 7.3789 - mae: 1.9861 - val_loss: 5.5319 - val_mse: 5.5319 - val_mae: 1.7570\n",
            "Epoch 145/200\n",
            "8/8 [==============================] - 0s 5ms/step - loss: 7.3775 - mse: 7.3775 - mae: 1.9859 - val_loss: 5.6112 - val_mse: 5.6112 - val_mae: 1.7833\n",
            "Epoch 146/200\n",
            "8/8 [==============================] - 0s 6ms/step - loss: 7.3339 - mse: 7.3339 - mae: 1.9835 - val_loss: 5.6092 - val_mse: 5.6092 - val_mae: 1.7831\n",
            "Epoch 147/200\n",
            "8/8 [==============================] - 0s 6ms/step - loss: 7.3180 - mse: 7.3180 - mae: 1.9768 - val_loss: 5.5846 - val_mse: 5.5846 - val_mae: 1.7802\n",
            "Epoch 148/200\n",
            "8/8 [==============================] - 0s 5ms/step - loss: 7.3809 - mse: 7.3809 - mae: 1.9879 - val_loss: 5.5718 - val_mse: 5.5718 - val_mae: 1.7688\n",
            "Epoch 149/200\n",
            "8/8 [==============================] - 0s 6ms/step - loss: 7.3414 - mse: 7.3414 - mae: 1.9777 - val_loss: 5.5389 - val_mse: 5.5389 - val_mae: 1.7560\n",
            "Epoch 150/200\n",
            "8/8 [==============================] - 0s 5ms/step - loss: 7.4136 - mse: 7.4136 - mae: 1.9911 - val_loss: 5.7073 - val_mse: 5.7073 - val_mae: 1.8025\n",
            "Epoch 151/200\n",
            "8/8 [==============================] - 0s 6ms/step - loss: 7.2756 - mse: 7.2756 - mae: 1.9711 - val_loss: 5.5294 - val_mse: 5.5294 - val_mae: 1.7547\n",
            "Epoch 152/200\n",
            "8/8 [==============================] - 0s 6ms/step - loss: 7.2887 - mse: 7.2887 - mae: 1.9663 - val_loss: 5.5488 - val_mse: 5.5488 - val_mae: 1.7602\n",
            "Epoch 153/200\n",
            "8/8 [==============================] - 0s 6ms/step - loss: 7.3324 - mse: 7.3324 - mae: 1.9826 - val_loss: 5.6597 - val_mse: 5.6597 - val_mae: 1.7956\n",
            "Epoch 154/200\n",
            "8/8 [==============================] - 0s 6ms/step - loss: 7.2722 - mse: 7.2722 - mae: 1.9738 - val_loss: 5.5708 - val_mse: 5.5708 - val_mae: 1.7670\n",
            "Epoch 155/200\n",
            "8/8 [==============================] - 0s 8ms/step - loss: 7.3331 - mse: 7.3331 - mae: 1.9761 - val_loss: 5.4989 - val_mse: 5.4989 - val_mae: 1.7551\n",
            "Epoch 156/200\n",
            "8/8 [==============================] - 0s 6ms/step - loss: 7.3339 - mse: 7.3339 - mae: 1.9785 - val_loss: 5.7884 - val_mse: 5.7884 - val_mae: 1.8165\n",
            "Epoch 157/200\n",
            "8/8 [==============================] - 0s 5ms/step - loss: 7.2939 - mse: 7.2939 - mae: 1.9735 - val_loss: 5.5439 - val_mse: 5.5439 - val_mae: 1.7662\n",
            "Epoch 158/200\n",
            "8/8 [==============================] - 0s 6ms/step - loss: 7.2986 - mse: 7.2986 - mae: 1.9774 - val_loss: 5.7098 - val_mse: 5.7098 - val_mae: 1.7993\n",
            "Epoch 159/200\n",
            "8/8 [==============================] - 0s 6ms/step - loss: 7.2375 - mse: 7.2375 - mae: 1.9723 - val_loss: 5.5501 - val_mse: 5.5501 - val_mae: 1.7695\n",
            "Epoch 160/200\n",
            "8/8 [==============================] - 0s 6ms/step - loss: 7.2589 - mse: 7.2589 - mae: 1.9640 - val_loss: 5.5722 - val_mse: 5.5722 - val_mae: 1.7708\n",
            "Epoch 161/200\n",
            "8/8 [==============================] - 0s 6ms/step - loss: 7.2277 - mse: 7.2277 - mae: 1.9683 - val_loss: 5.7229 - val_mse: 5.7229 - val_mae: 1.8086\n",
            "Epoch 162/200\n",
            "8/8 [==============================] - 0s 5ms/step - loss: 7.2674 - mse: 7.2674 - mae: 1.9771 - val_loss: 5.6367 - val_mse: 5.6367 - val_mae: 1.7975\n",
            "Epoch 163/200\n",
            "8/8 [==============================] - 0s 6ms/step - loss: 7.2717 - mse: 7.2717 - mae: 1.9708 - val_loss: 5.4614 - val_mse: 5.4614 - val_mae: 1.7482\n",
            "Epoch 164/200\n",
            "8/8 [==============================] - 0s 6ms/step - loss: 7.2378 - mse: 7.2378 - mae: 1.9688 - val_loss: 5.6188 - val_mse: 5.6188 - val_mae: 1.7709\n",
            "Epoch 165/200\n",
            "8/8 [==============================] - 0s 5ms/step - loss: 7.2148 - mse: 7.2148 - mae: 1.9627 - val_loss: 5.5939 - val_mse: 5.5939 - val_mae: 1.7739\n",
            "Epoch 166/200\n",
            "8/8 [==============================] - 0s 6ms/step - loss: 7.1938 - mse: 7.1938 - mae: 1.9582 - val_loss: 5.6165 - val_mse: 5.6165 - val_mae: 1.7900\n",
            "Epoch 167/200\n",
            "8/8 [==============================] - 0s 7ms/step - loss: 7.1971 - mse: 7.1971 - mae: 1.9627 - val_loss: 5.6211 - val_mse: 5.6211 - val_mae: 1.7926\n",
            "Epoch 168/200\n",
            "8/8 [==============================] - 0s 6ms/step - loss: 7.2214 - mse: 7.2214 - mae: 1.9649 - val_loss: 5.5567 - val_mse: 5.5567 - val_mae: 1.7747\n",
            "Epoch 169/200\n",
            "8/8 [==============================] - 0s 6ms/step - loss: 7.1692 - mse: 7.1692 - mae: 1.9557 - val_loss: 5.5343 - val_mse: 5.5343 - val_mae: 1.7615\n",
            "Epoch 170/200\n",
            "8/8 [==============================] - 0s 7ms/step - loss: 7.2195 - mse: 7.2195 - mae: 1.9649 - val_loss: 5.6996 - val_mse: 5.6996 - val_mae: 1.8018\n",
            "Epoch 171/200\n",
            "8/8 [==============================] - 0s 6ms/step - loss: 7.1488 - mse: 7.1488 - mae: 1.9523 - val_loss: 5.5252 - val_mse: 5.5252 - val_mae: 1.7705\n",
            "Epoch 172/200\n",
            "8/8 [==============================] - 0s 5ms/step - loss: 7.2062 - mse: 7.2062 - mae: 1.9545 - val_loss: 5.5603 - val_mse: 5.5603 - val_mae: 1.7680\n",
            "Epoch 173/200\n",
            "8/8 [==============================] - 0s 5ms/step - loss: 7.1469 - mse: 7.1469 - mae: 1.9531 - val_loss: 5.6245 - val_mse: 5.6245 - val_mae: 1.7872\n",
            "Epoch 174/200\n",
            "8/8 [==============================] - 0s 5ms/step - loss: 7.1791 - mse: 7.1791 - mae: 1.9564 - val_loss: 5.5383 - val_mse: 5.5383 - val_mae: 1.7670\n",
            "Epoch 175/200\n",
            "8/8 [==============================] - 0s 6ms/step - loss: 7.1199 - mse: 7.1199 - mae: 1.9505 - val_loss: 5.6100 - val_mse: 5.6100 - val_mae: 1.7959\n",
            "Epoch 176/200\n",
            "8/8 [==============================] - 0s 6ms/step - loss: 7.1880 - mse: 7.1880 - mae: 1.9596 - val_loss: 5.6118 - val_mse: 5.6118 - val_mae: 1.7954\n",
            "Epoch 177/200\n",
            "8/8 [==============================] - 0s 6ms/step - loss: 7.1975 - mse: 7.1975 - mae: 1.9636 - val_loss: 5.5050 - val_mse: 5.5050 - val_mae: 1.7639\n",
            "Epoch 178/200\n",
            "8/8 [==============================] - 0s 6ms/step - loss: 7.1638 - mse: 7.1638 - mae: 1.9525 - val_loss: 5.6446 - val_mse: 5.6446 - val_mae: 1.7995\n",
            "Epoch 179/200\n",
            "8/8 [==============================] - 0s 6ms/step - loss: 7.1731 - mse: 7.1731 - mae: 1.9490 - val_loss: 5.4652 - val_mse: 5.4652 - val_mae: 1.7527\n",
            "Epoch 180/200\n",
            "8/8 [==============================] - 0s 7ms/step - loss: 7.1269 - mse: 7.1269 - mae: 1.9538 - val_loss: 5.7012 - val_mse: 5.7012 - val_mae: 1.8076\n",
            "Epoch 181/200\n",
            "8/8 [==============================] - 0s 8ms/step - loss: 7.1267 - mse: 7.1267 - mae: 1.9556 - val_loss: 5.5429 - val_mse: 5.5429 - val_mae: 1.7712\n",
            "Epoch 182/200\n",
            "8/8 [==============================] - 0s 7ms/step - loss: 7.1010 - mse: 7.1010 - mae: 1.9543 - val_loss: 5.5817 - val_mse: 5.5817 - val_mae: 1.7863\n",
            "Epoch 183/200\n",
            "8/8 [==============================] - 0s 6ms/step - loss: 7.1025 - mse: 7.1025 - mae: 1.9547 - val_loss: 5.5603 - val_mse: 5.5603 - val_mae: 1.7962\n",
            "Epoch 184/200\n",
            "8/8 [==============================] - 0s 6ms/step - loss: 7.1018 - mse: 7.1018 - mae: 1.9518 - val_loss: 5.6639 - val_mse: 5.6639 - val_mae: 1.7998\n",
            "Epoch 185/200\n",
            "8/8 [==============================] - 0s 6ms/step - loss: 7.0879 - mse: 7.0879 - mae: 1.9437 - val_loss: 5.5163 - val_mse: 5.5163 - val_mae: 1.7642\n",
            "Epoch 186/200\n",
            "8/8 [==============================] - 0s 6ms/step - loss: 7.1195 - mse: 7.1195 - mae: 1.9435 - val_loss: 5.5622 - val_mse: 5.5622 - val_mae: 1.7704\n",
            "Epoch 187/200\n",
            "8/8 [==============================] - 0s 7ms/step - loss: 7.1714 - mse: 7.1714 - mae: 1.9676 - val_loss: 5.7426 - val_mse: 5.7426 - val_mae: 1.8245\n",
            "Epoch 188/200\n",
            "8/8 [==============================] - 0s 7ms/step - loss: 7.0751 - mse: 7.0751 - mae: 1.9640 - val_loss: 5.4989 - val_mse: 5.4989 - val_mae: 1.7947\n",
            "Epoch 189/200\n",
            "8/8 [==============================] - 0s 6ms/step - loss: 7.1287 - mse: 7.1287 - mae: 1.9488 - val_loss: 5.6474 - val_mse: 5.6474 - val_mae: 1.8052\n",
            "Epoch 190/200\n",
            "8/8 [==============================] - 0s 6ms/step - loss: 7.1561 - mse: 7.1561 - mae: 1.9498 - val_loss: 5.4995 - val_mse: 5.4995 - val_mae: 1.7612\n",
            "Epoch 191/200\n",
            "8/8 [==============================] - 0s 6ms/step - loss: 7.0603 - mse: 7.0603 - mae: 1.9381 - val_loss: 5.6083 - val_mse: 5.6083 - val_mae: 1.7887\n",
            "Epoch 192/200\n",
            "8/8 [==============================] - 0s 5ms/step - loss: 7.0585 - mse: 7.0585 - mae: 1.9407 - val_loss: 5.6425 - val_mse: 5.6425 - val_mae: 1.8059\n",
            "Epoch 193/200\n",
            "8/8 [==============================] - 0s 6ms/step - loss: 7.0762 - mse: 7.0762 - mae: 1.9480 - val_loss: 5.6195 - val_mse: 5.6195 - val_mae: 1.8090\n",
            "Epoch 194/200\n",
            "8/8 [==============================] - 0s 7ms/step - loss: 7.0832 - mse: 7.0832 - mae: 1.9475 - val_loss: 5.5385 - val_mse: 5.5385 - val_mae: 1.7736\n",
            "Epoch 195/200\n",
            "8/8 [==============================] - 0s 6ms/step - loss: 7.0698 - mse: 7.0698 - mae: 1.9446 - val_loss: 5.6635 - val_mse: 5.6635 - val_mae: 1.8121\n",
            "Epoch 196/200\n",
            "8/8 [==============================] - 0s 6ms/step - loss: 7.0458 - mse: 7.0458 - mae: 1.9455 - val_loss: 5.5018 - val_mse: 5.5018 - val_mae: 1.7802\n",
            "Epoch 197/200\n",
            "8/8 [==============================] - 0s 6ms/step - loss: 7.0580 - mse: 7.0580 - mae: 1.9399 - val_loss: 5.4724 - val_mse: 5.4724 - val_mae: 1.7620\n",
            "Epoch 198/200\n",
            "8/8 [==============================] - 0s 6ms/step - loss: 7.1966 - mse: 7.1966 - mae: 1.9640 - val_loss: 5.5147 - val_mse: 5.5147 - val_mae: 1.7734\n",
            "Epoch 199/200\n",
            "8/8 [==============================] - 0s 9ms/step - loss: 7.0491 - mse: 7.0491 - mae: 1.9385 - val_loss: 5.4478 - val_mse: 5.4478 - val_mae: 1.7691\n",
            "Epoch 200/200\n",
            "8/8 [==============================] - 0s 6ms/step - loss: 7.0913 - mse: 7.0913 - mae: 1.9428 - val_loss: 5.6312 - val_mse: 5.6312 - val_mae: 1.8016\n"
          ]
        }
      ]
    },
    {
      "cell_type": "code",
      "source": [
        "######## validation ########\n",
        "# 밸리데이션이란, 에포크가 한번 끝날때 마다, 학습에 사용하지 않은 데이터로\n",
        "# 시험을 보는 것을 말한다. \n",
        "\n",
        "# 테스트란, 인공지능이 완전이 학습이 다 끝난 상태에서 평가하는것을 테스트라고 하고,\n",
        "# 밸리데이션은, 학습 중에, 에포크 끝날때 마다 평가하는 것을 말한다."
      ],
      "metadata": {
        "id": "TA7LUcuyUYGK"
      },
      "execution_count": null,
      "outputs": []
    },
    {
      "cell_type": "code",
      "source": [
        "plt.plot(epoch_history.history['loss'])\n",
        "plt.show()"
      ],
      "metadata": {
        "colab": {
          "base_uri": "https://localhost:8080/",
          "height": 267
        },
        "id": "rZpXh03aRCsq",
        "outputId": "d55786fe-bf80-4670-b5c1-a2d74f99f26b"
      },
      "execution_count": 40,
      "outputs": [
        {
          "output_type": "display_data",
          "data": {
            "text/plain": [
              "<Figure size 432x288 with 1 Axes>"
            ],
            "image/png": "[encoded data removed]"
          },
          "metadata": {
            "needs_background": "light"
          }
        }
      ]
    },
    {
      "cell_type": "code",
      "source": [],
      "metadata": {
        "id": "6TiB5WSMRCki"
      },
      "execution_count": null,
      "outputs": []
    },
    {
      "cell_type": "code",
      "metadata": {
        "id": "Ed1PScklVvKg"
      },
      "source": [
        "## epoch_history 객체에 저장된 통계치를 사용해 모델의 훈련 과정을 시각화!"
      ],
      "execution_count": null,
      "outputs": []
    },
    {
      "cell_type": "code",
      "metadata": {
        "id": "XVZna3oNcLzn"
      },
      "source": [
        "import matplotlib.pyplot as plt\n",
        "def plot_history(history) :\n",
        "  hist = pd.DataFrame(history.history)\n",
        "  hist['epoch'] = history.epoch\n",
        "\n",
        "  plt.figure(figsize = (8, 12))\n",
        "\n",
        "  plt.subplot(2, 1, 1)\n",
        "  plt.xlabel('Eopoch')\n",
        "  plt.ylabel('Mean Abs Error [MPG]')\n",
        "  plt.plot(hist['epoch'], hist['mae'], label = 'Train Error')\n",
        "  plt.plot(hist['epoch'], hist['val_mae'], label = 'Val Error')\n",
        "  plt.ylim([0,5])\n",
        "  plt.legend()\n",
        "\n",
        "  plt.subplot(2, 1, 2)\n",
        "  plt.xlabel('Eopoch')\n",
        "  plt.ylabel('Mean Squared Error [MPG]')\n",
        "  plt.plot(hist['epoch'], hist['mse'], label = 'Train Error')\n",
        "  plt.plot(hist['epoch'], hist['val_mse'], label = 'Val Error')\n",
        "  plt.ylim([0,20])\n",
        "  plt.legend()\n",
        "\n",
        "  plt.show()"
      ],
      "execution_count": 43,
      "outputs": []
    },
    {
      "cell_type": "code",
      "metadata": {
        "id": "bOpXkOj0cLu_",
        "colab": {
          "base_uri": "https://localhost:8080/",
          "height": 718
        },
        "outputId": "1f7dc9bf-0f72-46b6-a8c4-7f6875651051"
      },
      "source": [
        "plot_history(epoch_history)"
      ],
      "execution_count": 46,
      "outputs": [
        {
          "output_type": "display_data",
          "data": {
            "text/plain": [
              "<Figure size 576x864 with 2 Axes>"
            ],
            "image/png": "[encoded data removed]"
          },
          "metadata": {
            "needs_background": "light"
          }
        }
      ]
    },
    {
      "cell_type": "code",
      "metadata": {
        "id": "G8mBgspbcLrY"
      },
      "source": [],
      "execution_count": null,
      "outputs": []
    },
    {
      "cell_type": "code",
      "metadata": {
        "id": "RhSRcQZ6VvEG"
      },
      "source": [],
      "execution_count": null,
      "outputs": []
    },
    {
      "cell_type": "markdown",
      "metadata": {
        "id": "wSp0L11saPAv"
      },
      "source": [
        "이 그래프를 보면 수 백번 에포크를 진행한 이후에는 모델이 거의 향상되지 않는 것 같습니다. model.fit 메서드를 수정하여 검증 점수가 향상되지 않으면 자동으로 훈련을 멈추도록 만들어 보죠. 에포크마다 훈련 상태를 점검하기 위해 EarlyStopping 콜백(callback)을 사용하겠습니다. 지정된 에포크 횟수 동안 성능 향상이 없으면 자동으로 훈련이 멈춥니다.\n",
        "\n",
        "이 콜백에 대해 더 자세한 내용은 여기를 참고하세요.[링크 텍스트](https://www.tensorflow.org/api_docs/python/tf/keras/callbacks/EarlyStopping)"
      ]
    },
    {
      "cell_type": "code",
      "metadata": {
        "id": "FQKHNKRkVu0G"
      },
      "source": [],
      "execution_count": null,
      "outputs": []
    },
    {
      "cell_type": "code",
      "metadata": {
        "id": "-Iuc9sEfVuw4"
      },
      "source": [],
      "execution_count": null,
      "outputs": []
    },
    {
      "cell_type": "code",
      "metadata": {
        "id": "MbHt_eP6Vut4"
      },
      "source": [],
      "execution_count": null,
      "outputs": []
    },
    {
      "cell_type": "code",
      "metadata": {
        "id": "wbzDASkqVuq3"
      },
      "source": [],
      "execution_count": null,
      "outputs": []
    },
    {
      "cell_type": "code",
      "metadata": {
        "id": "Hm3d4rOiVun2"
      },
      "source": [],
      "execution_count": null,
      "outputs": []
    },
    {
      "cell_type": "code",
      "metadata": {
        "id": "YfIQ6qlcVukv"
      },
      "source": [],
      "execution_count": null,
      "outputs": []
    },
    {
      "cell_type": "code",
      "metadata": {
        "id": "heTZlv6_Vuh2"
      },
      "source": [],
      "execution_count": null,
      "outputs": []
    },
    {
      "cell_type": "code",
      "metadata": {
        "id": "aws_3CpwVkav"
      },
      "source": [],
      "execution_count": null,
      "outputs": []
    },
    {
      "cell_type": "code",
      "metadata": {
        "id": "U87cAx8bVkXn"
      },
      "source": [],
      "execution_count": null,
      "outputs": []
    },
    {
      "cell_type": "code",
      "metadata": {
        "id": "xs2B_2I1VkUu"
      },
      "source": [],
      "execution_count": null,
      "outputs": []
    },
    {
      "cell_type": "code",
      "metadata": {
        "id": "SUVsFDOqVkRv"
      },
      "source": [],
      "execution_count": null,
      "outputs": []
    },
    {
      "cell_type": "code",
      "metadata": {
        "id": "l__XYQXyVkO2"
      },
      "source": [],
      "execution_count": null,
      "outputs": []
    },
    {
      "cell_type": "code",
      "metadata": {
        "id": "xyTOI9D9CHJS"
      },
      "source": [],
      "execution_count": null,
      "outputs": []
    },
    {
      "cell_type": "code",
      "metadata": {
        "id": "zQk4QslICHGT"
      },
      "source": [],
      "execution_count": null,
      "outputs": []
    }
  ]
}