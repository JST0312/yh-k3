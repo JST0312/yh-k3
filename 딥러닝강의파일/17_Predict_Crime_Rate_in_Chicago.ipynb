{
  "nbformat": 4,
  "nbformat_minor": 0,
  "metadata": {
    "kernelspec": {
      "display_name": "Python 3",
      "language": "python",
      "name": "python3"
    },
    "language_info": {
      "codemirror_mode": {
        "name": "ipython",
        "version": 3
      },
      "file_extension": ".py",
      "mimetype": "text/x-python",
      "name": "python",
      "nbconvert_exporter": "python",
      "pygments_lexer": "ipython3",
      "version": "3.6.5"
    },
    "varInspector": {
      "cols": {
        "lenName": 16,
        "lenType": 16,
        "lenVar": 40
      },
      "kernels_config": {
        "python": {
          "delete_cmd_postfix": "",
          "delete_cmd_prefix": "del ",
          "library": "var_list.py",
          "varRefreshCmd": "print(var_dic_list())"
        },
        "r": {
          "delete_cmd_postfix": ") ",
          "delete_cmd_prefix": "rm(",
          "library": "var_list.r",
          "varRefreshCmd": "cat(var_dic_list()) "
        }
      },
      "types_to_exclude": [
        "module",
        "function",
        "builtin_function_or_method",
        "instance",
        "_Feature"
      ],
      "window_display": false
    },
    "colab": {
      "provenance": []
    }
  },
  "cells": [
    {
      "cell_type": "markdown",
      "metadata": {
        "id": "taRLY-HqzsZM"
      },
      "source": [
        "# 시카고 범죄율을 예측해 보자 ( Facebook 의 Prophet 라이브러리 활용 )\n",
        "\n",
        "\n",
        "\n"
      ]
    },
    {
      "cell_type": "markdown",
      "metadata": {
        "id": "YKFylnHmzsZT"
      },
      "source": [
        "# STEP #0: PROBLEM STATEMENT"
      ]
    },
    {
      "cell_type": "markdown",
      "metadata": {
        "id": "CFsFROEGzsZT"
      },
      "source": [
        "- The Chicago Crime dataset : 2001 ~ 2017. \n",
        "- Datasource: 캐글 https://www.kaggle.com/currie32/crimes-in-*chicago*\n",
        "- Dataset contains the following columns: \n",
        "    - ID: Unique identifier for the record.\n",
        "    - Case Number: The Chicago Police Department RD Number (Records Division Number), which is unique to the incident.\n",
        "    - Date: Date when the incident occurred.\n",
        "    - Block: address where the incident occurred\n",
        "    - IUCR: The Illinois Unifrom Crime Reporting code.\n",
        "    - Primary Type: The primary description of the IUCR code.\n",
        "    - Description: The secondary description of the IUCR code, a subcategory of the primary description.\n",
        "    - Location Description: Description of the location where the incident occurred.\n",
        "    - Arrest: Indicates whether an arrest was made.\n",
        "    - Domestic: Indicates whether the incident was domestic-related as defined by the Illinois Domestic Violence Act.\n",
        "    - Beat: Indicates the beat where the incident occurred. A beat is the smallest police geographic area – each beat has a dedicated police beat car. \n",
        "    - District: Indicates the police district where the incident occurred. \n",
        "    - Ward: The ward (City Council district) where the incident occurred. \n",
        "    - Community Area: Indicates the community area where the incident occurred. Chicago has 77 community areas. \n",
        "    - FBI Code: Indicates the crime classification as outlined in the FBI's National Incident-Based Reporting System (NIBRS). \n",
        "    - X Coordinate: The x coordinate of the location where the incident occurred in State Plane Illinois East NAD 1983 projection. \n",
        "    - Y Coordinate: The y coordinate of the location where the incident occurred in State Plane Illinois East NAD 1983 projection. \n",
        "    - Year: Year the incident occurred.\n",
        "    - Updated On: Date and time the record was last updated.\n",
        "    - Latitude: The latitude of the location where the incident occurred. This location is shifted from the actual location for partial redaction but falls on the same block.\n",
        "    - Longitude: The longitude of the location where the incident occurred. This location is shifted from the actual location for partial redaction but falls on the same block.\n",
        "    - Location: The location where the incident occurred in a format that allows for creation of maps and other geographic operations on this data portal. This location is shifted from the actual location for partial redaction but falls on the same block.\n"
      ]
    },
    {
      "cell_type": "markdown",
      "metadata": {
        "id": "GPJtcaFemF-v"
      },
      "source": [
        "### 페이스북에서 만든 오픈소스 Prophet 라이브러리\n",
        "\n",
        "- Seasonal time series data를 분석할 수 있는 딥러닝 라이브러리다. \n",
        "\n",
        "- 프로펫 공식 레이지 : https://research.fb.com/prophet-forecasting-at-scale/\n",
        "https://facebook.github.io/prophet/docs/quick_start.html#python-api\n"
      ]
    },
    {
      "cell_type": "markdown",
      "metadata": {
        "id": "sOhw7XmEzsZU"
      },
      "source": [
        "### 코랩에는 자동으로 prophet이 설치되어 있다. 따라서 다른 환경에서 설치 되어있지 않다면, 다음처럼 설치하면 된다.\n",
        "\n",
        "- pip install fbprophet\n",
        "     \n",
        "- 위의 pip 설치 시 에러가 나면 다음처럼 설치해 준다 : \n",
        "    conda install -c conda-forge fbprophet\n"
      ]
    },
    {
      "cell_type": "markdown",
      "metadata": {
        "id": "2KploHoczsZV"
      },
      "source": [
        "# STEP #1: IMPORTING DATA"
      ]
    },
    {
      "cell_type": "code",
      "metadata": {
        "id": "ZJOzq-DmzsZW"
      },
      "source": [
        "import pandas as pd \n",
        "import numpy as np \n",
        "import matplotlib.pyplot as plt\n",
        "import random\n",
        "import seaborn as sns\n",
        "from prophet import Prophet\n"
      ],
      "execution_count": 1,
      "outputs": []
    },
    {
      "cell_type": "code",
      "metadata": {
        "id": "AW8LqR9u8EiP",
        "colab": {
          "base_uri": "https://localhost:8080/"
        },
        "outputId": "5af2679f-30da-4301-9e9d-8301d957d275"
      },
      "source": [
        "from google.colab import drive\n",
        "drive.mount('/content/drive')"
      ],
      "execution_count": 2,
      "outputs": [
        {
          "output_type": "stream",
          "name": "stdout",
          "text": [
            "Mounted at /content/drive\n"
          ]
        }
      ]
    },
    {
      "cell_type": "code",
      "metadata": {
        "id": "xfG7oSyWRpUY"
      },
      "source": [
        "import os"
      ],
      "execution_count": 3,
      "outputs": []
    },
    {
      "cell_type": "code",
      "source": [
        "os.chdir('/content/drive/MyDrive/Colab Notebooks/ml_plus/data')"
      ],
      "metadata": {
        "id": "09Adb7dezszQ"
      },
      "execution_count": 4,
      "outputs": []
    },
    {
      "cell_type": "code",
      "metadata": {
        "id": "ODdm8fDqzsZW"
      },
      "source": [
        "# Chicago_Crimes_2005_to_2007.csv \n",
        "# Chicago_Crimes_2008_to_2011.csv\n",
        "# Chicago_Crimes_2012_to_2017.csv 파일을 읽되, \n",
        "# 각각 파라미터 error_bad_lines=False 추가 해준다.\n"
      ],
      "execution_count": null,
      "outputs": []
    },
    {
      "cell_type": "code",
      "metadata": {
        "id": "ByG3xPBi9nOn",
        "colab": {
          "base_uri": "https://localhost:8080/"
        },
        "outputId": "47e8ca65-f11b-490d-84e3-96aa416cefdc"
      },
      "source": [
        "chicago_df_1 =  pd.read_csv('Chicago_Crimes_2005_to_2007.csv', \n",
        "                            error_bad_lines=False, \n",
        "                            index_col = 0)"
      ],
      "execution_count": 9,
      "outputs": [
        {
          "output_type": "stream",
          "name": "stderr",
          "text": [
            "/usr/local/lib/python3.8/dist-packages/IPython/core/interactiveshell.py:3326: FutureWarning: The error_bad_lines argument has been deprecated and will be removed in a future version.\n",
            "\n",
            "\n",
            "  exec(code_obj, self.user_global_ns, self.user_ns)\n",
            "b'Skipping line 533719: expected 23 fields, saw 24\\n'\n"
          ]
        }
      ]
    },
    {
      "cell_type": "code",
      "source": [
        "chicago_df_2 =  pd.read_csv('Chicago_Crimes_2008_to_2011.csv', \n",
        "                            error_bad_lines=False, \n",
        "                            index_col = 0)"
      ],
      "metadata": {
        "colab": {
          "base_uri": "https://localhost:8080/"
        },
        "id": "rVEqlkmt0aD_",
        "outputId": "37e7dbd1-946e-40fe-ab71-0258f7698557"
      },
      "execution_count": 10,
      "outputs": [
        {
          "output_type": "stream",
          "name": "stderr",
          "text": [
            "/usr/local/lib/python3.8/dist-packages/IPython/core/interactiveshell.py:3326: FutureWarning: The error_bad_lines argument has been deprecated and will be removed in a future version.\n",
            "\n",
            "\n",
            "  exec(code_obj, self.user_global_ns, self.user_ns)\n",
            "b'Skipping line 1149094: expected 23 fields, saw 41\\n'\n"
          ]
        }
      ]
    },
    {
      "cell_type": "code",
      "source": [
        "chicago_df_3 =  pd.read_csv('Chicago_Crimes_2012_to_2017.csv', \n",
        "                            error_bad_lines=False, \n",
        "                            index_col = 0)"
      ],
      "metadata": {
        "colab": {
          "base_uri": "https://localhost:8080/"
        },
        "id": "57lBPq9V08p-",
        "outputId": "c092f957-9b88-4afa-f236-7291db68d102"
      },
      "execution_count": 11,
      "outputs": [
        {
          "output_type": "stream",
          "name": "stderr",
          "text": [
            "/usr/local/lib/python3.8/dist-packages/IPython/core/interactiveshell.py:3326: FutureWarning: The error_bad_lines argument has been deprecated and will be removed in a future version.\n",
            "\n",
            "\n",
            "  exec(code_obj, self.user_global_ns, self.user_ns)\n"
          ]
        }
      ]
    },
    {
      "cell_type": "code",
      "metadata": {
        "id": "ufVseBtlsQzD"
      },
      "source": [
        "# 데이터 모양을 보고, 이상한 부분은 처리해 준다."
      ],
      "execution_count": null,
      "outputs": []
    },
    {
      "cell_type": "code",
      "metadata": {
        "id": "KJaYXcl5scpm"
      },
      "source": [],
      "execution_count": null,
      "outputs": []
    },
    {
      "cell_type": "code",
      "metadata": {
        "id": "UCPSkna6zsZX"
      },
      "source": [
        "# 위의 3개 데이터프레임을 하나로 합친다. \n",
        "\n",
        "chicago_df =  pd.concat( [chicago_df_1, chicago_df_2, chicago_df_3]  )\n"
      ],
      "execution_count": 12,
      "outputs": []
    },
    {
      "cell_type": "code",
      "source": [
        "chicago_df.head()"
      ],
      "metadata": {
        "colab": {
          "base_uri": "https://localhost:8080/",
          "height": 490
        },
        "id": "eMxc2mlx1nyP",
        "outputId": "5b8e87f6-25e3-4748-870d-155697f5f8b4"
      },
      "execution_count": 13,
      "outputs": [
        {
          "output_type": "execute_result",
          "data": {
            "text/plain": [
              "        ID Case Number                    Date                Block  IUCR  \\\n",
              "0  4673626    HM274058  04/02/2006 01:00:00 PM    055XX N MANGO AVE  2825   \n",
              "1  4673627    HM202199  02/26/2006 01:40:48 PM   065XX S RHODES AVE  2017   \n",
              "2  4673628    HM113861  01/08/2006 11:16:00 PM      013XX E 69TH ST  051A   \n",
              "4  4673629    HM274049  04/05/2006 06:45:00 PM  061XX W NEWPORT AVE  0460   \n",
              "5  4673630    HM187120  02/17/2006 09:03:14 PM      037XX W 60TH ST  1811   \n",
              "\n",
              "    Primary Type                   Description Location Description  Arrest  \\\n",
              "0  OTHER OFFENSE       HARASSMENT BY TELEPHONE            RESIDENCE   False   \n",
              "1      NARCOTICS            MANU/DELIVER:CRACK             SIDEWALK    True   \n",
              "2        ASSAULT           AGGRAVATED: HANDGUN                OTHER   False   \n",
              "4        BATTERY                        SIMPLE            RESIDENCE   False   \n",
              "5      NARCOTICS  POSS: CANNABIS 30GMS OR LESS                ALLEY    True   \n",
              "\n",
              "   Domestic  ...  Ward  Community Area  FBI Code  X Coordinate Y Coordinate  \\\n",
              "0     False  ...  45.0            11.0        26     1136872.0    1936499.0   \n",
              "1     False  ...  20.0            42.0        18     1181027.0    1861693.0   \n",
              "2     False  ...   5.0            69.0       04A     1186023.0    1859609.0   \n",
              "4     False  ...  38.0            17.0       08B     1134772.0    1922299.0   \n",
              "5     False  ...  13.0            65.0        18     1152412.0    1864560.0   \n",
              "\n",
              "   Year              Updated On   Latitude  Longitude  \\\n",
              "0  2006  04/15/2016 08:55:02 AM  41.981913 -87.771996   \n",
              "1  2006  04/15/2016 08:55:02 AM  41.775733 -87.611920   \n",
              "2  2006  04/15/2016 08:55:02 AM  41.769897 -87.593671   \n",
              "4  2006  04/15/2016 08:55:02 AM  41.942984 -87.780057   \n",
              "5  2006  04/15/2016 08:55:02 AM  41.784211 -87.716745   \n",
              "\n",
              "                        Location  \n",
              "0  (41.981912692, -87.771996382)  \n",
              "1  (41.775732538, -87.611919814)  \n",
              "2  (41.769897392, -87.593670899)  \n",
              "4  (41.942984005, -87.780056951)  \n",
              "5   (41.784210853, -87.71674491)  \n",
              "\n",
              "[5 rows x 22 columns]"
            ],
            "text/html": [
              "\n",
              "  <div id=\"df-02da9ef6-2586-4408-bf25-44e7628b79c7\">\n",
              "    <div class=\"colab-df-container\">\n",
              "      <div>\n",
              "<style scoped>\n",
              "    .dataframe tbody tr th:only-of-type {\n",
              "        vertical-align: middle;\n",
              "    }\n",
              "\n",
              "    .dataframe tbody tr th {\n",
              "        vertical-align: top;\n",
              "    }\n",
              "\n",
              "    .dataframe thead th {\n",
              "        text-align: right;\n",
              "    }\n",
              "</style>\n",
              "<table border=\"1\" class=\"dataframe\">\n",
              "  <thead>\n",
              "    <tr style=\"text-align: right;\">\n",
              "      <th></th>\n",
              "      <th>ID</th>\n",
              "      <th>Case Number</th>\n",
              "      <th>Date</th>\n",
              "      <th>Block</th>\n",
              "      <th>IUCR</th>\n",
              "      <th>Primary Type</th>\n",
              "      <th>Description</th>\n",
              "      <th>Location Description</th>\n",
              "      <th>Arrest</th>\n",
              "      <th>Domestic</th>\n",
              "      <th>...</th>\n",
              "      <th>Ward</th>\n",
              "      <th>Community Area</th>\n",
              "      <th>FBI Code</th>\n",
              "      <th>X Coordinate</th>\n",
              "      <th>Y Coordinate</th>\n",
              "      <th>Year</th>\n",
              "      <th>Updated On</th>\n",
              "      <th>Latitude</th>\n",
              "      <th>Longitude</th>\n",
              "      <th>Location</th>\n",
              "    </tr>\n",
              "  </thead>\n",
              "  <tbody>\n",
              "    <tr>\n",
              "      <th>0</th>\n",
              "      <td>4673626</td>\n",
              "      <td>HM274058</td>\n",
              "      <td>04/02/2006 01:00:00 PM</td>\n",
              "      <td>055XX N MANGO AVE</td>\n",
              "      <td>2825</td>\n",
              "      <td>OTHER OFFENSE</td>\n",
              "      <td>HARASSMENT BY TELEPHONE</td>\n",
              "      <td>RESIDENCE</td>\n",
              "      <td>False</td>\n",
              "      <td>False</td>\n",
              "      <td>...</td>\n",
              "      <td>45.0</td>\n",
              "      <td>11.0</td>\n",
              "      <td>26</td>\n",
              "      <td>1136872.0</td>\n",
              "      <td>1936499.0</td>\n",
              "      <td>2006</td>\n",
              "      <td>04/15/2016 08:55:02 AM</td>\n",
              "      <td>41.981913</td>\n",
              "      <td>-87.771996</td>\n",
              "      <td>(41.981912692, -87.771996382)</td>\n",
              "    </tr>\n",
              "    <tr>\n",
              "      <th>1</th>\n",
              "      <td>4673627</td>\n",
              "      <td>HM202199</td>\n",
              "      <td>02/26/2006 01:40:48 PM</td>\n",
              "      <td>065XX S RHODES AVE</td>\n",
              "      <td>2017</td>\n",
              "      <td>NARCOTICS</td>\n",
              "      <td>MANU/DELIVER:CRACK</td>\n",
              "      <td>SIDEWALK</td>\n",
              "      <td>True</td>\n",
              "      <td>False</td>\n",
              "      <td>...</td>\n",
              "      <td>20.0</td>\n",
              "      <td>42.0</td>\n",
              "      <td>18</td>\n",
              "      <td>1181027.0</td>\n",
              "      <td>1861693.0</td>\n",
              "      <td>2006</td>\n",
              "      <td>04/15/2016 08:55:02 AM</td>\n",
              "      <td>41.775733</td>\n",
              "      <td>-87.611920</td>\n",
              "      <td>(41.775732538, -87.611919814)</td>\n",
              "    </tr>\n",
              "    <tr>\n",
              "      <th>2</th>\n",
              "      <td>4673628</td>\n",
              "      <td>HM113861</td>\n",
              "      <td>01/08/2006 11:16:00 PM</td>\n",
              "      <td>013XX E 69TH ST</td>\n",
              "      <td>051A</td>\n",
              "      <td>ASSAULT</td>\n",
              "      <td>AGGRAVATED: HANDGUN</td>\n",
              "      <td>OTHER</td>\n",
              "      <td>False</td>\n",
              "      <td>False</td>\n",
              "      <td>...</td>\n",
              "      <td>5.0</td>\n",
              "      <td>69.0</td>\n",
              "      <td>04A</td>\n",
              "      <td>1186023.0</td>\n",
              "      <td>1859609.0</td>\n",
              "      <td>2006</td>\n",
              "      <td>04/15/2016 08:55:02 AM</td>\n",
              "      <td>41.769897</td>\n",
              "      <td>-87.593671</td>\n",
              "      <td>(41.769897392, -87.593670899)</td>\n",
              "    </tr>\n",
              "    <tr>\n",
              "      <th>4</th>\n",
              "      <td>4673629</td>\n",
              "      <td>HM274049</td>\n",
              "      <td>04/05/2006 06:45:00 PM</td>\n",
              "      <td>061XX W NEWPORT AVE</td>\n",
              "      <td>0460</td>\n",
              "      <td>BATTERY</td>\n",
              "      <td>SIMPLE</td>\n",
              "      <td>RESIDENCE</td>\n",
              "      <td>False</td>\n",
              "      <td>False</td>\n",
              "      <td>...</td>\n",
              "      <td>38.0</td>\n",
              "      <td>17.0</td>\n",
              "      <td>08B</td>\n",
              "      <td>1134772.0</td>\n",
              "      <td>1922299.0</td>\n",
              "      <td>2006</td>\n",
              "      <td>04/15/2016 08:55:02 AM</td>\n",
              "      <td>41.942984</td>\n",
              "      <td>-87.780057</td>\n",
              "      <td>(41.942984005, -87.780056951)</td>\n",
              "    </tr>\n",
              "    <tr>\n",
              "      <th>5</th>\n",
              "      <td>4673630</td>\n",
              "      <td>HM187120</td>\n",
              "      <td>02/17/2006 09:03:14 PM</td>\n",
              "      <td>037XX W 60TH ST</td>\n",
              "      <td>1811</td>\n",
              "      <td>NARCOTICS</td>\n",
              "      <td>POSS: CANNABIS 30GMS OR LESS</td>\n",
              "      <td>ALLEY</td>\n",
              "      <td>True</td>\n",
              "      <td>False</td>\n",
              "      <td>...</td>\n",
              "      <td>13.0</td>\n",
              "      <td>65.0</td>\n",
              "      <td>18</td>\n",
              "      <td>1152412.0</td>\n",
              "      <td>1864560.0</td>\n",
              "      <td>2006</td>\n",
              "      <td>04/15/2016 08:55:02 AM</td>\n",
              "      <td>41.784211</td>\n",
              "      <td>-87.716745</td>\n",
              "      <td>(41.784210853, -87.71674491)</td>\n",
              "    </tr>\n",
              "  </tbody>\n",
              "</table>\n",
              "<p>5 rows × 22 columns</p>\n",
              "</div>\n",
              "      <button class=\"colab-df-convert\" onclick=\"convertToInteractive('df-02da9ef6-2586-4408-bf25-44e7628b79c7')\"\n",
              "              title=\"Convert this dataframe to an interactive table.\"\n",
              "              style=\"display:none;\">\n",
              "        \n",
              "  <svg xmlns=\"http://www.w3.org/2000/svg\" height=\"24px\"viewBox=\"0 0 24 24\"\n",
              "       width=\"24px\">\n",
              "    <path d=\"M0 0h24v24H0V0z\" fill=\"none\"/>\n",
              "    <path d=\"M18.56 5.44l.94 2.06.94-2.06 2.06-.94-2.06-.94-.94-2.06-.94 2.06-2.06.94zm-11 1L8.5 8.5l.94-2.06 2.06-.94-2.06-.94L8.5 2.5l-.94 2.06-2.06.94zm10 10l.94 2.06.94-2.06 2.06-.94-2.06-.94-.94-2.06-.94 2.06-2.06.94z\"/><path d=\"M17.41 7.96l-1.37-1.37c-.4-.4-.92-.59-1.43-.59-.52 0-1.04.2-1.43.59L10.3 9.45l-7.72 7.72c-.78.78-.78 2.05 0 2.83L4 21.41c.39.39.9.59 1.41.59.51 0 1.02-.2 1.41-.59l7.78-7.78 2.81-2.81c.8-.78.8-2.07 0-2.86zM5.41 20L4 18.59l7.72-7.72 1.47 1.35L5.41 20z\"/>\n",
              "  </svg>\n",
              "      </button>\n",
              "      \n",
              "  <style>\n",
              "    .colab-df-container {\n",
              "      display:flex;\n",
              "      flex-wrap:wrap;\n",
              "      gap: 12px;\n",
              "    }\n",
              "\n",
              "    .colab-df-convert {\n",
              "      background-color: #E8F0FE;\n",
              "      border: none;\n",
              "      border-radius: 50%;\n",
              "      cursor: pointer;\n",
              "      display: none;\n",
              "      fill: #1967D2;\n",
              "      height: 32px;\n",
              "      padding: 0 0 0 0;\n",
              "      width: 32px;\n",
              "    }\n",
              "\n",
              "    .colab-df-convert:hover {\n",
              "      background-color: #E2EBFA;\n",
              "      box-shadow: 0px 1px 2px rgba(60, 64, 67, 0.3), 0px 1px 3px 1px rgba(60, 64, 67, 0.15);\n",
              "      fill: #174EA6;\n",
              "    }\n",
              "\n",
              "    [theme=dark] .colab-df-convert {\n",
              "      background-color: #3B4455;\n",
              "      fill: #D2E3FC;\n",
              "    }\n",
              "\n",
              "    [theme=dark] .colab-df-convert:hover {\n",
              "      background-color: #434B5C;\n",
              "      box-shadow: 0px 1px 3px 1px rgba(0, 0, 0, 0.15);\n",
              "      filter: drop-shadow(0px 1px 2px rgba(0, 0, 0, 0.3));\n",
              "      fill: #FFFFFF;\n",
              "    }\n",
              "  </style>\n",
              "\n",
              "      <script>\n",
              "        const buttonEl =\n",
              "          document.querySelector('#df-02da9ef6-2586-4408-bf25-44e7628b79c7 button.colab-df-convert');\n",
              "        buttonEl.style.display =\n",
              "          google.colab.kernel.accessAllowed ? 'block' : 'none';\n",
              "\n",
              "        async function convertToInteractive(key) {\n",
              "          const element = document.querySelector('#df-02da9ef6-2586-4408-bf25-44e7628b79c7');\n",
              "          const dataTable =\n",
              "            await google.colab.kernel.invokeFunction('convertToInteractive',\n",
              "                                                     [key], {});\n",
              "          if (!dataTable) return;\n",
              "\n",
              "          const docLinkHtml = 'Like what you see? Visit the ' +\n",
              "            '<a target=\"_blank\" href=https://colab.research.google.com/notebooks/data_table.ipynb>data table notebook</a>'\n",
              "            + ' to learn more about interactive tables.';\n",
              "          element.innerHTML = '';\n",
              "          dataTable['output_type'] = 'display_data';\n",
              "          await google.colab.output.renderOutput(dataTable, element);\n",
              "          const docLink = document.createElement('div');\n",
              "          docLink.innerHTML = docLinkHtml;\n",
              "          element.appendChild(docLink);\n",
              "        }\n",
              "      </script>\n",
              "    </div>\n",
              "  </div>\n",
              "  "
            ]
          },
          "metadata": {},
          "execution_count": 13
        }
      ]
    },
    {
      "cell_type": "code",
      "source": [
        "chicago_df.shape"
      ],
      "metadata": {
        "colab": {
          "base_uri": "https://localhost:8080/"
        },
        "id": "Txf_Ko_c10eh",
        "outputId": "78825722-90f7-46d8-d819-b8c6df7eb2dd"
      },
      "execution_count": 14,
      "outputs": [
        {
          "output_type": "execute_result",
          "data": {
            "text/plain": [
              "(6017767, 22)"
            ]
          },
          "metadata": {},
          "execution_count": 14
        }
      ]
    },
    {
      "cell_type": "markdown",
      "metadata": {
        "id": "RyoYZ9G5zsZY"
      },
      "source": [
        "# STEP #2: EXPLORING THE DATASET  "
      ]
    },
    {
      "cell_type": "code",
      "metadata": {
        "id": "SmMSaF-6zsZY",
        "colab": {
          "base_uri": "https://localhost:8080/",
          "height": 490
        },
        "outputId": "9f787df5-6519-4005-e015-ecf51701f7ef"
      },
      "source": [
        "# Let's view the head of the training dataset\n",
        "chicago_df.head()"
      ],
      "execution_count": 15,
      "outputs": [
        {
          "output_type": "execute_result",
          "data": {
            "text/plain": [
              "        ID Case Number                    Date                Block  IUCR  \\\n",
              "0  4673626    HM274058  04/02/2006 01:00:00 PM    055XX N MANGO AVE  2825   \n",
              "1  4673627    HM202199  02/26/2006 01:40:48 PM   065XX S RHODES AVE  2017   \n",
              "2  4673628    HM113861  01/08/2006 11:16:00 PM      013XX E 69TH ST  051A   \n",
              "4  4673629    HM274049  04/05/2006 06:45:00 PM  061XX W NEWPORT AVE  0460   \n",
              "5  4673630    HM187120  02/17/2006 09:03:14 PM      037XX W 60TH ST  1811   \n",
              "\n",
              "    Primary Type                   Description Location Description  Arrest  \\\n",
              "0  OTHER OFFENSE       HARASSMENT BY TELEPHONE            RESIDENCE   False   \n",
              "1      NARCOTICS            MANU/DELIVER:CRACK             SIDEWALK    True   \n",
              "2        ASSAULT           AGGRAVATED: HANDGUN                OTHER   False   \n",
              "4        BATTERY                        SIMPLE            RESIDENCE   False   \n",
              "5      NARCOTICS  POSS: CANNABIS 30GMS OR LESS                ALLEY    True   \n",
              "\n",
              "   Domestic  ...  Ward  Community Area  FBI Code  X Coordinate Y Coordinate  \\\n",
              "0     False  ...  45.0            11.0        26     1136872.0    1936499.0   \n",
              "1     False  ...  20.0            42.0        18     1181027.0    1861693.0   \n",
              "2     False  ...   5.0            69.0       04A     1186023.0    1859609.0   \n",
              "4     False  ...  38.0            17.0       08B     1134772.0    1922299.0   \n",
              "5     False  ...  13.0            65.0        18     1152412.0    1864560.0   \n",
              "\n",
              "   Year              Updated On   Latitude  Longitude  \\\n",
              "0  2006  04/15/2016 08:55:02 AM  41.981913 -87.771996   \n",
              "1  2006  04/15/2016 08:55:02 AM  41.775733 -87.611920   \n",
              "2  2006  04/15/2016 08:55:02 AM  41.769897 -87.593671   \n",
              "4  2006  04/15/2016 08:55:02 AM  41.942984 -87.780057   \n",
              "5  2006  04/15/2016 08:55:02 AM  41.784211 -87.716745   \n",
              "\n",
              "                        Location  \n",
              "0  (41.981912692, -87.771996382)  \n",
              "1  (41.775732538, -87.611919814)  \n",
              "2  (41.769897392, -87.593670899)  \n",
              "4  (41.942984005, -87.780056951)  \n",
              "5   (41.784210853, -87.71674491)  \n",
              "\n",
              "[5 rows x 22 columns]"
            ],
            "text/html": [
              "\n",
              "  <div id=\"df-a951de81-0c16-44be-a9de-f65cb3ad5f21\">\n",
              "    <div class=\"colab-df-container\">\n",
              "      <div>\n",
              "<style scoped>\n",
              "    .dataframe tbody tr th:only-of-type {\n",
              "        vertical-align: middle;\n",
              "    }\n",
              "\n",
              "    .dataframe tbody tr th {\n",
              "        vertical-align: top;\n",
              "    }\n",
              "\n",
              "    .dataframe thead th {\n",
              "        text-align: right;\n",
              "    }\n",
              "</style>\n",
              "<table border=\"1\" class=\"dataframe\">\n",
              "  <thead>\n",
              "    <tr style=\"text-align: right;\">\n",
              "      <th></th>\n",
              "      <th>ID</th>\n",
              "      <th>Case Number</th>\n",
              "      <th>Date</th>\n",
              "      <th>Block</th>\n",
              "      <th>IUCR</th>\n",
              "      <th>Primary Type</th>\n",
              "      <th>Description</th>\n",
              "      <th>Location Description</th>\n",
              "      <th>Arrest</th>\n",
              "      <th>Domestic</th>\n",
              "      <th>...</th>\n",
              "      <th>Ward</th>\n",
              "      <th>Community Area</th>\n",
              "      <th>FBI Code</th>\n",
              "      <th>X Coordinate</th>\n",
              "      <th>Y Coordinate</th>\n",
              "      <th>Year</th>\n",
              "      <th>Updated On</th>\n",
              "      <th>Latitude</th>\n",
              "      <th>Longitude</th>\n",
              "      <th>Location</th>\n",
              "    </tr>\n",
              "  </thead>\n",
              "  <tbody>\n",
              "    <tr>\n",
              "      <th>0</th>\n",
              "      <td>4673626</td>\n",
              "      <td>HM274058</td>\n",
              "      <td>04/02/2006 01:00:00 PM</td>\n",
              "      <td>055XX N MANGO AVE</td>\n",
              "      <td>2825</td>\n",
              "      <td>OTHER OFFENSE</td>\n",
              "      <td>HARASSMENT BY TELEPHONE</td>\n",
              "      <td>RESIDENCE</td>\n",
              "      <td>False</td>\n",
              "      <td>False</td>\n",
              "      <td>...</td>\n",
              "      <td>45.0</td>\n",
              "      <td>11.0</td>\n",
              "      <td>26</td>\n",
              "      <td>1136872.0</td>\n",
              "      <td>1936499.0</td>\n",
              "      <td>2006</td>\n",
              "      <td>04/15/2016 08:55:02 AM</td>\n",
              "      <td>41.981913</td>\n",
              "      <td>-87.771996</td>\n",
              "      <td>(41.981912692, -87.771996382)</td>\n",
              "    </tr>\n",
              "    <tr>\n",
              "      <th>1</th>\n",
              "      <td>4673627</td>\n",
              "      <td>HM202199</td>\n",
              "      <td>02/26/2006 01:40:48 PM</td>\n",
              "      <td>065XX S RHODES AVE</td>\n",
              "      <td>2017</td>\n",
              "      <td>NARCOTICS</td>\n",
              "      <td>MANU/DELIVER:CRACK</td>\n",
              "      <td>SIDEWALK</td>\n",
              "      <td>True</td>\n",
              "      <td>False</td>\n",
              "      <td>...</td>\n",
              "      <td>20.0</td>\n",
              "      <td>42.0</td>\n",
              "      <td>18</td>\n",
              "      <td>1181027.0</td>\n",
              "      <td>1861693.0</td>\n",
              "      <td>2006</td>\n",
              "      <td>04/15/2016 08:55:02 AM</td>\n",
              "      <td>41.775733</td>\n",
              "      <td>-87.611920</td>\n",
              "      <td>(41.775732538, -87.611919814)</td>\n",
              "    </tr>\n",
              "    <tr>\n",
              "      <th>2</th>\n",
              "      <td>4673628</td>\n",
              "      <td>HM113861</td>\n",
              "      <td>01/08/2006 11:16:00 PM</td>\n",
              "      <td>013XX E 69TH ST</td>\n",
              "      <td>051A</td>\n",
              "      <td>ASSAULT</td>\n",
              "      <td>AGGRAVATED: HANDGUN</td>\n",
              "      <td>OTHER</td>\n",
              "      <td>False</td>\n",
              "      <td>False</td>\n",
              "      <td>...</td>\n",
              "      <td>5.0</td>\n",
              "      <td>69.0</td>\n",
              "      <td>04A</td>\n",
              "      <td>1186023.0</td>\n",
              "      <td>1859609.0</td>\n",
              "      <td>2006</td>\n",
              "      <td>04/15/2016 08:55:02 AM</td>\n",
              "      <td>41.769897</td>\n",
              "      <td>-87.593671</td>\n",
              "      <td>(41.769897392, -87.593670899)</td>\n",
              "    </tr>\n",
              "    <tr>\n",
              "      <th>4</th>\n",
              "      <td>4673629</td>\n",
              "      <td>HM274049</td>\n",
              "      <td>04/05/2006 06:45:00 PM</td>\n",
              "      <td>061XX W NEWPORT AVE</td>\n",
              "      <td>0460</td>\n",
              "      <td>BATTERY</td>\n",
              "      <td>SIMPLE</td>\n",
              "      <td>RESIDENCE</td>\n",
              "      <td>False</td>\n",
              "      <td>False</td>\n",
              "      <td>...</td>\n",
              "      <td>38.0</td>\n",
              "      <td>17.0</td>\n",
              "      <td>08B</td>\n",
              "      <td>1134772.0</td>\n",
              "      <td>1922299.0</td>\n",
              "      <td>2006</td>\n",
              "      <td>04/15/2016 08:55:02 AM</td>\n",
              "      <td>41.942984</td>\n",
              "      <td>-87.780057</td>\n",
              "      <td>(41.942984005, -87.780056951)</td>\n",
              "    </tr>\n",
              "    <tr>\n",
              "      <th>5</th>\n",
              "      <td>4673630</td>\n",
              "      <td>HM187120</td>\n",
              "      <td>02/17/2006 09:03:14 PM</td>\n",
              "      <td>037XX W 60TH ST</td>\n",
              "      <td>1811</td>\n",
              "      <td>NARCOTICS</td>\n",
              "      <td>POSS: CANNABIS 30GMS OR LESS</td>\n",
              "      <td>ALLEY</td>\n",
              "      <td>True</td>\n",
              "      <td>False</td>\n",
              "      <td>...</td>\n",
              "      <td>13.0</td>\n",
              "      <td>65.0</td>\n",
              "      <td>18</td>\n",
              "      <td>1152412.0</td>\n",
              "      <td>1864560.0</td>\n",
              "      <td>2006</td>\n",
              "      <td>04/15/2016 08:55:02 AM</td>\n",
              "      <td>41.784211</td>\n",
              "      <td>-87.716745</td>\n",
              "      <td>(41.784210853, -87.71674491)</td>\n",
              "    </tr>\n",
              "  </tbody>\n",
              "</table>\n",
              "<p>5 rows × 22 columns</p>\n",
              "</div>\n",
              "      <button class=\"colab-df-convert\" onclick=\"convertToInteractive('df-a951de81-0c16-44be-a9de-f65cb3ad5f21')\"\n",
              "              title=\"Convert this dataframe to an interactive table.\"\n",
              "              style=\"display:none;\">\n",
              "        \n",
              "  <svg xmlns=\"http://www.w3.org/2000/svg\" height=\"24px\"viewBox=\"0 0 24 24\"\n",
              "       width=\"24px\">\n",
              "    <path d=\"M0 0h24v24H0V0z\" fill=\"none\"/>\n",
              "    <path d=\"M18.56 5.44l.94 2.06.94-2.06 2.06-.94-2.06-.94-.94-2.06-.94 2.06-2.06.94zm-11 1L8.5 8.5l.94-2.06 2.06-.94-2.06-.94L8.5 2.5l-.94 2.06-2.06.94zm10 10l.94 2.06.94-2.06 2.06-.94-2.06-.94-.94-2.06-.94 2.06-2.06.94z\"/><path d=\"M17.41 7.96l-1.37-1.37c-.4-.4-.92-.59-1.43-.59-.52 0-1.04.2-1.43.59L10.3 9.45l-7.72 7.72c-.78.78-.78 2.05 0 2.83L4 21.41c.39.39.9.59 1.41.59.51 0 1.02-.2 1.41-.59l7.78-7.78 2.81-2.81c.8-.78.8-2.07 0-2.86zM5.41 20L4 18.59l7.72-7.72 1.47 1.35L5.41 20z\"/>\n",
              "  </svg>\n",
              "      </button>\n",
              "      \n",
              "  <style>\n",
              "    .colab-df-container {\n",
              "      display:flex;\n",
              "      flex-wrap:wrap;\n",
              "      gap: 12px;\n",
              "    }\n",
              "\n",
              "    .colab-df-convert {\n",
              "      background-color: #E8F0FE;\n",
              "      border: none;\n",
              "      border-radius: 50%;\n",
              "      cursor: pointer;\n",
              "      display: none;\n",
              "      fill: #1967D2;\n",
              "      height: 32px;\n",
              "      padding: 0 0 0 0;\n",
              "      width: 32px;\n",
              "    }\n",
              "\n",
              "    .colab-df-convert:hover {\n",
              "      background-color: #E2EBFA;\n",
              "      box-shadow: 0px 1px 2px rgba(60, 64, 67, 0.3), 0px 1px 3px 1px rgba(60, 64, 67, 0.15);\n",
              "      fill: #174EA6;\n",
              "    }\n",
              "\n",
              "    [theme=dark] .colab-df-convert {\n",
              "      background-color: #3B4455;\n",
              "      fill: #D2E3FC;\n",
              "    }\n",
              "\n",
              "    [theme=dark] .colab-df-convert:hover {\n",
              "      background-color: #434B5C;\n",
              "      box-shadow: 0px 1px 3px 1px rgba(0, 0, 0, 0.15);\n",
              "      filter: drop-shadow(0px 1px 2px rgba(0, 0, 0, 0.3));\n",
              "      fill: #FFFFFF;\n",
              "    }\n",
              "  </style>\n",
              "\n",
              "      <script>\n",
              "        const buttonEl =\n",
              "          document.querySelector('#df-a951de81-0c16-44be-a9de-f65cb3ad5f21 button.colab-df-convert');\n",
              "        buttonEl.style.display =\n",
              "          google.colab.kernel.accessAllowed ? 'block' : 'none';\n",
              "\n",
              "        async function convertToInteractive(key) {\n",
              "          const element = document.querySelector('#df-a951de81-0c16-44be-a9de-f65cb3ad5f21');\n",
              "          const dataTable =\n",
              "            await google.colab.kernel.invokeFunction('convertToInteractive',\n",
              "                                                     [key], {});\n",
              "          if (!dataTable) return;\n",
              "\n",
              "          const docLinkHtml = 'Like what you see? Visit the ' +\n",
              "            '<a target=\"_blank\" href=https://colab.research.google.com/notebooks/data_table.ipynb>data table notebook</a>'\n",
              "            + ' to learn more about interactive tables.';\n",
              "          element.innerHTML = '';\n",
              "          dataTable['output_type'] = 'display_data';\n",
              "          await google.colab.output.renderOutput(dataTable, element);\n",
              "          const docLink = document.createElement('div');\n",
              "          docLink.innerHTML = docLinkHtml;\n",
              "          element.appendChild(docLink);\n",
              "        }\n",
              "      </script>\n",
              "    </div>\n",
              "  </div>\n",
              "  "
            ]
          },
          "metadata": {},
          "execution_count": 15
        }
      ]
    },
    {
      "cell_type": "code",
      "metadata": {
        "id": "hzTMXPdOzsZZ",
        "colab": {
          "base_uri": "https://localhost:8080/",
          "height": 490
        },
        "outputId": "94b38e98-4ce0-48e9-e50f-ae8609ba4f7f"
      },
      "source": [
        "# Let's view the last elements in the training dataset\n",
        "chicago_df.tail()"
      ],
      "execution_count": 16,
      "outputs": [
        {
          "output_type": "execute_result",
          "data": {
            "text/plain": [
              "               ID Case Number                    Date                 Block  \\\n",
              "6250330  10508679    HZ250507  05/03/2016 11:33:00 PM       026XX W 23RD PL   \n",
              "6251089  10508680    HZ250491  05/03/2016 11:30:00 PM   073XX S HARVARD AVE   \n",
              "6251349  10508681    HZ250479  05/03/2016 12:15:00 AM       024XX W 63RD ST   \n",
              "6253257  10508690    HZ250370  05/03/2016 09:07:00 PM  082XX S EXCHANGE AVE   \n",
              "6253474  10508692    HZ250517  05/03/2016 11:38:00 PM       001XX E 75TH ST   \n",
              "\n",
              "         IUCR     Primary Type              Description  \\\n",
              "6250330  0486          BATTERY  DOMESTIC BATTERY SIMPLE   \n",
              "6251089  1310  CRIMINAL DAMAGE              TO PROPERTY   \n",
              "6251349  041A          BATTERY      AGGRAVATED: HANDGUN   \n",
              "6253257  0486          BATTERY  DOMESTIC BATTERY SIMPLE   \n",
              "6253474  5007    OTHER OFFENSE  OTHER WEAPONS VIOLATION   \n",
              "\n",
              "                   Location Description  Arrest  Domestic  ...  Ward  \\\n",
              "6250330                       APARTMENT    True      True  ...  28.0   \n",
              "6251089                       APARTMENT    True      True  ...  17.0   \n",
              "6251349                        SIDEWALK   False     False  ...  15.0   \n",
              "6253257                        SIDEWALK   False      True  ...   7.0   \n",
              "6253474  PARKING LOT/GARAGE(NON.RESID.)    True     False  ...   6.0   \n",
              "\n",
              "         Community Area  FBI Code  X Coordinate Y Coordinate  Year  \\\n",
              "6250330            30.0       08B     1159105.0    1888300.0  2016   \n",
              "6251089            69.0        14     1175230.0    1856183.0  2016   \n",
              "6251349            66.0       04B     1161027.0    1862810.0  2016   \n",
              "6253257            46.0       08B     1197261.0    1850727.0  2016   \n",
              "6253474            69.0        26     1178696.0    1855324.0  2016   \n",
              "\n",
              "                     Updated On   Latitude  Longitude  \\\n",
              "6250330  05/10/2016 03:56:50 PM  41.849222 -87.691556   \n",
              "6251089  05/10/2016 03:56:50 PM  41.760744 -87.633335   \n",
              "6251349  05/10/2016 03:56:50 PM  41.779235 -87.685207   \n",
              "6253257  05/10/2016 03:56:50 PM  41.745252 -87.552773   \n",
              "6253474  05/10/2016 03:56:50 PM  41.758309 -87.620658   \n",
              "\n",
              "                              Location  \n",
              "6250330   (41.849222028, -87.69155551)  \n",
              "6251089   (41.760743949, -87.63333531)  \n",
              "6251349  (41.779234743, -87.685207125)  \n",
              "6253257  (41.745251975, -87.552773464)  \n",
              "6253474   (41.75830866, -87.620658418)  \n",
              "\n",
              "[5 rows x 22 columns]"
            ],
            "text/html": [
              "\n",
              "  <div id=\"df-2c31501d-baee-4703-8a8c-ee7a6244ae51\">\n",
              "    <div class=\"colab-df-container\">\n",
              "      <div>\n",
              "<style scoped>\n",
              "    .dataframe tbody tr th:only-of-type {\n",
              "        vertical-align: middle;\n",
              "    }\n",
              "\n",
              "    .dataframe tbody tr th {\n",
              "        vertical-align: top;\n",
              "    }\n",
              "\n",
              "    .dataframe thead th {\n",
              "        text-align: right;\n",
              "    }\n",
              "</style>\n",
              "<table border=\"1\" class=\"dataframe\">\n",
              "  <thead>\n",
              "    <tr style=\"text-align: right;\">\n",
              "      <th></th>\n",
              "      <th>ID</th>\n",
              "      <th>Case Number</th>\n",
              "      <th>Date</th>\n",
              "      <th>Block</th>\n",
              "      <th>IUCR</th>\n",
              "      <th>Primary Type</th>\n",
              "      <th>Description</th>\n",
              "      <th>Location Description</th>\n",
              "      <th>Arrest</th>\n",
              "      <th>Domestic</th>\n",
              "      <th>...</th>\n",
              "      <th>Ward</th>\n",
              "      <th>Community Area</th>\n",
              "      <th>FBI Code</th>\n",
              "      <th>X Coordinate</th>\n",
              "      <th>Y Coordinate</th>\n",
              "      <th>Year</th>\n",
              "      <th>Updated On</th>\n",
              "      <th>Latitude</th>\n",
              "      <th>Longitude</th>\n",
              "      <th>Location</th>\n",
              "    </tr>\n",
              "  </thead>\n",
              "  <tbody>\n",
              "    <tr>\n",
              "      <th>6250330</th>\n",
              "      <td>10508679</td>\n",
              "      <td>HZ250507</td>\n",
              "      <td>05/03/2016 11:33:00 PM</td>\n",
              "      <td>026XX W 23RD PL</td>\n",
              "      <td>0486</td>\n",
              "      <td>BATTERY</td>\n",
              "      <td>DOMESTIC BATTERY SIMPLE</td>\n",
              "      <td>APARTMENT</td>\n",
              "      <td>True</td>\n",
              "      <td>True</td>\n",
              "      <td>...</td>\n",
              "      <td>28.0</td>\n",
              "      <td>30.0</td>\n",
              "      <td>08B</td>\n",
              "      <td>1159105.0</td>\n",
              "      <td>1888300.0</td>\n",
              "      <td>2016</td>\n",
              "      <td>05/10/2016 03:56:50 PM</td>\n",
              "      <td>41.849222</td>\n",
              "      <td>-87.691556</td>\n",
              "      <td>(41.849222028, -87.69155551)</td>\n",
              "    </tr>\n",
              "    <tr>\n",
              "      <th>6251089</th>\n",
              "      <td>10508680</td>\n",
              "      <td>HZ250491</td>\n",
              "      <td>05/03/2016 11:30:00 PM</td>\n",
              "      <td>073XX S HARVARD AVE</td>\n",
              "      <td>1310</td>\n",
              "      <td>CRIMINAL DAMAGE</td>\n",
              "      <td>TO PROPERTY</td>\n",
              "      <td>APARTMENT</td>\n",
              "      <td>True</td>\n",
              "      <td>True</td>\n",
              "      <td>...</td>\n",
              "      <td>17.0</td>\n",
              "      <td>69.0</td>\n",
              "      <td>14</td>\n",
              "      <td>1175230.0</td>\n",
              "      <td>1856183.0</td>\n",
              "      <td>2016</td>\n",
              "      <td>05/10/2016 03:56:50 PM</td>\n",
              "      <td>41.760744</td>\n",
              "      <td>-87.633335</td>\n",
              "      <td>(41.760743949, -87.63333531)</td>\n",
              "    </tr>\n",
              "    <tr>\n",
              "      <th>6251349</th>\n",
              "      <td>10508681</td>\n",
              "      <td>HZ250479</td>\n",
              "      <td>05/03/2016 12:15:00 AM</td>\n",
              "      <td>024XX W 63RD ST</td>\n",
              "      <td>041A</td>\n",
              "      <td>BATTERY</td>\n",
              "      <td>AGGRAVATED: HANDGUN</td>\n",
              "      <td>SIDEWALK</td>\n",
              "      <td>False</td>\n",
              "      <td>False</td>\n",
              "      <td>...</td>\n",
              "      <td>15.0</td>\n",
              "      <td>66.0</td>\n",
              "      <td>04B</td>\n",
              "      <td>1161027.0</td>\n",
              "      <td>1862810.0</td>\n",
              "      <td>2016</td>\n",
              "      <td>05/10/2016 03:56:50 PM</td>\n",
              "      <td>41.779235</td>\n",
              "      <td>-87.685207</td>\n",
              "      <td>(41.779234743, -87.685207125)</td>\n",
              "    </tr>\n",
              "    <tr>\n",
              "      <th>6253257</th>\n",
              "      <td>10508690</td>\n",
              "      <td>HZ250370</td>\n",
              "      <td>05/03/2016 09:07:00 PM</td>\n",
              "      <td>082XX S EXCHANGE AVE</td>\n",
              "      <td>0486</td>\n",
              "      <td>BATTERY</td>\n",
              "      <td>DOMESTIC BATTERY SIMPLE</td>\n",
              "      <td>SIDEWALK</td>\n",
              "      <td>False</td>\n",
              "      <td>True</td>\n",
              "      <td>...</td>\n",
              "      <td>7.0</td>\n",
              "      <td>46.0</td>\n",
              "      <td>08B</td>\n",
              "      <td>1197261.0</td>\n",
              "      <td>1850727.0</td>\n",
              "      <td>2016</td>\n",
              "      <td>05/10/2016 03:56:50 PM</td>\n",
              "      <td>41.745252</td>\n",
              "      <td>-87.552773</td>\n",
              "      <td>(41.745251975, -87.552773464)</td>\n",
              "    </tr>\n",
              "    <tr>\n",
              "      <th>6253474</th>\n",
              "      <td>10508692</td>\n",
              "      <td>HZ250517</td>\n",
              "      <td>05/03/2016 11:38:00 PM</td>\n",
              "      <td>001XX E 75TH ST</td>\n",
              "      <td>5007</td>\n",
              "      <td>OTHER OFFENSE</td>\n",
              "      <td>OTHER WEAPONS VIOLATION</td>\n",
              "      <td>PARKING LOT/GARAGE(NON.RESID.)</td>\n",
              "      <td>True</td>\n",
              "      <td>False</td>\n",
              "      <td>...</td>\n",
              "      <td>6.0</td>\n",
              "      <td>69.0</td>\n",
              "      <td>26</td>\n",
              "      <td>1178696.0</td>\n",
              "      <td>1855324.0</td>\n",
              "      <td>2016</td>\n",
              "      <td>05/10/2016 03:56:50 PM</td>\n",
              "      <td>41.758309</td>\n",
              "      <td>-87.620658</td>\n",
              "      <td>(41.75830866, -87.620658418)</td>\n",
              "    </tr>\n",
              "  </tbody>\n",
              "</table>\n",
              "<p>5 rows × 22 columns</p>\n",
              "</div>\n",
              "      <button class=\"colab-df-convert\" onclick=\"convertToInteractive('df-2c31501d-baee-4703-8a8c-ee7a6244ae51')\"\n",
              "              title=\"Convert this dataframe to an interactive table.\"\n",
              "              style=\"display:none;\">\n",
              "        \n",
              "  <svg xmlns=\"http://www.w3.org/2000/svg\" height=\"24px\"viewBox=\"0 0 24 24\"\n",
              "       width=\"24px\">\n",
              "    <path d=\"M0 0h24v24H0V0z\" fill=\"none\"/>\n",
              "    <path d=\"M18.56 5.44l.94 2.06.94-2.06 2.06-.94-2.06-.94-.94-2.06-.94 2.06-2.06.94zm-11 1L8.5 8.5l.94-2.06 2.06-.94-2.06-.94L8.5 2.5l-.94 2.06-2.06.94zm10 10l.94 2.06.94-2.06 2.06-.94-2.06-.94-.94-2.06-.94 2.06-2.06.94z\"/><path d=\"M17.41 7.96l-1.37-1.37c-.4-.4-.92-.59-1.43-.59-.52 0-1.04.2-1.43.59L10.3 9.45l-7.72 7.72c-.78.78-.78 2.05 0 2.83L4 21.41c.39.39.9.59 1.41.59.51 0 1.02-.2 1.41-.59l7.78-7.78 2.81-2.81c.8-.78.8-2.07 0-2.86zM5.41 20L4 18.59l7.72-7.72 1.47 1.35L5.41 20z\"/>\n",
              "  </svg>\n",
              "      </button>\n",
              "      \n",
              "  <style>\n",
              "    .colab-df-container {\n",
              "      display:flex;\n",
              "      flex-wrap:wrap;\n",
              "      gap: 12px;\n",
              "    }\n",
              "\n",
              "    .colab-df-convert {\n",
              "      background-color: #E8F0FE;\n",
              "      border: none;\n",
              "      border-radius: 50%;\n",
              "      cursor: pointer;\n",
              "      display: none;\n",
              "      fill: #1967D2;\n",
              "      height: 32px;\n",
              "      padding: 0 0 0 0;\n",
              "      width: 32px;\n",
              "    }\n",
              "\n",
              "    .colab-df-convert:hover {\n",
              "      background-color: #E2EBFA;\n",
              "      box-shadow: 0px 1px 2px rgba(60, 64, 67, 0.3), 0px 1px 3px 1px rgba(60, 64, 67, 0.15);\n",
              "      fill: #174EA6;\n",
              "    }\n",
              "\n",
              "    [theme=dark] .colab-df-convert {\n",
              "      background-color: #3B4455;\n",
              "      fill: #D2E3FC;\n",
              "    }\n",
              "\n",
              "    [theme=dark] .colab-df-convert:hover {\n",
              "      background-color: #434B5C;\n",
              "      box-shadow: 0px 1px 3px 1px rgba(0, 0, 0, 0.15);\n",
              "      filter: drop-shadow(0px 1px 2px rgba(0, 0, 0, 0.3));\n",
              "      fill: #FFFFFF;\n",
              "    }\n",
              "  </style>\n",
              "\n",
              "      <script>\n",
              "        const buttonEl =\n",
              "          document.querySelector('#df-2c31501d-baee-4703-8a8c-ee7a6244ae51 button.colab-df-convert');\n",
              "        buttonEl.style.display =\n",
              "          google.colab.kernel.accessAllowed ? 'block' : 'none';\n",
              "\n",
              "        async function convertToInteractive(key) {\n",
              "          const element = document.querySelector('#df-2c31501d-baee-4703-8a8c-ee7a6244ae51');\n",
              "          const dataTable =\n",
              "            await google.colab.kernel.invokeFunction('convertToInteractive',\n",
              "                                                     [key], {});\n",
              "          if (!dataTable) return;\n",
              "\n",
              "          const docLinkHtml = 'Like what you see? Visit the ' +\n",
              "            '<a target=\"_blank\" href=https://colab.research.google.com/notebooks/data_table.ipynb>data table notebook</a>'\n",
              "            + ' to learn more about interactive tables.';\n",
              "          element.innerHTML = '';\n",
              "          dataTable['output_type'] = 'display_data';\n",
              "          await google.colab.output.renderOutput(dataTable, element);\n",
              "          const docLink = document.createElement('div');\n",
              "          docLink.innerHTML = docLinkHtml;\n",
              "          element.appendChild(docLink);\n",
              "        }\n",
              "      </script>\n",
              "    </div>\n",
              "  </div>\n",
              "  "
            ]
          },
          "metadata": {},
          "execution_count": 16
        }
      ]
    },
    {
      "cell_type": "markdown",
      "metadata": {
        "id": "z0oKCaGSst4V"
      },
      "source": [
        "### 비어있는 데이터가 얼마나 되는지 확인하시오."
      ]
    },
    {
      "cell_type": "code",
      "metadata": {
        "id": "-Ekism-Isyr-",
        "colab": {
          "base_uri": "https://localhost:8080/"
        },
        "outputId": "e1448330-92e9-45a1-a6d8-b254d1f04400"
      },
      "source": [
        "chicago_df.isna().sum()"
      ],
      "execution_count": 17,
      "outputs": [
        {
          "output_type": "execute_result",
          "data": {
            "text/plain": [
              "ID                          0\n",
              "Case Number                 7\n",
              "Date                        0\n",
              "Block                       0\n",
              "IUCR                        0\n",
              "Primary Type                0\n",
              "Description                 0\n",
              "Location Description     1974\n",
              "Arrest                      0\n",
              "Domestic                    0\n",
              "Beat                        0\n",
              "District                   89\n",
              "Ward                       92\n",
              "Community Area           1844\n",
              "FBI Code                    0\n",
              "X Coordinate            74882\n",
              "Y Coordinate            74882\n",
              "Year                        0\n",
              "Updated On                  0\n",
              "Latitude                74882\n",
              "Longitude               74882\n",
              "Location                74882\n",
              "dtype: int64"
            ]
          },
          "metadata": {},
          "execution_count": 17
        }
      ]
    },
    {
      "cell_type": "code",
      "metadata": {
        "id": "nuNdLNxCzsZa"
      },
      "source": [],
      "execution_count": null,
      "outputs": []
    },
    {
      "cell_type": "markdown",
      "metadata": {
        "id": "sQF8LGAmtDYn"
      },
      "source": [
        "### 다음 컬럼들을 삭제하시오.\n",
        "\n",
        "'Case Number', 'Case Number', 'IUCR', 'X Coordinate', 'Y Coordinate','Updated On','Year', 'FBI Code', 'Beat','Ward','Community Area', 'Location', 'District', 'Latitude' , 'Longitude'"
      ]
    },
    {
      "cell_type": "code",
      "source": [
        "cols = ['Case Number', 'Case Number', 'IUCR', 'X Coordinate', 'Y Coordinate','Updated On','Year', 'FBI Code', 'Beat','Ward','Community Area', 'Location', 'District', 'Latitude' , 'Longitude']"
      ],
      "metadata": {
        "id": "wBN7TuGRE0RS"
      },
      "execution_count": 19,
      "outputs": []
    },
    {
      "cell_type": "code",
      "metadata": {
        "id": "GstZBO1vzsZa"
      },
      "source": [
        "chicago_df.drop( cols , axis = 1 , inplace = True)"
      ],
      "execution_count": 21,
      "outputs": []
    },
    {
      "cell_type": "code",
      "metadata": {
        "id": "hpQ1duYtzsZb"
      },
      "source": [],
      "execution_count": null,
      "outputs": []
    },
    {
      "cell_type": "markdown",
      "metadata": {
        "id": "drtkimlP-7af"
      },
      "source": [
        "### Date 컬럼을 보니, 날짜 형식으로 되어있다. 이를 파이썬이 이해할 수 있는 날짜로 바꿔서 다시 Date 컬럼에 저장하시오. "
      ]
    },
    {
      "cell_type": "code",
      "metadata": {
        "id": "zTCU-4GhzsZb",
        "colab": {
          "base_uri": "https://localhost:8080/"
        },
        "outputId": "149d9bd4-120d-40c4-8d3f-bc0b1d8eae9f"
      },
      "source": [
        "chicago_df.info()"
      ],
      "execution_count": 23,
      "outputs": [
        {
          "output_type": "stream",
          "name": "stdout",
          "text": [
            "<class 'pandas.core.frame.DataFrame'>\n",
            "Int64Index: 6017767 entries, 0 to 6253474\n",
            "Data columns (total 8 columns):\n",
            " #   Column                Dtype \n",
            "---  ------                ----- \n",
            " 0   ID                    int64 \n",
            " 1   Date                  object\n",
            " 2   Block                 object\n",
            " 3   Primary Type          object\n",
            " 4   Description           object\n",
            " 5   Location Description  object\n",
            " 6   Arrest                bool  \n",
            " 7   Domestic              bool  \n",
            "dtypes: bool(2), int64(1), object(5)\n",
            "memory usage: 332.9+ MB\n"
          ]
        }
      ]
    },
    {
      "cell_type": "code",
      "metadata": {
        "id": "NrZWIof_zsZb",
        "colab": {
          "base_uri": "https://localhost:8080/"
        },
        "outputId": "ea9e2f2e-5a06-4d36-f4df-16d9e97b3a3f"
      },
      "source": [
        "chicago_df['Date']"
      ],
      "execution_count": 24,
      "outputs": [
        {
          "output_type": "execute_result",
          "data": {
            "text/plain": [
              "0          04/02/2006 01:00:00 PM\n",
              "1          02/26/2006 01:40:48 PM\n",
              "2          01/08/2006 11:16:00 PM\n",
              "4          04/05/2006 06:45:00 PM\n",
              "5          02/17/2006 09:03:14 PM\n",
              "                    ...          \n",
              "6250330    05/03/2016 11:33:00 PM\n",
              "6251089    05/03/2016 11:30:00 PM\n",
              "6251349    05/03/2016 12:15:00 AM\n",
              "6253257    05/03/2016 09:07:00 PM\n",
              "6253474    05/03/2016 11:38:00 PM\n",
              "Name: Date, Length: 6017767, dtype: object"
            ]
          },
          "metadata": {},
          "execution_count": 24
        }
      ]
    },
    {
      "cell_type": "code",
      "source": [
        "chicago_df['Date'] = pd.to_datetime( chicago_df['Date'] , format='%m/%d/%Y %I:%M:%S %p' )"
      ],
      "metadata": {
        "id": "11qCzUQIFjvq"
      },
      "execution_count": 26,
      "outputs": []
    },
    {
      "cell_type": "code",
      "source": [
        "chicago_df"
      ],
      "metadata": {
        "colab": {
          "base_uri": "https://localhost:8080/",
          "height": 852
        },
        "id": "S6k9BVRKFjmJ",
        "outputId": "fc5d06b0-d7c5-40ce-f8ef-2d898c0f701d"
      },
      "execution_count": 27,
      "outputs": [
        {
          "output_type": "execute_result",
          "data": {
            "text/plain": [
              "               ID                Date                 Block     Primary Type  \\\n",
              "0         4673626 2006-04-02 13:00:00     055XX N MANGO AVE    OTHER OFFENSE   \n",
              "1         4673627 2006-02-26 13:40:48    065XX S RHODES AVE        NARCOTICS   \n",
              "2         4673628 2006-01-08 23:16:00       013XX E 69TH ST          ASSAULT   \n",
              "4         4673629 2006-04-05 18:45:00   061XX W NEWPORT AVE          BATTERY   \n",
              "5         4673630 2006-02-17 21:03:14       037XX W 60TH ST        NARCOTICS   \n",
              "...           ...                 ...                   ...              ...   \n",
              "6250330  10508679 2016-05-03 23:33:00       026XX W 23RD PL          BATTERY   \n",
              "6251089  10508680 2016-05-03 23:30:00   073XX S HARVARD AVE  CRIMINAL DAMAGE   \n",
              "6251349  10508681 2016-05-03 00:15:00       024XX W 63RD ST          BATTERY   \n",
              "6253257  10508690 2016-05-03 21:07:00  082XX S EXCHANGE AVE          BATTERY   \n",
              "6253474  10508692 2016-05-03 23:38:00       001XX E 75TH ST    OTHER OFFENSE   \n",
              "\n",
              "                          Description            Location Description  Arrest  \\\n",
              "0             HARASSMENT BY TELEPHONE                       RESIDENCE   False   \n",
              "1                  MANU/DELIVER:CRACK                        SIDEWALK    True   \n",
              "2                 AGGRAVATED: HANDGUN                           OTHER   False   \n",
              "4                              SIMPLE                       RESIDENCE   False   \n",
              "5        POSS: CANNABIS 30GMS OR LESS                           ALLEY    True   \n",
              "...                               ...                             ...     ...   \n",
              "6250330       DOMESTIC BATTERY SIMPLE                       APARTMENT    True   \n",
              "6251089                   TO PROPERTY                       APARTMENT    True   \n",
              "6251349           AGGRAVATED: HANDGUN                        SIDEWALK   False   \n",
              "6253257       DOMESTIC BATTERY SIMPLE                        SIDEWALK   False   \n",
              "6253474       OTHER WEAPONS VIOLATION  PARKING LOT/GARAGE(NON.RESID.)    True   \n",
              "\n",
              "         Domestic  \n",
              "0           False  \n",
              "1           False  \n",
              "2           False  \n",
              "4           False  \n",
              "5           False  \n",
              "...           ...  \n",
              "6250330      True  \n",
              "6251089      True  \n",
              "6251349     False  \n",
              "6253257      True  \n",
              "6253474     False  \n",
              "\n",
              "[6017767 rows x 8 columns]"
            ],
            "text/html": [
              "\n",
              "  <div id=\"df-49cd7809-2321-4e8d-9731-271268e2f4ed\">\n",
              "    <div class=\"colab-df-container\">\n",
              "      <div>\n",
              "<style scoped>\n",
              "    .dataframe tbody tr th:only-of-type {\n",
              "        vertical-align: middle;\n",
              "    }\n",
              "\n",
              "    .dataframe tbody tr th {\n",
              "        vertical-align: top;\n",
              "    }\n",
              "\n",
              "    .dataframe thead th {\n",
              "        text-align: right;\n",
              "    }\n",
              "</style>\n",
              "<table border=\"1\" class=\"dataframe\">\n",
              "  <thead>\n",
              "    <tr style=\"text-align: right;\">\n",
              "      <th></th>\n",
              "      <th>ID</th>\n",
              "      <th>Date</th>\n",
              "      <th>Block</th>\n",
              "      <th>Primary Type</th>\n",
              "      <th>Description</th>\n",
              "      <th>Location Description</th>\n",
              "      <th>Arrest</th>\n",
              "      <th>Domestic</th>\n",
              "    </tr>\n",
              "  </thead>\n",
              "  <tbody>\n",
              "    <tr>\n",
              "      <th>0</th>\n",
              "      <td>4673626</td>\n",
              "      <td>2006-04-02 13:00:00</td>\n",
              "      <td>055XX N MANGO AVE</td>\n",
              "      <td>OTHER OFFENSE</td>\n",
              "      <td>HARASSMENT BY TELEPHONE</td>\n",
              "      <td>RESIDENCE</td>\n",
              "      <td>False</td>\n",
              "      <td>False</td>\n",
              "    </tr>\n",
              "    <tr>\n",
              "      <th>1</th>\n",
              "      <td>4673627</td>\n",
              "      <td>2006-02-26 13:40:48</td>\n",
              "      <td>065XX S RHODES AVE</td>\n",
              "      <td>NARCOTICS</td>\n",
              "      <td>MANU/DELIVER:CRACK</td>\n",
              "      <td>SIDEWALK</td>\n",
              "      <td>True</td>\n",
              "      <td>False</td>\n",
              "    </tr>\n",
              "    <tr>\n",
              "      <th>2</th>\n",
              "      <td>4673628</td>\n",
              "      <td>2006-01-08 23:16:00</td>\n",
              "      <td>013XX E 69TH ST</td>\n",
              "      <td>ASSAULT</td>\n",
              "      <td>AGGRAVATED: HANDGUN</td>\n",
              "      <td>OTHER</td>\n",
              "      <td>False</td>\n",
              "      <td>False</td>\n",
              "    </tr>\n",
              "    <tr>\n",
              "      <th>4</th>\n",
              "      <td>4673629</td>\n",
              "      <td>2006-04-05 18:45:00</td>\n",
              "      <td>061XX W NEWPORT AVE</td>\n",
              "      <td>BATTERY</td>\n",
              "      <td>SIMPLE</td>\n",
              "      <td>RESIDENCE</td>\n",
              "      <td>False</td>\n",
              "      <td>False</td>\n",
              "    </tr>\n",
              "    <tr>\n",
              "      <th>5</th>\n",
              "      <td>4673630</td>\n",
              "      <td>2006-02-17 21:03:14</td>\n",
              "      <td>037XX W 60TH ST</td>\n",
              "      <td>NARCOTICS</td>\n",
              "      <td>POSS: CANNABIS 30GMS OR LESS</td>\n",
              "      <td>ALLEY</td>\n",
              "      <td>True</td>\n",
              "      <td>False</td>\n",
              "    </tr>\n",
              "    <tr>\n",
              "      <th>...</th>\n",
              "      <td>...</td>\n",
              "      <td>...</td>\n",
              "      <td>...</td>\n",
              "      <td>...</td>\n",
              "      <td>...</td>\n",
              "      <td>...</td>\n",
              "      <td>...</td>\n",
              "      <td>...</td>\n",
              "    </tr>\n",
              "    <tr>\n",
              "      <th>6250330</th>\n",
              "      <td>10508679</td>\n",
              "      <td>2016-05-03 23:33:00</td>\n",
              "      <td>026XX W 23RD PL</td>\n",
              "      <td>BATTERY</td>\n",
              "      <td>DOMESTIC BATTERY SIMPLE</td>\n",
              "      <td>APARTMENT</td>\n",
              "      <td>True</td>\n",
              "      <td>True</td>\n",
              "    </tr>\n",
              "    <tr>\n",
              "      <th>6251089</th>\n",
              "      <td>10508680</td>\n",
              "      <td>2016-05-03 23:30:00</td>\n",
              "      <td>073XX S HARVARD AVE</td>\n",
              "      <td>CRIMINAL DAMAGE</td>\n",
              "      <td>TO PROPERTY</td>\n",
              "      <td>APARTMENT</td>\n",
              "      <td>True</td>\n",
              "      <td>True</td>\n",
              "    </tr>\n",
              "    <tr>\n",
              "      <th>6251349</th>\n",
              "      <td>10508681</td>\n",
              "      <td>2016-05-03 00:15:00</td>\n",
              "      <td>024XX W 63RD ST</td>\n",
              "      <td>BATTERY</td>\n",
              "      <td>AGGRAVATED: HANDGUN</td>\n",
              "      <td>SIDEWALK</td>\n",
              "      <td>False</td>\n",
              "      <td>False</td>\n",
              "    </tr>\n",
              "    <tr>\n",
              "      <th>6253257</th>\n",
              "      <td>10508690</td>\n",
              "      <td>2016-05-03 21:07:00</td>\n",
              "      <td>082XX S EXCHANGE AVE</td>\n",
              "      <td>BATTERY</td>\n",
              "      <td>DOMESTIC BATTERY SIMPLE</td>\n",
              "      <td>SIDEWALK</td>\n",
              "      <td>False</td>\n",
              "      <td>True</td>\n",
              "    </tr>\n",
              "    <tr>\n",
              "      <th>6253474</th>\n",
              "      <td>10508692</td>\n",
              "      <td>2016-05-03 23:38:00</td>\n",
              "      <td>001XX E 75TH ST</td>\n",
              "      <td>OTHER OFFENSE</td>\n",
              "      <td>OTHER WEAPONS VIOLATION</td>\n",
              "      <td>PARKING LOT/GARAGE(NON.RESID.)</td>\n",
              "      <td>True</td>\n",
              "      <td>False</td>\n",
              "    </tr>\n",
              "  </tbody>\n",
              "</table>\n",
              "<p>6017767 rows × 8 columns</p>\n",
              "</div>\n",
              "      <button class=\"colab-df-convert\" onclick=\"convertToInteractive('df-49cd7809-2321-4e8d-9731-271268e2f4ed')\"\n",
              "              title=\"Convert this dataframe to an interactive table.\"\n",
              "              style=\"display:none;\">\n",
              "        \n",
              "  <svg xmlns=\"http://www.w3.org/2000/svg\" height=\"24px\"viewBox=\"0 0 24 24\"\n",
              "       width=\"24px\">\n",
              "    <path d=\"M0 0h24v24H0V0z\" fill=\"none\"/>\n",
              "    <path d=\"M18.56 5.44l.94 2.06.94-2.06 2.06-.94-2.06-.94-.94-2.06-.94 2.06-2.06.94zm-11 1L8.5 8.5l.94-2.06 2.06-.94-2.06-.94L8.5 2.5l-.94 2.06-2.06.94zm10 10l.94 2.06.94-2.06 2.06-.94-2.06-.94-.94-2.06-.94 2.06-2.06.94z\"/><path d=\"M17.41 7.96l-1.37-1.37c-.4-.4-.92-.59-1.43-.59-.52 0-1.04.2-1.43.59L10.3 9.45l-7.72 7.72c-.78.78-.78 2.05 0 2.83L4 21.41c.39.39.9.59 1.41.59.51 0 1.02-.2 1.41-.59l7.78-7.78 2.81-2.81c.8-.78.8-2.07 0-2.86zM5.41 20L4 18.59l7.72-7.72 1.47 1.35L5.41 20z\"/>\n",
              "  </svg>\n",
              "      </button>\n",
              "      \n",
              "  <style>\n",
              "    .colab-df-container {\n",
              "      display:flex;\n",
              "      flex-wrap:wrap;\n",
              "      gap: 12px;\n",
              "    }\n",
              "\n",
              "    .colab-df-convert {\n",
              "      background-color: #E8F0FE;\n",
              "      border: none;\n",
              "      border-radius: 50%;\n",
              "      cursor: pointer;\n",
              "      display: none;\n",
              "      fill: #1967D2;\n",
              "      height: 32px;\n",
              "      padding: 0 0 0 0;\n",
              "      width: 32px;\n",
              "    }\n",
              "\n",
              "    .colab-df-convert:hover {\n",
              "      background-color: #E2EBFA;\n",
              "      box-shadow: 0px 1px 2px rgba(60, 64, 67, 0.3), 0px 1px 3px 1px rgba(60, 64, 67, 0.15);\n",
              "      fill: #174EA6;\n",
              "    }\n",
              "\n",
              "    [theme=dark] .colab-df-convert {\n",
              "      background-color: #3B4455;\n",
              "      fill: #D2E3FC;\n",
              "    }\n",
              "\n",
              "    [theme=dark] .colab-df-convert:hover {\n",
              "      background-color: #434B5C;\n",
              "      box-shadow: 0px 1px 3px 1px rgba(0, 0, 0, 0.15);\n",
              "      filter: drop-shadow(0px 1px 2px rgba(0, 0, 0, 0.3));\n",
              "      fill: #FFFFFF;\n",
              "    }\n",
              "  </style>\n",
              "\n",
              "      <script>\n",
              "        const buttonEl =\n",
              "          document.querySelector('#df-49cd7809-2321-4e8d-9731-271268e2f4ed button.colab-df-convert');\n",
              "        buttonEl.style.display =\n",
              "          google.colab.kernel.accessAllowed ? 'block' : 'none';\n",
              "\n",
              "        async function convertToInteractive(key) {\n",
              "          const element = document.querySelector('#df-49cd7809-2321-4e8d-9731-271268e2f4ed');\n",
              "          const dataTable =\n",
              "            await google.colab.kernel.invokeFunction('convertToInteractive',\n",
              "                                                     [key], {});\n",
              "          if (!dataTable) return;\n",
              "\n",
              "          const docLinkHtml = 'Like what you see? Visit the ' +\n",
              "            '<a target=\"_blank\" href=https://colab.research.google.com/notebooks/data_table.ipynb>data table notebook</a>'\n",
              "            + ' to learn more about interactive tables.';\n",
              "          element.innerHTML = '';\n",
              "          dataTable['output_type'] = 'display_data';\n",
              "          await google.colab.output.renderOutput(dataTable, element);\n",
              "          const docLink = document.createElement('div');\n",
              "          docLink.innerHTML = docLinkHtml;\n",
              "          element.appendChild(docLink);\n",
              "        }\n",
              "      </script>\n",
              "    </div>\n",
              "  </div>\n",
              "  "
            ]
          },
          "metadata": {},
          "execution_count": 27
        }
      ]
    },
    {
      "cell_type": "code",
      "source": [
        "chicago_df.info()"
      ],
      "metadata": {
        "colab": {
          "base_uri": "https://localhost:8080/"
        },
        "id": "3tAglHSWF2Vy",
        "outputId": "38637fe8-d1ea-4025-d65f-0a5cdb6f5c46"
      },
      "execution_count": 28,
      "outputs": [
        {
          "output_type": "stream",
          "name": "stdout",
          "text": [
            "<class 'pandas.core.frame.DataFrame'>\n",
            "Int64Index: 6017767 entries, 0 to 6253474\n",
            "Data columns (total 8 columns):\n",
            " #   Column                Dtype         \n",
            "---  ------                -----         \n",
            " 0   ID                    int64         \n",
            " 1   Date                  datetime64[ns]\n",
            " 2   Block                 object        \n",
            " 3   Primary Type          object        \n",
            " 4   Description           object        \n",
            " 5   Location Description  object        \n",
            " 6   Arrest                bool          \n",
            " 7   Domestic              bool          \n",
            "dtypes: bool(2), datetime64[ns](1), int64(1), object(4)\n",
            "memory usage: 332.9+ MB\n"
          ]
        }
      ]
    },
    {
      "cell_type": "code",
      "source": [
        "# 범죄가 일어난 시간이, Date 컬럼에 있다.\n",
        "# 이 정보로부터, 요일정보를 뽑아서\n",
        "# 각 요일별로, 범죄건수를 보여주세요."
      ],
      "metadata": {
        "id": "sLQtEh9XG28x"
      },
      "execution_count": null,
      "outputs": []
    },
    {
      "cell_type": "code",
      "source": [
        "chicago_df['weekday'] = chicago_df['Date'].dt.weekday"
      ],
      "metadata": {
        "id": "R6zWNOCOG2yk"
      },
      "execution_count": 32,
      "outputs": []
    },
    {
      "cell_type": "code",
      "source": [
        "chicago_df['weekday'].value_counts()"
      ],
      "metadata": {
        "colab": {
          "base_uri": "https://localhost:8080/"
        },
        "id": "7X8qjP9-HB1Z",
        "outputId": "dc79ca4c-16dd-466b-8f59-31937bdc2bdc"
      },
      "execution_count": 34,
      "outputs": [
        {
          "output_type": "execute_result",
          "data": {
            "text/plain": [
              "4    910373\n",
              "2    870841\n",
              "1    865340\n",
              "3    860425\n",
              "5    858153\n",
              "0    843525\n",
              "6    809110\n",
              "Name: weekday, dtype: int64"
            ]
          },
          "metadata": {},
          "execution_count": 34
        }
      ]
    },
    {
      "cell_type": "code",
      "source": [
        "chicago_df['weekday'] =  chicago_df['Date'].dt.strftime('%A')"
      ],
      "metadata": {
        "id": "JzD3Bhn2IVLp"
      },
      "execution_count": 37,
      "outputs": []
    },
    {
      "cell_type": "code",
      "source": [
        "chicago_df['weekday'].value_counts()"
      ],
      "metadata": {
        "colab": {
          "base_uri": "https://localhost:8080/"
        },
        "id": "5kyei7NnJJ0y",
        "outputId": "ae75ad8c-440a-42a9-c51e-ec37eaefefdf"
      },
      "execution_count": 38,
      "outputs": [
        {
          "output_type": "execute_result",
          "data": {
            "text/plain": [
              "Friday       910373\n",
              "Wednesday    870841\n",
              "Tuesday      865340\n",
              "Thursday     860425\n",
              "Saturday     858153\n",
              "Monday       843525\n",
              "Sunday       809110\n",
              "Name: weekday, dtype: int64"
            ]
          },
          "metadata": {},
          "execution_count": 38
        }
      ]
    },
    {
      "cell_type": "code",
      "source": [],
      "metadata": {
        "id": "reKwl8UcJJu7"
      },
      "execution_count": null,
      "outputs": []
    },
    {
      "cell_type": "markdown",
      "metadata": {
        "id": "zqTRE6IG_PIB"
      },
      "source": [
        "### Date 컬럼을 인덱스로 만드시오."
      ]
    },
    {
      "cell_type": "code",
      "source": [
        "# 그룹바이함수를 이용해서는, 날짜 데이터로 바로\n",
        "# 년단위, 월단위, 일단위, 시단위, 분단위 , 초단위 등으로 묶어라\n",
        "# 라고 할수 없다!!!\n",
        "\n",
        "# 따라서, 먼저 Date 컬럼을 인덱스로 만들어 준다.\n",
        "# 그러면, resample 함수를 사용할수 있게 된다.\n",
        "# 바로 이 함수가, 년단위, 월단위 등등으로 데이터를 묶어서 처리가 가능하다."
      ],
      "metadata": {
        "id": "zf16d65NJW9C"
      },
      "execution_count": null,
      "outputs": []
    },
    {
      "cell_type": "code",
      "metadata": {
        "id": "TMMpfLddzsZc"
      },
      "source": [
        "chicago_df.index = chicago_df['Date']"
      ],
      "execution_count": 40,
      "outputs": []
    },
    {
      "cell_type": "code",
      "metadata": {
        "id": "1qKouU7DzsZc",
        "colab": {
          "base_uri": "https://localhost:8080/",
          "height": 884
        },
        "outputId": "5ecc03f2-a4ff-4416-e64e-7835a7b4748c"
      },
      "source": [
        "chicago_df"
      ],
      "execution_count": 41,
      "outputs": [
        {
          "output_type": "execute_result",
          "data": {
            "text/plain": [
              "                           ID                Date                 Block  \\\n",
              "Date                                                                      \n",
              "2006-04-02 13:00:00   4673626 2006-04-02 13:00:00     055XX N MANGO AVE   \n",
              "2006-02-26 13:40:48   4673627 2006-02-26 13:40:48    065XX S RHODES AVE   \n",
              "2006-01-08 23:16:00   4673628 2006-01-08 23:16:00       013XX E 69TH ST   \n",
              "2006-04-05 18:45:00   4673629 2006-04-05 18:45:00   061XX W NEWPORT AVE   \n",
              "2006-02-17 21:03:14   4673630 2006-02-17 21:03:14       037XX W 60TH ST   \n",
              "...                       ...                 ...                   ...   \n",
              "2016-05-03 23:33:00  10508679 2016-05-03 23:33:00       026XX W 23RD PL   \n",
              "2016-05-03 23:30:00  10508680 2016-05-03 23:30:00   073XX S HARVARD AVE   \n",
              "2016-05-03 00:15:00  10508681 2016-05-03 00:15:00       024XX W 63RD ST   \n",
              "2016-05-03 21:07:00  10508690 2016-05-03 21:07:00  082XX S EXCHANGE AVE   \n",
              "2016-05-03 23:38:00  10508692 2016-05-03 23:38:00       001XX E 75TH ST   \n",
              "\n",
              "                        Primary Type                   Description  \\\n",
              "Date                                                                 \n",
              "2006-04-02 13:00:00    OTHER OFFENSE       HARASSMENT BY TELEPHONE   \n",
              "2006-02-26 13:40:48        NARCOTICS            MANU/DELIVER:CRACK   \n",
              "2006-01-08 23:16:00          ASSAULT           AGGRAVATED: HANDGUN   \n",
              "2006-04-05 18:45:00          BATTERY                        SIMPLE   \n",
              "2006-02-17 21:03:14        NARCOTICS  POSS: CANNABIS 30GMS OR LESS   \n",
              "...                              ...                           ...   \n",
              "2016-05-03 23:33:00          BATTERY       DOMESTIC BATTERY SIMPLE   \n",
              "2016-05-03 23:30:00  CRIMINAL DAMAGE                   TO PROPERTY   \n",
              "2016-05-03 00:15:00          BATTERY           AGGRAVATED: HANDGUN   \n",
              "2016-05-03 21:07:00          BATTERY       DOMESTIC BATTERY SIMPLE   \n",
              "2016-05-03 23:38:00    OTHER OFFENSE       OTHER WEAPONS VIOLATION   \n",
              "\n",
              "                               Location Description  Arrest  Domestic  \\\n",
              "Date                                                                    \n",
              "2006-04-02 13:00:00                       RESIDENCE   False     False   \n",
              "2006-02-26 13:40:48                        SIDEWALK    True     False   \n",
              "2006-01-08 23:16:00                           OTHER   False     False   \n",
              "2006-04-05 18:45:00                       RESIDENCE   False     False   \n",
              "2006-02-17 21:03:14                           ALLEY    True     False   \n",
              "...                                             ...     ...       ...   \n",
              "2016-05-03 23:33:00                       APARTMENT    True      True   \n",
              "2016-05-03 23:30:00                       APARTMENT    True      True   \n",
              "2016-05-03 00:15:00                        SIDEWALK   False     False   \n",
              "2016-05-03 21:07:00                        SIDEWALK   False      True   \n",
              "2016-05-03 23:38:00  PARKING LOT/GARAGE(NON.RESID.)    True     False   \n",
              "\n",
              "                       weekday  \n",
              "Date                            \n",
              "2006-04-02 13:00:00     Sunday  \n",
              "2006-02-26 13:40:48     Sunday  \n",
              "2006-01-08 23:16:00     Sunday  \n",
              "2006-04-05 18:45:00  Wednesday  \n",
              "2006-02-17 21:03:14     Friday  \n",
              "...                        ...  \n",
              "2016-05-03 23:33:00    Tuesday  \n",
              "2016-05-03 23:30:00    Tuesday  \n",
              "2016-05-03 00:15:00    Tuesday  \n",
              "2016-05-03 21:07:00    Tuesday  \n",
              "2016-05-03 23:38:00    Tuesday  \n",
              "\n",
              "[6017767 rows x 9 columns]"
            ],
            "text/html": [
              "\n",
              "  <div id=\"df-9ffa9141-f3d7-4a2c-915b-6649c523bea3\">\n",
              "    <div class=\"colab-df-container\">\n",
              "      <div>\n",
              "<style scoped>\n",
              "    .dataframe tbody tr th:only-of-type {\n",
              "        vertical-align: middle;\n",
              "    }\n",
              "\n",
              "    .dataframe tbody tr th {\n",
              "        vertical-align: top;\n",
              "    }\n",
              "\n",
              "    .dataframe thead th {\n",
              "        text-align: right;\n",
              "    }\n",
              "</style>\n",
              "<table border=\"1\" class=\"dataframe\">\n",
              "  <thead>\n",
              "    <tr style=\"text-align: right;\">\n",
              "      <th></th>\n",
              "      <th>ID</th>\n",
              "      <th>Date</th>\n",
              "      <th>Block</th>\n",
              "      <th>Primary Type</th>\n",
              "      <th>Description</th>\n",
              "      <th>Location Description</th>\n",
              "      <th>Arrest</th>\n",
              "      <th>Domestic</th>\n",
              "      <th>weekday</th>\n",
              "    </tr>\n",
              "    <tr>\n",
              "      <th>Date</th>\n",
              "      <th></th>\n",
              "      <th></th>\n",
              "      <th></th>\n",
              "      <th></th>\n",
              "      <th></th>\n",
              "      <th></th>\n",
              "      <th></th>\n",
              "      <th></th>\n",
              "      <th></th>\n",
              "    </tr>\n",
              "  </thead>\n",
              "  <tbody>\n",
              "    <tr>\n",
              "      <th>2006-04-02 13:00:00</th>\n",
              "      <td>4673626</td>\n",
              "      <td>2006-04-02 13:00:00</td>\n",
              "      <td>055XX N MANGO AVE</td>\n",
              "      <td>OTHER OFFENSE</td>\n",
              "      <td>HARASSMENT BY TELEPHONE</td>\n",
              "      <td>RESIDENCE</td>\n",
              "      <td>False</td>\n",
              "      <td>False</td>\n",
              "      <td>Sunday</td>\n",
              "    </tr>\n",
              "    <tr>\n",
              "      <th>2006-02-26 13:40:48</th>\n",
              "      <td>4673627</td>\n",
              "      <td>2006-02-26 13:40:48</td>\n",
              "      <td>065XX S RHODES AVE</td>\n",
              "      <td>NARCOTICS</td>\n",
              "      <td>MANU/DELIVER:CRACK</td>\n",
              "      <td>SIDEWALK</td>\n",
              "      <td>True</td>\n",
              "      <td>False</td>\n",
              "      <td>Sunday</td>\n",
              "    </tr>\n",
              "    <tr>\n",
              "      <th>2006-01-08 23:16:00</th>\n",
              "      <td>4673628</td>\n",
              "      <td>2006-01-08 23:16:00</td>\n",
              "      <td>013XX E 69TH ST</td>\n",
              "      <td>ASSAULT</td>\n",
              "      <td>AGGRAVATED: HANDGUN</td>\n",
              "      <td>OTHER</td>\n",
              "      <td>False</td>\n",
              "      <td>False</td>\n",
              "      <td>Sunday</td>\n",
              "    </tr>\n",
              "    <tr>\n",
              "      <th>2006-04-05 18:45:00</th>\n",
              "      <td>4673629</td>\n",
              "      <td>2006-04-05 18:45:00</td>\n",
              "      <td>061XX W NEWPORT AVE</td>\n",
              "      <td>BATTERY</td>\n",
              "      <td>SIMPLE</td>\n",
              "      <td>RESIDENCE</td>\n",
              "      <td>False</td>\n",
              "      <td>False</td>\n",
              "      <td>Wednesday</td>\n",
              "    </tr>\n",
              "    <tr>\n",
              "      <th>2006-02-17 21:03:14</th>\n",
              "      <td>4673630</td>\n",
              "      <td>2006-02-17 21:03:14</td>\n",
              "      <td>037XX W 60TH ST</td>\n",
              "      <td>NARCOTICS</td>\n",
              "      <td>POSS: CANNABIS 30GMS OR LESS</td>\n",
              "      <td>ALLEY</td>\n",
              "      <td>True</td>\n",
              "      <td>False</td>\n",
              "      <td>Friday</td>\n",
              "    </tr>\n",
              "    <tr>\n",
              "      <th>...</th>\n",
              "      <td>...</td>\n",
              "      <td>...</td>\n",
              "      <td>...</td>\n",
              "      <td>...</td>\n",
              "      <td>...</td>\n",
              "      <td>...</td>\n",
              "      <td>...</td>\n",
              "      <td>...</td>\n",
              "      <td>...</td>\n",
              "    </tr>\n",
              "    <tr>\n",
              "      <th>2016-05-03 23:33:00</th>\n",
              "      <td>10508679</td>\n",
              "      <td>2016-05-03 23:33:00</td>\n",
              "      <td>026XX W 23RD PL</td>\n",
              "      <td>BATTERY</td>\n",
              "      <td>DOMESTIC BATTERY SIMPLE</td>\n",
              "      <td>APARTMENT</td>\n",
              "      <td>True</td>\n",
              "      <td>True</td>\n",
              "      <td>Tuesday</td>\n",
              "    </tr>\n",
              "    <tr>\n",
              "      <th>2016-05-03 23:30:00</th>\n",
              "      <td>10508680</td>\n",
              "      <td>2016-05-03 23:30:00</td>\n",
              "      <td>073XX S HARVARD AVE</td>\n",
              "      <td>CRIMINAL DAMAGE</td>\n",
              "      <td>TO PROPERTY</td>\n",
              "      <td>APARTMENT</td>\n",
              "      <td>True</td>\n",
              "      <td>True</td>\n",
              "      <td>Tuesday</td>\n",
              "    </tr>\n",
              "    <tr>\n",
              "      <th>2016-05-03 00:15:00</th>\n",
              "      <td>10508681</td>\n",
              "      <td>2016-05-03 00:15:00</td>\n",
              "      <td>024XX W 63RD ST</td>\n",
              "      <td>BATTERY</td>\n",
              "      <td>AGGRAVATED: HANDGUN</td>\n",
              "      <td>SIDEWALK</td>\n",
              "      <td>False</td>\n",
              "      <td>False</td>\n",
              "      <td>Tuesday</td>\n",
              "    </tr>\n",
              "    <tr>\n",
              "      <th>2016-05-03 21:07:00</th>\n",
              "      <td>10508690</td>\n",
              "      <td>2016-05-03 21:07:00</td>\n",
              "      <td>082XX S EXCHANGE AVE</td>\n",
              "      <td>BATTERY</td>\n",
              "      <td>DOMESTIC BATTERY SIMPLE</td>\n",
              "      <td>SIDEWALK</td>\n",
              "      <td>False</td>\n",
              "      <td>True</td>\n",
              "      <td>Tuesday</td>\n",
              "    </tr>\n",
              "    <tr>\n",
              "      <th>2016-05-03 23:38:00</th>\n",
              "      <td>10508692</td>\n",
              "      <td>2016-05-03 23:38:00</td>\n",
              "      <td>001XX E 75TH ST</td>\n",
              "      <td>OTHER OFFENSE</td>\n",
              "      <td>OTHER WEAPONS VIOLATION</td>\n",
              "      <td>PARKING LOT/GARAGE(NON.RESID.)</td>\n",
              "      <td>True</td>\n",
              "      <td>False</td>\n",
              "      <td>Tuesday</td>\n",
              "    </tr>\n",
              "  </tbody>\n",
              "</table>\n",
              "<p>6017767 rows × 9 columns</p>\n",
              "</div>\n",
              "      <button class=\"colab-df-convert\" onclick=\"convertToInteractive('df-9ffa9141-f3d7-4a2c-915b-6649c523bea3')\"\n",
              "              title=\"Convert this dataframe to an interactive table.\"\n",
              "              style=\"display:none;\">\n",
              "        \n",
              "  <svg xmlns=\"http://www.w3.org/2000/svg\" height=\"24px\"viewBox=\"0 0 24 24\"\n",
              "       width=\"24px\">\n",
              "    <path d=\"M0 0h24v24H0V0z\" fill=\"none\"/>\n",
              "    <path d=\"M18.56 5.44l.94 2.06.94-2.06 2.06-.94-2.06-.94-.94-2.06-.94 2.06-2.06.94zm-11 1L8.5 8.5l.94-2.06 2.06-.94-2.06-.94L8.5 2.5l-.94 2.06-2.06.94zm10 10l.94 2.06.94-2.06 2.06-.94-2.06-.94-.94-2.06-.94 2.06-2.06.94z\"/><path d=\"M17.41 7.96l-1.37-1.37c-.4-.4-.92-.59-1.43-.59-.52 0-1.04.2-1.43.59L10.3 9.45l-7.72 7.72c-.78.78-.78 2.05 0 2.83L4 21.41c.39.39.9.59 1.41.59.51 0 1.02-.2 1.41-.59l7.78-7.78 2.81-2.81c.8-.78.8-2.07 0-2.86zM5.41 20L4 18.59l7.72-7.72 1.47 1.35L5.41 20z\"/>\n",
              "  </svg>\n",
              "      </button>\n",
              "      \n",
              "  <style>\n",
              "    .colab-df-container {\n",
              "      display:flex;\n",
              "      flex-wrap:wrap;\n",
              "      gap: 12px;\n",
              "    }\n",
              "\n",
              "    .colab-df-convert {\n",
              "      background-color: #E8F0FE;\n",
              "      border: none;\n",
              "      border-radius: 50%;\n",
              "      cursor: pointer;\n",
              "      display: none;\n",
              "      fill: #1967D2;\n",
              "      height: 32px;\n",
              "      padding: 0 0 0 0;\n",
              "      width: 32px;\n",
              "    }\n",
              "\n",
              "    .colab-df-convert:hover {\n",
              "      background-color: #E2EBFA;\n",
              "      box-shadow: 0px 1px 2px rgba(60, 64, 67, 0.3), 0px 1px 3px 1px rgba(60, 64, 67, 0.15);\n",
              "      fill: #174EA6;\n",
              "    }\n",
              "\n",
              "    [theme=dark] .colab-df-convert {\n",
              "      background-color: #3B4455;\n",
              "      fill: #D2E3FC;\n",
              "    }\n",
              "\n",
              "    [theme=dark] .colab-df-convert:hover {\n",
              "      background-color: #434B5C;\n",
              "      box-shadow: 0px 1px 3px 1px rgba(0, 0, 0, 0.15);\n",
              "      filter: drop-shadow(0px 1px 2px rgba(0, 0, 0, 0.3));\n",
              "      fill: #FFFFFF;\n",
              "    }\n",
              "  </style>\n",
              "\n",
              "      <script>\n",
              "        const buttonEl =\n",
              "          document.querySelector('#df-9ffa9141-f3d7-4a2c-915b-6649c523bea3 button.colab-df-convert');\n",
              "        buttonEl.style.display =\n",
              "          google.colab.kernel.accessAllowed ? 'block' : 'none';\n",
              "\n",
              "        async function convertToInteractive(key) {\n",
              "          const element = document.querySelector('#df-9ffa9141-f3d7-4a2c-915b-6649c523bea3');\n",
              "          const dataTable =\n",
              "            await google.colab.kernel.invokeFunction('convertToInteractive',\n",
              "                                                     [key], {});\n",
              "          if (!dataTable) return;\n",
              "\n",
              "          const docLinkHtml = 'Like what you see? Visit the ' +\n",
              "            '<a target=\"_blank\" href=https://colab.research.google.com/notebooks/data_table.ipynb>data table notebook</a>'\n",
              "            + ' to learn more about interactive tables.';\n",
              "          element.innerHTML = '';\n",
              "          dataTable['output_type'] = 'display_data';\n",
              "          await google.colab.output.renderOutput(dataTable, element);\n",
              "          const docLink = document.createElement('div');\n",
              "          docLink.innerHTML = docLinkHtml;\n",
              "          element.appendChild(docLink);\n",
              "        }\n",
              "      </script>\n",
              "    </div>\n",
              "  </div>\n",
              "  "
            ]
          },
          "metadata": {},
          "execution_count": 41
        }
      ]
    },
    {
      "cell_type": "markdown",
      "metadata": {
        "id": "N9Gi1uer_Yai"
      },
      "source": [
        "### 범죄 유형의 갯수를 세고, 가장 많은것부터 내림차순으로 보여주세요.  "
      ]
    },
    {
      "cell_type": "code",
      "metadata": {
        "id": "muildaELzsZd",
        "colab": {
          "base_uri": "https://localhost:8080/"
        },
        "outputId": "04572be5-6d5d-4241-d3de-963575170bc6"
      },
      "source": [
        "chicago_df['Primary Type'].nunique()"
      ],
      "execution_count": 43,
      "outputs": [
        {
          "output_type": "execute_result",
          "data": {
            "text/plain": [
              "34"
            ]
          },
          "metadata": {},
          "execution_count": 43
        }
      ]
    },
    {
      "cell_type": "code",
      "source": [
        "chicago_df['Primary Type'].unique()"
      ],
      "metadata": {
        "colab": {
          "base_uri": "https://localhost:8080/"
        },
        "id": "dW3L7RUHK9-E",
        "outputId": "91ddce84-8872-4361-a8b1-ba46d1dfe99e"
      },
      "execution_count": 44,
      "outputs": [
        {
          "output_type": "execute_result",
          "data": {
            "text/plain": [
              "array(['OTHER OFFENSE', 'NARCOTICS', 'ASSAULT', 'BATTERY', 'THEFT',\n",
              "       'CRIMINAL TRESPASS', 'MOTOR VEHICLE THEFT', 'ROBBERY',\n",
              "       'DECEPTIVE PRACTICE', 'CRIMINAL DAMAGE', 'BURGLARY',\n",
              "       'INTIMIDATION', 'PROSTITUTION', 'SEX OFFENSE',\n",
              "       'PUBLIC PEACE VIOLATION', 'CRIM SEXUAL ASSAULT',\n",
              "       'WEAPONS VIOLATION', 'INTERFERENCE WITH PUBLIC OFFICER',\n",
              "       'OFFENSE INVOLVING CHILDREN', 'LIQUOR LAW VIOLATION', 'KIDNAPPING',\n",
              "       'STALKING', 'GAMBLING', 'ARSON', 'PUBLIC INDECENCY',\n",
              "       'OTHER NARCOTIC VIOLATION', 'OBSCENITY', 'HOMICIDE', 'RITUALISM',\n",
              "       'NON-CRIMINAL', 'HUMAN TRAFFICKING',\n",
              "       'CONCEALED CARRY LICENSE VIOLATION', 'NON - CRIMINAL',\n",
              "       'NON-CRIMINAL (SUBJECT SPECIFIED)'], dtype=object)"
            ]
          },
          "metadata": {},
          "execution_count": 44
        }
      ]
    },
    {
      "cell_type": "code",
      "source": [
        "chicago_df['Primary Type'].value_counts()"
      ],
      "metadata": {
        "colab": {
          "base_uri": "https://localhost:8080/"
        },
        "id": "YPfDDVOGK_Aq",
        "outputId": "cb66aadc-b6a1-41aa-c325-8a3eda74f877"
      },
      "execution_count": 45,
      "outputs": [
        {
          "output_type": "execute_result",
          "data": {
            "text/plain": [
              "THEFT                                1245111\n",
              "BATTERY                              1079178\n",
              "CRIMINAL DAMAGE                       702702\n",
              "NARCOTICS                             674831\n",
              "BURGLARY                              369056\n",
              "OTHER OFFENSE                         368169\n",
              "ASSAULT                               360244\n",
              "MOTOR VEHICLE THEFT                   271624\n",
              "ROBBERY                               229467\n",
              "DECEPTIVE PRACTICE                    225180\n",
              "CRIMINAL TRESPASS                     171596\n",
              "PROSTITUTION                           60735\n",
              "WEAPONS VIOLATION                      60335\n",
              "PUBLIC PEACE VIOLATION                 48403\n",
              "OFFENSE INVOLVING CHILDREN             40260\n",
              "CRIM SEXUAL ASSAULT                    22789\n",
              "SEX OFFENSE                            20172\n",
              "GAMBLING                               14755\n",
              "INTERFERENCE WITH PUBLIC OFFICER       14009\n",
              "LIQUOR LAW VIOLATION                   12129\n",
              "ARSON                                   9269\n",
              "HOMICIDE                                5879\n",
              "KIDNAPPING                              4734\n",
              "INTIMIDATION                            3324\n",
              "STALKING                                2866\n",
              "OBSCENITY                                422\n",
              "PUBLIC INDECENCY                         134\n",
              "OTHER NARCOTIC VIOLATION                 122\n",
              "NON-CRIMINAL                              96\n",
              "CONCEALED CARRY LICENSE VIOLATION         90\n",
              "NON - CRIMINAL                            38\n",
              "HUMAN TRAFFICKING                         28\n",
              "RITUALISM                                 16\n",
              "NON-CRIMINAL (SUBJECT SPECIFIED)           4\n",
              "Name: Primary Type, dtype: int64"
            ]
          },
          "metadata": {},
          "execution_count": 45
        }
      ]
    },
    {
      "cell_type": "markdown",
      "metadata": {
        "id": "eFBz1M58_qwc"
      },
      "source": [
        "### 상위 15개까지만 보여주세요."
      ]
    },
    {
      "cell_type": "code",
      "metadata": {
        "id": "p7RAK77XzsZe"
      },
      "source": [
        "top_15 = chicago_df['Primary Type'].value_counts().head(15)"
      ],
      "execution_count": 47,
      "outputs": []
    },
    {
      "cell_type": "code",
      "metadata": {
        "id": "QutkE4XJzsZe",
        "colab": {
          "base_uri": "https://localhost:8080/"
        },
        "outputId": "cde8192c-5158-4f69-deae-db14e54cc529"
      },
      "source": [
        "top_15.index"
      ],
      "execution_count": 48,
      "outputs": [
        {
          "output_type": "execute_result",
          "data": {
            "text/plain": [
              "Index(['THEFT', 'BATTERY', 'CRIMINAL DAMAGE', 'NARCOTICS', 'BURGLARY',\n",
              "       'OTHER OFFENSE', 'ASSAULT', 'MOTOR VEHICLE THEFT', 'ROBBERY',\n",
              "       'DECEPTIVE PRACTICE', 'CRIMINAL TRESPASS', 'PROSTITUTION',\n",
              "       'WEAPONS VIOLATION', 'PUBLIC PEACE VIOLATION',\n",
              "       'OFFENSE INVOLVING CHILDREN'],\n",
              "      dtype='object')"
            ]
          },
          "metadata": {},
          "execution_count": 48
        }
      ]
    },
    {
      "cell_type": "markdown",
      "metadata": {
        "id": "ebldk6f7AEf2"
      },
      "source": [
        "### 상위 15개의 범죄 유형(Primary Type)의 갯수를, 비주얼라리징 하시오. "
      ]
    },
    {
      "cell_type": "code",
      "metadata": {
        "id": "a1ur7iU9zsZe"
      },
      "source": [
        "import seaborn as sb"
      ],
      "execution_count": 49,
      "outputs": []
    },
    {
      "cell_type": "code",
      "source": [
        "sb.countplot(data = chicago_df, y = 'Primary Type', order = top_15.index)\n",
        "plt.show()"
      ],
      "metadata": {
        "colab": {
          "base_uri": "https://localhost:8080/",
          "height": 279
        },
        "id": "4fS84z_FLdfi",
        "outputId": "733cfc83-9cd0-42b7-9429-f107e2648c53"
      },
      "execution_count": 51,
      "outputs": [
        {
          "output_type": "display_data",
          "data": {
            "text/plain": [
              "<Figure size 432x288 with 1 Axes>"
            ],
            "image/png": "[encoded data removed]"
          },
          "metadata": {
            "needs_background": "light"
          }
        }
      ]
    },
    {
      "cell_type": "markdown",
      "metadata": {
        "id": "YHETavcNAQMN"
      },
      "source": [
        "### 어디에서 가장 범죄가 많이 발생했는지, 범죄 장소(Location Descripton) 로 비주얼라이징 하시오."
      ]
    },
    {
      "cell_type": "code",
      "metadata": {
        "id": "nYH_J-6szsZf"
      },
      "source": [],
      "execution_count": null,
      "outputs": []
    },
    {
      "cell_type": "code",
      "metadata": {
        "id": "2t0C3KMAAjLu"
      },
      "source": [],
      "execution_count": null,
      "outputs": []
    },
    {
      "cell_type": "markdown",
      "metadata": {
        "id": "0cOJkVQHpyj3"
      },
      "source": [
        "### 데이터를 주기별로 분석해 보자"
      ]
    },
    {
      "cell_type": "markdown",
      "metadata": {
        "id": "mHoxIqW4pB6V"
      },
      "source": [
        "![스크린샷 2020-12-12 오후 3.29.41.png](data:image/png;base64,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)"
      ]
    },
    {
      "cell_type": "code",
      "metadata": {
        "id": "bIMqThFrzsZf"
      },
      "source": [
        "# resample  'Y' 는 년도다. 년도로 리샘플한 후, 각 년도별 몇개의 범죄 데이터를 가지고 있는지 확인한다.\n",
        "df_year = chicago_df.resample('YS').size()\n"
      ],
      "execution_count": 55,
      "outputs": []
    },
    {
      "cell_type": "code",
      "metadata": {
        "id": "HbbttuN_zsZg",
        "colab": {
          "base_uri": "https://localhost:8080/",
          "height": 265
        },
        "outputId": "af931929-ee2b-4716-cc73-3268154b1161"
      },
      "source": [
        "# 위의 데이터를 plot 으로 시각화 한다. 범죄횟수를 눈으로 확인하자.\n",
        "plt.plot(df_year)\n",
        "plt.show()"
      ],
      "execution_count": 56,
      "outputs": [
        {
          "output_type": "display_data",
          "data": {
            "text/plain": [
              "<Figure size 432x288 with 1 Axes>"
            ],
            "image/png": "[encoded data removed]"
          },
          "metadata": {
            "needs_background": "light"
          }
        }
      ]
    },
    {
      "cell_type": "code",
      "source": [
        "chicago_df.sort_index().tail()"
      ],
      "metadata": {
        "colab": {
          "base_uri": "https://localhost:8080/",
          "height": 492
        },
        "id": "FRyRpETvMlFK",
        "outputId": "32993033-86c1-4be1-8b67-75fd5261d45c"
      },
      "execution_count": 62,
      "outputs": [
        {
          "output_type": "execute_result",
          "data": {
            "text/plain": [
              "                           ID                Date                    Block  \\\n",
              "Date                                                                         \n",
              "2017-01-18 23:30:00  10820633 2017-01-18 23:30:00         116XX S LOWE AVE   \n",
              "2017-01-18 23:35:00  10820662 2017-01-18 23:35:00  028XX W SHAKESPEARE AVE   \n",
              "2017-01-18 23:40:00  10821699 2017-01-18 23:40:00       010XX W WILSON AVE   \n",
              "2017-01-18 23:45:00  10820646 2017-01-18 23:45:00        004XX N HOMAN AVE   \n",
              "2017-01-18 23:49:00  10820691 2017-01-18 23:49:00      034XX W DICKENS AVE   \n",
              "\n",
              "                          Primary Type               Description  \\\n",
              "Date                                                               \n",
              "2017-01-18 23:30:00            BATTERY   DOMESTIC BATTERY SIMPLE   \n",
              "2017-01-18 23:35:00            ROBBERY       VEHICULAR HIJACKING   \n",
              "2017-01-18 23:40:00            ROBBERY            ARMED: HANDGUN   \n",
              "2017-01-18 23:45:00  WEAPONS VIOLATION  UNLAWFUL POSS OF HANDGUN   \n",
              "2017-01-18 23:49:00            ROBBERY            ARMED: HANDGUN   \n",
              "\n",
              "                    Location Description  Arrest  Domestic    weekday  \n",
              "Date                                                                   \n",
              "2017-01-18 23:30:00             SIDEWALK   False      True  Wednesday  \n",
              "2017-01-18 23:35:00                ALLEY   False     False  Wednesday  \n",
              "2017-01-18 23:40:00               STREET   False     False  Wednesday  \n",
              "2017-01-18 23:45:00             SIDEWALK    True     False  Wednesday  \n",
              "2017-01-18 23:49:00                ALLEY   False     False  Wednesday  "
            ],
            "text/html": [
              "\n",
              "  <div id=\"df-0d1cb307-6f48-450e-891f-bf909e350f19\">\n",
              "    <div class=\"colab-df-container\">\n",
              "      <div>\n",
              "<style scoped>\n",
              "    .dataframe tbody tr th:only-of-type {\n",
              "        vertical-align: middle;\n",
              "    }\n",
              "\n",
              "    .dataframe tbody tr th {\n",
              "        vertical-align: top;\n",
              "    }\n",
              "\n",
              "    .dataframe thead th {\n",
              "        text-align: right;\n",
              "    }\n",
              "</style>\n",
              "<table border=\"1\" class=\"dataframe\">\n",
              "  <thead>\n",
              "    <tr style=\"text-align: right;\">\n",
              "      <th></th>\n",
              "      <th>ID</th>\n",
              "      <th>Date</th>\n",
              "      <th>Block</th>\n",
              "      <th>Primary Type</th>\n",
              "      <th>Description</th>\n",
              "      <th>Location Description</th>\n",
              "      <th>Arrest</th>\n",
              "      <th>Domestic</th>\n",
              "      <th>weekday</th>\n",
              "    </tr>\n",
              "    <tr>\n",
              "      <th>Date</th>\n",
              "      <th></th>\n",
              "      <th></th>\n",
              "      <th></th>\n",
              "      <th></th>\n",
              "      <th></th>\n",
              "      <th></th>\n",
              "      <th></th>\n",
              "      <th></th>\n",
              "      <th></th>\n",
              "    </tr>\n",
              "  </thead>\n",
              "  <tbody>\n",
              "    <tr>\n",
              "      <th>2017-01-18 23:30:00</th>\n",
              "      <td>10820633</td>\n",
              "      <td>2017-01-18 23:30:00</td>\n",
              "      <td>116XX S LOWE AVE</td>\n",
              "      <td>BATTERY</td>\n",
              "      <td>DOMESTIC BATTERY SIMPLE</td>\n",
              "      <td>SIDEWALK</td>\n",
              "      <td>False</td>\n",
              "      <td>True</td>\n",
              "      <td>Wednesday</td>\n",
              "    </tr>\n",
              "    <tr>\n",
              "      <th>2017-01-18 23:35:00</th>\n",
              "      <td>10820662</td>\n",
              "      <td>2017-01-18 23:35:00</td>\n",
              "      <td>028XX W SHAKESPEARE AVE</td>\n",
              "      <td>ROBBERY</td>\n",
              "      <td>VEHICULAR HIJACKING</td>\n",
              "      <td>ALLEY</td>\n",
              "      <td>False</td>\n",
              "      <td>False</td>\n",
              "      <td>Wednesday</td>\n",
              "    </tr>\n",
              "    <tr>\n",
              "      <th>2017-01-18 23:40:00</th>\n",
              "      <td>10821699</td>\n",
              "      <td>2017-01-18 23:40:00</td>\n",
              "      <td>010XX W WILSON AVE</td>\n",
              "      <td>ROBBERY</td>\n",
              "      <td>ARMED: HANDGUN</td>\n",
              "      <td>STREET</td>\n",
              "      <td>False</td>\n",
              "      <td>False</td>\n",
              "      <td>Wednesday</td>\n",
              "    </tr>\n",
              "    <tr>\n",
              "      <th>2017-01-18 23:45:00</th>\n",
              "      <td>10820646</td>\n",
              "      <td>2017-01-18 23:45:00</td>\n",
              "      <td>004XX N HOMAN AVE</td>\n",
              "      <td>WEAPONS VIOLATION</td>\n",
              "      <td>UNLAWFUL POSS OF HANDGUN</td>\n",
              "      <td>SIDEWALK</td>\n",
              "      <td>True</td>\n",
              "      <td>False</td>\n",
              "      <td>Wednesday</td>\n",
              "    </tr>\n",
              "    <tr>\n",
              "      <th>2017-01-18 23:49:00</th>\n",
              "      <td>10820691</td>\n",
              "      <td>2017-01-18 23:49:00</td>\n",
              "      <td>034XX W DICKENS AVE</td>\n",
              "      <td>ROBBERY</td>\n",
              "      <td>ARMED: HANDGUN</td>\n",
              "      <td>ALLEY</td>\n",
              "      <td>False</td>\n",
              "      <td>False</td>\n",
              "      <td>Wednesday</td>\n",
              "    </tr>\n",
              "  </tbody>\n",
              "</table>\n",
              "</div>\n",
              "      <button class=\"colab-df-convert\" onclick=\"convertToInteractive('df-0d1cb307-6f48-450e-891f-bf909e350f19')\"\n",
              "              title=\"Convert this dataframe to an interactive table.\"\n",
              "              style=\"display:none;\">\n",
              "        \n",
              "  <svg xmlns=\"http://www.w3.org/2000/svg\" height=\"24px\"viewBox=\"0 0 24 24\"\n",
              "       width=\"24px\">\n",
              "    <path d=\"M0 0h24v24H0V0z\" fill=\"none\"/>\n",
              "    <path d=\"M18.56 5.44l.94 2.06.94-2.06 2.06-.94-2.06-.94-.94-2.06-.94 2.06-2.06.94zm-11 1L8.5 8.5l.94-2.06 2.06-.94-2.06-.94L8.5 2.5l-.94 2.06-2.06.94zm10 10l.94 2.06.94-2.06 2.06-.94-2.06-.94-.94-2.06-.94 2.06-2.06.94z\"/><path d=\"M17.41 7.96l-1.37-1.37c-.4-.4-.92-.59-1.43-.59-.52 0-1.04.2-1.43.59L10.3 9.45l-7.72 7.72c-.78.78-.78 2.05 0 2.83L4 21.41c.39.39.9.59 1.41.59.51 0 1.02-.2 1.41-.59l7.78-7.78 2.81-2.81c.8-.78.8-2.07 0-2.86zM5.41 20L4 18.59l7.72-7.72 1.47 1.35L5.41 20z\"/>\n",
              "  </svg>\n",
              "      </button>\n",
              "      \n",
              "  <style>\n",
              "    .colab-df-container {\n",
              "      display:flex;\n",
              "      flex-wrap:wrap;\n",
              "      gap: 12px;\n",
              "    }\n",
              "\n",
              "    .colab-df-convert {\n",
              "      background-color: #E8F0FE;\n",
              "      border: none;\n",
              "      border-radius: 50%;\n",
              "      cursor: pointer;\n",
              "      display: none;\n",
              "      fill: #1967D2;\n",
              "      height: 32px;\n",
              "      padding: 0 0 0 0;\n",
              "      width: 32px;\n",
              "    }\n",
              "\n",
              "    .colab-df-convert:hover {\n",
              "      background-color: #E2EBFA;\n",
              "      box-shadow: 0px 1px 2px rgba(60, 64, 67, 0.3), 0px 1px 3px 1px rgba(60, 64, 67, 0.15);\n",
              "      fill: #174EA6;\n",
              "    }\n",
              "\n",
              "    [theme=dark] .colab-df-convert {\n",
              "      background-color: #3B4455;\n",
              "      fill: #D2E3FC;\n",
              "    }\n",
              "\n",
              "    [theme=dark] .colab-df-convert:hover {\n",
              "      background-color: #434B5C;\n",
              "      box-shadow: 0px 1px 3px 1px rgba(0, 0, 0, 0.15);\n",
              "      filter: drop-shadow(0px 1px 2px rgba(0, 0, 0, 0.3));\n",
              "      fill: #FFFFFF;\n",
              "    }\n",
              "  </style>\n",
              "\n",
              "      <script>\n",
              "        const buttonEl =\n",
              "          document.querySelector('#df-0d1cb307-6f48-450e-891f-bf909e350f19 button.colab-df-convert');\n",
              "        buttonEl.style.display =\n",
              "          google.colab.kernel.accessAllowed ? 'block' : 'none';\n",
              "\n",
              "        async function convertToInteractive(key) {\n",
              "          const element = document.querySelector('#df-0d1cb307-6f48-450e-891f-bf909e350f19');\n",
              "          const dataTable =\n",
              "            await google.colab.kernel.invokeFunction('convertToInteractive',\n",
              "                                                     [key], {});\n",
              "          if (!dataTable) return;\n",
              "\n",
              "          const docLinkHtml = 'Like what you see? Visit the ' +\n",
              "            '<a target=\"_blank\" href=https://colab.research.google.com/notebooks/data_table.ipynb>data table notebook</a>'\n",
              "            + ' to learn more about interactive tables.';\n",
              "          element.innerHTML = '';\n",
              "          dataTable['output_type'] = 'display_data';\n",
              "          await google.colab.output.renderOutput(dataTable, element);\n",
              "          const docLink = document.createElement('div');\n",
              "          docLink.innerHTML = docLinkHtml;\n",
              "          element.appendChild(docLink);\n",
              "        }\n",
              "      </script>\n",
              "    </div>\n",
              "  </div>\n",
              "  "
            ]
          },
          "metadata": {},
          "execution_count": 62
        }
      ]
    },
    {
      "cell_type": "code",
      "source": [
        "df_year.plot()\n",
        "plt.show()"
      ],
      "metadata": {
        "colab": {
          "base_uri": "https://localhost:8080/",
          "height": 279
        },
        "id": "vJSQAvUuNM-8",
        "outputId": "58a61528-afd1-4eb5-fe11-7b91f688613d"
      },
      "execution_count": 65,
      "outputs": [
        {
          "output_type": "display_data",
          "data": {
            "text/plain": [
              "<Figure size 432x288 with 1 Axes>"
            ],
            "image/png": "[encoded data removed]"
          },
          "metadata": {
            "needs_background": "light"
          }
        }
      ]
    },
    {
      "cell_type": "code",
      "metadata": {
        "id": "JXDJ16cTzsZg"
      },
      "source": [
        "# 월별 범죄 발생 건수를 확인하자.\n",
        "df_month = chicago_df.resample('M').size()"
      ],
      "execution_count": 67,
      "outputs": []
    },
    {
      "cell_type": "code",
      "source": [
        "df_month"
      ],
      "metadata": {
        "colab": {
          "base_uri": "https://localhost:8080/"
        },
        "id": "m0G-DLqtNorJ",
        "outputId": "39a57291-9373-41c8-cb9a-7d63e54a14f5"
      },
      "execution_count": 69,
      "outputs": [
        {
          "output_type": "execute_result",
          "data": {
            "text/plain": [
              "Date\n",
              "2005-01-31    33983\n",
              "2005-02-28    32042\n",
              "2005-03-31    36970\n",
              "2005-04-30    38963\n",
              "2005-05-31    40572\n",
              "              ...  \n",
              "2016-09-30    23235\n",
              "2016-10-31    23314\n",
              "2016-11-30    21140\n",
              "2016-12-31    19580\n",
              "2017-01-31    11357\n",
              "Freq: M, Length: 145, dtype: int64"
            ]
          },
          "metadata": {},
          "execution_count": 69
        }
      ]
    },
    {
      "cell_type": "code",
      "source": [
        "df_month.plot()\n",
        "plt.show()"
      ],
      "metadata": {
        "colab": {
          "base_uri": "https://localhost:8080/",
          "height": 279
        },
        "id": "Iw89-ukRNj_y",
        "outputId": "9ee9e08e-ef4a-4c58-82c5-0b9aeb4fc054"
      },
      "execution_count": 68,
      "outputs": [
        {
          "output_type": "display_data",
          "data": {
            "text/plain": [
              "<Figure size 432x288 with 1 Axes>"
            ],
            "image/png": "[encoded data removed]"
          },
          "metadata": {
            "needs_background": "light"
          }
        }
      ]
    },
    {
      "cell_type": "code",
      "metadata": {
        "id": "o_ltfGMxzsZg"
      },
      "source": [
        "# 월별 범죄 발생 건수도 plot 으로 시각화 하자.\n"
      ],
      "execution_count": null,
      "outputs": []
    },
    {
      "cell_type": "code",
      "metadata": {
        "id": "FvFdVBjJzsZh"
      },
      "source": [
        "# 분기별 범죄 건수도 확인하자.\n",
        "df_q = chicago_df.resample('Q').size()"
      ],
      "execution_count": 70,
      "outputs": []
    },
    {
      "cell_type": "code",
      "metadata": {
        "id": "Mw2JGx9izsZh",
        "colab": {
          "base_uri": "https://localhost:8080/",
          "height": 279
        },
        "outputId": "5e9eb2b1-64cc-4b45-e1d4-2fcea2753279"
      },
      "source": [
        "# 분기별 범죄 건수도 시각화 하자.\n",
        "df_q.plot()\n",
        "plt.show()"
      ],
      "execution_count": 71,
      "outputs": [
        {
          "output_type": "display_data",
          "data": {
            "text/plain": [
              "<Figure size 432x288 with 1 Axes>"
            ],
            "image/png": "[encoded data removed]"
          },
          "metadata": {
            "needs_background": "light"
          }
        }
      ]
    },
    {
      "cell_type": "code",
      "source": [],
      "metadata": {
        "id": "MP0kSbIHNwx6"
      },
      "execution_count": null,
      "outputs": []
    },
    {
      "cell_type": "code",
      "source": [
        "df_day = chicago_df.resample('D').size()"
      ],
      "metadata": {
        "id": "TogyDD8EN846"
      },
      "execution_count": 72,
      "outputs": []
    },
    {
      "cell_type": "code",
      "source": [
        "df_day"
      ],
      "metadata": {
        "colab": {
          "base_uri": "https://localhost:8080/"
        },
        "id": "Z3HZFZtwOECs",
        "outputId": "92c8c510-4b93-43a0-f537-79324af81b87"
      },
      "execution_count": 73,
      "outputs": [
        {
          "output_type": "execute_result",
          "data": {
            "text/plain": [
              "Date\n",
              "2005-01-01    2038\n",
              "2005-01-02    1075\n",
              "2005-01-03    1091\n",
              "2005-01-04    1123\n",
              "2005-01-05     945\n",
              "              ... \n",
              "2017-01-14     649\n",
              "2017-01-15     600\n",
              "2017-01-16     611\n",
              "2017-01-17     659\n",
              "2017-01-18     655\n",
              "Freq: D, Length: 4401, dtype: int64"
            ]
          },
          "metadata": {},
          "execution_count": 73
        }
      ]
    },
    {
      "cell_type": "code",
      "source": [],
      "metadata": {
        "id": "EZdYqnCEOD2C"
      },
      "execution_count": null,
      "outputs": []
    },
    {
      "cell_type": "markdown",
      "metadata": {
        "id": "5yo476GrzsZi"
      },
      "source": [
        "# STEP #3: 데이터 준비"
      ]
    },
    {
      "cell_type": "markdown",
      "metadata": {
        "id": "h6d4YU0TqCrl"
      },
      "source": [
        "### 일별로 주기로 하여 데이터프레임을 만들고, 인덱스를 리셋하시오."
      ]
    },
    {
      "cell_type": "code",
      "metadata": {
        "id": "hP7p5M1tzsZi"
      },
      "source": [
        "chicago_prophet =  chicago_df.resample('D').size()"
      ],
      "execution_count": 74,
      "outputs": []
    },
    {
      "cell_type": "code",
      "metadata": {
        "id": "hLfn3nH6zsZi",
        "colab": {
          "base_uri": "https://localhost:8080/"
        },
        "outputId": "622d72a8-18fb-47dc-e648-86dd48738124"
      },
      "source": [
        "chicago_prophet"
      ],
      "execution_count": 75,
      "outputs": [
        {
          "output_type": "execute_result",
          "data": {
            "text/plain": [
              "Date\n",
              "2005-01-01    2038\n",
              "2005-01-02    1075\n",
              "2005-01-03    1091\n",
              "2005-01-04    1123\n",
              "2005-01-05     945\n",
              "              ... \n",
              "2017-01-14     649\n",
              "2017-01-15     600\n",
              "2017-01-16     611\n",
              "2017-01-17     659\n",
              "2017-01-18     655\n",
              "Freq: D, Length: 4401, dtype: int64"
            ]
          },
          "metadata": {},
          "execution_count": 75
        }
      ]
    },
    {
      "cell_type": "code",
      "source": [
        "chicago_prophet = chicago_prophet.reset_index()"
      ],
      "metadata": {
        "id": "06UDfhvBOnua"
      },
      "execution_count": 77,
      "outputs": []
    },
    {
      "cell_type": "markdown",
      "metadata": {
        "id": "rhzFfhMnqQbR"
      },
      "source": [
        "### 프로펫 라이브러리를 사용하려면, 날짜 컬럼은 'ds' 로, 에측하려는 수치는 'y'로 바꿔야 합니다(필수)."
      ]
    },
    {
      "cell_type": "code",
      "metadata": {
        "id": "VJDmXfXTzsZj",
        "colab": {
          "base_uri": "https://localhost:8080/",
          "height": 424
        },
        "outputId": "facde460-e110-4409-e689-2f1e5431eae7"
      },
      "source": [
        "chicago_prophet"
      ],
      "execution_count": 78,
      "outputs": [
        {
          "output_type": "execute_result",
          "data": {
            "text/plain": [
              "           Date     0\n",
              "0    2005-01-01  2038\n",
              "1    2005-01-02  1075\n",
              "2    2005-01-03  1091\n",
              "3    2005-01-04  1123\n",
              "4    2005-01-05   945\n",
              "...         ...   ...\n",
              "4396 2017-01-14   649\n",
              "4397 2017-01-15   600\n",
              "4398 2017-01-16   611\n",
              "4399 2017-01-17   659\n",
              "4400 2017-01-18   655\n",
              "\n",
              "[4401 rows x 2 columns]"
            ],
            "text/html": [
              "\n",
              "  <div id=\"df-677709f9-6697-45f3-8fd8-38777c9653a5\">\n",
              "    <div class=\"colab-df-container\">\n",
              "      <div>\n",
              "<style scoped>\n",
              "    .dataframe tbody tr th:only-of-type {\n",
              "        vertical-align: middle;\n",
              "    }\n",
              "\n",
              "    .dataframe tbody tr th {\n",
              "        vertical-align: top;\n",
              "    }\n",
              "\n",
              "    .dataframe thead th {\n",
              "        text-align: right;\n",
              "    }\n",
              "</style>\n",
              "<table border=\"1\" class=\"dataframe\">\n",
              "  <thead>\n",
              "    <tr style=\"text-align: right;\">\n",
              "      <th></th>\n",
              "      <th>Date</th>\n",
              "      <th>0</th>\n",
              "    </tr>\n",
              "  </thead>\n",
              "  <tbody>\n",
              "    <tr>\n",
              "      <th>0</th>\n",
              "      <td>2005-01-01</td>\n",
              "      <td>2038</td>\n",
              "    </tr>\n",
              "    <tr>\n",
              "      <th>1</th>\n",
              "      <td>2005-01-02</td>\n",
              "      <td>1075</td>\n",
              "    </tr>\n",
              "    <tr>\n",
              "      <th>2</th>\n",
              "      <td>2005-01-03</td>\n",
              "      <td>1091</td>\n",
              "    </tr>\n",
              "    <tr>\n",
              "      <th>3</th>\n",
              "      <td>2005-01-04</td>\n",
              "      <td>1123</td>\n",
              "    </tr>\n",
              "    <tr>\n",
              "      <th>4</th>\n",
              "      <td>2005-01-05</td>\n",
              "      <td>945</td>\n",
              "    </tr>\n",
              "    <tr>\n",
              "      <th>...</th>\n",
              "      <td>...</td>\n",
              "      <td>...</td>\n",
              "    </tr>\n",
              "    <tr>\n",
              "      <th>4396</th>\n",
              "      <td>2017-01-14</td>\n",
              "      <td>649</td>\n",
              "    </tr>\n",
              "    <tr>\n",
              "      <th>4397</th>\n",
              "      <td>2017-01-15</td>\n",
              "      <td>600</td>\n",
              "    </tr>\n",
              "    <tr>\n",
              "      <th>4398</th>\n",
              "      <td>2017-01-16</td>\n",
              "      <td>611</td>\n",
              "    </tr>\n",
              "    <tr>\n",
              "      <th>4399</th>\n",
              "      <td>2017-01-17</td>\n",
              "      <td>659</td>\n",
              "    </tr>\n",
              "    <tr>\n",
              "      <th>4400</th>\n",
              "      <td>2017-01-18</td>\n",
              "      <td>655</td>\n",
              "    </tr>\n",
              "  </tbody>\n",
              "</table>\n",
              "<p>4401 rows × 2 columns</p>\n",
              "</div>\n",
              "      <button class=\"colab-df-convert\" onclick=\"convertToInteractive('df-677709f9-6697-45f3-8fd8-38777c9653a5')\"\n",
              "              title=\"Convert this dataframe to an interactive table.\"\n",
              "              style=\"display:none;\">\n",
              "        \n",
              "  <svg xmlns=\"http://www.w3.org/2000/svg\" height=\"24px\"viewBox=\"0 0 24 24\"\n",
              "       width=\"24px\">\n",
              "    <path d=\"M0 0h24v24H0V0z\" fill=\"none\"/>\n",
              "    <path d=\"M18.56 5.44l.94 2.06.94-2.06 2.06-.94-2.06-.94-.94-2.06-.94 2.06-2.06.94zm-11 1L8.5 8.5l.94-2.06 2.06-.94-2.06-.94L8.5 2.5l-.94 2.06-2.06.94zm10 10l.94 2.06.94-2.06 2.06-.94-2.06-.94-.94-2.06-.94 2.06-2.06.94z\"/><path d=\"M17.41 7.96l-1.37-1.37c-.4-.4-.92-.59-1.43-.59-.52 0-1.04.2-1.43.59L10.3 9.45l-7.72 7.72c-.78.78-.78 2.05 0 2.83L4 21.41c.39.39.9.59 1.41.59.51 0 1.02-.2 1.41-.59l7.78-7.78 2.81-2.81c.8-.78.8-2.07 0-2.86zM5.41 20L4 18.59l7.72-7.72 1.47 1.35L5.41 20z\"/>\n",
              "  </svg>\n",
              "      </button>\n",
              "      \n",
              "  <style>\n",
              "    .colab-df-container {\n",
              "      display:flex;\n",
              "      flex-wrap:wrap;\n",
              "      gap: 12px;\n",
              "    }\n",
              "\n",
              "    .colab-df-convert {\n",
              "      background-color: #E8F0FE;\n",
              "      border: none;\n",
              "      border-radius: 50%;\n",
              "      cursor: pointer;\n",
              "      display: none;\n",
              "      fill: #1967D2;\n",
              "      height: 32px;\n",
              "      padding: 0 0 0 0;\n",
              "      width: 32px;\n",
              "    }\n",
              "\n",
              "    .colab-df-convert:hover {\n",
              "      background-color: #E2EBFA;\n",
              "      box-shadow: 0px 1px 2px rgba(60, 64, 67, 0.3), 0px 1px 3px 1px rgba(60, 64, 67, 0.15);\n",
              "      fill: #174EA6;\n",
              "    }\n",
              "\n",
              "    [theme=dark] .colab-df-convert {\n",
              "      background-color: #3B4455;\n",
              "      fill: #D2E3FC;\n",
              "    }\n",
              "\n",
              "    [theme=dark] .colab-df-convert:hover {\n",
              "      background-color: #434B5C;\n",
              "      box-shadow: 0px 1px 3px 1px rgba(0, 0, 0, 0.15);\n",
              "      filter: drop-shadow(0px 1px 2px rgba(0, 0, 0, 0.3));\n",
              "      fill: #FFFFFF;\n",
              "    }\n",
              "  </style>\n",
              "\n",
              "      <script>\n",
              "        const buttonEl =\n",
              "          document.querySelector('#df-677709f9-6697-45f3-8fd8-38777c9653a5 button.colab-df-convert');\n",
              "        buttonEl.style.display =\n",
              "          google.colab.kernel.accessAllowed ? 'block' : 'none';\n",
              "\n",
              "        async function convertToInteractive(key) {\n",
              "          const element = document.querySelector('#df-677709f9-6697-45f3-8fd8-38777c9653a5');\n",
              "          const dataTable =\n",
              "            await google.colab.kernel.invokeFunction('convertToInteractive',\n",
              "                                                     [key], {});\n",
              "          if (!dataTable) return;\n",
              "\n",
              "          const docLinkHtml = 'Like what you see? Visit the ' +\n",
              "            '<a target=\"_blank\" href=https://colab.research.google.com/notebooks/data_table.ipynb>data table notebook</a>'\n",
              "            + ' to learn more about interactive tables.';\n",
              "          element.innerHTML = '';\n",
              "          dataTable['output_type'] = 'display_data';\n",
              "          await google.colab.output.renderOutput(dataTable, element);\n",
              "          const docLink = document.createElement('div');\n",
              "          docLink.innerHTML = docLinkHtml;\n",
              "          element.appendChild(docLink);\n",
              "        }\n",
              "      </script>\n",
              "    </div>\n",
              "  </div>\n",
              "  "
            ]
          },
          "metadata": {},
          "execution_count": 78
        }
      ]
    },
    {
      "cell_type": "code",
      "metadata": {
        "id": "mVCaImP7zsZj"
      },
      "source": [
        "chicago_prophet.columns = ['ds' , 'y']"
      ],
      "execution_count": 81,
      "outputs": []
    },
    {
      "cell_type": "code",
      "source": [
        "chicago_prophet"
      ],
      "metadata": {
        "colab": {
          "base_uri": "https://localhost:8080/",
          "height": 424
        },
        "id": "uIq9qzwiPKIy",
        "outputId": "ddb8904e-7e3e-4188-ae1b-331ae0d0c08a"
      },
      "execution_count": 82,
      "outputs": [
        {
          "output_type": "execute_result",
          "data": {
            "text/plain": [
              "             ds     y\n",
              "0    2005-01-01  2038\n",
              "1    2005-01-02  1075\n",
              "2    2005-01-03  1091\n",
              "3    2005-01-04  1123\n",
              "4    2005-01-05   945\n",
              "...         ...   ...\n",
              "4396 2017-01-14   649\n",
              "4397 2017-01-15   600\n",
              "4398 2017-01-16   611\n",
              "4399 2017-01-17   659\n",
              "4400 2017-01-18   655\n",
              "\n",
              "[4401 rows x 2 columns]"
            ],
            "text/html": [
              "\n",
              "  <div id=\"df-801aea99-2cc7-4673-b29b-5b706985cb39\">\n",
              "    <div class=\"colab-df-container\">\n",
              "      <div>\n",
              "<style scoped>\n",
              "    .dataframe tbody tr th:only-of-type {\n",
              "        vertical-align: middle;\n",
              "    }\n",
              "\n",
              "    .dataframe tbody tr th {\n",
              "        vertical-align: top;\n",
              "    }\n",
              "\n",
              "    .dataframe thead th {\n",
              "        text-align: right;\n",
              "    }\n",
              "</style>\n",
              "<table border=\"1\" class=\"dataframe\">\n",
              "  <thead>\n",
              "    <tr style=\"text-align: right;\">\n",
              "      <th></th>\n",
              "      <th>ds</th>\n",
              "      <th>y</th>\n",
              "    </tr>\n",
              "  </thead>\n",
              "  <tbody>\n",
              "    <tr>\n",
              "      <th>0</th>\n",
              "      <td>2005-01-01</td>\n",
              "      <td>2038</td>\n",
              "    </tr>\n",
              "    <tr>\n",
              "      <th>1</th>\n",
              "      <td>2005-01-02</td>\n",
              "      <td>1075</td>\n",
              "    </tr>\n",
              "    <tr>\n",
              "      <th>2</th>\n",
              "      <td>2005-01-03</td>\n",
              "      <td>1091</td>\n",
              "    </tr>\n",
              "    <tr>\n",
              "      <th>3</th>\n",
              "      <td>2005-01-04</td>\n",
              "      <td>1123</td>\n",
              "    </tr>\n",
              "    <tr>\n",
              "      <th>4</th>\n",
              "      <td>2005-01-05</td>\n",
              "      <td>945</td>\n",
              "    </tr>\n",
              "    <tr>\n",
              "      <th>...</th>\n",
              "      <td>...</td>\n",
              "      <td>...</td>\n",
              "    </tr>\n",
              "    <tr>\n",
              "      <th>4396</th>\n",
              "      <td>2017-01-14</td>\n",
              "      <td>649</td>\n",
              "    </tr>\n",
              "    <tr>\n",
              "      <th>4397</th>\n",
              "      <td>2017-01-15</td>\n",
              "      <td>600</td>\n",
              "    </tr>\n",
              "    <tr>\n",
              "      <th>4398</th>\n",
              "      <td>2017-01-16</td>\n",
              "      <td>611</td>\n",
              "    </tr>\n",
              "    <tr>\n",
              "      <th>4399</th>\n",
              "      <td>2017-01-17</td>\n",
              "      <td>659</td>\n",
              "    </tr>\n",
              "    <tr>\n",
              "      <th>4400</th>\n",
              "      <td>2017-01-18</td>\n",
              "      <td>655</td>\n",
              "    </tr>\n",
              "  </tbody>\n",
              "</table>\n",
              "<p>4401 rows × 2 columns</p>\n",
              "</div>\n",
              "      <button class=\"colab-df-convert\" onclick=\"convertToInteractive('df-801aea99-2cc7-4673-b29b-5b706985cb39')\"\n",
              "              title=\"Convert this dataframe to an interactive table.\"\n",
              "              style=\"display:none;\">\n",
              "        \n",
              "  <svg xmlns=\"http://www.w3.org/2000/svg\" height=\"24px\"viewBox=\"0 0 24 24\"\n",
              "       width=\"24px\">\n",
              "    <path d=\"M0 0h24v24H0V0z\" fill=\"none\"/>\n",
              "    <path d=\"M18.56 5.44l.94 2.06.94-2.06 2.06-.94-2.06-.94-.94-2.06-.94 2.06-2.06.94zm-11 1L8.5 8.5l.94-2.06 2.06-.94-2.06-.94L8.5 2.5l-.94 2.06-2.06.94zm10 10l.94 2.06.94-2.06 2.06-.94-2.06-.94-.94-2.06-.94 2.06-2.06.94z\"/><path d=\"M17.41 7.96l-1.37-1.37c-.4-.4-.92-.59-1.43-.59-.52 0-1.04.2-1.43.59L10.3 9.45l-7.72 7.72c-.78.78-.78 2.05 0 2.83L4 21.41c.39.39.9.59 1.41.59.51 0 1.02-.2 1.41-.59l7.78-7.78 2.81-2.81c.8-.78.8-2.07 0-2.86zM5.41 20L4 18.59l7.72-7.72 1.47 1.35L5.41 20z\"/>\n",
              "  </svg>\n",
              "      </button>\n",
              "      \n",
              "  <style>\n",
              "    .colab-df-container {\n",
              "      display:flex;\n",
              "      flex-wrap:wrap;\n",
              "      gap: 12px;\n",
              "    }\n",
              "\n",
              "    .colab-df-convert {\n",
              "      background-color: #E8F0FE;\n",
              "      border: none;\n",
              "      border-radius: 50%;\n",
              "      cursor: pointer;\n",
              "      display: none;\n",
              "      fill: #1967D2;\n",
              "      height: 32px;\n",
              "      padding: 0 0 0 0;\n",
              "      width: 32px;\n",
              "    }\n",
              "\n",
              "    .colab-df-convert:hover {\n",
              "      background-color: #E2EBFA;\n",
              "      box-shadow: 0px 1px 2px rgba(60, 64, 67, 0.3), 0px 1px 3px 1px rgba(60, 64, 67, 0.15);\n",
              "      fill: #174EA6;\n",
              "    }\n",
              "\n",
              "    [theme=dark] .colab-df-convert {\n",
              "      background-color: #3B4455;\n",
              "      fill: #D2E3FC;\n",
              "    }\n",
              "\n",
              "    [theme=dark] .colab-df-convert:hover {\n",
              "      background-color: #434B5C;\n",
              "      box-shadow: 0px 1px 3px 1px rgba(0, 0, 0, 0.15);\n",
              "      filter: drop-shadow(0px 1px 2px rgba(0, 0, 0, 0.3));\n",
              "      fill: #FFFFFF;\n",
              "    }\n",
              "  </style>\n",
              "\n",
              "      <script>\n",
              "        const buttonEl =\n",
              "          document.querySelector('#df-801aea99-2cc7-4673-b29b-5b706985cb39 button.colab-df-convert');\n",
              "        buttonEl.style.display =\n",
              "          google.colab.kernel.accessAllowed ? 'block' : 'none';\n",
              "\n",
              "        async function convertToInteractive(key) {\n",
              "          const element = document.querySelector('#df-801aea99-2cc7-4673-b29b-5b706985cb39');\n",
              "          const dataTable =\n",
              "            await google.colab.kernel.invokeFunction('convertToInteractive',\n",
              "                                                     [key], {});\n",
              "          if (!dataTable) return;\n",
              "\n",
              "          const docLinkHtml = 'Like what you see? Visit the ' +\n",
              "            '<a target=\"_blank\" href=https://colab.research.google.com/notebooks/data_table.ipynb>data table notebook</a>'\n",
              "            + ' to learn more about interactive tables.';\n",
              "          element.innerHTML = '';\n",
              "          dataTable['output_type'] = 'display_data';\n",
              "          await google.colab.output.renderOutput(dataTable, element);\n",
              "          const docLink = document.createElement('div');\n",
              "          docLink.innerHTML = docLinkHtml;\n",
              "          element.appendChild(docLink);\n",
              "        }\n",
              "      </script>\n",
              "    </div>\n",
              "  </div>\n",
              "  "
            ]
          },
          "metadata": {},
          "execution_count": 82
        }
      ]
    },
    {
      "cell_type": "markdown",
      "metadata": {
        "id": "9SEItO2QzsZk"
      },
      "source": [
        "# STEP #4: Prophet 으로 예측하기"
      ]
    },
    {
      "cell_type": "code",
      "metadata": {
        "id": "iGL0WWNqTvME"
      },
      "source": [
        "prophet = Prophet()"
      ],
      "execution_count": 84,
      "outputs": []
    },
    {
      "cell_type": "code",
      "source": [
        "prophet.fit(chicago_prophet)"
      ],
      "metadata": {
        "colab": {
          "base_uri": "https://localhost:8080/"
        },
        "id": "boyjJihxPkaI",
        "outputId": "fdf7974f-adcf-499b-f759-25351b2d1a8e"
      },
      "execution_count": 85,
      "outputs": [
        {
          "output_type": "stream",
          "name": "stderr",
          "text": [
            "INFO:prophet:Disabling daily seasonality. Run prophet with daily_seasonality=True to override this.\n",
            "DEBUG:cmdstanpy:input tempfile: /tmp/tmpnt52l0o9/83ks1497.json\n",
            "DEBUG:cmdstanpy:input tempfile: /tmp/tmpnt52l0o9/4mz8b7av.json\n",
            "DEBUG:cmdstanpy:idx 0\n",
            "DEBUG:cmdstanpy:running CmdStan, num_threads: None\n",
            "DEBUG:cmdstanpy:CmdStan args: ['/usr/local/lib/python3.8/dist-packages/prophet/stan_model/prophet_model.bin', 'random', 'seed=32871', 'data', 'file=/tmp/tmpnt52l0o9/83ks1497.json', 'init=/tmp/tmpnt52l0o9/4mz8b7av.json', 'output', 'file=/tmp/tmpnt52l0o9/prophet_models7ev5t1f/prophet_model-20230103060807.csv', 'method=optimize', 'algorithm=lbfgs', 'iter=10000']\n",
            "06:08:07 - cmdstanpy - INFO - Chain [1] start processing\n",
            "INFO:cmdstanpy:Chain [1] start processing\n",
            "06:08:11 - cmdstanpy - INFO - Chain [1] done processing\n",
            "INFO:cmdstanpy:Chain [1] done processing\n"
          ]
        },
        {
          "output_type": "execute_result",
          "data": {
            "text/plain": [
              "<prophet.forecaster.Prophet at 0x7fa0d11c5f10>"
            ]
          },
          "metadata": {},
          "execution_count": 85
        }
      ]
    },
    {
      "cell_type": "markdown",
      "metadata": {
        "id": "S_vysVFL0NqF"
      },
      "source": [
        "### [freq 조절 가능한 문자 ](https://pandas.pydata.org/pandas-docs/stable/user_guide/timeseries.html#timeseries-offset-aliases)\n",
        "\n",
        "[페이스북 프로펫 페이지 예시](https://facebook.github.io/prophet/docs/non-daily_data.html)"
      ]
    },
    {
      "cell_type": "code",
      "metadata": {
        "id": "IUQDkJVqzI3B"
      },
      "source": [
        "# 730 일치로 해서 예측해보자.\n",
        "future = prophet.make_future_dataframe(periods= 730, freq = 'D')"
      ],
      "execution_count": 86,
      "outputs": []
    },
    {
      "cell_type": "code",
      "metadata": {
        "id": "1H48sug8T2Q8"
      },
      "source": [
        "forecast = prophet.predict(future)"
      ],
      "execution_count": 87,
      "outputs": []
    },
    {
      "cell_type": "code",
      "metadata": {
        "id": "-DGTfR2zT2Le",
        "colab": {
          "base_uri": "https://localhost:8080/",
          "height": 661
        },
        "outputId": "d5bcf01c-8251-40f3-e300-b12a67fb1299"
      },
      "source": [
        "forecast"
      ],
      "execution_count": 88,
      "outputs": [
        {
          "output_type": "execute_result",
          "data": {
            "text/plain": [
              "             ds        trend   yhat_lower   yhat_upper  trend_lower  \\\n",
              "0    2005-01-01  1225.675125   802.623193  1285.079084  1225.675125   \n",
              "1    2005-01-02  1225.631512   726.664054  1217.294328  1225.631512   \n",
              "2    2005-01-03  1225.587899   790.214592  1298.113737  1225.587899   \n",
              "3    2005-01-04  1225.544285   820.629554  1306.443798  1225.544285   \n",
              "4    2005-01-05  1225.500672   852.876915  1325.990789  1225.500672   \n",
              "...         ...          ...          ...          ...          ...   \n",
              "5126 2019-01-14   704.530323 -1491.605078  2949.890843 -1310.831742   \n",
              "5127 2019-01-15   704.507683 -1424.333529  3042.768776 -1315.183302   \n",
              "5128 2019-01-16   704.485042 -1426.975432  2971.041374 -1319.534861   \n",
              "5129 2019-01-17   704.462402 -1461.517465  3001.471494 -1323.886421   \n",
              "5130 2019-01-18   704.439761 -1371.434910  3068.681472 -1328.237980   \n",
              "\n",
              "      trend_upper  additive_terms  additive_terms_lower  additive_terms_upper  \\\n",
              "0     1225.675125     -187.016884           -187.016884           -187.016884   \n",
              "1     1225.631512     -257.693454           -257.693454           -257.693454   \n",
              "2     1225.587899     -195.782863           -195.782863           -195.782863   \n",
              "3     1225.544285     -154.108636           -154.108636           -154.108636   \n",
              "4     1225.500672     -138.658170           -138.658170           -138.658170   \n",
              "...           ...             ...                   ...                   ...   \n",
              "5126  3062.234272     -150.157297           -150.157297           -150.157297   \n",
              "5127  3068.579948     -115.366493           -115.366493           -115.366493   \n",
              "5128  3074.925624     -107.366825           -107.366825           -107.366825   \n",
              "5129  3081.271300     -124.565981           -124.565981           -124.565981   \n",
              "5130  3087.616976      -47.440433            -47.440433            -47.440433   \n",
              "\n",
              "         weekly  weekly_lower  weekly_upper      yearly  yearly_lower  \\\n",
              "0     -3.020912     -3.020912     -3.020912 -183.995972   -183.995972   \n",
              "1    -80.891351    -80.891351    -80.891351 -176.802103   -176.802103   \n",
              "2    -26.076470    -26.076470    -26.076470 -169.706393   -169.706393   \n",
              "3      8.700692      8.700692      8.700692 -162.809328   -162.809328   \n",
              "4     17.552502     17.552502     17.552502 -156.210672   -156.210672   \n",
              "...         ...           ...           ...         ...           ...   \n",
              "5126 -26.076470    -26.076470    -26.076470 -124.080826   -124.080826   \n",
              "5127   8.700692      8.700692      8.700692 -124.067186   -124.067186   \n",
              "5128  17.552502     17.552502     17.552502 -124.919327   -124.919327   \n",
              "5129   2.050915      2.050915      2.050915 -126.616896   -126.616896   \n",
              "5130  81.684624     81.684624     81.684624 -129.125056   -129.125056   \n",
              "\n",
              "      yearly_upper  multiplicative_terms  multiplicative_terms_lower  \\\n",
              "0      -183.995972                   0.0                         0.0   \n",
              "1      -176.802103                   0.0                         0.0   \n",
              "2      -169.706393                   0.0                         0.0   \n",
              "3      -162.809328                   0.0                         0.0   \n",
              "4      -156.210672                   0.0                         0.0   \n",
              "...            ...                   ...                         ...   \n",
              "5126   -124.080826                   0.0                         0.0   \n",
              "5127   -124.067186                   0.0                         0.0   \n",
              "5128   -124.919327                   0.0                         0.0   \n",
              "5129   -126.616896                   0.0                         0.0   \n",
              "5130   -129.125056                   0.0                         0.0   \n",
              "\n",
              "      multiplicative_terms_upper         yhat  \n",
              "0                            0.0  1038.658241  \n",
              "1                            0.0   967.938058  \n",
              "2                            0.0  1029.805035  \n",
              "3                            0.0  1071.435650  \n",
              "4                            0.0  1086.842502  \n",
              "...                          ...          ...  \n",
              "5126                         0.0   554.373027  \n",
              "5127                         0.0   589.141189  \n",
              "5128                         0.0   597.118217  \n",
              "5129                         0.0   579.896421  \n",
              "5130                         0.0   656.999328  \n",
              "\n",
              "[5131 rows x 19 columns]"
            ],
            "text/html": [
              "\n",
              "  <div id=\"df-cae28f36-be91-4089-a4be-3f44a6d18fca\">\n",
              "    <div class=\"colab-df-container\">\n",
              "      <div>\n",
              "<style scoped>\n",
              "    .dataframe tbody tr th:only-of-type {\n",
              "        vertical-align: middle;\n",
              "    }\n",
              "\n",
              "    .dataframe tbody tr th {\n",
              "        vertical-align: top;\n",
              "    }\n",
              "\n",
              "    .dataframe thead th {\n",
              "        text-align: right;\n",
              "    }\n",
              "</style>\n",
              "<table border=\"1\" class=\"dataframe\">\n",
              "  <thead>\n",
              "    <tr style=\"text-align: right;\">\n",
              "      <th></th>\n",
              "      <th>ds</th>\n",
              "      <th>trend</th>\n",
              "      <th>yhat_lower</th>\n",
              "      <th>yhat_upper</th>\n",
              "      <th>trend_lower</th>\n",
              "      <th>trend_upper</th>\n",
              "      <th>additive_terms</th>\n",
              "      <th>additive_terms_lower</th>\n",
              "      <th>additive_terms_upper</th>\n",
              "      <th>weekly</th>\n",
              "      <th>weekly_lower</th>\n",
              "      <th>weekly_upper</th>\n",
              "      <th>yearly</th>\n",
              "      <th>yearly_lower</th>\n",
              "      <th>yearly_upper</th>\n",
              "      <th>multiplicative_terms</th>\n",
              "      <th>multiplicative_terms_lower</th>\n",
              "      <th>multiplicative_terms_upper</th>\n",
              "      <th>yhat</th>\n",
              "    </tr>\n",
              "  </thead>\n",
              "  <tbody>\n",
              "    <tr>\n",
              "      <th>0</th>\n",
              "      <td>2005-01-01</td>\n",
              "      <td>1225.675125</td>\n",
              "      <td>802.623193</td>\n",
              "      <td>1285.079084</td>\n",
              "      <td>1225.675125</td>\n",
              "      <td>1225.675125</td>\n",
              "      <td>-187.016884</td>\n",
              "      <td>-187.016884</td>\n",
              "      <td>-187.016884</td>\n",
              "      <td>-3.020912</td>\n",
              "      <td>-3.020912</td>\n",
              "      <td>-3.020912</td>\n",
              "      <td>-183.995972</td>\n",
              "      <td>-183.995972</td>\n",
              "      <td>-183.995972</td>\n",
              "      <td>0.0</td>\n",
              "      <td>0.0</td>\n",
              "      <td>0.0</td>\n",
              "      <td>1038.658241</td>\n",
              "    </tr>\n",
              "    <tr>\n",
              "      <th>1</th>\n",
              "      <td>2005-01-02</td>\n",
              "      <td>1225.631512</td>\n",
              "      <td>726.664054</td>\n",
              "      <td>1217.294328</td>\n",
              "      <td>1225.631512</td>\n",
              "      <td>1225.631512</td>\n",
              "      <td>-257.693454</td>\n",
              "      <td>-257.693454</td>\n",
              "      <td>-257.693454</td>\n",
              "      <td>-80.891351</td>\n",
              "      <td>-80.891351</td>\n",
              "      <td>-80.891351</td>\n",
              "      <td>-176.802103</td>\n",
              "      <td>-176.802103</td>\n",
              "      <td>-176.802103</td>\n",
              "      <td>0.0</td>\n",
              "      <td>0.0</td>\n",
              "      <td>0.0</td>\n",
              "      <td>967.938058</td>\n",
              "    </tr>\n",
              "    <tr>\n",
              "      <th>2</th>\n",
              "      <td>2005-01-03</td>\n",
              "      <td>1225.587899</td>\n",
              "      <td>790.214592</td>\n",
              "      <td>1298.113737</td>\n",
              "      <td>1225.587899</td>\n",
              "      <td>1225.587899</td>\n",
              "      <td>-195.782863</td>\n",
              "      <td>-195.782863</td>\n",
              "      <td>-195.782863</td>\n",
              "      <td>-26.076470</td>\n",
              "      <td>-26.076470</td>\n",
              "      <td>-26.076470</td>\n",
              "      <td>-169.706393</td>\n",
              "      <td>-169.706393</td>\n",
              "      <td>-169.706393</td>\n",
              "      <td>0.0</td>\n",
              "      <td>0.0</td>\n",
              "      <td>0.0</td>\n",
              "      <td>1029.805035</td>\n",
              "    </tr>\n",
              "    <tr>\n",
              "      <th>3</th>\n",
              "      <td>2005-01-04</td>\n",
              "      <td>1225.544285</td>\n",
              "      <td>820.629554</td>\n",
              "      <td>1306.443798</td>\n",
              "      <td>1225.544285</td>\n",
              "      <td>1225.544285</td>\n",
              "      <td>-154.108636</td>\n",
              "      <td>-154.108636</td>\n",
              "      <td>-154.108636</td>\n",
              "      <td>8.700692</td>\n",
              "      <td>8.700692</td>\n",
              "      <td>8.700692</td>\n",
              "      <td>-162.809328</td>\n",
              "      <td>-162.809328</td>\n",
              "      <td>-162.809328</td>\n",
              "      <td>0.0</td>\n",
              "      <td>0.0</td>\n",
              "      <td>0.0</td>\n",
              "      <td>1071.435650</td>\n",
              "    </tr>\n",
              "    <tr>\n",
              "      <th>4</th>\n",
              "      <td>2005-01-05</td>\n",
              "      <td>1225.500672</td>\n",
              "      <td>852.876915</td>\n",
              "      <td>1325.990789</td>\n",
              "      <td>1225.500672</td>\n",
              "      <td>1225.500672</td>\n",
              "      <td>-138.658170</td>\n",
              "      <td>-138.658170</td>\n",
              "      <td>-138.658170</td>\n",
              "      <td>17.552502</td>\n",
              "      <td>17.552502</td>\n",
              "      <td>17.552502</td>\n",
              "      <td>-156.210672</td>\n",
              "      <td>-156.210672</td>\n",
              "      <td>-156.210672</td>\n",
              "      <td>0.0</td>\n",
              "      <td>0.0</td>\n",
              "      <td>0.0</td>\n",
              "      <td>1086.842502</td>\n",
              "    </tr>\n",
              "    <tr>\n",
              "      <th>...</th>\n",
              "      <td>...</td>\n",
              "      <td>...</td>\n",
              "      <td>...</td>\n",
              "      <td>...</td>\n",
              "      <td>...</td>\n",
              "      <td>...</td>\n",
              "      <td>...</td>\n",
              "      <td>...</td>\n",
              "      <td>...</td>\n",
              "      <td>...</td>\n",
              "      <td>...</td>\n",
              "      <td>...</td>\n",
              "      <td>...</td>\n",
              "      <td>...</td>\n",
              "      <td>...</td>\n",
              "      <td>...</td>\n",
              "      <td>...</td>\n",
              "      <td>...</td>\n",
              "      <td>...</td>\n",
              "    </tr>\n",
              "    <tr>\n",
              "      <th>5126</th>\n",
              "      <td>2019-01-14</td>\n",
              "      <td>704.530323</td>\n",
              "      <td>-1491.605078</td>\n",
              "      <td>2949.890843</td>\n",
              "      <td>-1310.831742</td>\n",
              "      <td>3062.234272</td>\n",
              "      <td>-150.157297</td>\n",
              "      <td>-150.157297</td>\n",
              "      <td>-150.157297</td>\n",
              "      <td>-26.076470</td>\n",
              "      <td>-26.076470</td>\n",
              "      <td>-26.076470</td>\n",
              "      <td>-124.080826</td>\n",
              "      <td>-124.080826</td>\n",
              "      <td>-124.080826</td>\n",
              "      <td>0.0</td>\n",
              "      <td>0.0</td>\n",
              "      <td>0.0</td>\n",
              "      <td>554.373027</td>\n",
              "    </tr>\n",
              "    <tr>\n",
              "      <th>5127</th>\n",
              "      <td>2019-01-15</td>\n",
              "      <td>704.507683</td>\n",
              "      <td>-1424.333529</td>\n",
              "      <td>3042.768776</td>\n",
              "      <td>-1315.183302</td>\n",
              "      <td>3068.579948</td>\n",
              "      <td>-115.366493</td>\n",
              "      <td>-115.366493</td>\n",
              "      <td>-115.366493</td>\n",
              "      <td>8.700692</td>\n",
              "      <td>8.700692</td>\n",
              "      <td>8.700692</td>\n",
              "      <td>-124.067186</td>\n",
              "      <td>-124.067186</td>\n",
              "      <td>-124.067186</td>\n",
              "      <td>0.0</td>\n",
              "      <td>0.0</td>\n",
              "      <td>0.0</td>\n",
              "      <td>589.141189</td>\n",
              "    </tr>\n",
              "    <tr>\n",
              "      <th>5128</th>\n",
              "      <td>2019-01-16</td>\n",
              "      <td>704.485042</td>\n",
              "      <td>-1426.975432</td>\n",
              "      <td>2971.041374</td>\n",
              "      <td>-1319.534861</td>\n",
              "      <td>3074.925624</td>\n",
              "      <td>-107.366825</td>\n",
              "      <td>-107.366825</td>\n",
              "      <td>-107.366825</td>\n",
              "      <td>17.552502</td>\n",
              "      <td>17.552502</td>\n",
              "      <td>17.552502</td>\n",
              "      <td>-124.919327</td>\n",
              "      <td>-124.919327</td>\n",
              "      <td>-124.919327</td>\n",
              "      <td>0.0</td>\n",
              "      <td>0.0</td>\n",
              "      <td>0.0</td>\n",
              "      <td>597.118217</td>\n",
              "    </tr>\n",
              "    <tr>\n",
              "      <th>5129</th>\n",
              "      <td>2019-01-17</td>\n",
              "      <td>704.462402</td>\n",
              "      <td>-1461.517465</td>\n",
              "      <td>3001.471494</td>\n",
              "      <td>-1323.886421</td>\n",
              "      <td>3081.271300</td>\n",
              "      <td>-124.565981</td>\n",
              "      <td>-124.565981</td>\n",
              "      <td>-124.565981</td>\n",
              "      <td>2.050915</td>\n",
              "      <td>2.050915</td>\n",
              "      <td>2.050915</td>\n",
              "      <td>-126.616896</td>\n",
              "      <td>-126.616896</td>\n",
              "      <td>-126.616896</td>\n",
              "      <td>0.0</td>\n",
              "      <td>0.0</td>\n",
              "      <td>0.0</td>\n",
              "      <td>579.896421</td>\n",
              "    </tr>\n",
              "    <tr>\n",
              "      <th>5130</th>\n",
              "      <td>2019-01-18</td>\n",
              "      <td>704.439761</td>\n",
              "      <td>-1371.434910</td>\n",
              "      <td>3068.681472</td>\n",
              "      <td>-1328.237980</td>\n",
              "      <td>3087.616976</td>\n",
              "      <td>-47.440433</td>\n",
              "      <td>-47.440433</td>\n",
              "      <td>-47.440433</td>\n",
              "      <td>81.684624</td>\n",
              "      <td>81.684624</td>\n",
              "      <td>81.684624</td>\n",
              "      <td>-129.125056</td>\n",
              "      <td>-129.125056</td>\n",
              "      <td>-129.125056</td>\n",
              "      <td>0.0</td>\n",
              "      <td>0.0</td>\n",
              "      <td>0.0</td>\n",
              "      <td>656.999328</td>\n",
              "    </tr>\n",
              "  </tbody>\n",
              "</table>\n",
              "<p>5131 rows × 19 columns</p>\n",
              "</div>\n",
              "      <button class=\"colab-df-convert\" onclick=\"convertToInteractive('df-cae28f36-be91-4089-a4be-3f44a6d18fca')\"\n",
              "              title=\"Convert this dataframe to an interactive table.\"\n",
              "              style=\"display:none;\">\n",
              "        \n",
              "  <svg xmlns=\"http://www.w3.org/2000/svg\" height=\"24px\"viewBox=\"0 0 24 24\"\n",
              "       width=\"24px\">\n",
              "    <path d=\"M0 0h24v24H0V0z\" fill=\"none\"/>\n",
              "    <path d=\"M18.56 5.44l.94 2.06.94-2.06 2.06-.94-2.06-.94-.94-2.06-.94 2.06-2.06.94zm-11 1L8.5 8.5l.94-2.06 2.06-.94-2.06-.94L8.5 2.5l-.94 2.06-2.06.94zm10 10l.94 2.06.94-2.06 2.06-.94-2.06-.94-.94-2.06-.94 2.06-2.06.94z\"/><path d=\"M17.41 7.96l-1.37-1.37c-.4-.4-.92-.59-1.43-.59-.52 0-1.04.2-1.43.59L10.3 9.45l-7.72 7.72c-.78.78-.78 2.05 0 2.83L4 21.41c.39.39.9.59 1.41.59.51 0 1.02-.2 1.41-.59l7.78-7.78 2.81-2.81c.8-.78.8-2.07 0-2.86zM5.41 20L4 18.59l7.72-7.72 1.47 1.35L5.41 20z\"/>\n",
              "  </svg>\n",
              "      </button>\n",
              "      \n",
              "  <style>\n",
              "    .colab-df-container {\n",
              "      display:flex;\n",
              "      flex-wrap:wrap;\n",
              "      gap: 12px;\n",
              "    }\n",
              "\n",
              "    .colab-df-convert {\n",
              "      background-color: #E8F0FE;\n",
              "      border: none;\n",
              "      border-radius: 50%;\n",
              "      cursor: pointer;\n",
              "      display: none;\n",
              "      fill: #1967D2;\n",
              "      height: 32px;\n",
              "      padding: 0 0 0 0;\n",
              "      width: 32px;\n",
              "    }\n",
              "\n",
              "    .colab-df-convert:hover {\n",
              "      background-color: #E2EBFA;\n",
              "      box-shadow: 0px 1px 2px rgba(60, 64, 67, 0.3), 0px 1px 3px 1px rgba(60, 64, 67, 0.15);\n",
              "      fill: #174EA6;\n",
              "    }\n",
              "\n",
              "    [theme=dark] .colab-df-convert {\n",
              "      background-color: #3B4455;\n",
              "      fill: #D2E3FC;\n",
              "    }\n",
              "\n",
              "    [theme=dark] .colab-df-convert:hover {\n",
              "      background-color: #434B5C;\n",
              "      box-shadow: 0px 1px 3px 1px rgba(0, 0, 0, 0.15);\n",
              "      filter: drop-shadow(0px 1px 2px rgba(0, 0, 0, 0.3));\n",
              "      fill: #FFFFFF;\n",
              "    }\n",
              "  </style>\n",
              "\n",
              "      <script>\n",
              "        const buttonEl =\n",
              "          document.querySelector('#df-cae28f36-be91-4089-a4be-3f44a6d18fca button.colab-df-convert');\n",
              "        buttonEl.style.display =\n",
              "          google.colab.kernel.accessAllowed ? 'block' : 'none';\n",
              "\n",
              "        async function convertToInteractive(key) {\n",
              "          const element = document.querySelector('#df-cae28f36-be91-4089-a4be-3f44a6d18fca');\n",
              "          const dataTable =\n",
              "            await google.colab.kernel.invokeFunction('convertToInteractive',\n",
              "                                                     [key], {});\n",
              "          if (!dataTable) return;\n",
              "\n",
              "          const docLinkHtml = 'Like what you see? Visit the ' +\n",
              "            '<a target=\"_blank\" href=https://colab.research.google.com/notebooks/data_table.ipynb>data table notebook</a>'\n",
              "            + ' to learn more about interactive tables.';\n",
              "          element.innerHTML = '';\n",
              "          dataTable['output_type'] = 'display_data';\n",
              "          await google.colab.output.renderOutput(dataTable, element);\n",
              "          const docLink = document.createElement('div');\n",
              "          docLink.innerHTML = docLinkHtml;\n",
              "          element.appendChild(docLink);\n",
              "        }\n",
              "      </script>\n",
              "    </div>\n",
              "  </div>\n",
              "  "
            ]
          },
          "metadata": {},
          "execution_count": 88
        }
      ]
    },
    {
      "cell_type": "code",
      "metadata": {
        "id": "Y7w8wAIbT2F_",
        "colab": {
          "base_uri": "https://localhost:8080/",
          "height": 392
        },
        "outputId": "1577dfa2-bbc3-4874-d4bd-133ede0c4d0c"
      },
      "source": [
        "prophet.plot(forecast)\n",
        "plt.savefig('chart11.jpg')"
      ],
      "execution_count": 90,
      "outputs": [
        {
          "output_type": "display_data",
          "data": {
            "text/plain": [
              "<Figure size 720x432 with 1 Axes>"
            ],
            "image/png": "[encoded data removed]"
          },
          "metadata": {}
        }
      ]
    },
    {
      "cell_type": "code",
      "metadata": {
        "id": "0g1p4ePhT1_L",
        "colab": {
          "base_uri": "https://localhost:8080/",
          "height": 648
        },
        "outputId": "6a0a4491-15b4-4aad-bbfc-6bcc368c6102"
      },
      "source": [
        "prophet.plot_components(forecast)\n",
        "plt.savefig('chart12.jpg')"
      ],
      "execution_count": 91,
      "outputs": [
        {
          "output_type": "display_data",
          "data": {
            "text/plain": [
              "<Figure size 648x648 with 3 Axes>"
            ],
            "image/png": "[encoded data removed]"
          },
          "metadata": {}
        }
      ]
    },
    {
      "cell_type": "code",
      "source": [],
      "metadata": {
        "id": "rBh8M3K4SksD"
      },
      "execution_count": null,
      "outputs": []
    },
    {
      "cell_type": "code",
      "source": [
        "# 월별 데이터로 예측!  36개월치로 예측 "
      ],
      "metadata": {
        "id": "d0eUr_OBSko6"
      },
      "execution_count": null,
      "outputs": []
    },
    {
      "cell_type": "code",
      "metadata": {
        "id": "bpM41seu0Ji8",
        "colab": {
          "base_uri": "https://localhost:8080/"
        },
        "outputId": "f50973da-255b-4d59-8a03-db9c8ade89ba"
      },
      "source": [
        "df_month"
      ],
      "execution_count": 92,
      "outputs": [
        {
          "output_type": "execute_result",
          "data": {
            "text/plain": [
              "Date\n",
              "2005-01-31    33983\n",
              "2005-02-28    32042\n",
              "2005-03-31    36970\n",
              "2005-04-30    38963\n",
              "2005-05-31    40572\n",
              "              ...  \n",
              "2016-09-30    23235\n",
              "2016-10-31    23314\n",
              "2016-11-30    21140\n",
              "2016-12-31    19580\n",
              "2017-01-31    11357\n",
              "Freq: M, Length: 145, dtype: int64"
            ]
          },
          "metadata": {},
          "execution_count": 92
        }
      ]
    },
    {
      "cell_type": "code",
      "source": [],
      "metadata": {
        "id": "TTTHGjIoTdSM"
      },
      "execution_count": null,
      "outputs": []
    }
  ]
}