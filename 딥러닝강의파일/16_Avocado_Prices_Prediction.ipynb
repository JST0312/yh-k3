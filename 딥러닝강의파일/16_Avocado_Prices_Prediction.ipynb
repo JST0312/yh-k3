{
  "nbformat": 4,
  "nbformat_minor": 0,
  "metadata": {
    "kernelspec": {
      "display_name": "Python 3",
      "language": "python",
      "name": "python3"
    },
    "language_info": {
      "codemirror_mode": {
        "name": "ipython",
        "version": 3
      },
      "file_extension": ".py",
      "mimetype": "text/x-python",
      "name": "python",
      "nbconvert_exporter": "python",
      "pygments_lexer": "ipython3",
      "version": "3.6.5"
    },
    "varInspector": {
      "cols": {
        "lenName": 16,
        "lenType": 16,
        "lenVar": 40
      },
      "kernels_config": {
        "python": {
          "delete_cmd_postfix": "",
          "delete_cmd_prefix": "del ",
          "library": "var_list.py",
          "varRefreshCmd": "print(var_dic_list())"
        },
        "r": {
          "delete_cmd_postfix": ") ",
          "delete_cmd_prefix": "rm(",
          "library": "var_list.r",
          "varRefreshCmd": "cat(var_dic_list()) "
        }
      },
      "types_to_exclude": [
        "module",
        "function",
        "builtin_function_or_method",
        "instance",
        "_Feature"
      ],
      "window_display": false
    },
    "colab": {
      "provenance": []
    }
  },
  "cells": [
    {
      "cell_type": "markdown",
      "metadata": {
        "id": "HD5Ts56a1iKm"
      },
      "source": [
        "# AVOCADO 가격 예측 (Facebook Prophet ) \n",
        "\n"
      ]
    },
    {
      "cell_type": "markdown",
      "metadata": {
        "id": "bwbgPHWy1iKy"
      },
      "source": [
        "# STEP #0: 데이터셋"
      ]
    },
    {
      "cell_type": "markdown",
      "metadata": {
        "id": "F1yPpevC1iKz"
      },
      "source": [
        "- 데이터는 미국의 아보카도 리테일 데이터 입니다. (2018년도 weekly 데이터)  \n",
        "- 아보카도 거래량과 가격이 나와 있습니다. \n",
        "\n",
        "컬럼 설명 :\n",
        "\n",
        "- Date - The date of the observation\n",
        "- AveragePrice - the average price of a single avocado\n",
        "- type - conventional or organic\n",
        "- year - the year\n",
        "- Region - the city or region of the observation\n",
        "- Total Volume - Total number of avocados sold \n",
        "- 4046 - Total number of avocados with PLU 4046 sold - PLU는 농산물 코드입니다\n",
        "- 4225 - Total number of avocados with PLU 4225 sold\n",
        "- 4770 - Total number of avocados with PLU 4770 sold\n",
        "\n"
      ]
    },
    {
      "cell_type": "markdown",
      "metadata": {
        "id": "TVu694fG1iK0"
      },
      "source": [
        "# STEP #1: 데이터 준비"
      ]
    },
    {
      "cell_type": "markdown",
      "metadata": {
        "id": "8NViUTeR1iK0"
      },
      "source": [
        "### Prophet 라이브러리\n",
        "\n",
        "- install : \n",
        "     pip install fbprophet\n",
        "     \n",
        "- 위 에러 발생시 : \n",
        "    conda install -c conda-forge fbprophet\n",
        " \n",
        "\n",
        "- 레퍼런스 : https://research.fb.com/prophet-forecasting-at-scale/\n",
        "https://facebook.github.io/prophet/docs/quick_start.html#python-api\n"
      ]
    },
    {
      "cell_type": "code",
      "source": [
        "# 프로펫 라이브러리가 fbprophet 에서 그냥 prophet 으로 변경되었음."
      ],
      "metadata": {
        "id": "tYYR3JJ5MaOl"
      },
      "execution_count": 6,
      "outputs": []
    },
    {
      "cell_type": "code",
      "metadata": {
        "id": "D8KTpy_d1iK0"
      },
      "source": [
        "# import libraries \n",
        "import pandas as pd  \n",
        "import numpy as np \n",
        "import matplotlib.pyplot as plt \n",
        "import random\n",
        "import seaborn as sns\n",
        "from prophet import Prophet\n"
      ],
      "execution_count": 5,
      "outputs": []
    },
    {
      "cell_type": "code",
      "metadata": {
        "id": "AW8LqR9u8EiP",
        "colab": {
          "base_uri": "https://localhost:8080/"
        },
        "outputId": "d5588c1c-829e-4d25-a726-301037de5069"
      },
      "source": [
        "from google.colab import drive\n",
        "drive.mount('/content/drive')"
      ],
      "execution_count": 7,
      "outputs": [
        {
          "output_type": "stream",
          "name": "stdout",
          "text": [
            "Mounted at /content/drive\n"
          ]
        }
      ]
    },
    {
      "cell_type": "code",
      "metadata": {
        "id": "1EPbF3jeZy6h"
      },
      "source": [
        "import os\n",
        "os.chdir('/content/drive/MyDrive/Colab Notebooks/ml_plus/data')"
      ],
      "execution_count": 8,
      "outputs": []
    },
    {
      "cell_type": "code",
      "metadata": {
        "id": "AUeyiAIq1iK1"
      },
      "source": [
        "# avocado.csv 데이터 읽기\n",
        "df = pd.read_csv('avocado.csv' , index_col = 0)"
      ],
      "execution_count": 11,
      "outputs": []
    },
    {
      "cell_type": "code",
      "source": [
        "# 날자별로 데이터가 있는 형식 => Time Series Data "
      ],
      "metadata": {
        "id": "ijwcO7lmN101"
      },
      "execution_count": null,
      "outputs": []
    },
    {
      "cell_type": "code",
      "source": [
        "df"
      ],
      "metadata": {
        "colab": {
          "base_uri": "https://localhost:8080/",
          "height": 679
        },
        "id": "Osxn8FY6M9T9",
        "outputId": "d3ea9632-87e8-4f44-b8ba-a7285a42273d"
      },
      "execution_count": 12,
      "outputs": [
        {
          "output_type": "execute_result",
          "data": {
            "text/plain": [
              "          Date  AveragePrice  Total Volume     4046       4225    4770  \\\n",
              "0   2015-12-27          1.33      64236.62  1036.74   54454.85   48.16   \n",
              "1   2015-12-20          1.35      54876.98   674.28   44638.81   58.33   \n",
              "2   2015-12-13          0.93     118220.22   794.70  109149.67  130.50   \n",
              "3   2015-12-06          1.08      78992.15  1132.00   71976.41   72.58   \n",
              "4   2015-11-29          1.28      51039.60   941.48   43838.39   75.78   \n",
              "..         ...           ...           ...      ...        ...     ...   \n",
              "7   2018-02-04          1.63      17074.83  2046.96    1529.20    0.00   \n",
              "8   2018-01-28          1.71      13888.04  1191.70    3431.50    0.00   \n",
              "9   2018-01-21          1.87      13766.76  1191.92    2452.79  727.94   \n",
              "10  2018-01-14          1.93      16205.22  1527.63    2981.04  727.01   \n",
              "11  2018-01-07          1.62      17489.58  2894.77    2356.13  224.53   \n",
              "\n",
              "    Total Bags  Small Bags  Large Bags  XLarge Bags          type  year  \\\n",
              "0      8696.87     8603.62       93.25          0.0  conventional  2015   \n",
              "1      9505.56     9408.07       97.49          0.0  conventional  2015   \n",
              "2      8145.35     8042.21      103.14          0.0  conventional  2015   \n",
              "3      5811.16     5677.40      133.76          0.0  conventional  2015   \n",
              "4      6183.95     5986.26      197.69          0.0  conventional  2015   \n",
              "..         ...         ...         ...          ...           ...   ...   \n",
              "7     13498.67    13066.82      431.85          0.0       organic  2018   \n",
              "8      9264.84     8940.04      324.80          0.0       organic  2018   \n",
              "9      9394.11     9351.80       42.31          0.0       organic  2018   \n",
              "10    10969.54    10919.54       50.00          0.0       organic  2018   \n",
              "11    12014.15    11988.14       26.01          0.0       organic  2018   \n",
              "\n",
              "              region  \n",
              "0             Albany  \n",
              "1             Albany  \n",
              "2             Albany  \n",
              "3             Albany  \n",
              "4             Albany  \n",
              "..               ...  \n",
              "7   WestTexNewMexico  \n",
              "8   WestTexNewMexico  \n",
              "9   WestTexNewMexico  \n",
              "10  WestTexNewMexico  \n",
              "11  WestTexNewMexico  \n",
              "\n",
              "[18249 rows x 13 columns]"
            ],
            "text/html": [
              "\n",
              "  <div id=\"df-4f01466b-682a-4a4b-95f1-1661692adfe5\">\n",
              "    <div class=\"colab-df-container\">\n",
              "      <div>\n",
              "<style scoped>\n",
              "    .dataframe tbody tr th:only-of-type {\n",
              "        vertical-align: middle;\n",
              "    }\n",
              "\n",
              "    .dataframe tbody tr th {\n",
              "        vertical-align: top;\n",
              "    }\n",
              "\n",
              "    .dataframe thead th {\n",
              "        text-align: right;\n",
              "    }\n",
              "</style>\n",
              "<table border=\"1\" class=\"dataframe\">\n",
              "  <thead>\n",
              "    <tr style=\"text-align: right;\">\n",
              "      <th></th>\n",
              "      <th>Date</th>\n",
              "      <th>AveragePrice</th>\n",
              "      <th>Total Volume</th>\n",
              "      <th>4046</th>\n",
              "      <th>4225</th>\n",
              "      <th>4770</th>\n",
              "      <th>Total Bags</th>\n",
              "      <th>Small Bags</th>\n",
              "      <th>Large Bags</th>\n",
              "      <th>XLarge Bags</th>\n",
              "      <th>type</th>\n",
              "      <th>year</th>\n",
              "      <th>region</th>\n",
              "    </tr>\n",
              "  </thead>\n",
              "  <tbody>\n",
              "    <tr>\n",
              "      <th>0</th>\n",
              "      <td>2015-12-27</td>\n",
              "      <td>1.33</td>\n",
              "      <td>64236.62</td>\n",
              "      <td>1036.74</td>\n",
              "      <td>54454.85</td>\n",
              "      <td>48.16</td>\n",
              "      <td>8696.87</td>\n",
              "      <td>8603.62</td>\n",
              "      <td>93.25</td>\n",
              "      <td>0.0</td>\n",
              "      <td>conventional</td>\n",
              "      <td>2015</td>\n",
              "      <td>Albany</td>\n",
              "    </tr>\n",
              "    <tr>\n",
              "      <th>1</th>\n",
              "      <td>2015-12-20</td>\n",
              "      <td>1.35</td>\n",
              "      <td>54876.98</td>\n",
              "      <td>674.28</td>\n",
              "      <td>44638.81</td>\n",
              "      <td>58.33</td>\n",
              "      <td>9505.56</td>\n",
              "      <td>9408.07</td>\n",
              "      <td>97.49</td>\n",
              "      <td>0.0</td>\n",
              "      <td>conventional</td>\n",
              "      <td>2015</td>\n",
              "      <td>Albany</td>\n",
              "    </tr>\n",
              "    <tr>\n",
              "      <th>2</th>\n",
              "      <td>2015-12-13</td>\n",
              "      <td>0.93</td>\n",
              "      <td>118220.22</td>\n",
              "      <td>794.70</td>\n",
              "      <td>109149.67</td>\n",
              "      <td>130.50</td>\n",
              "      <td>8145.35</td>\n",
              "      <td>8042.21</td>\n",
              "      <td>103.14</td>\n",
              "      <td>0.0</td>\n",
              "      <td>conventional</td>\n",
              "      <td>2015</td>\n",
              "      <td>Albany</td>\n",
              "    </tr>\n",
              "    <tr>\n",
              "      <th>3</th>\n",
              "      <td>2015-12-06</td>\n",
              "      <td>1.08</td>\n",
              "      <td>78992.15</td>\n",
              "      <td>1132.00</td>\n",
              "      <td>71976.41</td>\n",
              "      <td>72.58</td>\n",
              "      <td>5811.16</td>\n",
              "      <td>5677.40</td>\n",
              "      <td>133.76</td>\n",
              "      <td>0.0</td>\n",
              "      <td>conventional</td>\n",
              "      <td>2015</td>\n",
              "      <td>Albany</td>\n",
              "    </tr>\n",
              "    <tr>\n",
              "      <th>4</th>\n",
              "      <td>2015-11-29</td>\n",
              "      <td>1.28</td>\n",
              "      <td>51039.60</td>\n",
              "      <td>941.48</td>\n",
              "      <td>43838.39</td>\n",
              "      <td>75.78</td>\n",
              "      <td>6183.95</td>\n",
              "      <td>5986.26</td>\n",
              "      <td>197.69</td>\n",
              "      <td>0.0</td>\n",
              "      <td>conventional</td>\n",
              "      <td>2015</td>\n",
              "      <td>Albany</td>\n",
              "    </tr>\n",
              "    <tr>\n",
              "      <th>...</th>\n",
              "      <td>...</td>\n",
              "      <td>...</td>\n",
              "      <td>...</td>\n",
              "      <td>...</td>\n",
              "      <td>...</td>\n",
              "      <td>...</td>\n",
              "      <td>...</td>\n",
              "      <td>...</td>\n",
              "      <td>...</td>\n",
              "      <td>...</td>\n",
              "      <td>...</td>\n",
              "      <td>...</td>\n",
              "      <td>...</td>\n",
              "    </tr>\n",
              "    <tr>\n",
              "      <th>7</th>\n",
              "      <td>2018-02-04</td>\n",
              "      <td>1.63</td>\n",
              "      <td>17074.83</td>\n",
              "      <td>2046.96</td>\n",
              "      <td>1529.20</td>\n",
              "      <td>0.00</td>\n",
              "      <td>13498.67</td>\n",
              "      <td>13066.82</td>\n",
              "      <td>431.85</td>\n",
              "      <td>0.0</td>\n",
              "      <td>organic</td>\n",
              "      <td>2018</td>\n",
              "      <td>WestTexNewMexico</td>\n",
              "    </tr>\n",
              "    <tr>\n",
              "      <th>8</th>\n",
              "      <td>2018-01-28</td>\n",
              "      <td>1.71</td>\n",
              "      <td>13888.04</td>\n",
              "      <td>1191.70</td>\n",
              "      <td>3431.50</td>\n",
              "      <td>0.00</td>\n",
              "      <td>9264.84</td>\n",
              "      <td>8940.04</td>\n",
              "      <td>324.80</td>\n",
              "      <td>0.0</td>\n",
              "      <td>organic</td>\n",
              "      <td>2018</td>\n",
              "      <td>WestTexNewMexico</td>\n",
              "    </tr>\n",
              "    <tr>\n",
              "      <th>9</th>\n",
              "      <td>2018-01-21</td>\n",
              "      <td>1.87</td>\n",
              "      <td>13766.76</td>\n",
              "      <td>1191.92</td>\n",
              "      <td>2452.79</td>\n",
              "      <td>727.94</td>\n",
              "      <td>9394.11</td>\n",
              "      <td>9351.80</td>\n",
              "      <td>42.31</td>\n",
              "      <td>0.0</td>\n",
              "      <td>organic</td>\n",
              "      <td>2018</td>\n",
              "      <td>WestTexNewMexico</td>\n",
              "    </tr>\n",
              "    <tr>\n",
              "      <th>10</th>\n",
              "      <td>2018-01-14</td>\n",
              "      <td>1.93</td>\n",
              "      <td>16205.22</td>\n",
              "      <td>1527.63</td>\n",
              "      <td>2981.04</td>\n",
              "      <td>727.01</td>\n",
              "      <td>10969.54</td>\n",
              "      <td>10919.54</td>\n",
              "      <td>50.00</td>\n",
              "      <td>0.0</td>\n",
              "      <td>organic</td>\n",
              "      <td>2018</td>\n",
              "      <td>WestTexNewMexico</td>\n",
              "    </tr>\n",
              "    <tr>\n",
              "      <th>11</th>\n",
              "      <td>2018-01-07</td>\n",
              "      <td>1.62</td>\n",
              "      <td>17489.58</td>\n",
              "      <td>2894.77</td>\n",
              "      <td>2356.13</td>\n",
              "      <td>224.53</td>\n",
              "      <td>12014.15</td>\n",
              "      <td>11988.14</td>\n",
              "      <td>26.01</td>\n",
              "      <td>0.0</td>\n",
              "      <td>organic</td>\n",
              "      <td>2018</td>\n",
              "      <td>WestTexNewMexico</td>\n",
              "    </tr>\n",
              "  </tbody>\n",
              "</table>\n",
              "<p>18249 rows × 13 columns</p>\n",
              "</div>\n",
              "      <button class=\"colab-df-convert\" onclick=\"convertToInteractive('df-4f01466b-682a-4a4b-95f1-1661692adfe5')\"\n",
              "              title=\"Convert this dataframe to an interactive table.\"\n",
              "              style=\"display:none;\">\n",
              "        \n",
              "  <svg xmlns=\"http://www.w3.org/2000/svg\" height=\"24px\"viewBox=\"0 0 24 24\"\n",
              "       width=\"24px\">\n",
              "    <path d=\"M0 0h24v24H0V0z\" fill=\"none\"/>\n",
              "    <path d=\"M18.56 5.44l.94 2.06.94-2.06 2.06-.94-2.06-.94-.94-2.06-.94 2.06-2.06.94zm-11 1L8.5 8.5l.94-2.06 2.06-.94-2.06-.94L8.5 2.5l-.94 2.06-2.06.94zm10 10l.94 2.06.94-2.06 2.06-.94-2.06-.94-.94-2.06-.94 2.06-2.06.94z\"/><path d=\"M17.41 7.96l-1.37-1.37c-.4-.4-.92-.59-1.43-.59-.52 0-1.04.2-1.43.59L10.3 9.45l-7.72 7.72c-.78.78-.78 2.05 0 2.83L4 21.41c.39.39.9.59 1.41.59.51 0 1.02-.2 1.41-.59l7.78-7.78 2.81-2.81c.8-.78.8-2.07 0-2.86zM5.41 20L4 18.59l7.72-7.72 1.47 1.35L5.41 20z\"/>\n",
              "  </svg>\n",
              "      </button>\n",
              "      \n",
              "  <style>\n",
              "    .colab-df-container {\n",
              "      display:flex;\n",
              "      flex-wrap:wrap;\n",
              "      gap: 12px;\n",
              "    }\n",
              "\n",
              "    .colab-df-convert {\n",
              "      background-color: #E8F0FE;\n",
              "      border: none;\n",
              "      border-radius: 50%;\n",
              "      cursor: pointer;\n",
              "      display: none;\n",
              "      fill: #1967D2;\n",
              "      height: 32px;\n",
              "      padding: 0 0 0 0;\n",
              "      width: 32px;\n",
              "    }\n",
              "\n",
              "    .colab-df-convert:hover {\n",
              "      background-color: #E2EBFA;\n",
              "      box-shadow: 0px 1px 2px rgba(60, 64, 67, 0.3), 0px 1px 3px 1px rgba(60, 64, 67, 0.15);\n",
              "      fill: #174EA6;\n",
              "    }\n",
              "\n",
              "    [theme=dark] .colab-df-convert {\n",
              "      background-color: #3B4455;\n",
              "      fill: #D2E3FC;\n",
              "    }\n",
              "\n",
              "    [theme=dark] .colab-df-convert:hover {\n",
              "      background-color: #434B5C;\n",
              "      box-shadow: 0px 1px 3px 1px rgba(0, 0, 0, 0.15);\n",
              "      filter: drop-shadow(0px 1px 2px rgba(0, 0, 0, 0.3));\n",
              "      fill: #FFFFFF;\n",
              "    }\n",
              "  </style>\n",
              "\n",
              "      <script>\n",
              "        const buttonEl =\n",
              "          document.querySelector('#df-4f01466b-682a-4a4b-95f1-1661692adfe5 button.colab-df-convert');\n",
              "        buttonEl.style.display =\n",
              "          google.colab.kernel.accessAllowed ? 'block' : 'none';\n",
              "\n",
              "        async function convertToInteractive(key) {\n",
              "          const element = document.querySelector('#df-4f01466b-682a-4a4b-95f1-1661692adfe5');\n",
              "          const dataTable =\n",
              "            await google.colab.kernel.invokeFunction('convertToInteractive',\n",
              "                                                     [key], {});\n",
              "          if (!dataTable) return;\n",
              "\n",
              "          const docLinkHtml = 'Like what you see? Visit the ' +\n",
              "            '<a target=\"_blank\" href=https://colab.research.google.com/notebooks/data_table.ipynb>data table notebook</a>'\n",
              "            + ' to learn more about interactive tables.';\n",
              "          element.innerHTML = '';\n",
              "          dataTable['output_type'] = 'display_data';\n",
              "          await google.colab.output.renderOutput(dataTable, element);\n",
              "          const docLink = document.createElement('div');\n",
              "          docLink.innerHTML = docLinkHtml;\n",
              "          element.appendChild(docLink);\n",
              "        }\n",
              "      </script>\n",
              "    </div>\n",
              "  </div>\n",
              "  "
            ]
          },
          "metadata": {},
          "execution_count": 12
        }
      ]
    },
    {
      "cell_type": "code",
      "source": [],
      "metadata": {
        "id": "uSEg2rtRNHGN"
      },
      "execution_count": null,
      "outputs": []
    },
    {
      "cell_type": "markdown",
      "metadata": {
        "id": "p-N6cMQo1iK1"
      },
      "source": [
        "# STEP #2: EDA(Exploratory Data Analysis) :  탐색적 데이터 분석"
      ]
    },
    {
      "cell_type": "code",
      "metadata": {
        "id": "ujVLjyBVZ6Gf",
        "colab": {
          "base_uri": "https://localhost:8080/",
          "height": 364
        },
        "outputId": "74b2cca3-472c-4262-d98a-836801fa4819"
      },
      "source": [
        "df.describe()"
      ],
      "execution_count": 14,
      "outputs": [
        {
          "output_type": "execute_result",
          "data": {
            "text/plain": [
              "       AveragePrice  Total Volume          4046          4225          4770  \\\n",
              "count  18249.000000  1.824900e+04  1.824900e+04  1.824900e+04  1.824900e+04   \n",
              "mean       1.405978  8.506440e+05  2.930084e+05  2.951546e+05  2.283974e+04   \n",
              "std        0.402677  3.453545e+06  1.264989e+06  1.204120e+06  1.074641e+05   \n",
              "min        0.440000  8.456000e+01  0.000000e+00  0.000000e+00  0.000000e+00   \n",
              "25%        1.100000  1.083858e+04  8.540700e+02  3.008780e+03  0.000000e+00   \n",
              "50%        1.370000  1.073768e+05  8.645300e+03  2.906102e+04  1.849900e+02   \n",
              "75%        1.660000  4.329623e+05  1.110202e+05  1.502069e+05  6.243420e+03   \n",
              "max        3.250000  6.250565e+07  2.274362e+07  2.047057e+07  2.546439e+06   \n",
              "\n",
              "         Total Bags    Small Bags    Large Bags    XLarge Bags          year  \n",
              "count  1.824900e+04  1.824900e+04  1.824900e+04   18249.000000  18249.000000  \n",
              "mean   2.396392e+05  1.821947e+05  5.433809e+04    3106.426507   2016.147899  \n",
              "std    9.862424e+05  7.461785e+05  2.439660e+05   17692.894652      0.939938  \n",
              "min    0.000000e+00  0.000000e+00  0.000000e+00       0.000000   2015.000000  \n",
              "25%    5.088640e+03  2.849420e+03  1.274700e+02       0.000000   2015.000000  \n",
              "50%    3.974383e+04  2.636282e+04  2.647710e+03       0.000000   2016.000000  \n",
              "75%    1.107834e+05  8.333767e+04  2.202925e+04     132.500000   2017.000000  \n",
              "max    1.937313e+07  1.338459e+07  5.719097e+06  551693.650000   2018.000000  "
            ],
            "text/html": [
              "\n",
              "  <div id=\"df-e1281644-29a1-424d-a9a3-77b171369280\">\n",
              "    <div class=\"colab-df-container\">\n",
              "      <div>\n",
              "<style scoped>\n",
              "    .dataframe tbody tr th:only-of-type {\n",
              "        vertical-align: middle;\n",
              "    }\n",
              "\n",
              "    .dataframe tbody tr th {\n",
              "        vertical-align: top;\n",
              "    }\n",
              "\n",
              "    .dataframe thead th {\n",
              "        text-align: right;\n",
              "    }\n",
              "</style>\n",
              "<table border=\"1\" class=\"dataframe\">\n",
              "  <thead>\n",
              "    <tr style=\"text-align: right;\">\n",
              "      <th></th>\n",
              "      <th>AveragePrice</th>\n",
              "      <th>Total Volume</th>\n",
              "      <th>4046</th>\n",
              "      <th>4225</th>\n",
              "      <th>4770</th>\n",
              "      <th>Total Bags</th>\n",
              "      <th>Small Bags</th>\n",
              "      <th>Large Bags</th>\n",
              "      <th>XLarge Bags</th>\n",
              "      <th>year</th>\n",
              "    </tr>\n",
              "  </thead>\n",
              "  <tbody>\n",
              "    <tr>\n",
              "      <th>count</th>\n",
              "      <td>18249.000000</td>\n",
              "      <td>1.824900e+04</td>\n",
              "      <td>1.824900e+04</td>\n",
              "      <td>1.824900e+04</td>\n",
              "      <td>1.824900e+04</td>\n",
              "      <td>1.824900e+04</td>\n",
              "      <td>1.824900e+04</td>\n",
              "      <td>1.824900e+04</td>\n",
              "      <td>18249.000000</td>\n",
              "      <td>18249.000000</td>\n",
              "    </tr>\n",
              "    <tr>\n",
              "      <th>mean</th>\n",
              "      <td>1.405978</td>\n",
              "      <td>8.506440e+05</td>\n",
              "      <td>2.930084e+05</td>\n",
              "      <td>2.951546e+05</td>\n",
              "      <td>2.283974e+04</td>\n",
              "      <td>2.396392e+05</td>\n",
              "      <td>1.821947e+05</td>\n",
              "      <td>5.433809e+04</td>\n",
              "      <td>3106.426507</td>\n",
              "      <td>2016.147899</td>\n",
              "    </tr>\n",
              "    <tr>\n",
              "      <th>std</th>\n",
              "      <td>0.402677</td>\n",
              "      <td>3.453545e+06</td>\n",
              "      <td>1.264989e+06</td>\n",
              "      <td>1.204120e+06</td>\n",
              "      <td>1.074641e+05</td>\n",
              "      <td>9.862424e+05</td>\n",
              "      <td>7.461785e+05</td>\n",
              "      <td>2.439660e+05</td>\n",
              "      <td>17692.894652</td>\n",
              "      <td>0.939938</td>\n",
              "    </tr>\n",
              "    <tr>\n",
              "      <th>min</th>\n",
              "      <td>0.440000</td>\n",
              "      <td>8.456000e+01</td>\n",
              "      <td>0.000000e+00</td>\n",
              "      <td>0.000000e+00</td>\n",
              "      <td>0.000000e+00</td>\n",
              "      <td>0.000000e+00</td>\n",
              "      <td>0.000000e+00</td>\n",
              "      <td>0.000000e+00</td>\n",
              "      <td>0.000000</td>\n",
              "      <td>2015.000000</td>\n",
              "    </tr>\n",
              "    <tr>\n",
              "      <th>25%</th>\n",
              "      <td>1.100000</td>\n",
              "      <td>1.083858e+04</td>\n",
              "      <td>8.540700e+02</td>\n",
              "      <td>3.008780e+03</td>\n",
              "      <td>0.000000e+00</td>\n",
              "      <td>5.088640e+03</td>\n",
              "      <td>2.849420e+03</td>\n",
              "      <td>1.274700e+02</td>\n",
              "      <td>0.000000</td>\n",
              "      <td>2015.000000</td>\n",
              "    </tr>\n",
              "    <tr>\n",
              "      <th>50%</th>\n",
              "      <td>1.370000</td>\n",
              "      <td>1.073768e+05</td>\n",
              "      <td>8.645300e+03</td>\n",
              "      <td>2.906102e+04</td>\n",
              "      <td>1.849900e+02</td>\n",
              "      <td>3.974383e+04</td>\n",
              "      <td>2.636282e+04</td>\n",
              "      <td>2.647710e+03</td>\n",
              "      <td>0.000000</td>\n",
              "      <td>2016.000000</td>\n",
              "    </tr>\n",
              "    <tr>\n",
              "      <th>75%</th>\n",
              "      <td>1.660000</td>\n",
              "      <td>4.329623e+05</td>\n",
              "      <td>1.110202e+05</td>\n",
              "      <td>1.502069e+05</td>\n",
              "      <td>6.243420e+03</td>\n",
              "      <td>1.107834e+05</td>\n",
              "      <td>8.333767e+04</td>\n",
              "      <td>2.202925e+04</td>\n",
              "      <td>132.500000</td>\n",
              "      <td>2017.000000</td>\n",
              "    </tr>\n",
              "    <tr>\n",
              "      <th>max</th>\n",
              "      <td>3.250000</td>\n",
              "      <td>6.250565e+07</td>\n",
              "      <td>2.274362e+07</td>\n",
              "      <td>2.047057e+07</td>\n",
              "      <td>2.546439e+06</td>\n",
              "      <td>1.937313e+07</td>\n",
              "      <td>1.338459e+07</td>\n",
              "      <td>5.719097e+06</td>\n",
              "      <td>551693.650000</td>\n",
              "      <td>2018.000000</td>\n",
              "    </tr>\n",
              "  </tbody>\n",
              "</table>\n",
              "</div>\n",
              "      <button class=\"colab-df-convert\" onclick=\"convertToInteractive('df-e1281644-29a1-424d-a9a3-77b171369280')\"\n",
              "              title=\"Convert this dataframe to an interactive table.\"\n",
              "              style=\"display:none;\">\n",
              "        \n",
              "  <svg xmlns=\"http://www.w3.org/2000/svg\" height=\"24px\"viewBox=\"0 0 24 24\"\n",
              "       width=\"24px\">\n",
              "    <path d=\"M0 0h24v24H0V0z\" fill=\"none\"/>\n",
              "    <path d=\"M18.56 5.44l.94 2.06.94-2.06 2.06-.94-2.06-.94-.94-2.06-.94 2.06-2.06.94zm-11 1L8.5 8.5l.94-2.06 2.06-.94-2.06-.94L8.5 2.5l-.94 2.06-2.06.94zm10 10l.94 2.06.94-2.06 2.06-.94-2.06-.94-.94-2.06-.94 2.06-2.06.94z\"/><path d=\"M17.41 7.96l-1.37-1.37c-.4-.4-.92-.59-1.43-.59-.52 0-1.04.2-1.43.59L10.3 9.45l-7.72 7.72c-.78.78-.78 2.05 0 2.83L4 21.41c.39.39.9.59 1.41.59.51 0 1.02-.2 1.41-.59l7.78-7.78 2.81-2.81c.8-.78.8-2.07 0-2.86zM5.41 20L4 18.59l7.72-7.72 1.47 1.35L5.41 20z\"/>\n",
              "  </svg>\n",
              "      </button>\n",
              "      \n",
              "  <style>\n",
              "    .colab-df-container {\n",
              "      display:flex;\n",
              "      flex-wrap:wrap;\n",
              "      gap: 12px;\n",
              "    }\n",
              "\n",
              "    .colab-df-convert {\n",
              "      background-color: #E8F0FE;\n",
              "      border: none;\n",
              "      border-radius: 50%;\n",
              "      cursor: pointer;\n",
              "      display: none;\n",
              "      fill: #1967D2;\n",
              "      height: 32px;\n",
              "      padding: 0 0 0 0;\n",
              "      width: 32px;\n",
              "    }\n",
              "\n",
              "    .colab-df-convert:hover {\n",
              "      background-color: #E2EBFA;\n",
              "      box-shadow: 0px 1px 2px rgba(60, 64, 67, 0.3), 0px 1px 3px 1px rgba(60, 64, 67, 0.15);\n",
              "      fill: #174EA6;\n",
              "    }\n",
              "\n",
              "    [theme=dark] .colab-df-convert {\n",
              "      background-color: #3B4455;\n",
              "      fill: #D2E3FC;\n",
              "    }\n",
              "\n",
              "    [theme=dark] .colab-df-convert:hover {\n",
              "      background-color: #434B5C;\n",
              "      box-shadow: 0px 1px 3px 1px rgba(0, 0, 0, 0.15);\n",
              "      filter: drop-shadow(0px 1px 2px rgba(0, 0, 0, 0.3));\n",
              "      fill: #FFFFFF;\n",
              "    }\n",
              "  </style>\n",
              "\n",
              "      <script>\n",
              "        const buttonEl =\n",
              "          document.querySelector('#df-e1281644-29a1-424d-a9a3-77b171369280 button.colab-df-convert');\n",
              "        buttonEl.style.display =\n",
              "          google.colab.kernel.accessAllowed ? 'block' : 'none';\n",
              "\n",
              "        async function convertToInteractive(key) {\n",
              "          const element = document.querySelector('#df-e1281644-29a1-424d-a9a3-77b171369280');\n",
              "          const dataTable =\n",
              "            await google.colab.kernel.invokeFunction('convertToInteractive',\n",
              "                                                     [key], {});\n",
              "          if (!dataTable) return;\n",
              "\n",
              "          const docLinkHtml = 'Like what you see? Visit the ' +\n",
              "            '<a target=\"_blank\" href=https://colab.research.google.com/notebooks/data_table.ipynb>data table notebook</a>'\n",
              "            + ' to learn more about interactive tables.';\n",
              "          element.innerHTML = '';\n",
              "          dataTable['output_type'] = 'display_data';\n",
              "          await google.colab.output.renderOutput(dataTable, element);\n",
              "          const docLink = document.createElement('div');\n",
              "          docLink.innerHTML = docLinkHtml;\n",
              "          element.appendChild(docLink);\n",
              "        }\n",
              "      </script>\n",
              "    </div>\n",
              "  </div>\n",
              "  "
            ]
          },
          "metadata": {},
          "execution_count": 14
        }
      ]
    },
    {
      "cell_type": "code",
      "metadata": {
        "id": "SDvOyCVV1iK1",
        "colab": {
          "base_uri": "https://localhost:8080/"
        },
        "outputId": "b054ce09-aa47-44f5-e134-6de6ba3808d9"
      },
      "source": [
        "df['year'].unique()"
      ],
      "execution_count": 17,
      "outputs": [
        {
          "output_type": "execute_result",
          "data": {
            "text/plain": [
              "array([2015, 2016, 2017, 2018])"
            ]
          },
          "metadata": {},
          "execution_count": 17
        }
      ]
    },
    {
      "cell_type": "code",
      "source": [
        "df['region'].nunique()"
      ],
      "metadata": {
        "colab": {
          "base_uri": "https://localhost:8080/"
        },
        "id": "FsXpFlP5OPL0",
        "outputId": "cca5acfb-5f84-4342-ec96-0be8619174ef"
      },
      "execution_count": 19,
      "outputs": [
        {
          "output_type": "execute_result",
          "data": {
            "text/plain": [
              "54"
            ]
          },
          "metadata": {},
          "execution_count": 19
        }
      ]
    },
    {
      "cell_type": "code",
      "source": [
        "df['region'].unique()"
      ],
      "metadata": {
        "colab": {
          "base_uri": "https://localhost:8080/"
        },
        "id": "t4wlIxFUOPFd",
        "outputId": "8ff74477-122b-421c-d42c-209a84feb84a"
      },
      "execution_count": 20,
      "outputs": [
        {
          "output_type": "execute_result",
          "data": {
            "text/plain": [
              "array(['Albany', 'Atlanta', 'BaltimoreWashington', 'Boise', 'Boston',\n",
              "       'BuffaloRochester', 'California', 'Charlotte', 'Chicago',\n",
              "       'CincinnatiDayton', 'Columbus', 'DallasFtWorth', 'Denver',\n",
              "       'Detroit', 'GrandRapids', 'GreatLakes', 'HarrisburgScranton',\n",
              "       'HartfordSpringfield', 'Houston', 'Indianapolis', 'Jacksonville',\n",
              "       'LasVegas', 'LosAngeles', 'Louisville', 'MiamiFtLauderdale',\n",
              "       'Midsouth', 'Nashville', 'NewOrleansMobile', 'NewYork',\n",
              "       'Northeast', 'NorthernNewEngland', 'Orlando', 'Philadelphia',\n",
              "       'PhoenixTucson', 'Pittsburgh', 'Plains', 'Portland',\n",
              "       'RaleighGreensboro', 'RichmondNorfolk', 'Roanoke', 'Sacramento',\n",
              "       'SanDiego', 'SanFrancisco', 'Seattle', 'SouthCarolina',\n",
              "       'SouthCentral', 'Southeast', 'Spokane', 'StLouis', 'Syracuse',\n",
              "       'Tampa', 'TotalUS', 'West', 'WestTexNewMexico'], dtype=object)"
            ]
          },
          "metadata": {},
          "execution_count": 20
        }
      ]
    },
    {
      "cell_type": "code",
      "source": [],
      "metadata": {
        "id": "AmpHXwPTOO-9"
      },
      "execution_count": null,
      "outputs": []
    },
    {
      "cell_type": "markdown",
      "metadata": {
        "id": "JAd7frBG3ukn"
      },
      "source": [
        "### 필요없는 맨 처음 컬럼을 제거하시오"
      ]
    },
    {
      "cell_type": "markdown",
      "metadata": {
        "id": "wqIEFJ9V4FqT"
      },
      "source": [
        "### 데이터의 날짜가 뒤죽박죽 입니다. 날짜로 정렬하시오."
      ]
    },
    {
      "cell_type": "code",
      "metadata": {
        "id": "sSlNk2Y01iK3"
      },
      "source": [
        "df.sort_values('Date', inplace = True)"
      ],
      "execution_count": 23,
      "outputs": []
    },
    {
      "cell_type": "code",
      "metadata": {
        "id": "nOgZmeWR4O4z",
        "colab": {
          "base_uri": "https://localhost:8080/",
          "height": 679
        },
        "outputId": "39da7bbc-76de-4da1-9747-8ba7da7aa4b4"
      },
      "source": [
        "df"
      ],
      "execution_count": 24,
      "outputs": [
        {
          "output_type": "execute_result",
          "data": {
            "text/plain": [
              "          Date  AveragePrice  Total Volume        4046       4225       4770  \\\n",
              "51  2015-01-04          1.75      27365.89     9307.34    3844.81     615.28   \n",
              "51  2015-01-04          1.49      17723.17     1189.35   15628.27       0.00   \n",
              "51  2015-01-04          1.68       2896.72      161.68     206.96       0.00   \n",
              "51  2015-01-04          1.52      54956.80     3013.04   35456.88    1561.70   \n",
              "51  2015-01-04          1.64       1505.12        1.27    1129.50       0.00   \n",
              "..         ...           ...           ...         ...        ...        ...   \n",
              "0   2018-03-25          1.36     908202.13   142681.06  463136.28  174975.75   \n",
              "0   2018-03-25          0.70    9010588.32  3999735.71  966589.50   30130.82   \n",
              "0   2018-03-25          1.42     163496.70    29253.30    5080.04       0.00   \n",
              "0   2018-03-25          1.70     190257.38    29644.09   70982.10       0.00   \n",
              "0   2018-03-25          1.34    1774776.77    63905.98  908653.71     843.45   \n",
              "\n",
              "    Total Bags  Small Bags  Large Bags  XLarge Bags          type  year  \\\n",
              "51    13598.46    13061.10      537.36         0.00       organic  2015   \n",
              "51      905.55      905.55        0.00         0.00       organic  2015   \n",
              "51     2528.08     2528.08        0.00         0.00       organic  2015   \n",
              "51    14925.18    11264.80     3660.38         0.00  conventional  2015   \n",
              "51      374.35      186.67      187.68         0.00       organic  2015   \n",
              "..         ...         ...         ...          ...           ...   ...   \n",
              "0    127409.04   103579.41    22467.04      1362.59  conventional  2018   \n",
              "0   4014132.29  3398569.92   546409.74     69152.63  conventional  2018   \n",
              "0    129163.36   109052.26    20111.10         0.00       organic  2018   \n",
              "0     89631.19    89424.11      207.08         0.00       organic  2018   \n",
              "0    801373.63   774634.09    23833.93      2905.61  conventional  2018   \n",
              "\n",
              "                region  \n",
              "51           Southeast  \n",
              "51             Chicago  \n",
              "51  HarrisburgScranton  \n",
              "51          Pittsburgh  \n",
              "51               Boise  \n",
              "..                 ...  \n",
              "0              Chicago  \n",
              "0         SouthCentral  \n",
              "0         SouthCentral  \n",
              "0           California  \n",
              "0              NewYork  \n",
              "\n",
              "[18249 rows x 13 columns]"
            ],
            "text/html": [
              "\n",
              "  <div id=\"df-46c42f8a-793f-4fbc-822d-2a71503232cf\">\n",
              "    <div class=\"colab-df-container\">\n",
              "      <div>\n",
              "<style scoped>\n",
              "    .dataframe tbody tr th:only-of-type {\n",
              "        vertical-align: middle;\n",
              "    }\n",
              "\n",
              "    .dataframe tbody tr th {\n",
              "        vertical-align: top;\n",
              "    }\n",
              "\n",
              "    .dataframe thead th {\n",
              "        text-align: right;\n",
              "    }\n",
              "</style>\n",
              "<table border=\"1\" class=\"dataframe\">\n",
              "  <thead>\n",
              "    <tr style=\"text-align: right;\">\n",
              "      <th></th>\n",
              "      <th>Date</th>\n",
              "      <th>AveragePrice</th>\n",
              "      <th>Total Volume</th>\n",
              "      <th>4046</th>\n",
              "      <th>4225</th>\n",
              "      <th>4770</th>\n",
              "      <th>Total Bags</th>\n",
              "      <th>Small Bags</th>\n",
              "      <th>Large Bags</th>\n",
              "      <th>XLarge Bags</th>\n",
              "      <th>type</th>\n",
              "      <th>year</th>\n",
              "      <th>region</th>\n",
              "    </tr>\n",
              "  </thead>\n",
              "  <tbody>\n",
              "    <tr>\n",
              "      <th>51</th>\n",
              "      <td>2015-01-04</td>\n",
              "      <td>1.75</td>\n",
              "      <td>27365.89</td>\n",
              "      <td>9307.34</td>\n",
              "      <td>3844.81</td>\n",
              "      <td>615.28</td>\n",
              "      <td>13598.46</td>\n",
              "      <td>13061.10</td>\n",
              "      <td>537.36</td>\n",
              "      <td>0.00</td>\n",
              "      <td>organic</td>\n",
              "      <td>2015</td>\n",
              "      <td>Southeast</td>\n",
              "    </tr>\n",
              "    <tr>\n",
              "      <th>51</th>\n",
              "      <td>2015-01-04</td>\n",
              "      <td>1.49</td>\n",
              "      <td>17723.17</td>\n",
              "      <td>1189.35</td>\n",
              "      <td>15628.27</td>\n",
              "      <td>0.00</td>\n",
              "      <td>905.55</td>\n",
              "      <td>905.55</td>\n",
              "      <td>0.00</td>\n",
              "      <td>0.00</td>\n",
              "      <td>organic</td>\n",
              "      <td>2015</td>\n",
              "      <td>Chicago</td>\n",
              "    </tr>\n",
              "    <tr>\n",
              "      <th>51</th>\n",
              "      <td>2015-01-04</td>\n",
              "      <td>1.68</td>\n",
              "      <td>2896.72</td>\n",
              "      <td>161.68</td>\n",
              "      <td>206.96</td>\n",
              "      <td>0.00</td>\n",
              "      <td>2528.08</td>\n",
              "      <td>2528.08</td>\n",
              "      <td>0.00</td>\n",
              "      <td>0.00</td>\n",
              "      <td>organic</td>\n",
              "      <td>2015</td>\n",
              "      <td>HarrisburgScranton</td>\n",
              "    </tr>\n",
              "    <tr>\n",
              "      <th>51</th>\n",
              "      <td>2015-01-04</td>\n",
              "      <td>1.52</td>\n",
              "      <td>54956.80</td>\n",
              "      <td>3013.04</td>\n",
              "      <td>35456.88</td>\n",
              "      <td>1561.70</td>\n",
              "      <td>14925.18</td>\n",
              "      <td>11264.80</td>\n",
              "      <td>3660.38</td>\n",
              "      <td>0.00</td>\n",
              "      <td>conventional</td>\n",
              "      <td>2015</td>\n",
              "      <td>Pittsburgh</td>\n",
              "    </tr>\n",
              "    <tr>\n",
              "      <th>51</th>\n",
              "      <td>2015-01-04</td>\n",
              "      <td>1.64</td>\n",
              "      <td>1505.12</td>\n",
              "      <td>1.27</td>\n",
              "      <td>1129.50</td>\n",
              "      <td>0.00</td>\n",
              "      <td>374.35</td>\n",
              "      <td>186.67</td>\n",
              "      <td>187.68</td>\n",
              "      <td>0.00</td>\n",
              "      <td>organic</td>\n",
              "      <td>2015</td>\n",
              "      <td>Boise</td>\n",
              "    </tr>\n",
              "    <tr>\n",
              "      <th>...</th>\n",
              "      <td>...</td>\n",
              "      <td>...</td>\n",
              "      <td>...</td>\n",
              "      <td>...</td>\n",
              "      <td>...</td>\n",
              "      <td>...</td>\n",
              "      <td>...</td>\n",
              "      <td>...</td>\n",
              "      <td>...</td>\n",
              "      <td>...</td>\n",
              "      <td>...</td>\n",
              "      <td>...</td>\n",
              "      <td>...</td>\n",
              "    </tr>\n",
              "    <tr>\n",
              "      <th>0</th>\n",
              "      <td>2018-03-25</td>\n",
              "      <td>1.36</td>\n",
              "      <td>908202.13</td>\n",
              "      <td>142681.06</td>\n",
              "      <td>463136.28</td>\n",
              "      <td>174975.75</td>\n",
              "      <td>127409.04</td>\n",
              "      <td>103579.41</td>\n",
              "      <td>22467.04</td>\n",
              "      <td>1362.59</td>\n",
              "      <td>conventional</td>\n",
              "      <td>2018</td>\n",
              "      <td>Chicago</td>\n",
              "    </tr>\n",
              "    <tr>\n",
              "      <th>0</th>\n",
              "      <td>2018-03-25</td>\n",
              "      <td>0.70</td>\n",
              "      <td>9010588.32</td>\n",
              "      <td>3999735.71</td>\n",
              "      <td>966589.50</td>\n",
              "      <td>30130.82</td>\n",
              "      <td>4014132.29</td>\n",
              "      <td>3398569.92</td>\n",
              "      <td>546409.74</td>\n",
              "      <td>69152.63</td>\n",
              "      <td>conventional</td>\n",
              "      <td>2018</td>\n",
              "      <td>SouthCentral</td>\n",
              "    </tr>\n",
              "    <tr>\n",
              "      <th>0</th>\n",
              "      <td>2018-03-25</td>\n",
              "      <td>1.42</td>\n",
              "      <td>163496.70</td>\n",
              "      <td>29253.30</td>\n",
              "      <td>5080.04</td>\n",
              "      <td>0.00</td>\n",
              "      <td>129163.36</td>\n",
              "      <td>109052.26</td>\n",
              "      <td>20111.10</td>\n",
              "      <td>0.00</td>\n",
              "      <td>organic</td>\n",
              "      <td>2018</td>\n",
              "      <td>SouthCentral</td>\n",
              "    </tr>\n",
              "    <tr>\n",
              "      <th>0</th>\n",
              "      <td>2018-03-25</td>\n",
              "      <td>1.70</td>\n",
              "      <td>190257.38</td>\n",
              "      <td>29644.09</td>\n",
              "      <td>70982.10</td>\n",
              "      <td>0.00</td>\n",
              "      <td>89631.19</td>\n",
              "      <td>89424.11</td>\n",
              "      <td>207.08</td>\n",
              "      <td>0.00</td>\n",
              "      <td>organic</td>\n",
              "      <td>2018</td>\n",
              "      <td>California</td>\n",
              "    </tr>\n",
              "    <tr>\n",
              "      <th>0</th>\n",
              "      <td>2018-03-25</td>\n",
              "      <td>1.34</td>\n",
              "      <td>1774776.77</td>\n",
              "      <td>63905.98</td>\n",
              "      <td>908653.71</td>\n",
              "      <td>843.45</td>\n",
              "      <td>801373.63</td>\n",
              "      <td>774634.09</td>\n",
              "      <td>23833.93</td>\n",
              "      <td>2905.61</td>\n",
              "      <td>conventional</td>\n",
              "      <td>2018</td>\n",
              "      <td>NewYork</td>\n",
              "    </tr>\n",
              "  </tbody>\n",
              "</table>\n",
              "<p>18249 rows × 13 columns</p>\n",
              "</div>\n",
              "      <button class=\"colab-df-convert\" onclick=\"convertToInteractive('df-46c42f8a-793f-4fbc-822d-2a71503232cf')\"\n",
              "              title=\"Convert this dataframe to an interactive table.\"\n",
              "              style=\"display:none;\">\n",
              "        \n",
              "  <svg xmlns=\"http://www.w3.org/2000/svg\" height=\"24px\"viewBox=\"0 0 24 24\"\n",
              "       width=\"24px\">\n",
              "    <path d=\"M0 0h24v24H0V0z\" fill=\"none\"/>\n",
              "    <path d=\"M18.56 5.44l.94 2.06.94-2.06 2.06-.94-2.06-.94-.94-2.06-.94 2.06-2.06.94zm-11 1L8.5 8.5l.94-2.06 2.06-.94-2.06-.94L8.5 2.5l-.94 2.06-2.06.94zm10 10l.94 2.06.94-2.06 2.06-.94-2.06-.94-.94-2.06-.94 2.06-2.06.94z\"/><path d=\"M17.41 7.96l-1.37-1.37c-.4-.4-.92-.59-1.43-.59-.52 0-1.04.2-1.43.59L10.3 9.45l-7.72 7.72c-.78.78-.78 2.05 0 2.83L4 21.41c.39.39.9.59 1.41.59.51 0 1.02-.2 1.41-.59l7.78-7.78 2.81-2.81c.8-.78.8-2.07 0-2.86zM5.41 20L4 18.59l7.72-7.72 1.47 1.35L5.41 20z\"/>\n",
              "  </svg>\n",
              "      </button>\n",
              "      \n",
              "  <style>\n",
              "    .colab-df-container {\n",
              "      display:flex;\n",
              "      flex-wrap:wrap;\n",
              "      gap: 12px;\n",
              "    }\n",
              "\n",
              "    .colab-df-convert {\n",
              "      background-color: #E8F0FE;\n",
              "      border: none;\n",
              "      border-radius: 50%;\n",
              "      cursor: pointer;\n",
              "      display: none;\n",
              "      fill: #1967D2;\n",
              "      height: 32px;\n",
              "      padding: 0 0 0 0;\n",
              "      width: 32px;\n",
              "    }\n",
              "\n",
              "    .colab-df-convert:hover {\n",
              "      background-color: #E2EBFA;\n",
              "      box-shadow: 0px 1px 2px rgba(60, 64, 67, 0.3), 0px 1px 3px 1px rgba(60, 64, 67, 0.15);\n",
              "      fill: #174EA6;\n",
              "    }\n",
              "\n",
              "    [theme=dark] .colab-df-convert {\n",
              "      background-color: #3B4455;\n",
              "      fill: #D2E3FC;\n",
              "    }\n",
              "\n",
              "    [theme=dark] .colab-df-convert:hover {\n",
              "      background-color: #434B5C;\n",
              "      box-shadow: 0px 1px 3px 1px rgba(0, 0, 0, 0.15);\n",
              "      filter: drop-shadow(0px 1px 2px rgba(0, 0, 0, 0.3));\n",
              "      fill: #FFFFFF;\n",
              "    }\n",
              "  </style>\n",
              "\n",
              "      <script>\n",
              "        const buttonEl =\n",
              "          document.querySelector('#df-46c42f8a-793f-4fbc-822d-2a71503232cf button.colab-df-convert');\n",
              "        buttonEl.style.display =\n",
              "          google.colab.kernel.accessAllowed ? 'block' : 'none';\n",
              "\n",
              "        async function convertToInteractive(key) {\n",
              "          const element = document.querySelector('#df-46c42f8a-793f-4fbc-822d-2a71503232cf');\n",
              "          const dataTable =\n",
              "            await google.colab.kernel.invokeFunction('convertToInteractive',\n",
              "                                                     [key], {});\n",
              "          if (!dataTable) return;\n",
              "\n",
              "          const docLinkHtml = 'Like what you see? Visit the ' +\n",
              "            '<a target=\"_blank\" href=https://colab.research.google.com/notebooks/data_table.ipynb>data table notebook</a>'\n",
              "            + ' to learn more about interactive tables.';\n",
              "          element.innerHTML = '';\n",
              "          dataTable['output_type'] = 'display_data';\n",
              "          await google.colab.output.renderOutput(dataTable, element);\n",
              "          const docLink = document.createElement('div');\n",
              "          docLink.innerHTML = docLinkHtml;\n",
              "          element.appendChild(docLink);\n",
              "        }\n",
              "      </script>\n",
              "    </div>\n",
              "  </div>\n",
              "  "
            ]
          },
          "metadata": {},
          "execution_count": 24
        }
      ]
    },
    {
      "cell_type": "markdown",
      "metadata": {
        "id": "wBnYETJ74ZNF"
      },
      "source": [
        "### 날짜별로 가격이 어떻게 변하는지 간단하게 확인하시오. (plot 이용)"
      ]
    },
    {
      "cell_type": "code",
      "source": [
        "df_date = df.groupby('Date')['AveragePrice'].mean()"
      ],
      "metadata": {
        "id": "_y2HqVQ3PjIV"
      },
      "execution_count": 27,
      "outputs": []
    },
    {
      "cell_type": "code",
      "source": [
        "df_date.plot()\n",
        "plt.show()"
      ],
      "metadata": {
        "colab": {
          "base_uri": "https://localhost:8080/",
          "height": 281
        },
        "id": "ddk-l371Pi8N",
        "outputId": "1329a093-8b7e-4dbe-b798-c734ec9c5ecf"
      },
      "execution_count": 29,
      "outputs": [
        {
          "output_type": "display_data",
          "data": {
            "text/plain": [
              "<Figure size 432x288 with 1 Axes>"
            ],
            "image/png": "[encoded data removed]"
          },
          "metadata": {
            "needs_background": "light"
          }
        }
      ]
    },
    {
      "cell_type": "code",
      "metadata": {
        "id": "bSytqgCo1iK3"
      },
      "source": [
        "\n"
      ],
      "execution_count": null,
      "outputs": []
    },
    {
      "cell_type": "markdown",
      "metadata": {
        "id": "tlepcnxP5Gv4"
      },
      "source": [
        "### 'region' 별로 데이터 몇개인지 시각화 하시오."
      ]
    },
    {
      "cell_type": "code",
      "metadata": {
        "scrolled": true,
        "id": "yQCGbLwT1iK3",
        "colab": {
          "base_uri": "https://localhost:8080/"
        },
        "outputId": "c80a0df7-dc75-41b2-b201-b250c34c39bf"
      },
      "source": [
        "df['region'].value_counts()"
      ],
      "execution_count": 31,
      "outputs": [
        {
          "output_type": "execute_result",
          "data": {
            "text/plain": [
              "Southeast              338\n",
              "NewOrleansMobile       338\n",
              "SanDiego               338\n",
              "BaltimoreWashington    338\n",
              "Roanoke                338\n",
              "RichmondNorfolk        338\n",
              "Northeast              338\n",
              "SouthCentral           338\n",
              "GreatLakes             338\n",
              "Louisville             338\n",
              "Seattle                338\n",
              "CincinnatiDayton       338\n",
              "NewYork                338\n",
              "Indianapolis           338\n",
              "Chicago                338\n",
              "Jacksonville           338\n",
              "Columbus               338\n",
              "Detroit                338\n",
              "Philadelphia           338\n",
              "PhoenixTucson          338\n",
              "Nashville              338\n",
              "Portland               338\n",
              "HartfordSpringfield    338\n",
              "Tampa                  338\n",
              "Orlando                338\n",
              "West                   338\n",
              "Denver                 338\n",
              "GrandRapids            338\n",
              "NorthernNewEngland     338\n",
              "BuffaloRochester       338\n",
              "HarrisburgScranton     338\n",
              "Pittsburgh             338\n",
              "Boise                  338\n",
              "LosAngeles             338\n",
              "LasVegas               338\n",
              "Atlanta                338\n",
              "DallasFtWorth          338\n",
              "MiamiFtLauderdale      338\n",
              "Plains                 338\n",
              "StLouis                338\n",
              "Syracuse               338\n",
              "Midsouth               338\n",
              "Sacramento             338\n",
              "Boston                 338\n",
              "Charlotte              338\n",
              "Spokane                338\n",
              "Albany                 338\n",
              "Houston                338\n",
              "SouthCarolina          338\n",
              "SanFrancisco           338\n",
              "TotalUS                338\n",
              "RaleighGreensboro      338\n",
              "California             338\n",
              "WestTexNewMexico       335\n",
              "Name: region, dtype: int64"
            ]
          },
          "metadata": {},
          "execution_count": 31
        }
      ]
    },
    {
      "cell_type": "code",
      "source": [
        "import seaborn as sb"
      ],
      "metadata": {
        "id": "U_cHYV1sQ4_d"
      },
      "execution_count": 32,
      "outputs": []
    },
    {
      "cell_type": "code",
      "source": [
        "plt.figure(figsize=(6,10))\n",
        "sb.countplot(data = df, y = 'region')\n",
        "plt.show()"
      ],
      "metadata": {
        "colab": {
          "base_uri": "https://localhost:8080/",
          "height": 606
        },
        "id": "x-Uvlr7lQ463",
        "outputId": "45780f61-f767-48c6-e1b7-fec42111ef01"
      },
      "execution_count": 35,
      "outputs": [
        {
          "output_type": "display_data",
          "data": {
            "text/plain": [
              "<Figure size 432x720 with 1 Axes>"
            ],
            "image/png": "[encoded data removed]"
          },
          "metadata": {
            "needs_background": "light"
          }
        }
      ]
    },
    {
      "cell_type": "code",
      "source": [],
      "metadata": {
        "id": "ZEzANY4jQ40V"
      },
      "execution_count": null,
      "outputs": []
    },
    {
      "cell_type": "markdown",
      "metadata": {
        "id": "fxFHT_dh5KOQ"
      },
      "source": [
        "### 년도('year')별로 데이터가 몇건인지 확인하시오."
      ]
    },
    {
      "cell_type": "code",
      "metadata": {
        "id": "rUkggQ-D1iK4",
        "colab": {
          "base_uri": "https://localhost:8080/",
          "height": 283
        },
        "outputId": "f06ff956-6909-4435-be66-ec51286784fb"
      },
      "source": [
        "sb.countplot(data = df, x = 'year')\n",
        "plt.show()"
      ],
      "execution_count": 36,
      "outputs": [
        {
          "output_type": "display_data",
          "data": {
            "text/plain": [
              "<Figure size 432x288 with 1 Axes>"
            ],
            "image/png": "[encoded data removed]"
          },
          "metadata": {
            "needs_background": "light"
          }
        }
      ]
    },
    {
      "cell_type": "code",
      "source": [
        "df.tail()"
      ],
      "metadata": {
        "colab": {
          "base_uri": "https://localhost:8080/",
          "height": 374
        },
        "id": "fAPj3JX9R3Se",
        "outputId": "efd2b535-b336-46d8-a6e2-7f1215575d7f"
      },
      "execution_count": 37,
      "outputs": [
        {
          "output_type": "execute_result",
          "data": {
            "text/plain": [
              "         Date  AveragePrice  Total Volume        4046       4225       4770  \\\n",
              "0  2018-03-25          1.36     908202.13   142681.06  463136.28  174975.75   \n",
              "0  2018-03-25          0.70    9010588.32  3999735.71  966589.50   30130.82   \n",
              "0  2018-03-25          1.42     163496.70    29253.30    5080.04       0.00   \n",
              "0  2018-03-25          1.70     190257.38    29644.09   70982.10       0.00   \n",
              "0  2018-03-25          1.34    1774776.77    63905.98  908653.71     843.45   \n",
              "\n",
              "   Total Bags  Small Bags  Large Bags  XLarge Bags          type  year  \\\n",
              "0   127409.04   103579.41    22467.04      1362.59  conventional  2018   \n",
              "0  4014132.29  3398569.92   546409.74     69152.63  conventional  2018   \n",
              "0   129163.36   109052.26    20111.10         0.00       organic  2018   \n",
              "0    89631.19    89424.11      207.08         0.00       organic  2018   \n",
              "0   801373.63   774634.09    23833.93      2905.61  conventional  2018   \n",
              "\n",
              "         region  \n",
              "0       Chicago  \n",
              "0  SouthCentral  \n",
              "0  SouthCentral  \n",
              "0    California  \n",
              "0       NewYork  "
            ],
            "text/html": [
              "\n",
              "  <div id=\"df-103f69d1-00c6-40e2-8427-08dacbefceb4\">\n",
              "    <div class=\"colab-df-container\">\n",
              "      <div>\n",
              "<style scoped>\n",
              "    .dataframe tbody tr th:only-of-type {\n",
              "        vertical-align: middle;\n",
              "    }\n",
              "\n",
              "    .dataframe tbody tr th {\n",
              "        vertical-align: top;\n",
              "    }\n",
              "\n",
              "    .dataframe thead th {\n",
              "        text-align: right;\n",
              "    }\n",
              "</style>\n",
              "<table border=\"1\" class=\"dataframe\">\n",
              "  <thead>\n",
              "    <tr style=\"text-align: right;\">\n",
              "      <th></th>\n",
              "      <th>Date</th>\n",
              "      <th>AveragePrice</th>\n",
              "      <th>Total Volume</th>\n",
              "      <th>4046</th>\n",
              "      <th>4225</th>\n",
              "      <th>4770</th>\n",
              "      <th>Total Bags</th>\n",
              "      <th>Small Bags</th>\n",
              "      <th>Large Bags</th>\n",
              "      <th>XLarge Bags</th>\n",
              "      <th>type</th>\n",
              "      <th>year</th>\n",
              "      <th>region</th>\n",
              "    </tr>\n",
              "  </thead>\n",
              "  <tbody>\n",
              "    <tr>\n",
              "      <th>0</th>\n",
              "      <td>2018-03-25</td>\n",
              "      <td>1.36</td>\n",
              "      <td>908202.13</td>\n",
              "      <td>142681.06</td>\n",
              "      <td>463136.28</td>\n",
              "      <td>174975.75</td>\n",
              "      <td>127409.04</td>\n",
              "      <td>103579.41</td>\n",
              "      <td>22467.04</td>\n",
              "      <td>1362.59</td>\n",
              "      <td>conventional</td>\n",
              "      <td>2018</td>\n",
              "      <td>Chicago</td>\n",
              "    </tr>\n",
              "    <tr>\n",
              "      <th>0</th>\n",
              "      <td>2018-03-25</td>\n",
              "      <td>0.70</td>\n",
              "      <td>9010588.32</td>\n",
              "      <td>3999735.71</td>\n",
              "      <td>966589.50</td>\n",
              "      <td>30130.82</td>\n",
              "      <td>4014132.29</td>\n",
              "      <td>3398569.92</td>\n",
              "      <td>546409.74</td>\n",
              "      <td>69152.63</td>\n",
              "      <td>conventional</td>\n",
              "      <td>2018</td>\n",
              "      <td>SouthCentral</td>\n",
              "    </tr>\n",
              "    <tr>\n",
              "      <th>0</th>\n",
              "      <td>2018-03-25</td>\n",
              "      <td>1.42</td>\n",
              "      <td>163496.70</td>\n",
              "      <td>29253.30</td>\n",
              "      <td>5080.04</td>\n",
              "      <td>0.00</td>\n",
              "      <td>129163.36</td>\n",
              "      <td>109052.26</td>\n",
              "      <td>20111.10</td>\n",
              "      <td>0.00</td>\n",
              "      <td>organic</td>\n",
              "      <td>2018</td>\n",
              "      <td>SouthCentral</td>\n",
              "    </tr>\n",
              "    <tr>\n",
              "      <th>0</th>\n",
              "      <td>2018-03-25</td>\n",
              "      <td>1.70</td>\n",
              "      <td>190257.38</td>\n",
              "      <td>29644.09</td>\n",
              "      <td>70982.10</td>\n",
              "      <td>0.00</td>\n",
              "      <td>89631.19</td>\n",
              "      <td>89424.11</td>\n",
              "      <td>207.08</td>\n",
              "      <td>0.00</td>\n",
              "      <td>organic</td>\n",
              "      <td>2018</td>\n",
              "      <td>California</td>\n",
              "    </tr>\n",
              "    <tr>\n",
              "      <th>0</th>\n",
              "      <td>2018-03-25</td>\n",
              "      <td>1.34</td>\n",
              "      <td>1774776.77</td>\n",
              "      <td>63905.98</td>\n",
              "      <td>908653.71</td>\n",
              "      <td>843.45</td>\n",
              "      <td>801373.63</td>\n",
              "      <td>774634.09</td>\n",
              "      <td>23833.93</td>\n",
              "      <td>2905.61</td>\n",
              "      <td>conventional</td>\n",
              "      <td>2018</td>\n",
              "      <td>NewYork</td>\n",
              "    </tr>\n",
              "  </tbody>\n",
              "</table>\n",
              "</div>\n",
              "      <button class=\"colab-df-convert\" onclick=\"convertToInteractive('df-103f69d1-00c6-40e2-8427-08dacbefceb4')\"\n",
              "              title=\"Convert this dataframe to an interactive table.\"\n",
              "              style=\"display:none;\">\n",
              "        \n",
              "  <svg xmlns=\"http://www.w3.org/2000/svg\" height=\"24px\"viewBox=\"0 0 24 24\"\n",
              "       width=\"24px\">\n",
              "    <path d=\"M0 0h24v24H0V0z\" fill=\"none\"/>\n",
              "    <path d=\"M18.56 5.44l.94 2.06.94-2.06 2.06-.94-2.06-.94-.94-2.06-.94 2.06-2.06.94zm-11 1L8.5 8.5l.94-2.06 2.06-.94-2.06-.94L8.5 2.5l-.94 2.06-2.06.94zm10 10l.94 2.06.94-2.06 2.06-.94-2.06-.94-.94-2.06-.94 2.06-2.06.94z\"/><path d=\"M17.41 7.96l-1.37-1.37c-.4-.4-.92-.59-1.43-.59-.52 0-1.04.2-1.43.59L10.3 9.45l-7.72 7.72c-.78.78-.78 2.05 0 2.83L4 21.41c.39.39.9.59 1.41.59.51 0 1.02-.2 1.41-.59l7.78-7.78 2.81-2.81c.8-.78.8-2.07 0-2.86zM5.41 20L4 18.59l7.72-7.72 1.47 1.35L5.41 20z\"/>\n",
              "  </svg>\n",
              "      </button>\n",
              "      \n",
              "  <style>\n",
              "    .colab-df-container {\n",
              "      display:flex;\n",
              "      flex-wrap:wrap;\n",
              "      gap: 12px;\n",
              "    }\n",
              "\n",
              "    .colab-df-convert {\n",
              "      background-color: #E8F0FE;\n",
              "      border: none;\n",
              "      border-radius: 50%;\n",
              "      cursor: pointer;\n",
              "      display: none;\n",
              "      fill: #1967D2;\n",
              "      height: 32px;\n",
              "      padding: 0 0 0 0;\n",
              "      width: 32px;\n",
              "    }\n",
              "\n",
              "    .colab-df-convert:hover {\n",
              "      background-color: #E2EBFA;\n",
              "      box-shadow: 0px 1px 2px rgba(60, 64, 67, 0.3), 0px 1px 3px 1px rgba(60, 64, 67, 0.15);\n",
              "      fill: #174EA6;\n",
              "    }\n",
              "\n",
              "    [theme=dark] .colab-df-convert {\n",
              "      background-color: #3B4455;\n",
              "      fill: #D2E3FC;\n",
              "    }\n",
              "\n",
              "    [theme=dark] .colab-df-convert:hover {\n",
              "      background-color: #434B5C;\n",
              "      box-shadow: 0px 1px 3px 1px rgba(0, 0, 0, 0.15);\n",
              "      filter: drop-shadow(0px 1px 2px rgba(0, 0, 0, 0.3));\n",
              "      fill: #FFFFFF;\n",
              "    }\n",
              "  </style>\n",
              "\n",
              "      <script>\n",
              "        const buttonEl =\n",
              "          document.querySelector('#df-103f69d1-00c6-40e2-8427-08dacbefceb4 button.colab-df-convert');\n",
              "        buttonEl.style.display =\n",
              "          google.colab.kernel.accessAllowed ? 'block' : 'none';\n",
              "\n",
              "        async function convertToInteractive(key) {\n",
              "          const element = document.querySelector('#df-103f69d1-00c6-40e2-8427-08dacbefceb4');\n",
              "          const dataTable =\n",
              "            await google.colab.kernel.invokeFunction('convertToInteractive',\n",
              "                                                     [key], {});\n",
              "          if (!dataTable) return;\n",
              "\n",
              "          const docLinkHtml = 'Like what you see? Visit the ' +\n",
              "            '<a target=\"_blank\" href=https://colab.research.google.com/notebooks/data_table.ipynb>data table notebook</a>'\n",
              "            + ' to learn more about interactive tables.';\n",
              "          element.innerHTML = '';\n",
              "          dataTable['output_type'] = 'display_data';\n",
              "          await google.colab.output.renderOutput(dataTable, element);\n",
              "          const docLink = document.createElement('div');\n",
              "          docLink.innerHTML = docLinkHtml;\n",
              "          element.appendChild(docLink);\n",
              "        }\n",
              "      </script>\n",
              "    </div>\n",
              "  </div>\n",
              "  "
            ]
          },
          "metadata": {},
          "execution_count": 37
        }
      ]
    },
    {
      "cell_type": "markdown",
      "metadata": {
        "id": "hj_2yoRD5RV6"
      },
      "source": [
        "### 프로펫 분석을 위해, 두개의 컬럼만 가져오시오. ('Date', 'AveragePrice')"
      ]
    },
    {
      "cell_type": "code",
      "metadata": {
        "id": "kDuUxzP21iK4"
      },
      "source": [
        "avocado_prophet_df = df[ ['Date' , 'AveragePrice'] ]\n"
      ],
      "execution_count": 38,
      "outputs": []
    },
    {
      "cell_type": "code",
      "metadata": {
        "id": "DGHocBKr1iK4",
        "colab": {
          "base_uri": "https://localhost:8080/",
          "height": 424
        },
        "outputId": "e8554a40-f69f-406b-affb-148666eb4a10"
      },
      "source": [
        "avocado_prophet_df"
      ],
      "execution_count": 39,
      "outputs": [
        {
          "output_type": "execute_result",
          "data": {
            "text/plain": [
              "          Date  AveragePrice\n",
              "51  2015-01-04          1.75\n",
              "51  2015-01-04          1.49\n",
              "51  2015-01-04          1.68\n",
              "51  2015-01-04          1.52\n",
              "51  2015-01-04          1.64\n",
              "..         ...           ...\n",
              "0   2018-03-25          1.36\n",
              "0   2018-03-25          0.70\n",
              "0   2018-03-25          1.42\n",
              "0   2018-03-25          1.70\n",
              "0   2018-03-25          1.34\n",
              "\n",
              "[18249 rows x 2 columns]"
            ],
            "text/html": [
              "\n",
              "  <div id=\"df-bb0cb2b1-ca7c-4f80-a74d-673cade827ef\">\n",
              "    <div class=\"colab-df-container\">\n",
              "      <div>\n",
              "<style scoped>\n",
              "    .dataframe tbody tr th:only-of-type {\n",
              "        vertical-align: middle;\n",
              "    }\n",
              "\n",
              "    .dataframe tbody tr th {\n",
              "        vertical-align: top;\n",
              "    }\n",
              "\n",
              "    .dataframe thead th {\n",
              "        text-align: right;\n",
              "    }\n",
              "</style>\n",
              "<table border=\"1\" class=\"dataframe\">\n",
              "  <thead>\n",
              "    <tr style=\"text-align: right;\">\n",
              "      <th></th>\n",
              "      <th>Date</th>\n",
              "      <th>AveragePrice</th>\n",
              "    </tr>\n",
              "  </thead>\n",
              "  <tbody>\n",
              "    <tr>\n",
              "      <th>51</th>\n",
              "      <td>2015-01-04</td>\n",
              "      <td>1.75</td>\n",
              "    </tr>\n",
              "    <tr>\n",
              "      <th>51</th>\n",
              "      <td>2015-01-04</td>\n",
              "      <td>1.49</td>\n",
              "    </tr>\n",
              "    <tr>\n",
              "      <th>51</th>\n",
              "      <td>2015-01-04</td>\n",
              "      <td>1.68</td>\n",
              "    </tr>\n",
              "    <tr>\n",
              "      <th>51</th>\n",
              "      <td>2015-01-04</td>\n",
              "      <td>1.52</td>\n",
              "    </tr>\n",
              "    <tr>\n",
              "      <th>51</th>\n",
              "      <td>2015-01-04</td>\n",
              "      <td>1.64</td>\n",
              "    </tr>\n",
              "    <tr>\n",
              "      <th>...</th>\n",
              "      <td>...</td>\n",
              "      <td>...</td>\n",
              "    </tr>\n",
              "    <tr>\n",
              "      <th>0</th>\n",
              "      <td>2018-03-25</td>\n",
              "      <td>1.36</td>\n",
              "    </tr>\n",
              "    <tr>\n",
              "      <th>0</th>\n",
              "      <td>2018-03-25</td>\n",
              "      <td>0.70</td>\n",
              "    </tr>\n",
              "    <tr>\n",
              "      <th>0</th>\n",
              "      <td>2018-03-25</td>\n",
              "      <td>1.42</td>\n",
              "    </tr>\n",
              "    <tr>\n",
              "      <th>0</th>\n",
              "      <td>2018-03-25</td>\n",
              "      <td>1.70</td>\n",
              "    </tr>\n",
              "    <tr>\n",
              "      <th>0</th>\n",
              "      <td>2018-03-25</td>\n",
              "      <td>1.34</td>\n",
              "    </tr>\n",
              "  </tbody>\n",
              "</table>\n",
              "<p>18249 rows × 2 columns</p>\n",
              "</div>\n",
              "      <button class=\"colab-df-convert\" onclick=\"convertToInteractive('df-bb0cb2b1-ca7c-4f80-a74d-673cade827ef')\"\n",
              "              title=\"Convert this dataframe to an interactive table.\"\n",
              "              style=\"display:none;\">\n",
              "        \n",
              "  <svg xmlns=\"http://www.w3.org/2000/svg\" height=\"24px\"viewBox=\"0 0 24 24\"\n",
              "       width=\"24px\">\n",
              "    <path d=\"M0 0h24v24H0V0z\" fill=\"none\"/>\n",
              "    <path d=\"M18.56 5.44l.94 2.06.94-2.06 2.06-.94-2.06-.94-.94-2.06-.94 2.06-2.06.94zm-11 1L8.5 8.5l.94-2.06 2.06-.94-2.06-.94L8.5 2.5l-.94 2.06-2.06.94zm10 10l.94 2.06.94-2.06 2.06-.94-2.06-.94-.94-2.06-.94 2.06-2.06.94z\"/><path d=\"M17.41 7.96l-1.37-1.37c-.4-.4-.92-.59-1.43-.59-.52 0-1.04.2-1.43.59L10.3 9.45l-7.72 7.72c-.78.78-.78 2.05 0 2.83L4 21.41c.39.39.9.59 1.41.59.51 0 1.02-.2 1.41-.59l7.78-7.78 2.81-2.81c.8-.78.8-2.07 0-2.86zM5.41 20L4 18.59l7.72-7.72 1.47 1.35L5.41 20z\"/>\n",
              "  </svg>\n",
              "      </button>\n",
              "      \n",
              "  <style>\n",
              "    .colab-df-container {\n",
              "      display:flex;\n",
              "      flex-wrap:wrap;\n",
              "      gap: 12px;\n",
              "    }\n",
              "\n",
              "    .colab-df-convert {\n",
              "      background-color: #E8F0FE;\n",
              "      border: none;\n",
              "      border-radius: 50%;\n",
              "      cursor: pointer;\n",
              "      display: none;\n",
              "      fill: #1967D2;\n",
              "      height: 32px;\n",
              "      padding: 0 0 0 0;\n",
              "      width: 32px;\n",
              "    }\n",
              "\n",
              "    .colab-df-convert:hover {\n",
              "      background-color: #E2EBFA;\n",
              "      box-shadow: 0px 1px 2px rgba(60, 64, 67, 0.3), 0px 1px 3px 1px rgba(60, 64, 67, 0.15);\n",
              "      fill: #174EA6;\n",
              "    }\n",
              "\n",
              "    [theme=dark] .colab-df-convert {\n",
              "      background-color: #3B4455;\n",
              "      fill: #D2E3FC;\n",
              "    }\n",
              "\n",
              "    [theme=dark] .colab-df-convert:hover {\n",
              "      background-color: #434B5C;\n",
              "      box-shadow: 0px 1px 3px 1px rgba(0, 0, 0, 0.15);\n",
              "      filter: drop-shadow(0px 1px 2px rgba(0, 0, 0, 0.3));\n",
              "      fill: #FFFFFF;\n",
              "    }\n",
              "  </style>\n",
              "\n",
              "      <script>\n",
              "        const buttonEl =\n",
              "          document.querySelector('#df-bb0cb2b1-ca7c-4f80-a74d-673cade827ef button.colab-df-convert');\n",
              "        buttonEl.style.display =\n",
              "          google.colab.kernel.accessAllowed ? 'block' : 'none';\n",
              "\n",
              "        async function convertToInteractive(key) {\n",
              "          const element = document.querySelector('#df-bb0cb2b1-ca7c-4f80-a74d-673cade827ef');\n",
              "          const dataTable =\n",
              "            await google.colab.kernel.invokeFunction('convertToInteractive',\n",
              "                                                     [key], {});\n",
              "          if (!dataTable) return;\n",
              "\n",
              "          const docLinkHtml = 'Like what you see? Visit the ' +\n",
              "            '<a target=\"_blank\" href=https://colab.research.google.com/notebooks/data_table.ipynb>data table notebook</a>'\n",
              "            + ' to learn more about interactive tables.';\n",
              "          element.innerHTML = '';\n",
              "          dataTable['output_type'] = 'display_data';\n",
              "          await google.colab.output.renderOutput(dataTable, element);\n",
              "          const docLink = document.createElement('div');\n",
              "          docLink.innerHTML = docLinkHtml;\n",
              "          element.appendChild(docLink);\n",
              "        }\n",
              "      </script>\n",
              "    </div>\n",
              "  </div>\n",
              "  "
            ]
          },
          "metadata": {},
          "execution_count": 39
        }
      ]
    },
    {
      "cell_type": "markdown",
      "metadata": {
        "id": "uVFWVV841iK5"
      },
      "source": [
        "# STEP 3: Prophet 을 이용한 예측 수행"
      ]
    },
    {
      "cell_type": "markdown",
      "metadata": {
        "id": "tC4ubnvD5t5n"
      },
      "source": [
        "### ds 와 y 로 컬럼명을 셋팅하시오."
      ]
    },
    {
      "cell_type": "code",
      "metadata": {
        "id": "V-twJSc01iK5"
      },
      "source": [
        "avocado_prophet_df.columns = ['ds', 'y']\n"
      ],
      "execution_count": 42,
      "outputs": []
    },
    {
      "cell_type": "code",
      "metadata": {
        "id": "w3vCh3c21iK5",
        "colab": {
          "base_uri": "https://localhost:8080/",
          "height": 424
        },
        "outputId": "dbd9fd6f-3849-4517-c794-1b40e3260995"
      },
      "source": [
        "avocado_prophet_df"
      ],
      "execution_count": 43,
      "outputs": [
        {
          "output_type": "execute_result",
          "data": {
            "text/plain": [
              "            ds     y\n",
              "51  2015-01-04  1.75\n",
              "51  2015-01-04  1.49\n",
              "51  2015-01-04  1.68\n",
              "51  2015-01-04  1.52\n",
              "51  2015-01-04  1.64\n",
              "..         ...   ...\n",
              "0   2018-03-25  1.36\n",
              "0   2018-03-25  0.70\n",
              "0   2018-03-25  1.42\n",
              "0   2018-03-25  1.70\n",
              "0   2018-03-25  1.34\n",
              "\n",
              "[18249 rows x 2 columns]"
            ],
            "text/html": [
              "\n",
              "  <div id=\"df-98ebc9d1-37e2-4982-a2cd-68229944071c\">\n",
              "    <div class=\"colab-df-container\">\n",
              "      <div>\n",
              "<style scoped>\n",
              "    .dataframe tbody tr th:only-of-type {\n",
              "        vertical-align: middle;\n",
              "    }\n",
              "\n",
              "    .dataframe tbody tr th {\n",
              "        vertical-align: top;\n",
              "    }\n",
              "\n",
              "    .dataframe thead th {\n",
              "        text-align: right;\n",
              "    }\n",
              "</style>\n",
              "<table border=\"1\" class=\"dataframe\">\n",
              "  <thead>\n",
              "    <tr style=\"text-align: right;\">\n",
              "      <th></th>\n",
              "      <th>ds</th>\n",
              "      <th>y</th>\n",
              "    </tr>\n",
              "  </thead>\n",
              "  <tbody>\n",
              "    <tr>\n",
              "      <th>51</th>\n",
              "      <td>2015-01-04</td>\n",
              "      <td>1.75</td>\n",
              "    </tr>\n",
              "    <tr>\n",
              "      <th>51</th>\n",
              "      <td>2015-01-04</td>\n",
              "      <td>1.49</td>\n",
              "    </tr>\n",
              "    <tr>\n",
              "      <th>51</th>\n",
              "      <td>2015-01-04</td>\n",
              "      <td>1.68</td>\n",
              "    </tr>\n",
              "    <tr>\n",
              "      <th>51</th>\n",
              "      <td>2015-01-04</td>\n",
              "      <td>1.52</td>\n",
              "    </tr>\n",
              "    <tr>\n",
              "      <th>51</th>\n",
              "      <td>2015-01-04</td>\n",
              "      <td>1.64</td>\n",
              "    </tr>\n",
              "    <tr>\n",
              "      <th>...</th>\n",
              "      <td>...</td>\n",
              "      <td>...</td>\n",
              "    </tr>\n",
              "    <tr>\n",
              "      <th>0</th>\n",
              "      <td>2018-03-25</td>\n",
              "      <td>1.36</td>\n",
              "    </tr>\n",
              "    <tr>\n",
              "      <th>0</th>\n",
              "      <td>2018-03-25</td>\n",
              "      <td>0.70</td>\n",
              "    </tr>\n",
              "    <tr>\n",
              "      <th>0</th>\n",
              "      <td>2018-03-25</td>\n",
              "      <td>1.42</td>\n",
              "    </tr>\n",
              "    <tr>\n",
              "      <th>0</th>\n",
              "      <td>2018-03-25</td>\n",
              "      <td>1.70</td>\n",
              "    </tr>\n",
              "    <tr>\n",
              "      <th>0</th>\n",
              "      <td>2018-03-25</td>\n",
              "      <td>1.34</td>\n",
              "    </tr>\n",
              "  </tbody>\n",
              "</table>\n",
              "<p>18249 rows × 2 columns</p>\n",
              "</div>\n",
              "      <button class=\"colab-df-convert\" onclick=\"convertToInteractive('df-98ebc9d1-37e2-4982-a2cd-68229944071c')\"\n",
              "              title=\"Convert this dataframe to an interactive table.\"\n",
              "              style=\"display:none;\">\n",
              "        \n",
              "  <svg xmlns=\"http://www.w3.org/2000/svg\" height=\"24px\"viewBox=\"0 0 24 24\"\n",
              "       width=\"24px\">\n",
              "    <path d=\"M0 0h24v24H0V0z\" fill=\"none\"/>\n",
              "    <path d=\"M18.56 5.44l.94 2.06.94-2.06 2.06-.94-2.06-.94-.94-2.06-.94 2.06-2.06.94zm-11 1L8.5 8.5l.94-2.06 2.06-.94-2.06-.94L8.5 2.5l-.94 2.06-2.06.94zm10 10l.94 2.06.94-2.06 2.06-.94-2.06-.94-.94-2.06-.94 2.06-2.06.94z\"/><path d=\"M17.41 7.96l-1.37-1.37c-.4-.4-.92-.59-1.43-.59-.52 0-1.04.2-1.43.59L10.3 9.45l-7.72 7.72c-.78.78-.78 2.05 0 2.83L4 21.41c.39.39.9.59 1.41.59.51 0 1.02-.2 1.41-.59l7.78-7.78 2.81-2.81c.8-.78.8-2.07 0-2.86zM5.41 20L4 18.59l7.72-7.72 1.47 1.35L5.41 20z\"/>\n",
              "  </svg>\n",
              "      </button>\n",
              "      \n",
              "  <style>\n",
              "    .colab-df-container {\n",
              "      display:flex;\n",
              "      flex-wrap:wrap;\n",
              "      gap: 12px;\n",
              "    }\n",
              "\n",
              "    .colab-df-convert {\n",
              "      background-color: #E8F0FE;\n",
              "      border: none;\n",
              "      border-radius: 50%;\n",
              "      cursor: pointer;\n",
              "      display: none;\n",
              "      fill: #1967D2;\n",
              "      height: 32px;\n",
              "      padding: 0 0 0 0;\n",
              "      width: 32px;\n",
              "    }\n",
              "\n",
              "    .colab-df-convert:hover {\n",
              "      background-color: #E2EBFA;\n",
              "      box-shadow: 0px 1px 2px rgba(60, 64, 67, 0.3), 0px 1px 3px 1px rgba(60, 64, 67, 0.15);\n",
              "      fill: #174EA6;\n",
              "    }\n",
              "\n",
              "    [theme=dark] .colab-df-convert {\n",
              "      background-color: #3B4455;\n",
              "      fill: #D2E3FC;\n",
              "    }\n",
              "\n",
              "    [theme=dark] .colab-df-convert:hover {\n",
              "      background-color: #434B5C;\n",
              "      box-shadow: 0px 1px 3px 1px rgba(0, 0, 0, 0.15);\n",
              "      filter: drop-shadow(0px 1px 2px rgba(0, 0, 0, 0.3));\n",
              "      fill: #FFFFFF;\n",
              "    }\n",
              "  </style>\n",
              "\n",
              "      <script>\n",
              "        const buttonEl =\n",
              "          document.querySelector('#df-98ebc9d1-37e2-4982-a2cd-68229944071c button.colab-df-convert');\n",
              "        buttonEl.style.display =\n",
              "          google.colab.kernel.accessAllowed ? 'block' : 'none';\n",
              "\n",
              "        async function convertToInteractive(key) {\n",
              "          const element = document.querySelector('#df-98ebc9d1-37e2-4982-a2cd-68229944071c');\n",
              "          const dataTable =\n",
              "            await google.colab.kernel.invokeFunction('convertToInteractive',\n",
              "                                                     [key], {});\n",
              "          if (!dataTable) return;\n",
              "\n",
              "          const docLinkHtml = 'Like what you see? Visit the ' +\n",
              "            '<a target=\"_blank\" href=https://colab.research.google.com/notebooks/data_table.ipynb>data table notebook</a>'\n",
              "            + ' to learn more about interactive tables.';\n",
              "          element.innerHTML = '';\n",
              "          dataTable['output_type'] = 'display_data';\n",
              "          await google.colab.output.renderOutput(dataTable, element);\n",
              "          const docLink = document.createElement('div');\n",
              "          docLink.innerHTML = docLinkHtml;\n",
              "          element.appendChild(docLink);\n",
              "        }\n",
              "      </script>\n",
              "    </div>\n",
              "  </div>\n",
              "  "
            ]
          },
          "metadata": {},
          "execution_count": 43
        }
      ]
    },
    {
      "cell_type": "markdown",
      "metadata": {
        "id": "MwcWFS5v53ex"
      },
      "source": [
        "### 프로펫 예측 하시오."
      ]
    },
    {
      "cell_type": "code",
      "metadata": {
        "id": "k7bBSf341iK6"
      },
      "source": [
        "# 1. 라이브러리를 변수로 만들고,\n",
        "prophet = Prophet()"
      ],
      "execution_count": 45,
      "outputs": []
    },
    {
      "cell_type": "code",
      "source": [
        "# 2. 데이터로, 학습 시킨다.\n",
        "prophet.fit(avocado_prophet_df)"
      ],
      "metadata": {
        "colab": {
          "base_uri": "https://localhost:8080/"
        },
        "id": "uwP2Yw_WWsZe",
        "outputId": "30866898-a785-42b1-a105-3d672d61106b"
      },
      "execution_count": 46,
      "outputs": [
        {
          "output_type": "stream",
          "name": "stderr",
          "text": [
            "INFO:prophet:Disabling weekly seasonality. Run prophet with weekly_seasonality=True to override this.\n",
            "INFO:prophet:Disabling daily seasonality. Run prophet with daily_seasonality=True to override this.\n"
          ]
        },
        {
          "output_type": "execute_result",
          "data": {
            "text/plain": [
              "<prophet.forecaster.Prophet at 0x7fb2d324cbe0>"
            ]
          },
          "metadata": {},
          "execution_count": 46
        }
      ]
    },
    {
      "cell_type": "code",
      "metadata": {
        "id": "-aPeHksj1iK6"
      },
      "source": [
        "# 365일치를 예측하시오.\n",
        "# 3. 예측하고자 하는 기간을 정해서, 비어있는 데이터 프레임을 만든다!\n",
        "future = prophet.make_future_dataframe(periods=365, freq='D')"
      ],
      "execution_count": 48,
      "outputs": []
    },
    {
      "cell_type": "code",
      "metadata": {
        "id": "rt9I68Fx1iK6"
      },
      "source": [
        "# 4. 이제, 미래 날짜까지 만들어져 있으니,\n",
        "#    위의 future 데이터프레임을 이용해서, 예측할 수 있다.\n",
        "forecast = prophet.predict(future)"
      ],
      "execution_count": 49,
      "outputs": []
    },
    {
      "cell_type": "code",
      "source": [
        "forecast"
      ],
      "metadata": {
        "colab": {
          "base_uri": "https://localhost:8080/",
          "height": 661
        },
        "id": "JnjbeWRtYSk9",
        "outputId": "a729c59e-49b6-440c-fc17-a5e564325137"
      },
      "execution_count": 50,
      "outputs": [
        {
          "output_type": "execute_result",
          "data": {
            "text/plain": [
              "            ds     trend  yhat_lower  yhat_upper  trend_lower  trend_upper  \\\n",
              "0   2015-01-04  1.498608    0.888047    1.906005     1.498608     1.498608   \n",
              "1   2015-01-11  1.493471    0.917796    1.872411     1.493471     1.493471   \n",
              "2   2015-01-18  1.488334    0.919249    1.836725     1.488334     1.488334   \n",
              "3   2015-01-25  1.483198    0.847421    1.858985     1.483198     1.483198   \n",
              "4   2015-02-01  1.478061    0.826621    1.803888     1.478061     1.478061   \n",
              "..         ...       ...         ...         ...          ...          ...   \n",
              "529 2019-03-21  1.161728    0.573100    1.616289     0.976341     1.339494   \n",
              "530 2019-03-22  1.160997    0.575330    1.591206     0.974895     1.339915   \n",
              "531 2019-03-23  1.160266    0.566178    1.607234     0.973517     1.339712   \n",
              "532 2019-03-24  1.159535    0.536495    1.604417     0.972382     1.339829   \n",
              "533 2019-03-25  1.158804    0.557676    1.589573     0.971247     1.339974   \n",
              "\n",
              "     additive_terms  additive_terms_lower  additive_terms_upper    yearly  \\\n",
              "0         -0.113270             -0.113270             -0.113270 -0.113270   \n",
              "1         -0.104849             -0.104849             -0.104849 -0.104849   \n",
              "2         -0.104524             -0.104524             -0.104524 -0.104524   \n",
              "3         -0.123469             -0.123469             -0.123469 -0.123469   \n",
              "4         -0.151828             -0.151828             -0.151828 -0.151828   \n",
              "..              ...                   ...                   ...       ...   \n",
              "529       -0.086221             -0.086221             -0.086221 -0.086221   \n",
              "530       -0.084549             -0.084549             -0.084549 -0.084549   \n",
              "531       -0.082604             -0.082604             -0.082604 -0.082604   \n",
              "532       -0.080406             -0.080406             -0.080406 -0.080406   \n",
              "533       -0.077982             -0.077982             -0.077982 -0.077982   \n",
              "\n",
              "     yearly_lower  yearly_upper  multiplicative_terms  \\\n",
              "0       -0.113270     -0.113270                   0.0   \n",
              "1       -0.104849     -0.104849                   0.0   \n",
              "2       -0.104524     -0.104524                   0.0   \n",
              "3       -0.123469     -0.123469                   0.0   \n",
              "4       -0.151828     -0.151828                   0.0   \n",
              "..            ...           ...                   ...   \n",
              "529     -0.086221     -0.086221                   0.0   \n",
              "530     -0.084549     -0.084549                   0.0   \n",
              "531     -0.082604     -0.082604                   0.0   \n",
              "532     -0.080406     -0.080406                   0.0   \n",
              "533     -0.077982     -0.077982                   0.0   \n",
              "\n",
              "     multiplicative_terms_lower  multiplicative_terms_upper      yhat  \n",
              "0                           0.0                         0.0  1.385337  \n",
              "1                           0.0                         0.0  1.388621  \n",
              "2                           0.0                         0.0  1.383810  \n",
              "3                           0.0                         0.0  1.359729  \n",
              "4                           0.0                         0.0  1.326232  \n",
              "..                          ...                         ...       ...  \n",
              "529                         0.0                         0.0  1.075508  \n",
              "530                         0.0                         0.0  1.076448  \n",
              "531                         0.0                         0.0  1.077662  \n",
              "532                         0.0                         0.0  1.079129  \n",
              "533                         0.0                         0.0  1.080822  \n",
              "\n",
              "[534 rows x 16 columns]"
            ],
            "text/html": [
              "\n",
              "  <div id=\"df-3f0840a8-6617-4673-8af4-48cb85c4d6b1\">\n",
              "    <div class=\"colab-df-container\">\n",
              "      <div>\n",
              "<style scoped>\n",
              "    .dataframe tbody tr th:only-of-type {\n",
              "        vertical-align: middle;\n",
              "    }\n",
              "\n",
              "    .dataframe tbody tr th {\n",
              "        vertical-align: top;\n",
              "    }\n",
              "\n",
              "    .dataframe thead th {\n",
              "        text-align: right;\n",
              "    }\n",
              "</style>\n",
              "<table border=\"1\" class=\"dataframe\">\n",
              "  <thead>\n",
              "    <tr style=\"text-align: right;\">\n",
              "      <th></th>\n",
              "      <th>ds</th>\n",
              "      <th>trend</th>\n",
              "      <th>yhat_lower</th>\n",
              "      <th>yhat_upper</th>\n",
              "      <th>trend_lower</th>\n",
              "      <th>trend_upper</th>\n",
              "      <th>additive_terms</th>\n",
              "      <th>additive_terms_lower</th>\n",
              "      <th>additive_terms_upper</th>\n",
              "      <th>yearly</th>\n",
              "      <th>yearly_lower</th>\n",
              "      <th>yearly_upper</th>\n",
              "      <th>multiplicative_terms</th>\n",
              "      <th>multiplicative_terms_lower</th>\n",
              "      <th>multiplicative_terms_upper</th>\n",
              "      <th>yhat</th>\n",
              "    </tr>\n",
              "  </thead>\n",
              "  <tbody>\n",
              "    <tr>\n",
              "      <th>0</th>\n",
              "      <td>2015-01-04</td>\n",
              "      <td>1.498608</td>\n",
              "      <td>0.888047</td>\n",
              "      <td>1.906005</td>\n",
              "      <td>1.498608</td>\n",
              "      <td>1.498608</td>\n",
              "      <td>-0.113270</td>\n",
              "      <td>-0.113270</td>\n",
              "      <td>-0.113270</td>\n",
              "      <td>-0.113270</td>\n",
              "      <td>-0.113270</td>\n",
              "      <td>-0.113270</td>\n",
              "      <td>0.0</td>\n",
              "      <td>0.0</td>\n",
              "      <td>0.0</td>\n",
              "      <td>1.385337</td>\n",
              "    </tr>\n",
              "    <tr>\n",
              "      <th>1</th>\n",
              "      <td>2015-01-11</td>\n",
              "      <td>1.493471</td>\n",
              "      <td>0.917796</td>\n",
              "      <td>1.872411</td>\n",
              "      <td>1.493471</td>\n",
              "      <td>1.493471</td>\n",
              "      <td>-0.104849</td>\n",
              "      <td>-0.104849</td>\n",
              "      <td>-0.104849</td>\n",
              "      <td>-0.104849</td>\n",
              "      <td>-0.104849</td>\n",
              "      <td>-0.104849</td>\n",
              "      <td>0.0</td>\n",
              "      <td>0.0</td>\n",
              "      <td>0.0</td>\n",
              "      <td>1.388621</td>\n",
              "    </tr>\n",
              "    <tr>\n",
              "      <th>2</th>\n",
              "      <td>2015-01-18</td>\n",
              "      <td>1.488334</td>\n",
              "      <td>0.919249</td>\n",
              "      <td>1.836725</td>\n",
              "      <td>1.488334</td>\n",
              "      <td>1.488334</td>\n",
              "      <td>-0.104524</td>\n",
              "      <td>-0.104524</td>\n",
              "      <td>-0.104524</td>\n",
              "      <td>-0.104524</td>\n",
              "      <td>-0.104524</td>\n",
              "      <td>-0.104524</td>\n",
              "      <td>0.0</td>\n",
              "      <td>0.0</td>\n",
              "      <td>0.0</td>\n",
              "      <td>1.383810</td>\n",
              "    </tr>\n",
              "    <tr>\n",
              "      <th>3</th>\n",
              "      <td>2015-01-25</td>\n",
              "      <td>1.483198</td>\n",
              "      <td>0.847421</td>\n",
              "      <td>1.858985</td>\n",
              "      <td>1.483198</td>\n",
              "      <td>1.483198</td>\n",
              "      <td>-0.123469</td>\n",
              "      <td>-0.123469</td>\n",
              "      <td>-0.123469</td>\n",
              "      <td>-0.123469</td>\n",
              "      <td>-0.123469</td>\n",
              "      <td>-0.123469</td>\n",
              "      <td>0.0</td>\n",
              "      <td>0.0</td>\n",
              "      <td>0.0</td>\n",
              "      <td>1.359729</td>\n",
              "    </tr>\n",
              "    <tr>\n",
              "      <th>4</th>\n",
              "      <td>2015-02-01</td>\n",
              "      <td>1.478061</td>\n",
              "      <td>0.826621</td>\n",
              "      <td>1.803888</td>\n",
              "      <td>1.478061</td>\n",
              "      <td>1.478061</td>\n",
              "      <td>-0.151828</td>\n",
              "      <td>-0.151828</td>\n",
              "      <td>-0.151828</td>\n",
              "      <td>-0.151828</td>\n",
              "      <td>-0.151828</td>\n",
              "      <td>-0.151828</td>\n",
              "      <td>0.0</td>\n",
              "      <td>0.0</td>\n",
              "      <td>0.0</td>\n",
              "      <td>1.326232</td>\n",
              "    </tr>\n",
              "    <tr>\n",
              "      <th>...</th>\n",
              "      <td>...</td>\n",
              "      <td>...</td>\n",
              "      <td>...</td>\n",
              "      <td>...</td>\n",
              "      <td>...</td>\n",
              "      <td>...</td>\n",
              "      <td>...</td>\n",
              "      <td>...</td>\n",
              "      <td>...</td>\n",
              "      <td>...</td>\n",
              "      <td>...</td>\n",
              "      <td>...</td>\n",
              "      <td>...</td>\n",
              "      <td>...</td>\n",
              "      <td>...</td>\n",
              "      <td>...</td>\n",
              "    </tr>\n",
              "    <tr>\n",
              "      <th>529</th>\n",
              "      <td>2019-03-21</td>\n",
              "      <td>1.161728</td>\n",
              "      <td>0.573100</td>\n",
              "      <td>1.616289</td>\n",
              "      <td>0.976341</td>\n",
              "      <td>1.339494</td>\n",
              "      <td>-0.086221</td>\n",
              "      <td>-0.086221</td>\n",
              "      <td>-0.086221</td>\n",
              "      <td>-0.086221</td>\n",
              "      <td>-0.086221</td>\n",
              "      <td>-0.086221</td>\n",
              "      <td>0.0</td>\n",
              "      <td>0.0</td>\n",
              "      <td>0.0</td>\n",
              "      <td>1.075508</td>\n",
              "    </tr>\n",
              "    <tr>\n",
              "      <th>530</th>\n",
              "      <td>2019-03-22</td>\n",
              "      <td>1.160997</td>\n",
              "      <td>0.575330</td>\n",
              "      <td>1.591206</td>\n",
              "      <td>0.974895</td>\n",
              "      <td>1.339915</td>\n",
              "      <td>-0.084549</td>\n",
              "      <td>-0.084549</td>\n",
              "      <td>-0.084549</td>\n",
              "      <td>-0.084549</td>\n",
              "      <td>-0.084549</td>\n",
              "      <td>-0.084549</td>\n",
              "      <td>0.0</td>\n",
              "      <td>0.0</td>\n",
              "      <td>0.0</td>\n",
              "      <td>1.076448</td>\n",
              "    </tr>\n",
              "    <tr>\n",
              "      <th>531</th>\n",
              "      <td>2019-03-23</td>\n",
              "      <td>1.160266</td>\n",
              "      <td>0.566178</td>\n",
              "      <td>1.607234</td>\n",
              "      <td>0.973517</td>\n",
              "      <td>1.339712</td>\n",
              "      <td>-0.082604</td>\n",
              "      <td>-0.082604</td>\n",
              "      <td>-0.082604</td>\n",
              "      <td>-0.082604</td>\n",
              "      <td>-0.082604</td>\n",
              "      <td>-0.082604</td>\n",
              "      <td>0.0</td>\n",
              "      <td>0.0</td>\n",
              "      <td>0.0</td>\n",
              "      <td>1.077662</td>\n",
              "    </tr>\n",
              "    <tr>\n",
              "      <th>532</th>\n",
              "      <td>2019-03-24</td>\n",
              "      <td>1.159535</td>\n",
              "      <td>0.536495</td>\n",
              "      <td>1.604417</td>\n",
              "      <td>0.972382</td>\n",
              "      <td>1.339829</td>\n",
              "      <td>-0.080406</td>\n",
              "      <td>-0.080406</td>\n",
              "      <td>-0.080406</td>\n",
              "      <td>-0.080406</td>\n",
              "      <td>-0.080406</td>\n",
              "      <td>-0.080406</td>\n",
              "      <td>0.0</td>\n",
              "      <td>0.0</td>\n",
              "      <td>0.0</td>\n",
              "      <td>1.079129</td>\n",
              "    </tr>\n",
              "    <tr>\n",
              "      <th>533</th>\n",
              "      <td>2019-03-25</td>\n",
              "      <td>1.158804</td>\n",
              "      <td>0.557676</td>\n",
              "      <td>1.589573</td>\n",
              "      <td>0.971247</td>\n",
              "      <td>1.339974</td>\n",
              "      <td>-0.077982</td>\n",
              "      <td>-0.077982</td>\n",
              "      <td>-0.077982</td>\n",
              "      <td>-0.077982</td>\n",
              "      <td>-0.077982</td>\n",
              "      <td>-0.077982</td>\n",
              "      <td>0.0</td>\n",
              "      <td>0.0</td>\n",
              "      <td>0.0</td>\n",
              "      <td>1.080822</td>\n",
              "    </tr>\n",
              "  </tbody>\n",
              "</table>\n",
              "<p>534 rows × 16 columns</p>\n",
              "</div>\n",
              "      <button class=\"colab-df-convert\" onclick=\"convertToInteractive('df-3f0840a8-6617-4673-8af4-48cb85c4d6b1')\"\n",
              "              title=\"Convert this dataframe to an interactive table.\"\n",
              "              style=\"display:none;\">\n",
              "        \n",
              "  <svg xmlns=\"http://www.w3.org/2000/svg\" height=\"24px\"viewBox=\"0 0 24 24\"\n",
              "       width=\"24px\">\n",
              "    <path d=\"M0 0h24v24H0V0z\" fill=\"none\"/>\n",
              "    <path d=\"M18.56 5.44l.94 2.06.94-2.06 2.06-.94-2.06-.94-.94-2.06-.94 2.06-2.06.94zm-11 1L8.5 8.5l.94-2.06 2.06-.94-2.06-.94L8.5 2.5l-.94 2.06-2.06.94zm10 10l.94 2.06.94-2.06 2.06-.94-2.06-.94-.94-2.06-.94 2.06-2.06.94z\"/><path d=\"M17.41 7.96l-1.37-1.37c-.4-.4-.92-.59-1.43-.59-.52 0-1.04.2-1.43.59L10.3 9.45l-7.72 7.72c-.78.78-.78 2.05 0 2.83L4 21.41c.39.39.9.59 1.41.59.51 0 1.02-.2 1.41-.59l7.78-7.78 2.81-2.81c.8-.78.8-2.07 0-2.86zM5.41 20L4 18.59l7.72-7.72 1.47 1.35L5.41 20z\"/>\n",
              "  </svg>\n",
              "      </button>\n",
              "      \n",
              "  <style>\n",
              "    .colab-df-container {\n",
              "      display:flex;\n",
              "      flex-wrap:wrap;\n",
              "      gap: 12px;\n",
              "    }\n",
              "\n",
              "    .colab-df-convert {\n",
              "      background-color: #E8F0FE;\n",
              "      border: none;\n",
              "      border-radius: 50%;\n",
              "      cursor: pointer;\n",
              "      display: none;\n",
              "      fill: #1967D2;\n",
              "      height: 32px;\n",
              "      padding: 0 0 0 0;\n",
              "      width: 32px;\n",
              "    }\n",
              "\n",
              "    .colab-df-convert:hover {\n",
              "      background-color: #E2EBFA;\n",
              "      box-shadow: 0px 1px 2px rgba(60, 64, 67, 0.3), 0px 1px 3px 1px rgba(60, 64, 67, 0.15);\n",
              "      fill: #174EA6;\n",
              "    }\n",
              "\n",
              "    [theme=dark] .colab-df-convert {\n",
              "      background-color: #3B4455;\n",
              "      fill: #D2E3FC;\n",
              "    }\n",
              "\n",
              "    [theme=dark] .colab-df-convert:hover {\n",
              "      background-color: #434B5C;\n",
              "      box-shadow: 0px 1px 3px 1px rgba(0, 0, 0, 0.15);\n",
              "      filter: drop-shadow(0px 1px 2px rgba(0, 0, 0, 0.3));\n",
              "      fill: #FFFFFF;\n",
              "    }\n",
              "  </style>\n",
              "\n",
              "      <script>\n",
              "        const buttonEl =\n",
              "          document.querySelector('#df-3f0840a8-6617-4673-8af4-48cb85c4d6b1 button.colab-df-convert');\n",
              "        buttonEl.style.display =\n",
              "          google.colab.kernel.accessAllowed ? 'block' : 'none';\n",
              "\n",
              "        async function convertToInteractive(key) {\n",
              "          const element = document.querySelector('#df-3f0840a8-6617-4673-8af4-48cb85c4d6b1');\n",
              "          const dataTable =\n",
              "            await google.colab.kernel.invokeFunction('convertToInteractive',\n",
              "                                                     [key], {});\n",
              "          if (!dataTable) return;\n",
              "\n",
              "          const docLinkHtml = 'Like what you see? Visit the ' +\n",
              "            '<a target=\"_blank\" href=https://colab.research.google.com/notebooks/data_table.ipynb>data table notebook</a>'\n",
              "            + ' to learn more about interactive tables.';\n",
              "          element.innerHTML = '';\n",
              "          dataTable['output_type'] = 'display_data';\n",
              "          await google.colab.output.renderOutput(dataTable, element);\n",
              "          const docLink = document.createElement('div');\n",
              "          docLink.innerHTML = docLinkHtml;\n",
              "          element.appendChild(docLink);\n",
              "        }\n",
              "      </script>\n",
              "    </div>\n",
              "  </div>\n",
              "  "
            ]
          },
          "metadata": {},
          "execution_count": 50
        }
      ]
    },
    {
      "cell_type": "code",
      "metadata": {
        "id": "7WVjwYJU1iK6"
      },
      "source": [
        "# 차트로 확인하시오.\n"
      ],
      "execution_count": null,
      "outputs": []
    },
    {
      "cell_type": "code",
      "metadata": {
        "id": "G5qLbF_Q1iK7",
        "colab": {
          "base_uri": "https://localhost:8080/",
          "height": 392
        },
        "outputId": "93132e2d-f96d-46b4-8e67-e8c5eaf5b053"
      },
      "source": [
        "prophet.plot(forecast)\n",
        "plt.savefig('chart1.jpg')"
      ],
      "execution_count": 52,
      "outputs": [
        {
          "output_type": "display_data",
          "data": {
            "text/plain": [
              "<Figure size 720x432 with 1 Axes>"
            ],
            "image/png": "[encoded data removed]"
          },
          "metadata": {}
        }
      ]
    },
    {
      "cell_type": "code",
      "source": [
        "prophet.plot_components(forecast)\n",
        "plt.savefig('chart2.jpg')"
      ],
      "metadata": {
        "colab": {
          "base_uri": "https://localhost:8080/",
          "height": 435
        },
        "id": "INxkuc2WYxOn",
        "outputId": "c86af00c-495d-47ad-aaf2-8630f8b7d2f5"
      },
      "execution_count": 54,
      "outputs": [
        {
          "output_type": "display_data",
          "data": {
            "text/plain": [
              "<Figure size 648x432 with 2 Axes>"
            ],
            "image/png": "[encoded data removed]"
          },
          "metadata": {}
        }
      ]
    },
    {
      "cell_type": "code",
      "source": [],
      "metadata": {
        "id": "EyhkdD3HYxJG"
      },
      "execution_count": null,
      "outputs": []
    },
    {
      "cell_type": "code",
      "metadata": {
        "id": "TsCgj5NbaTIS"
      },
      "source": [],
      "execution_count": null,
      "outputs": []
    },
    {
      "cell_type": "markdown",
      "metadata": {
        "id": "Cxb7kzjp1iK7"
      },
      "source": [
        "# PART 2 : region 이 west 인 아보카도의 가격을 예측하시오."
      ]
    },
    {
      "cell_type": "code",
      "metadata": {
        "id": "5ADSJquc1iK8"
      },
      "source": [
        "avocado_df_sample = "
      ],
      "execution_count": null,
      "outputs": []
    },
    {
      "cell_type": "code",
      "metadata": {
        "id": "F-EDWpxY1iK8"
      },
      "source": [],
      "execution_count": null,
      "outputs": []
    },
    {
      "cell_type": "code",
      "metadata": {
        "id": "IuhkGp3l1iK8"
      },
      "source": [],
      "execution_count": null,
      "outputs": []
    },
    {
      "cell_type": "code",
      "metadata": {
        "id": "zIrQu4rz1iK8"
      },
      "source": [],
      "execution_count": null,
      "outputs": []
    },
    {
      "cell_type": "code",
      "metadata": {
        "id": "aIj7xGFa1iK9"
      },
      "source": [],
      "execution_count": null,
      "outputs": []
    },
    {
      "cell_type": "code",
      "metadata": {
        "id": "3w7dx1dj1iK9"
      },
      "source": [],
      "execution_count": null,
      "outputs": []
    },
    {
      "cell_type": "code",
      "metadata": {
        "id": "Jxmhf5dd1iK9"
      },
      "source": [],
      "execution_count": null,
      "outputs": []
    },
    {
      "cell_type": "code",
      "metadata": {
        "id": "cU83Z-EN1iK9"
      },
      "source": [],
      "execution_count": null,
      "outputs": []
    },
    {
      "cell_type": "code",
      "metadata": {
        "id": "EAga4V3dagdx"
      },
      "source": [],
      "execution_count": null,
      "outputs": []
    },
    {
      "cell_type": "code",
      "metadata": {
        "id": "wqO_H3zragic"
      },
      "source": [],
      "execution_count": null,
      "outputs": []
    },
    {
      "cell_type": "code",
      "metadata": {
        "id": "YnBWUzppagmj"
      },
      "source": [],
      "execution_count": null,
      "outputs": []
    },
    {
      "cell_type": "markdown",
      "metadata": {
        "id": "sCzjgVY863f9"
      },
      "source": [
        "# 결론??"
      ]
    },
    {
      "cell_type": "code",
      "metadata": {
        "id": "FjaxcEk_7E4k"
      },
      "source": [],
      "execution_count": null,
      "outputs": []
    }
  ]
}