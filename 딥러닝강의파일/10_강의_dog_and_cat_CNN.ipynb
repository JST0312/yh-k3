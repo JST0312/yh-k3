{
  "cells": [
    {
      "cell_type": "markdown",
      "metadata": {
        "id": "YHK6DyunSbs4"
      },
      "source": [
        "# Using more sophisticated images with Convolutional Neural Networks\n",
        "\n",
        "I실생활의 이미지는 모양도 다르고, 비율도 다르고, 색깔도 다양하다. 이러한 것들을 분류하는 CNN을 만들어 본다.\n",
        "\n",
        "\n",
        "1.   Cats and Dogs 이미지 이용\n",
        "2.   개와 고양이 분류하는 Neural Network 만들기\n",
        "3.   Evaluate the Training and Validation accuracy"
      ]
    },
    {
      "cell_type": "markdown",
      "metadata": {
        "id": "UY6KJV6z6l7_"
      },
      "source": [
        "## Explore the Example Data"
      ]
    },
    {
      "cell_type": "markdown",
      "metadata": {
        "id": "-L7r2zdl64Hg"
      },
      "source": [
        " `/tmp` 컬럼에, 2000개의 이미지를 다운로드 받아서 저장한다."
      ]
    },
    {
      "cell_type": "markdown",
      "metadata": {
        "id": "keyquuYMWPMa"
      },
      "source": [
        "**NOTE:**  2,000 개의 이미지는 캐글에서 가져왔다. [\"Dogs vs. Cats\" dataset](https://www.kaggle.com/c/dogs-vs-cats/data) 원래는  25,000 개의 이미지 이지만, 실습용으로 추렸음."
      ]
    },
    {
      "cell_type": "code",
      "execution_count": 1,
      "metadata": {
        "id": "RXZT2UsyIVe_",
        "colab": {
          "base_uri": "https://localhost:8080/"
        },
        "outputId": "dd11cae9-76b4-41fb-a694-72a7bd86d146"
      },
      "outputs": [
        {
          "output_type": "stream",
          "name": "stdout",
          "text": [
            "--2022-12-30 05:23:07--  https://storage.googleapis.com/mledu-datasets/cats_and_dogs_filtered.zip\n",
            "Resolving storage.googleapis.com (storage.googleapis.com)... 172.217.194.128, 74.125.200.128, 74.125.68.128, ...\n",
            "Connecting to storage.googleapis.com (storage.googleapis.com)|172.217.194.128|:443... connected.\n",
            "HTTP request sent, awaiting response... 200 OK\n",
            "Length: 68606236 (65M) [application/zip]\n",
            "Saving to: ‘/tmp/cats_and_dogs_filtered.zip’\n",
            "\n",
            "/tmp/cats_and_dogs_ 100%[===================>]  65.43M  20.7MB/s    in 3.8s    \n",
            "\n",
            "2022-12-30 05:23:11 (17.1 MB/s) - ‘/tmp/cats_and_dogs_filtered.zip’ saved [68606236/68606236]\n",
            "\n"
          ]
        }
      ],
      "source": [
        "!wget --no-check-certificate \\\n",
        "  https://storage.googleapis.com/mledu-datasets/cats_and_dogs_filtered.zip \\\n",
        "  -O /tmp/cats_and_dogs_filtered.zip"
      ]
    },
    {
      "cell_type": "markdown",
      "metadata": {
        "id": "9brUxyTpYZHy"
      },
      "source": [
        "### 압축 풀기"
      ]
    },
    {
      "cell_type": "code",
      "execution_count": 2,
      "metadata": {
        "id": "m0P8YhgtpUTV"
      },
      "outputs": [],
      "source": [
        "import zipfile"
      ]
    },
    {
      "cell_type": "code",
      "execution_count": 3,
      "metadata": {
        "id": "OwDXn6L9pT3U"
      },
      "outputs": [],
      "source": [
        "file = zipfile.ZipFile('/tmp/cats_and_dogs_filtered.zip')"
      ]
    },
    {
      "cell_type": "code",
      "source": [
        "file.extractall('/tmp')"
      ],
      "metadata": {
        "id": "qzJEYV04fPLw"
      },
      "execution_count": 4,
      "outputs": []
    },
    {
      "cell_type": "markdown",
      "metadata": {
        "id": "FyZnYRW7n3ak"
      },
      "source": [
        "### 데이터 억세스할 경로를 만든다."
      ]
    },
    {
      "cell_type": "code",
      "execution_count": 5,
      "metadata": {
        "id": "MyQ2yfKxpWbN"
      },
      "outputs": [],
      "source": [
        "base_dir = '/tmp/cats_and_dogs_filtered'"
      ]
    },
    {
      "cell_type": "code",
      "execution_count": 6,
      "metadata": {
        "id": "4sfdvx8YpXO5"
      },
      "outputs": [],
      "source": [
        "train_dir = '/tmp/cats_and_dogs_filtered/train'"
      ]
    },
    {
      "cell_type": "code",
      "source": [
        "test_dir = '/tmp/cats_and_dogs_filtered/validation'"
      ],
      "metadata": {
        "id": "7ggg54vxgTdu"
      },
      "execution_count": 7,
      "outputs": []
    },
    {
      "cell_type": "markdown",
      "metadata": {
        "id": "QNthGxdhn-y2"
      },
      "source": [
        "### 파일명을 찍어본다."
      ]
    },
    {
      "cell_type": "code",
      "execution_count": 8,
      "metadata": {
        "id": "2yMONu7FpYeC"
      },
      "outputs": [],
      "source": [
        "# 학습용 개 사진이 저장된 디렉토리안에 있는 파일명을 확인"
      ]
    },
    {
      "cell_type": "code",
      "execution_count": 9,
      "metadata": {
        "id": "qxE_BB56pX4O"
      },
      "outputs": [],
      "source": [
        "import os"
      ]
    },
    {
      "cell_type": "code",
      "source": [
        "os.listdir( train_dir + '/dogs' )"
      ],
      "metadata": {
        "colab": {
          "base_uri": "https://localhost:8080/"
        },
        "id": "OQ9ienrKgjUG",
        "outputId": "f79d9e29-31ff-4f31-bd78-fb36edbc8e2f"
      },
      "execution_count": 11,
      "outputs": [
        {
          "output_type": "execute_result",
          "data": {
            "text/plain": [
              "['dog.370.jpg',\n",
              " 'dog.387.jpg',\n",
              " 'dog.568.jpg',\n",
              " 'dog.694.jpg',\n",
              " 'dog.395.jpg',\n",
              " 'dog.436.jpg',\n",
              " 'dog.106.jpg',\n",
              " 'dog.560.jpg',\n",
              " 'dog.580.jpg',\n",
              " 'dog.438.jpg',\n",
              " 'dog.801.jpg',\n",
              " 'dog.469.jpg',\n",
              " 'dog.961.jpg',\n",
              " 'dog.525.jpg',\n",
              " 'dog.409.jpg',\n",
              " 'dog.292.jpg',\n",
              " 'dog.715.jpg',\n",
              " 'dog.495.jpg',\n",
              " 'dog.453.jpg',\n",
              " 'dog.80.jpg',\n",
              " 'dog.698.jpg',\n",
              " 'dog.796.jpg',\n",
              " 'dog.586.jpg',\n",
              " 'dog.52.jpg',\n",
              " 'dog.724.jpg',\n",
              " 'dog.269.jpg',\n",
              " 'dog.602.jpg',\n",
              " 'dog.550.jpg',\n",
              " 'dog.434.jpg',\n",
              " 'dog.723.jpg',\n",
              " 'dog.147.jpg',\n",
              " 'dog.413.jpg',\n",
              " 'dog.827.jpg',\n",
              " 'dog.522.jpg',\n",
              " 'dog.42.jpg',\n",
              " 'dog.420.jpg',\n",
              " 'dog.247.jpg',\n",
              " 'dog.833.jpg',\n",
              " 'dog.25.jpg',\n",
              " 'dog.270.jpg',\n",
              " 'dog.883.jpg',\n",
              " 'dog.280.jpg',\n",
              " 'dog.819.jpg',\n",
              " 'dog.745.jpg',\n",
              " 'dog.786.jpg',\n",
              " 'dog.686.jpg',\n",
              " 'dog.893.jpg',\n",
              " 'dog.863.jpg',\n",
              " 'dog.81.jpg',\n",
              " 'dog.151.jpg',\n",
              " 'dog.784.jpg',\n",
              " 'dog.824.jpg',\n",
              " 'dog.552.jpg',\n",
              " 'dog.18.jpg',\n",
              " 'dog.907.jpg',\n",
              " 'dog.481.jpg',\n",
              " 'dog.273.jpg',\n",
              " 'dog.514.jpg',\n",
              " 'dog.748.jpg',\n",
              " 'dog.492.jpg',\n",
              " 'dog.205.jpg',\n",
              " 'dog.296.jpg',\n",
              " 'dog.993.jpg',\n",
              " 'dog.13.jpg',\n",
              " 'dog.675.jpg',\n",
              " 'dog.235.jpg',\n",
              " 'dog.298.jpg',\n",
              " 'dog.230.jpg',\n",
              " 'dog.204.jpg',\n",
              " 'dog.895.jpg',\n",
              " 'dog.974.jpg',\n",
              " 'dog.344.jpg',\n",
              " 'dog.868.jpg',\n",
              " 'dog.349.jpg',\n",
              " 'dog.288.jpg',\n",
              " 'dog.428.jpg',\n",
              " 'dog.427.jpg',\n",
              " 'dog.847.jpg',\n",
              " 'dog.322.jpg',\n",
              " 'dog.339.jpg',\n",
              " 'dog.468.jpg',\n",
              " 'dog.19.jpg',\n",
              " 'dog.902.jpg',\n",
              " 'dog.783.jpg',\n",
              " 'dog.197.jpg',\n",
              " 'dog.76.jpg',\n",
              " 'dog.435.jpg',\n",
              " 'dog.478.jpg',\n",
              " 'dog.251.jpg',\n",
              " 'dog.926.jpg',\n",
              " 'dog.43.jpg',\n",
              " 'dog.402.jpg',\n",
              " 'dog.755.jpg',\n",
              " 'dog.778.jpg',\n",
              " 'dog.860.jpg',\n",
              " 'dog.561.jpg',\n",
              " 'dog.305.jpg',\n",
              " 'dog.954.jpg',\n",
              " 'dog.30.jpg',\n",
              " 'dog.990.jpg',\n",
              " 'dog.480.jpg',\n",
              " 'dog.211.jpg',\n",
              " 'dog.852.jpg',\n",
              " 'dog.536.jpg',\n",
              " 'dog.355.jpg',\n",
              " 'dog.905.jpg',\n",
              " 'dog.54.jpg',\n",
              " 'dog.123.jpg',\n",
              " 'dog.596.jpg',\n",
              " 'dog.138.jpg',\n",
              " 'dog.417.jpg',\n",
              " 'dog.670.jpg',\n",
              " 'dog.881.jpg',\n",
              " 'dog.194.jpg',\n",
              " 'dog.702.jpg',\n",
              " 'dog.948.jpg',\n",
              " 'dog.126.jpg',\n",
              " 'dog.631.jpg',\n",
              " 'dog.124.jpg',\n",
              " 'dog.410.jpg',\n",
              " 'dog.62.jpg',\n",
              " 'dog.962.jpg',\n",
              " 'dog.56.jpg',\n",
              " 'dog.941.jpg',\n",
              " 'dog.685.jpg',\n",
              " 'dog.118.jpg',\n",
              " 'dog.424.jpg',\n",
              " 'dog.513.jpg',\n",
              " 'dog.699.jpg',\n",
              " 'dog.218.jpg',\n",
              " 'dog.141.jpg',\n",
              " 'dog.107.jpg',\n",
              " 'dog.163.jpg',\n",
              " 'dog.384.jpg',\n",
              " 'dog.175.jpg',\n",
              " 'dog.818.jpg',\n",
              " 'dog.121.jpg',\n",
              " 'dog.553.jpg',\n",
              " 'dog.611.jpg',\n",
              " 'dog.750.jpg',\n",
              " 'dog.20.jpg',\n",
              " 'dog.714.jpg',\n",
              " 'dog.991.jpg',\n",
              " 'dog.779.jpg',\n",
              " 'dog.837.jpg',\n",
              " 'dog.976.jpg',\n",
              " 'dog.21.jpg',\n",
              " 'dog.655.jpg',\n",
              " 'dog.915.jpg',\n",
              " 'dog.304.jpg',\n",
              " 'dog.726.jpg',\n",
              " 'dog.295.jpg',\n",
              " 'dog.700.jpg',\n",
              " 'dog.134.jpg',\n",
              " 'dog.360.jpg',\n",
              " 'dog.354.jpg',\n",
              " 'dog.193.jpg',\n",
              " 'dog.63.jpg',\n",
              " 'dog.877.jpg',\n",
              " 'dog.172.jpg',\n",
              " 'dog.635.jpg',\n",
              " 'dog.493.jpg',\n",
              " 'dog.964.jpg',\n",
              " 'dog.947.jpg',\n",
              " 'dog.575.jpg',\n",
              " 'dog.956.jpg',\n",
              " 'dog.534.jpg',\n",
              " 'dog.10.jpg',\n",
              " 'dog.876.jpg',\n",
              " 'dog.866.jpg',\n",
              " 'dog.117.jpg',\n",
              " 'dog.591.jpg',\n",
              " 'dog.797.jpg',\n",
              " 'dog.512.jpg',\n",
              " 'dog.520.jpg',\n",
              " 'dog.757.jpg',\n",
              " 'dog.521.jpg',\n",
              " 'dog.484.jpg',\n",
              " 'dog.500.jpg',\n",
              " 'dog.148.jpg',\n",
              " 'dog.279.jpg',\n",
              " 'dog.583.jpg',\n",
              " 'dog.981.jpg',\n",
              " 'dog.639.jpg',\n",
              " 'dog.221.jpg',\n",
              " 'dog.316.jpg',\n",
              " 'dog.364.jpg',\n",
              " 'dog.530.jpg',\n",
              " 'dog.104.jpg',\n",
              " 'dog.888.jpg',\n",
              " 'dog.208.jpg',\n",
              " 'dog.129.jpg',\n",
              " 'dog.505.jpg',\n",
              " 'dog.776.jpg',\n",
              " 'dog.404.jpg',\n",
              " 'dog.830.jpg',\n",
              " 'dog.232.jpg',\n",
              " 'dog.246.jpg',\n",
              " 'dog.72.jpg',\n",
              " 'dog.207.jpg',\n",
              " 'dog.966.jpg',\n",
              " 'dog.287.jpg',\n",
              " 'dog.683.jpg',\n",
              " 'dog.758.jpg',\n",
              " 'dog.164.jpg',\n",
              " 'dog.988.jpg',\n",
              " 'dog.526.jpg',\n",
              " 'dog.538.jpg',\n",
              " 'dog.474.jpg',\n",
              " 'dog.111.jpg',\n",
              " 'dog.229.jpg',\n",
              " 'dog.83.jpg',\n",
              " 'dog.209.jpg',\n",
              " 'dog.658.jpg',\n",
              " 'dog.191.jpg',\n",
              " 'dog.814.jpg',\n",
              " 'dog.488.jpg',\n",
              " 'dog.746.jpg',\n",
              " 'dog.719.jpg',\n",
              " 'dog.497.jpg',\n",
              " 'dog.367.jpg',\n",
              " 'dog.673.jpg',\n",
              " 'dog.35.jpg',\n",
              " 'dog.242.jpg',\n",
              " 'dog.918.jpg',\n",
              " 'dog.447.jpg',\n",
              " 'dog.103.jpg',\n",
              " 'dog.277.jpg',\n",
              " 'dog.248.jpg',\n",
              " 'dog.75.jpg',\n",
              " 'dog.485.jpg',\n",
              " 'dog.414.jpg',\n",
              " 'dog.808.jpg',\n",
              " 'dog.850.jpg',\n",
              " 'dog.67.jpg',\n",
              " 'dog.749.jpg',\n",
              " 'dog.928.jpg',\n",
              " 'dog.571.jpg',\n",
              " 'dog.614.jpg',\n",
              " 'dog.671.jpg',\n",
              " 'dog.265.jpg',\n",
              " 'dog.253.jpg',\n",
              " 'dog.549.jpg',\n",
              " 'dog.609.jpg',\n",
              " 'dog.328.jpg',\n",
              " 'dog.214.jpg',\n",
              " 'dog.184.jpg',\n",
              " 'dog.461.jpg',\n",
              " 'dog.39.jpg',\n",
              " 'dog.113.jpg',\n",
              " 'dog.828.jpg',\n",
              " 'dog.392.jpg',\n",
              " 'dog.422.jpg',\n",
              " 'dog.707.jpg',\n",
              " 'dog.643.jpg',\n",
              " 'dog.170.jpg',\n",
              " 'dog.315.jpg',\n",
              " 'dog.768.jpg',\n",
              " 'dog.463.jpg',\n",
              " 'dog.217.jpg',\n",
              " 'dog.352.jpg',\n",
              " 'dog.91.jpg',\n",
              " 'dog.357.jpg',\n",
              " 'dog.98.jpg',\n",
              " 'dog.386.jpg',\n",
              " 'dog.243.jpg',\n",
              " 'dog.200.jpg',\n",
              " 'dog.662.jpg',\n",
              " 'dog.848.jpg',\n",
              " 'dog.542.jpg',\n",
              " 'dog.742.jpg',\n",
              " 'dog.897.jpg',\n",
              " 'dog.545.jpg',\n",
              " 'dog.475.jpg',\n",
              " 'dog.110.jpg',\n",
              " 'dog.97.jpg',\n",
              " 'dog.634.jpg',\n",
              " 'dog.874.jpg',\n",
              " 'dog.980.jpg',\n",
              " 'dog.605.jpg',\n",
              " 'dog.483.jpg',\n",
              " 'dog.224.jpg',\n",
              " 'dog.385.jpg',\n",
              " 'dog.616.jpg',\n",
              " 'dog.501.jpg',\n",
              " 'dog.802.jpg',\n",
              " 'dog.87.jpg',\n",
              " 'dog.399.jpg',\n",
              " 'dog.73.jpg',\n",
              " 'dog.359.jpg',\n",
              " 'dog.711.jpg',\n",
              " 'dog.701.jpg',\n",
              " 'dog.93.jpg',\n",
              " 'dog.365.jpg',\n",
              " 'dog.767.jpg',\n",
              " 'dog.186.jpg',\n",
              " 'dog.984.jpg',\n",
              " 'dog.910.jpg',\n",
              " 'dog.162.jpg',\n",
              " 'dog.179.jpg',\n",
              " 'dog.999.jpg',\n",
              " 'dog.215.jpg',\n",
              " 'dog.951.jpg',\n",
              " 'dog.558.jpg',\n",
              " 'dog.721.jpg',\n",
              " 'dog.77.jpg',\n",
              " 'dog.960.jpg',\n",
              " 'dog.337.jpg',\n",
              " 'dog.641.jpg',\n",
              " 'dog.732.jpg',\n",
              " 'dog.968.jpg',\n",
              " 'dog.282.jpg',\n",
              " 'dog.829.jpg',\n",
              " 'dog.815.jpg',\n",
              " 'dog.300.jpg',\n",
              " 'dog.390.jpg',\n",
              " 'dog.516.jpg',\n",
              " 'dog.955.jpg',\n",
              " 'dog.995.jpg',\n",
              " 'dog.432.jpg',\n",
              " 'dog.389.jpg',\n",
              " 'dog.303.jpg',\n",
              " 'dog.544.jpg',\n",
              " 'dog.557.jpg',\n",
              " 'dog.737.jpg',\n",
              " 'dog.79.jpg',\n",
              " 'dog.787.jpg',\n",
              " 'dog.252.jpg',\n",
              " 'dog.94.jpg',\n",
              " 'dog.773.jpg',\n",
              " 'dog.455.jpg',\n",
              " 'dog.792.jpg',\n",
              " 'dog.693.jpg',\n",
              " 'dog.203.jpg',\n",
              " 'dog.930.jpg',\n",
              " 'dog.913.jpg',\n",
              " 'dog.448.jpg',\n",
              " 'dog.570.jpg',\n",
              " 'dog.539.jpg',\n",
              " 'dog.697.jpg',\n",
              " 'dog.875.jpg',\n",
              " 'dog.663.jpg',\n",
              " 'dog.189.jpg',\n",
              " 'dog.760.jpg',\n",
              " 'dog.312.jpg',\n",
              " 'dog.588.jpg',\n",
              " 'dog.925.jpg',\n",
              " 'dog.554.jpg',\n",
              " 'dog.672.jpg',\n",
              " 'dog.944.jpg',\n",
              " 'dog.518.jpg',\n",
              " 'dog.202.jpg',\n",
              " 'dog.506.jpg',\n",
              " 'dog.581.jpg',\n",
              " 'dog.794.jpg',\n",
              " 'dog.998.jpg',\n",
              " 'dog.17.jpg',\n",
              " 'dog.233.jpg',\n",
              " 'dog.61.jpg',\n",
              " 'dog.241.jpg',\n",
              " 'dog.704.jpg',\n",
              " 'dog.140.jpg',\n",
              " 'dog.716.jpg',\n",
              " 'dog.459.jpg',\n",
              " 'dog.753.jpg',\n",
              " 'dog.945.jpg',\n",
              " 'dog.973.jpg',\n",
              " 'dog.291.jpg',\n",
              " 'dog.201.jpg',\n",
              " 'dog.932.jpg',\n",
              " 'dog.541.jpg',\n",
              " 'dog.330.jpg',\n",
              " 'dog.396.jpg',\n",
              " 'dog.911.jpg',\n",
              " 'dog.130.jpg',\n",
              " 'dog.335.jpg',\n",
              " 'dog.24.jpg',\n",
              " 'dog.264.jpg',\n",
              " 'dog.679.jpg',\n",
              " 'dog.477.jpg',\n",
              " 'dog.437.jpg',\n",
              " 'dog.78.jpg',\n",
              " 'dog.313.jpg',\n",
              " 'dog.472.jpg',\n",
              " 'dog.314.jpg',\n",
              " 'dog.511.jpg',\n",
              " 'dog.851.jpg',\n",
              " 'dog.736.jpg',\n",
              " 'dog.566.jpg',\n",
              " 'dog.450.jpg',\n",
              " 'dog.285.jpg',\n",
              " 'dog.321.jpg',\n",
              " 'dog.517.jpg',\n",
              " 'dog.418.jpg',\n",
              " 'dog.660.jpg',\n",
              " 'dog.640.jpg',\n",
              " 'dog.333.jpg',\n",
              " 'dog.567.jpg',\n",
              " 'dog.473.jpg',\n",
              " 'dog.674.jpg',\n",
              " 'dog.547.jpg',\n",
              " 'dog.649.jpg',\n",
              " 'dog.878.jpg',\n",
              " 'dog.125.jpg',\n",
              " 'dog.415.jpg',\n",
              " 'dog.766.jpg',\n",
              " 'dog.74.jpg',\n",
              " 'dog.440.jpg',\n",
              " 'dog.234.jpg',\n",
              " 'dog.687.jpg',\n",
              " 'dog.822.jpg',\n",
              " 'dog.939.jpg',\n",
              " 'dog.46.jpg',\n",
              " 'dog.82.jpg',\n",
              " 'dog.620.jpg',\n",
              " 'dog.644.jpg',\n",
              " 'dog.100.jpg',\n",
              " 'dog.167.jpg',\n",
              " 'dog.47.jpg',\n",
              " 'dog.92.jpg',\n",
              " 'dog.294.jpg',\n",
              " 'dog.267.jpg',\n",
              " 'dog.431.jpg',\n",
              " 'dog.199.jpg',\n",
              " 'dog.601.jpg',\n",
              " 'dog.523.jpg',\n",
              " 'dog.982.jpg',\n",
              " 'dog.922.jpg',\n",
              " 'dog.817.jpg',\n",
              " 'dog.171.jpg',\n",
              " 'dog.900.jpg',\n",
              " 'dog.593.jpg',\n",
              " 'dog.618.jpg',\n",
              " 'dog.615.jpg',\n",
              " 'dog.886.jpg',\n",
              " 'dog.709.jpg',\n",
              " 'dog.458.jpg',\n",
              " 'dog.869.jpg',\n",
              " 'dog.645.jpg',\n",
              " 'dog.936.jpg',\n",
              " 'dog.585.jpg',\n",
              " 'dog.564.jpg',\n",
              " 'dog.903.jpg',\n",
              " 'dog.377.jpg',\n",
              " 'dog.798.jpg',\n",
              " 'dog.929.jpg',\n",
              " 'dog.445.jpg',\n",
              " 'dog.363.jpg',\n",
              " 'dog.978.jpg',\n",
              " 'dog.192.jpg',\n",
              " 'dog.26.jpg',\n",
              " 'dog.607.jpg',\n",
              " 'dog.108.jpg',\n",
              " 'dog.648.jpg',\n",
              " 'dog.11.jpg',\n",
              " 'dog.621.jpg',\n",
              " 'dog.717.jpg',\n",
              " 'dog.391.jpg',\n",
              " 'dog.770.jpg',\n",
              " 'dog.924.jpg',\n",
              " 'dog.350.jpg',\n",
              " 'dog.813.jpg',\n",
              " 'dog.261.jpg',\n",
              " 'dog.216.jpg',\n",
              " 'dog.529.jpg',\n",
              " 'dog.612.jpg',\n",
              " 'dog.562.jpg',\n",
              " 'dog.838.jpg',\n",
              " 'dog.373.jpg',\n",
              " 'dog.912.jpg',\n",
              " 'dog.806.jpg',\n",
              " 'dog.825.jpg',\n",
              " 'dog.498.jpg',\n",
              " 'dog.154.jpg',\n",
              " 'dog.308.jpg',\n",
              " 'dog.556.jpg',\n",
              " 'dog.832.jpg',\n",
              " 'dog.114.jpg',\n",
              " 'dog.805.jpg',\n",
              " 'dog.258.jpg',\n",
              " 'dog.790.jpg',\n",
              " 'dog.846.jpg',\n",
              " 'dog.165.jpg',\n",
              " 'dog.388.jpg',\n",
              " 'dog.540.jpg',\n",
              " 'dog.619.jpg',\n",
              " 'dog.865.jpg',\n",
              " 'dog.343.jpg',\n",
              " 'dog.633.jpg',\n",
              " 'dog.0.jpg',\n",
              " 'dog.347.jpg',\n",
              " 'dog.220.jpg',\n",
              " 'dog.379.jpg',\n",
              " 'dog.299.jpg',\n",
              " 'dog.254.jpg',\n",
              " 'dog.159.jpg',\n",
              " 'dog.257.jpg',\n",
              " 'dog.460.jpg',\n",
              " 'dog.256.jpg',\n",
              " 'dog.338.jpg',\n",
              " 'dog.975.jpg',\n",
              " 'dog.90.jpg',\n",
              " 'dog.482.jpg',\n",
              " 'dog.811.jpg',\n",
              " 'dog.155.jpg',\n",
              " 'dog.382.jpg',\n",
              " 'dog.587.jpg',\n",
              " 'dog.985.jpg',\n",
              " 'dog.250.jpg',\n",
              " 'dog.532.jpg',\n",
              " 'dog.677.jpg',\n",
              " 'dog.582.jpg',\n",
              " 'dog.275.jpg',\n",
              " 'dog.290.jpg',\n",
              " 'dog.515.jpg',\n",
              " 'dog.449.jpg',\n",
              " 'dog.987.jpg',\n",
              " 'dog.706.jpg',\n",
              " 'dog.594.jpg',\n",
              " 'dog.691.jpg',\n",
              " 'dog.40.jpg',\n",
              " 'dog.408.jpg',\n",
              " 'dog.608.jpg',\n",
              " 'dog.935.jpg',\n",
              " 'dog.451.jpg',\n",
              " 'dog.849.jpg',\n",
              " 'dog.12.jpg',\n",
              " 'dog.584.jpg',\n",
              " 'dog.306.jpg',\n",
              " 'dog.69.jpg',\n",
              " 'dog.325.jpg',\n",
              " 'dog.397.jpg',\n",
              " 'dog.996.jpg',\n",
              " 'dog.84.jpg',\n",
              " 'dog.836.jpg',\n",
              " 'dog.157.jpg',\n",
              " 'dog.272.jpg',\n",
              " 'dog.429.jpg',\n",
              " 'dog.870.jpg',\n",
              " 'dog.406.jpg',\n",
              " 'dog.740.jpg',\n",
              " 'dog.572.jpg',\n",
              " 'dog.820.jpg',\n",
              " 'dog.502.jpg',\n",
              " 'dog.752.jpg',\n",
              " 'dog.142.jpg',\n",
              " 'dog.9.jpg',\n",
              " 'dog.508.jpg',\n",
              " 'dog.7.jpg',\n",
              " 'dog.524.jpg',\n",
              " 'dog.834.jpg',\n",
              " 'dog.456.jpg',\n",
              " 'dog.423.jpg',\n",
              " 'dog.169.jpg',\n",
              " 'dog.412.jpg',\n",
              " 'dog.891.jpg',\n",
              " 'dog.598.jpg',\n",
              " 'dog.146.jpg',\n",
              " 'dog.174.jpg',\n",
              " 'dog.739.jpg',\n",
              " 'dog.70.jpg',\n",
              " 'dog.713.jpg',\n",
              " 'dog.183.jpg',\n",
              " 'dog.259.jpg',\n",
              " 'dog.659.jpg',\n",
              " 'dog.86.jpg',\n",
              " 'dog.678.jpg',\n",
              " 'dog.41.jpg',\n",
              " 'dog.632.jpg',\n",
              " 'dog.785.jpg',\n",
              " 'dog.823.jpg',\n",
              " 'dog.733.jpg',\n",
              " 'dog.496.jpg',\n",
              " 'dog.499.jpg',\n",
              " 'dog.689.jpg',\n",
              " 'dog.879.jpg',\n",
              " 'dog.225.jpg',\n",
              " 'dog.843.jpg',\n",
              " 'dog.95.jpg',\n",
              " 'dog.22.jpg',\n",
              " 'dog.684.jpg',\n",
              " 'dog.971.jpg',\n",
              " 'dog.311.jpg',\n",
              " 'dog.153.jpg',\n",
              " 'dog.967.jpg',\n",
              " 'dog.669.jpg',\n",
              " 'dog.178.jpg',\n",
              " 'dog.845.jpg',\n",
              " 'dog.439.jpg',\n",
              " 'dog.400.jpg',\n",
              " 'dog.433.jpg',\n",
              " 'dog.489.jpg',\n",
              " 'dog.527.jpg',\n",
              " 'dog.490.jpg',\n",
              " 'dog.856.jpg',\n",
              " 'dog.57.jpg',\n",
              " 'dog.777.jpg',\n",
              " 'dog.53.jpg',\n",
              " 'dog.812.jpg',\n",
              " 'dog.452.jpg',\n",
              " 'dog.937.jpg',\n",
              " 'dog.682.jpg',\n",
              " 'dog.143.jpg',\n",
              " 'dog.537.jpg',\n",
              " 'dog.4.jpg',\n",
              " 'dog.920.jpg',\n",
              " 'dog.734.jpg',\n",
              " 'dog.462.jpg',\n",
              " 'dog.286.jpg',\n",
              " 'dog.51.jpg',\n",
              " 'dog.646.jpg',\n",
              " 'dog.145.jpg',\n",
              " 'dog.466.jpg',\n",
              " 'dog.245.jpg',\n",
              " 'dog.664.jpg',\n",
              " 'dog.29.jpg',\n",
              " 'dog.32.jpg',\n",
              " 'dog.50.jpg',\n",
              " 'dog.590.jpg',\n",
              " 'dog.744.jpg',\n",
              " 'dog.884.jpg',\n",
              " 'dog.85.jpg',\n",
              " 'dog.14.jpg',\n",
              " 'dog.647.jpg',\n",
              " 'dog.372.jpg',\n",
              " 'dog.135.jpg',\n",
              " 'dog.160.jpg',\n",
              " 'dog.855.jpg',\n",
              " 'dog.8.jpg',\n",
              " 'dog.301.jpg',\n",
              " 'dog.345.jpg',\n",
              " 'dog.441.jpg',\n",
              " 'dog.237.jpg',\n",
              " 'dog.342.jpg',\n",
              " 'dog.775.jpg',\n",
              " 'dog.867.jpg',\n",
              " 'dog.943.jpg',\n",
              " 'dog.425.jpg',\n",
              " 'dog.904.jpg',\n",
              " 'dog.96.jpg',\n",
              " 'dog.88.jpg',\n",
              " 'dog.101.jpg',\n",
              " 'dog.309.jpg',\n",
              " 'dog.361.jpg',\n",
              " 'dog.595.jpg',\n",
              " 'dog.226.jpg',\n",
              " 'dog.965.jpg',\n",
              " 'dog.376.jpg',\n",
              " 'dog.471.jpg',\n",
              " 'dog.574.jpg',\n",
              " 'dog.839.jpg',\n",
              " 'dog.606.jpg',\n",
              " 'dog.158.jpg',\n",
              " 'dog.504.jpg',\n",
              " 'dog.804.jpg',\n",
              " 'dog.942.jpg',\n",
              " 'dog.122.jpg',\n",
              " 'dog.329.jpg',\n",
              " 'dog.555.jpg',\n",
              " 'dog.284.jpg',\n",
              " 'dog.33.jpg',\n",
              " 'dog.791.jpg',\n",
              " 'dog.369.jpg',\n",
              " 'dog.909.jpg',\n",
              " 'dog.759.jpg',\n",
              " 'dog.283.jpg',\n",
              " 'dog.411.jpg',\n",
              " 'dog.563.jpg',\n",
              " 'dog.927.jpg',\n",
              " 'dog.268.jpg',\n",
              " 'dog.977.jpg',\n",
              " 'dog.116.jpg',\n",
              " 'dog.703.jpg',\n",
              " 'dog.637.jpg',\n",
              " 'dog.278.jpg',\n",
              " 'dog.795.jpg',\n",
              " 'dog.735.jpg',\n",
              " 'dog.908.jpg',\n",
              " 'dog.65.jpg',\n",
              " 'dog.712.jpg',\n",
              " 'dog.37.jpg',\n",
              " 'dog.362.jpg',\n",
              " 'dog.374.jpg',\n",
              " 'dog.626.jpg',\n",
              " 'dog.137.jpg',\n",
              " 'dog.144.jpg',\n",
              " 'dog.45.jpg',\n",
              " 'dog.416.jpg',\n",
              " 'dog.464.jpg',\n",
              " 'dog.276.jpg',\n",
              " 'dog.58.jpg',\n",
              " 'dog.68.jpg',\n",
              " 'dog.297.jpg',\n",
              " 'dog.840.jpg',\n",
              " 'dog.708.jpg',\n",
              " 'dog.731.jpg',\n",
              " 'dog.729.jpg',\n",
              " 'dog.443.jpg',\n",
              " 'dog.5.jpg',\n",
              " 'dog.835.jpg',\n",
              " 'dog.972.jpg',\n",
              " 'dog.629.jpg',\n",
              " 'dog.921.jpg',\n",
              " 'dog.393.jpg',\n",
              " 'dog.743.jpg',\n",
              " 'dog.592.jpg',\n",
              " 'dog.994.jpg',\n",
              " 'dog.419.jpg',\n",
              " 'dog.696.jpg',\n",
              " 'dog.857.jpg',\n",
              " 'dog.844.jpg',\n",
              " 'dog.519.jpg',\n",
              " 'dog.603.jpg',\n",
              " 'dog.665.jpg',\n",
              " 'dog.871.jpg',\n",
              " 'dog.332.jpg',\n",
              " 'dog.949.jpg',\n",
              " 'dog.403.jpg',\n",
              " 'dog.569.jpg',\n",
              " 'dog.864.jpg',\n",
              " 'dog.213.jpg',\n",
              " 'dog.718.jpg',\n",
              " 'dog.986.jpg',\n",
              " 'dog.578.jpg',\n",
              " 'dog.754.jpg',\n",
              " 'dog.509.jpg',\n",
              " 'dog.576.jpg',\n",
              " 'dog.756.jpg',\n",
              " 'dog.946.jpg',\n",
              " 'dog.638.jpg',\n",
              " 'dog.326.jpg',\n",
              " 'dog.653.jpg',\n",
              " 'dog.826.jpg',\n",
              " 'dog.531.jpg',\n",
              " 'dog.105.jpg',\n",
              " 'dog.340.jpg',\n",
              " 'dog.133.jpg',\n",
              " 'dog.210.jpg',\n",
              " 'dog.181.jpg',\n",
              " 'dog.923.jpg',\n",
              " 'dog.762.jpg',\n",
              " 'dog.236.jpg',\n",
              " 'dog.952.jpg',\n",
              " 'dog.934.jpg',\n",
              " 'dog.3.jpg',\n",
              " 'dog.800.jpg',\n",
              " 'dog.99.jpg',\n",
              " 'dog.274.jpg',\n",
              " 'dog.366.jpg',\n",
              " 'dog.132.jpg',\n",
              " 'dog.890.jpg',\n",
              " 'dog.89.jpg',\n",
              " 'dog.938.jpg',\n",
              " 'dog.371.jpg',\n",
              " 'dog.353.jpg',\n",
              " 'dog.454.jpg',\n",
              " 'dog.764.jpg',\n",
              " 'dog.341.jpg',\n",
              " 'dog.139.jpg',\n",
              " 'dog.728.jpg',\n",
              " 'dog.289.jpg',\n",
              " 'dog.375.jpg',\n",
              " 'dog.244.jpg',\n",
              " 'dog.16.jpg',\n",
              " 'dog.906.jpg',\n",
              " 'dog.381.jpg',\n",
              " 'dog.771.jpg',\n",
              " 'dog.320.jpg',\n",
              " 'dog.667.jpg',\n",
              " 'dog.131.jpg',\n",
              " 'dog.772.jpg',\n",
              " 'dog.901.jpg',\n",
              " 'dog.60.jpg',\n",
              " 'dog.597.jpg',\n",
              " 'dog.444.jpg',\n",
              " 'dog.36.jpg',\n",
              " 'dog.917.jpg',\n",
              " 'dog.676.jpg',\n",
              " 'dog.421.jpg',\n",
              " 'dog.407.jpg',\n",
              " 'dog.55.jpg',\n",
              " 'dog.627.jpg',\n",
              " 'dog.914.jpg',\n",
              " 'dog.206.jpg',\n",
              " 'dog.23.jpg',\n",
              " 'dog.31.jpg',\n",
              " 'dog.747.jpg',\n",
              " 'dog.271.jpg',\n",
              " 'dog.899.jpg',\n",
              " 'dog.695.jpg',\n",
              " 'dog.872.jpg',\n",
              " 'dog.323.jpg',\n",
              " 'dog.317.jpg',\n",
              " 'dog.854.jpg',\n",
              " 'dog.180.jpg',\n",
              " 'dog.799.jpg',\n",
              " 'dog.692.jpg',\n",
              " 'dog.156.jpg',\n",
              " 'dog.260.jpg',\n",
              " 'dog.841.jpg',\n",
              " 'dog.842.jpg',\n",
              " 'dog.222.jpg',\n",
              " 'dog.528.jpg',\n",
              " 'dog.690.jpg',\n",
              " 'dog.368.jpg',\n",
              " 'dog.642.jpg',\n",
              " 'dog.654.jpg',\n",
              " 'dog.953.jpg',\n",
              " 'dog.195.jpg',\n",
              " 'dog.331.jpg',\n",
              " 'dog.765.jpg',\n",
              " 'dog.128.jpg',\n",
              " 'dog.446.jpg',\n",
              " 'dog.720.jpg',\n",
              " 'dog.589.jpg',\n",
              " 'dog.650.jpg',\n",
              " 'dog.238.jpg',\n",
              " 'dog.600.jpg',\n",
              " 'dog.769.jpg',\n",
              " 'dog.405.jpg',\n",
              " 'dog.933.jpg',\n",
              " 'dog.969.jpg',\n",
              " 'dog.112.jpg',\n",
              " 'dog.198.jpg',\n",
              " 'dog.152.jpg',\n",
              " 'dog.579.jpg',\n",
              " 'dog.430.jpg',\n",
              " 'dog.71.jpg',\n",
              " 'dog.858.jpg',\n",
              " 'dog.346.jpg',\n",
              " 'dog.383.jpg',\n",
              " 'dog.821.jpg',\n",
              " 'dog.401.jpg',\n",
              " 'dog.958.jpg',\n",
              " 'dog.476.jpg',\n",
              " 'dog.666.jpg',\n",
              " 'dog.231.jpg',\n",
              " 'dog.394.jpg',\n",
              " 'dog.889.jpg',\n",
              " 'dog.577.jpg',\n",
              " 'dog.59.jpg',\n",
              " 'dog.266.jpg',\n",
              " 'dog.816.jpg',\n",
              " 'dog.548.jpg',\n",
              " 'dog.187.jpg',\n",
              " 'dog.831.jpg',\n",
              " 'dog.859.jpg',\n",
              " 'dog.380.jpg',\n",
              " 'dog.979.jpg',\n",
              " 'dog.559.jpg',\n",
              " 'dog.34.jpg',\n",
              " 'dog.240.jpg',\n",
              " 'dog.149.jpg',\n",
              " 'dog.725.jpg',\n",
              " 'dog.334.jpg',\n",
              " 'dog.150.jpg',\n",
              " 'dog.763.jpg',\n",
              " 'dog.880.jpg',\n",
              " 'dog.219.jpg',\n",
              " 'dog.543.jpg',\n",
              " 'dog.992.jpg',\n",
              " 'dog.722.jpg',\n",
              " 'dog.491.jpg',\n",
              " 'dog.882.jpg',\n",
              " 'dog.465.jpg',\n",
              " 'dog.319.jpg',\n",
              " 'dog.327.jpg',\n",
              " 'dog.398.jpg',\n",
              " 'dog.630.jpg',\n",
              " 'dog.710.jpg',\n",
              " 'dog.255.jpg',\n",
              " 'dog.190.jpg',\n",
              " 'dog.507.jpg',\n",
              " 'dog.223.jpg',\n",
              " 'dog.610.jpg',\n",
              " 'dog.119.jpg',\n",
              " 'dog.127.jpg',\n",
              " 'dog.263.jpg',\n",
              " 'dog.810.jpg',\n",
              " 'dog.115.jpg',\n",
              " 'dog.727.jpg',\n",
              " 'dog.503.jpg',\n",
              " 'dog.892.jpg',\n",
              " 'dog.239.jpg',\n",
              " 'dog.807.jpg',\n",
              " 'dog.963.jpg',\n",
              " 'dog.348.jpg',\n",
              " 'dog.293.jpg',\n",
              " 'dog.185.jpg',\n",
              " 'dog.622.jpg',\n",
              " 'dog.613.jpg',\n",
              " 'dog.227.jpg',\n",
              " 'dog.176.jpg',\n",
              " 'dog.426.jpg',\n",
              " 'dog.457.jpg',\n",
              " 'dog.741.jpg',\n",
              " 'dog.896.jpg',\n",
              " 'dog.931.jpg',\n",
              " 'dog.789.jpg',\n",
              " 'dog.48.jpg',\n",
              " 'dog.486.jpg',\n",
              " 'dog.853.jpg',\n",
              " 'dog.862.jpg',\n",
              " 'dog.38.jpg',\n",
              " 'dog.657.jpg',\n",
              " 'dog.166.jpg',\n",
              " 'dog.651.jpg',\n",
              " 'dog.533.jpg',\n",
              " 'dog.809.jpg',\n",
              " 'dog.565.jpg',\n",
              " 'dog.2.jpg',\n",
              " 'dog.66.jpg',\n",
              " 'dog.177.jpg',\n",
              " 'dog.916.jpg',\n",
              " 'dog.551.jpg',\n",
              " 'dog.228.jpg',\n",
              " 'dog.182.jpg',\n",
              " 'dog.730.jpg',\n",
              " 'dog.310.jpg',\n",
              " 'dog.788.jpg',\n",
              " 'dog.705.jpg',\n",
              " 'dog.604.jpg',\n",
              " 'dog.688.jpg',\n",
              " 'dog.336.jpg',\n",
              " 'dog.681.jpg',\n",
              " 'dog.6.jpg',\n",
              " 'dog.136.jpg',\n",
              " 'dog.196.jpg',\n",
              " 'dog.168.jpg',\n",
              " 'dog.628.jpg',\n",
              " 'dog.212.jpg',\n",
              " 'dog.351.jpg',\n",
              " 'dog.950.jpg',\n",
              " 'dog.885.jpg',\n",
              " 'dog.573.jpg',\n",
              " 'dog.281.jpg',\n",
              " 'dog.959.jpg',\n",
              " 'dog.467.jpg',\n",
              " 'dog.109.jpg',\n",
              " 'dog.470.jpg',\n",
              " 'dog.668.jpg',\n",
              " 'dog.1.jpg',\n",
              " 'dog.120.jpg',\n",
              " 'dog.887.jpg',\n",
              " 'dog.546.jpg',\n",
              " 'dog.898.jpg',\n",
              " 'dog.479.jpg',\n",
              " 'dog.656.jpg',\n",
              " 'dog.624.jpg',\n",
              " 'dog.318.jpg',\n",
              " 'dog.173.jpg',\n",
              " 'dog.782.jpg',\n",
              " 'dog.49.jpg',\n",
              " 'dog.919.jpg',\n",
              " 'dog.599.jpg',\n",
              " 'dog.873.jpg',\n",
              " 'dog.356.jpg',\n",
              " 'dog.957.jpg',\n",
              " 'dog.617.jpg',\n",
              " 'dog.997.jpg',\n",
              " 'dog.989.jpg',\n",
              " 'dog.262.jpg',\n",
              " 'dog.781.jpg',\n",
              " 'dog.494.jpg',\n",
              " 'dog.15.jpg',\n",
              " 'dog.623.jpg',\n",
              " 'dog.535.jpg',\n",
              " 'dog.680.jpg',\n",
              " 'dog.27.jpg',\n",
              " 'dog.161.jpg',\n",
              " 'dog.774.jpg',\n",
              " 'dog.625.jpg',\n",
              " 'dog.442.jpg',\n",
              " 'dog.28.jpg',\n",
              " 'dog.661.jpg',\n",
              " 'dog.636.jpg',\n",
              " 'dog.44.jpg',\n",
              " 'dog.302.jpg',\n",
              " 'dog.793.jpg',\n",
              " 'dog.780.jpg',\n",
              " 'dog.983.jpg',\n",
              " 'dog.510.jpg',\n",
              " 'dog.861.jpg',\n",
              " 'dog.324.jpg',\n",
              " 'dog.64.jpg',\n",
              " 'dog.188.jpg',\n",
              " 'dog.487.jpg',\n",
              " 'dog.940.jpg',\n",
              " 'dog.652.jpg',\n",
              " 'dog.249.jpg',\n",
              " 'dog.894.jpg',\n",
              " 'dog.803.jpg',\n",
              " 'dog.102.jpg',\n",
              " 'dog.970.jpg',\n",
              " 'dog.761.jpg',\n",
              " 'dog.378.jpg',\n",
              " 'dog.307.jpg',\n",
              " 'dog.358.jpg',\n",
              " 'dog.751.jpg',\n",
              " 'dog.738.jpg']"
            ]
          },
          "metadata": {},
          "execution_count": 11
        }
      ]
    },
    {
      "cell_type": "code",
      "source": [],
      "metadata": {
        "id": "qBm55smmgnE2"
      },
      "execution_count": null,
      "outputs": []
    },
    {
      "cell_type": "markdown",
      "metadata": {
        "id": "u5gaNBDdoD09"
      },
      "source": [
        "### 트레이닝 이미지와 밸리데이션 이미지를, 각각 몇개씩인지 확인해 본다."
      ]
    },
    {
      "cell_type": "code",
      "execution_count": 13,
      "metadata": {
        "id": "_ZG1Obn3puVj",
        "colab": {
          "base_uri": "https://localhost:8080/"
        },
        "outputId": "3dd983dc-d207-475f-83ad-1e4dbbb60acc"
      },
      "outputs": [
        {
          "output_type": "execute_result",
          "data": {
            "text/plain": [
              "1000"
            ]
          },
          "metadata": {},
          "execution_count": 13
        }
      ],
      "source": [
        "len( os.listdir( train_dir + '/dogs'  )  )"
      ]
    },
    {
      "cell_type": "code",
      "execution_count": 14,
      "metadata": {
        "id": "x5ikbvlBpuTd",
        "colab": {
          "base_uri": "https://localhost:8080/"
        },
        "outputId": "532446d4-cbe7-4b39-f66a-4289c41a4cf4"
      },
      "outputs": [
        {
          "output_type": "execute_result",
          "data": {
            "text/plain": [
              "1000"
            ]
          },
          "metadata": {},
          "execution_count": 14
        }
      ],
      "source": [
        "len( os.listdir( train_dir + '/cats'  )  )"
      ]
    },
    {
      "cell_type": "code",
      "execution_count": 15,
      "metadata": {
        "id": "i1zID94zpuOc",
        "colab": {
          "base_uri": "https://localhost:8080/"
        },
        "outputId": "cbbb2dbf-33cb-490d-e58e-4aaaeb745924"
      },
      "outputs": [
        {
          "output_type": "execute_result",
          "data": {
            "text/plain": [
              "500"
            ]
          },
          "metadata": {},
          "execution_count": 15
        }
      ],
      "source": [
        "len( os.listdir( test_dir + '/dogs'  )  )"
      ]
    },
    {
      "cell_type": "code",
      "execution_count": 16,
      "metadata": {
        "id": "z5Tfsa2gprzc",
        "colab": {
          "base_uri": "https://localhost:8080/"
        },
        "outputId": "592d6d2b-b4f7-4633-90d5-57e0ef7eb730"
      },
      "outputs": [
        {
          "output_type": "execute_result",
          "data": {
            "text/plain": [
              "500"
            ]
          },
          "metadata": {},
          "execution_count": 16
        }
      ],
      "source": [
        "len( os.listdir( test_dir + '/cats'  )  )"
      ]
    },
    {
      "cell_type": "code",
      "execution_count": null,
      "metadata": {
        "id": "ibv6U-Jrp6Kp"
      },
      "outputs": [],
      "source": []
    },
    {
      "cell_type": "markdown",
      "metadata": {
        "id": "5oqBkNBJmtUv"
      },
      "source": [
        "## Building a Small Model from Scratch to Get to ~72% Accuracy\n",
        "\n",
        "이미지의 사이즈를 150x150, 칼라(rgb) 로 처리하자.\n"
      ]
    },
    {
      "cell_type": "code",
      "execution_count": 17,
      "metadata": {
        "id": "qvfZg3LQbD-5"
      },
      "outputs": [],
      "source": [
        "import tensorflow as tf\n",
        "from keras.models import Sequential\n",
        "from keras.layers import Conv2D, MaxPooling2D, Flatten, Dense"
      ]
    },
    {
      "cell_type": "code",
      "execution_count": 18,
      "metadata": {
        "id": "G1HHc5s8qKSY"
      },
      "outputs": [],
      "source": [
        "def build_model():\n",
        "  model = Sequential()\n",
        "  model.add( Conv2D(16, (3,3) , activation='relu' , input_shape=(150,150,3)  ) )\n",
        "  model.add( MaxPooling2D( (2,2) , 2 ) )\n",
        "  model.add( Conv2D(32, (3,3), activation='relu'))\n",
        "  model.add( MaxPooling2D( (2,2) , 2 ) )\n",
        "  model.add( Conv2D(64, (3,3) , activation='relu'))\n",
        "  model.add( MaxPooling2D( (2,2) , 2 ) )\n",
        "\n",
        "  model.add(Flatten())\n",
        "  model.add(Dense(512, 'relu'))\n",
        "  model.add(Dense(1, 'sigmoid'))\n",
        "  \n",
        "  model.compile('rmsprop', 'binary_crossentropy', metrics=['accuracy'])\n",
        "  return model"
      ]
    },
    {
      "cell_type": "markdown",
      "metadata": {
        "id": "s9EaFDP5srBa"
      },
      "source": [
        "서머리 해보자"
      ]
    },
    {
      "cell_type": "code",
      "execution_count": 19,
      "metadata": {
        "id": "HbLIpT6eqNGk"
      },
      "outputs": [],
      "source": [
        "model = build_model()"
      ]
    },
    {
      "cell_type": "code",
      "execution_count": 20,
      "metadata": {
        "id": "Lh-H04aRqQuF",
        "colab": {
          "base_uri": "https://localhost:8080/"
        },
        "outputId": "cf510a31-9429-4cd5-d58a-8d2e2c2a816c"
      },
      "outputs": [
        {
          "output_type": "stream",
          "name": "stdout",
          "text": [
            "Model: \"sequential\"\n",
            "_________________________________________________________________\n",
            " Layer (type)                Output Shape              Param #   \n",
            "=================================================================\n",
            " conv2d (Conv2D)             (None, 148, 148, 16)      448       \n",
            "                                                                 \n",
            " max_pooling2d (MaxPooling2D  (None, 74, 74, 16)       0         \n",
            " )                                                               \n",
            "                                                                 \n",
            " conv2d_1 (Conv2D)           (None, 72, 72, 32)        4640      \n",
            "                                                                 \n",
            " max_pooling2d_1 (MaxPooling  (None, 36, 36, 32)       0         \n",
            " 2D)                                                             \n",
            "                                                                 \n",
            " conv2d_2 (Conv2D)           (None, 34, 34, 64)        18496     \n",
            "                                                                 \n",
            " max_pooling2d_2 (MaxPooling  (None, 17, 17, 64)       0         \n",
            " 2D)                                                             \n",
            "                                                                 \n",
            " flatten (Flatten)           (None, 18496)             0         \n",
            "                                                                 \n",
            " dense (Dense)               (None, 512)               9470464   \n",
            "                                                                 \n",
            " dense_1 (Dense)             (None, 1)                 513       \n",
            "                                                                 \n",
            "=================================================================\n",
            "Total params: 9,494,561\n",
            "Trainable params: 9,494,561\n",
            "Non-trainable params: 0\n",
            "_________________________________________________________________\n"
          ]
        }
      ],
      "source": [
        "model.summary()"
      ]
    },
    {
      "cell_type": "markdown",
      "metadata": {
        "id": "6d4fRbedogxz"
      },
      "source": [
        "### RMSprop 으로 컴파일한다."
      ]
    },
    {
      "cell_type": "code",
      "execution_count": null,
      "metadata": {
        "id": "03QH9sedqRlz"
      },
      "outputs": [],
      "source": []
    },
    {
      "cell_type": "code",
      "execution_count": null,
      "metadata": {
        "id": "bJZwK-9sqRdy"
      },
      "outputs": [],
      "source": []
    },
    {
      "cell_type": "markdown",
      "metadata": {
        "id": "Sn9m9D3UimHM"
      },
      "source": [
        "### Data Preprocessing\n",
        "\n",
        "ImageDataGenerator 사용하기"
      ]
    },
    {
      "cell_type": "code",
      "execution_count": 21,
      "metadata": {
        "id": "z2WAYrewqYAz"
      },
      "outputs": [],
      "source": [
        "from keras.preprocessing.image import ImageDataGenerator"
      ]
    },
    {
      "cell_type": "code",
      "execution_count": 25,
      "metadata": {
        "id": "Wi-bCSvNqXTD"
      },
      "outputs": [],
      "source": [
        "train_datagen = ImageDataGenerator(rescale=1/255.0)"
      ]
    },
    {
      "cell_type": "code",
      "source": [
        "test_datagen = ImageDataGenerator(rescale=1/255.0)"
      ],
      "metadata": {
        "id": "mijk8GCBjHbv"
      },
      "execution_count": 27,
      "outputs": []
    },
    {
      "cell_type": "code",
      "execution_count": 28,
      "metadata": {
        "id": "D3I1ddQsqW-c",
        "colab": {
          "base_uri": "https://localhost:8080/"
        },
        "outputId": "47069595-5bb6-4e8c-f690-351d16d754ba"
      },
      "outputs": [
        {
          "output_type": "stream",
          "name": "stdout",
          "text": [
            "Found 2000 images belonging to 2 classes.\n"
          ]
        }
      ],
      "source": [
        "train_generator = train_datagen.flow_from_directory(train_dir, target_size = (150,150),\n",
        "                                  class_mode='binary' ,\n",
        "                                  batch_size = 20)"
      ]
    },
    {
      "cell_type": "code",
      "source": [
        "test_generator = test_datagen.flow_from_directory(test_dir, target_size=(150,150),\n",
        "                                 class_mode='binary' ,\n",
        "                                 batch_size=20)"
      ],
      "metadata": {
        "colab": {
          "base_uri": "https://localhost:8080/"
        },
        "id": "2-OhEN1ajV-P",
        "outputId": "d44e9eb1-f491-4eaf-84f5-89ffb3848bcb"
      },
      "execution_count": 29,
      "outputs": [
        {
          "output_type": "stream",
          "name": "stdout",
          "text": [
            "Found 1000 images belonging to 2 classes.\n"
          ]
        }
      ]
    },
    {
      "cell_type": "code",
      "source": [],
      "metadata": {
        "id": "KCmMb1rqjVrW"
      },
      "execution_count": null,
      "outputs": []
    },
    {
      "cell_type": "code",
      "source": [],
      "metadata": {
        "id": "MLj3ip14jVhY"
      },
      "execution_count": null,
      "outputs": []
    },
    {
      "cell_type": "markdown",
      "metadata": {
        "id": "mu3Jdwkjwax4"
      },
      "source": [
        "### Training\n",
        "15 epochs 로 학습해 보자.\n"
      ]
    },
    {
      "cell_type": "code",
      "execution_count": 30,
      "metadata": {
        "id": "UBY_tEYFqfaS",
        "colab": {
          "base_uri": "https://localhost:8080/"
        },
        "outputId": "9a175432-5b82-4502-ff61-0ca878dc92c0"
      },
      "outputs": [
        {
          "output_type": "stream",
          "name": "stdout",
          "text": [
            "Epoch 1/15\n",
            "100/100 [==============================] - 19s 92ms/step - loss: 0.9336 - accuracy: 0.5650 - val_loss: 0.6584 - val_accuracy: 0.6280\n",
            "Epoch 2/15\n",
            "100/100 [==============================] - 9s 91ms/step - loss: 0.6207 - accuracy: 0.6665 - val_loss: 0.7041 - val_accuracy: 0.6260\n",
            "Epoch 3/15\n",
            "100/100 [==============================] - 9s 93ms/step - loss: 0.5255 - accuracy: 0.7415 - val_loss: 0.5538 - val_accuracy: 0.7340\n",
            "Epoch 4/15\n",
            "100/100 [==============================] - 9s 91ms/step - loss: 0.4557 - accuracy: 0.7950 - val_loss: 0.5637 - val_accuracy: 0.7390\n",
            "Epoch 5/15\n",
            "100/100 [==============================] - 9s 92ms/step - loss: 0.3641 - accuracy: 0.8295 - val_loss: 0.5864 - val_accuracy: 0.7190\n",
            "Epoch 6/15\n",
            "100/100 [==============================] - 9s 90ms/step - loss: 0.2904 - accuracy: 0.8760 - val_loss: 0.7121 - val_accuracy: 0.7320\n",
            "Epoch 7/15\n",
            "100/100 [==============================] - 11s 113ms/step - loss: 0.2091 - accuracy: 0.9190 - val_loss: 0.8063 - val_accuracy: 0.6980\n",
            "Epoch 8/15\n",
            "100/100 [==============================] - 9s 91ms/step - loss: 0.1376 - accuracy: 0.9475 - val_loss: 0.9541 - val_accuracy: 0.7020\n",
            "Epoch 9/15\n",
            "100/100 [==============================] - 9s 90ms/step - loss: 0.1243 - accuracy: 0.9580 - val_loss: 0.9984 - val_accuracy: 0.7030\n",
            "Epoch 10/15\n",
            "100/100 [==============================] - 9s 91ms/step - loss: 0.0780 - accuracy: 0.9730 - val_loss: 1.2414 - val_accuracy: 0.7210\n",
            "Epoch 11/15\n",
            "100/100 [==============================] - 9s 90ms/step - loss: 0.0684 - accuracy: 0.9780 - val_loss: 1.6076 - val_accuracy: 0.7180\n",
            "Epoch 12/15\n",
            "100/100 [==============================] - 9s 90ms/step - loss: 0.0826 - accuracy: 0.9810 - val_loss: 1.5102 - val_accuracy: 0.6930\n",
            "Epoch 13/15\n",
            "100/100 [==============================] - 9s 95ms/step - loss: 0.0545 - accuracy: 0.9900 - val_loss: 1.7509 - val_accuracy: 0.6940\n",
            "Epoch 14/15\n",
            "100/100 [==============================] - 9s 90ms/step - loss: 0.0401 - accuracy: 0.9870 - val_loss: 1.6647 - val_accuracy: 0.7180\n",
            "Epoch 15/15\n",
            "100/100 [==============================] - 9s 90ms/step - loss: 0.0195 - accuracy: 0.9950 - val_loss: 2.1401 - val_accuracy: 0.7160\n"
          ]
        }
      ],
      "source": [
        "epoch_history = model.fit(train_generator, epochs=15, \n",
        "                          validation_data = (test_generator) , \n",
        "                          steps_per_epoch= 100 )"
      ]
    },
    {
      "cell_type": "code",
      "execution_count": null,
      "metadata": {
        "id": "tLRCGeaGqfM7"
      },
      "outputs": [],
      "source": [
        "#  학습데이터 2000개 = 배치사이즈 X 스텝수 "
      ]
    },
    {
      "cell_type": "code",
      "source": [
        "model.evaluate(test_generator)"
      ],
      "metadata": {
        "colab": {
          "base_uri": "https://localhost:8080/"
        },
        "id": "edI6meB8matn",
        "outputId": "545eb353-1ddb-497d-a5de-47cea58e4dc2"
      },
      "execution_count": 31,
      "outputs": [
        {
          "output_type": "stream",
          "name": "stdout",
          "text": [
            "50/50 [==============================] - 3s 59ms/step - loss: 2.1401 - accuracy: 0.7160\n"
          ]
        },
        {
          "output_type": "execute_result",
          "data": {
            "text/plain": [
              "[2.140080213546753, 0.7160000205039978]"
            ]
          },
          "metadata": {},
          "execution_count": 31
        }
      ]
    },
    {
      "cell_type": "code",
      "source": [],
      "metadata": {
        "id": "Im-PQ3nOmjtv"
      },
      "execution_count": null,
      "outputs": []
    },
    {
      "cell_type": "code",
      "execution_count": null,
      "metadata": {
        "id": "2W74SrhKqe06"
      },
      "outputs": [],
      "source": []
    },
    {
      "cell_type": "markdown",
      "metadata": {
        "id": "o6vSHzPR2ghH"
      },
      "source": [
        "### Running the Model\n",
        "\n",
        "픽사베이에서 무료 사진 다운로드 받아서, 실제로 예측해 보자"
      ]
    },
    {
      "cell_type": "code",
      "execution_count": 35,
      "metadata": {
        "colab": {
          "base_uri": "https://localhost:8080/",
          "height": 1000
        },
        "id": "DoWp43WxJDNT",
        "outputId": "274c8a93-6ae2-46d6-c0b6-2fbe5ff8320f"
      },
      "outputs": [
        {
          "output_type": "display_data",
          "data": {
            "text/plain": [
              "<IPython.core.display.HTML object>"
            ],
            "text/html": [
              "\n",
              "     <input type=\"file\" id=\"files-969cec97-e5e3-4333-85c4-1a359eb8d1c7\" name=\"files[]\" multiple disabled\n",
              "        style=\"border:none\" />\n",
              "     <output id=\"result-969cec97-e5e3-4333-85c4-1a359eb8d1c7\">\n",
              "      Upload widget is only available when the cell has been executed in the\n",
              "      current browser session. Please rerun this cell to enable.\n",
              "      </output>\n",
              "      <script>// Copyright 2017 Google LLC\n",
              "//\n",
              "// Licensed under the Apache License, Version 2.0 (the \"License\");\n",
              "// you may not use this file except in compliance with the License.\n",
              "// You may obtain a copy of the License at\n",
              "//\n",
              "//      http://www.apache.org/licenses/LICENSE-2.0\n",
              "//\n",
              "// Unless required by applicable law or agreed to in writing, software\n",
              "// distributed under the License is distributed on an \"AS IS\" BASIS,\n",
              "// WITHOUT WARRANTIES OR CONDITIONS OF ANY KIND, either express or implied.\n",
              "// See the License for the specific language governing permissions and\n",
              "// limitations under the License.\n",
              "\n",
              "/**\n",
              " * @fileoverview Helpers for google.colab Python module.\n",
              " */\n",
              "(function(scope) {\n",
              "function span(text, styleAttributes = {}) {\n",
              "  const element = document.createElement('span');\n",
              "  element.textContent = text;\n",
              "  for (const key of Object.keys(styleAttributes)) {\n",
              "    element.style[key] = styleAttributes[key];\n",
              "  }\n",
              "  return element;\n",
              "}\n",
              "\n",
              "// Max number of bytes which will be uploaded at a time.\n",
              "const MAX_PAYLOAD_SIZE = 100 * 1024;\n",
              "\n",
              "function _uploadFiles(inputId, outputId) {\n",
              "  const steps = uploadFilesStep(inputId, outputId);\n",
              "  const outputElement = document.getElementById(outputId);\n",
              "  // Cache steps on the outputElement to make it available for the next call\n",
              "  // to uploadFilesContinue from Python.\n",
              "  outputElement.steps = steps;\n",
              "\n",
              "  return _uploadFilesContinue(outputId);\n",
              "}\n",
              "\n",
              "// This is roughly an async generator (not supported in the browser yet),\n",
              "// where there are multiple asynchronous steps and the Python side is going\n",
              "// to poll for completion of each step.\n",
              "// This uses a Promise to block the python side on completion of each step,\n",
              "// then passes the result of the previous step as the input to the next step.\n",
              "function _uploadFilesContinue(outputId) {\n",
              "  const outputElement = document.getElementById(outputId);\n",
              "  const steps = outputElement.steps;\n",
              "\n",
              "  const next = steps.next(outputElement.lastPromiseValue);\n",
              "  return Promise.resolve(next.value.promise).then((value) => {\n",
              "    // Cache the last promise value to make it available to the next\n",
              "    // step of the generator.\n",
              "    outputElement.lastPromiseValue = value;\n",
              "    return next.value.response;\n",
              "  });\n",
              "}\n",
              "\n",
              "/**\n",
              " * Generator function which is called between each async step of the upload\n",
              " * process.\n",
              " * @param {string} inputId Element ID of the input file picker element.\n",
              " * @param {string} outputId Element ID of the output display.\n",
              " * @return {!Iterable<!Object>} Iterable of next steps.\n",
              " */\n",
              "function* uploadFilesStep(inputId, outputId) {\n",
              "  const inputElement = document.getElementById(inputId);\n",
              "  inputElement.disabled = false;\n",
              "\n",
              "  const outputElement = document.getElementById(outputId);\n",
              "  outputElement.innerHTML = '';\n",
              "\n",
              "  const pickedPromise = new Promise((resolve) => {\n",
              "    inputElement.addEventListener('change', (e) => {\n",
              "      resolve(e.target.files);\n",
              "    });\n",
              "  });\n",
              "\n",
              "  const cancel = document.createElement('button');\n",
              "  inputElement.parentElement.appendChild(cancel);\n",
              "  cancel.textContent = 'Cancel upload';\n",
              "  const cancelPromise = new Promise((resolve) => {\n",
              "    cancel.onclick = () => {\n",
              "      resolve(null);\n",
              "    };\n",
              "  });\n",
              "\n",
              "  // Wait for the user to pick the files.\n",
              "  const files = yield {\n",
              "    promise: Promise.race([pickedPromise, cancelPromise]),\n",
              "    response: {\n",
              "      action: 'starting',\n",
              "    }\n",
              "  };\n",
              "\n",
              "  cancel.remove();\n",
              "\n",
              "  // Disable the input element since further picks are not allowed.\n",
              "  inputElement.disabled = true;\n",
              "\n",
              "  if (!files) {\n",
              "    return {\n",
              "      response: {\n",
              "        action: 'complete',\n",
              "      }\n",
              "    };\n",
              "  }\n",
              "\n",
              "  for (const file of files) {\n",
              "    const li = document.createElement('li');\n",
              "    li.append(span(file.name, {fontWeight: 'bold'}));\n",
              "    li.append(span(\n",
              "        `(${file.type || 'n/a'}) - ${file.size} bytes, ` +\n",
              "        `last modified: ${\n",
              "            file.lastModifiedDate ? file.lastModifiedDate.toLocaleDateString() :\n",
              "                                    'n/a'} - `));\n",
              "    const percent = span('0% done');\n",
              "    li.appendChild(percent);\n",
              "\n",
              "    outputElement.appendChild(li);\n",
              "\n",
              "    const fileDataPromise = new Promise((resolve) => {\n",
              "      const reader = new FileReader();\n",
              "      reader.onload = (e) => {\n",
              "        resolve(e.target.result);\n",
              "      };\n",
              "      reader.readAsArrayBuffer(file);\n",
              "    });\n",
              "    // Wait for the data to be ready.\n",
              "    let fileData = yield {\n",
              "      promise: fileDataPromise,\n",
              "      response: {\n",
              "        action: 'continue',\n",
              "      }\n",
              "    };\n",
              "\n",
              "    // Use a chunked sending to avoid message size limits. See b/62115660.\n",
              "    let position = 0;\n",
              "    do {\n",
              "      const length = Math.min(fileData.byteLength - position, MAX_PAYLOAD_SIZE);\n",
              "      const chunk = new Uint8Array(fileData, position, length);\n",
              "      position += length;\n",
              "\n",
              "      const base64 = btoa(String.fromCharCode.apply(null, chunk));\n",
              "      yield {\n",
              "        response: {\n",
              "          action: 'append',\n",
              "          file: file.name,\n",
              "          data: base64,\n",
              "        },\n",
              "      };\n",
              "\n",
              "      let percentDone = fileData.byteLength === 0 ?\n",
              "          100 :\n",
              "          Math.round((position / fileData.byteLength) * 100);\n",
              "      percent.textContent = `${percentDone}% done`;\n",
              "\n",
              "    } while (position < fileData.byteLength);\n",
              "  }\n",
              "\n",
              "  // All done.\n",
              "  yield {\n",
              "    response: {\n",
              "      action: 'complete',\n",
              "    }\n",
              "  };\n",
              "}\n",
              "\n",
              "scope.google = scope.google || {};\n",
              "scope.google.colab = scope.google.colab || {};\n",
              "scope.google.colab._files = {\n",
              "  _uploadFiles,\n",
              "  _uploadFilesContinue,\n",
              "};\n",
              "})(self);\n",
              "</script> "
            ]
          },
          "metadata": {}
        },
        {
          "output_type": "stream",
          "name": "stdout",
          "text": [
            "Saving ddd.jpg to ddd.jpg\n",
            "[[[0.00392157 0.00392157 0.00392157]\n",
            "  [0.00392157 0.00392157 0.00392157]\n",
            "  [0.00392157 0.00392157 0.00392157]\n",
            "  ...\n",
            "  [0.01176471 0.01960784 0.00784314]\n",
            "  [0.01176471 0.01960784 0.00784314]\n",
            "  [0.01176471 0.01960784 0.00784314]]\n",
            "\n",
            " [[0.00392157 0.00392157 0.00392157]\n",
            "  [0.00392157 0.00392157 0.00392157]\n",
            "  [0.00392157 0.00392157 0.00392157]\n",
            "  ...\n",
            "  [0.01176471 0.01960784 0.00784314]\n",
            "  [0.01176471 0.01960784 0.00784314]\n",
            "  [0.01176471 0.01960784 0.00784314]]\n",
            "\n",
            " [[0.00392157 0.00392157 0.00392157]\n",
            "  [0.00392157 0.00392157 0.00392157]\n",
            "  [0.00392157 0.00392157 0.00392157]\n",
            "  ...\n",
            "  [0.01176471 0.01960784 0.00784314]\n",
            "  [0.01176471 0.01960784 0.00784314]\n",
            "  [0.01176471 0.01960784 0.00784314]]\n",
            "\n",
            " ...\n",
            "\n",
            " [[0.5529412  0.56078434 0.3137255 ]\n",
            "  [0.54509807 0.5647059  0.3137255 ]\n",
            "  [0.54509807 0.5647059  0.30588236]\n",
            "  ...\n",
            "  [0.52156866 0.5568628  0.3019608 ]\n",
            "  [0.5058824  0.54901963 0.2901961 ]\n",
            "  [0.5058824  0.54901963 0.2901961 ]]\n",
            "\n",
            " [[0.5568628  0.5647059  0.31764707]\n",
            "  [0.54901963 0.5686275  0.31764707]\n",
            "  [0.54901963 0.5686275  0.30980393]\n",
            "  ...\n",
            "  [0.5019608  0.5372549  0.28235295]\n",
            "  [0.49411765 0.5372549  0.2784314 ]\n",
            "  [0.49411765 0.5372549  0.2784314 ]]\n",
            "\n",
            " [[0.56078434 0.5686275  0.32156864]\n",
            "  [0.5529412  0.57254905 0.32156864]\n",
            "  [0.5529412  0.57254905 0.3137255 ]\n",
            "  ...\n",
            "  [0.4862745  0.52156866 0.26666668]\n",
            "  [0.49411765 0.5372549  0.2784314 ]\n",
            "  [0.49411765 0.5372549  0.2784314 ]]]\n",
            "(150, 150, 3)\n",
            "(1, 150, 150, 3)\n",
            "1/1 [==============================] - 0s 15ms/step\n",
            "[[4.4209508e-05]]\n",
            "ddd.jpg is a cat\n"
          ]
        }
      ],
      "source": [
        "import numpy as np\n",
        "from google.colab import files\n",
        "from tensorflow.keras.preprocessing import image\n",
        "\n",
        "uploaded = files.upload()\n",
        "\n",
        "for fn in uploaded.keys() :\n",
        "  path = '/content/' + fn\n",
        "  img = image.load_img(path, target_size=(150,150))\n",
        "  x = image.img_to_array(img) / 255.0\n",
        "  print(x)\n",
        "  print(x.shape)\n",
        "\n",
        "  x = np.expand_dims(x, axis = 0)\n",
        "\n",
        "  print(x.shape)\n",
        "\n",
        "  images = np.vstack( [x] )\n",
        "  classes = model.predict( images, batch_size = 10 )\n",
        "  \n",
        "  print(classes)\n",
        "\n",
        "  if classes[0] > 0.5 :\n",
        "    print(fn + \" is a dog\")\n",
        "  else :\n",
        "    print(fn + \" is a cat\")"
      ]
    },
    {
      "cell_type": "code",
      "execution_count": null,
      "metadata": {
        "id": "jHAaSFq4qqhh"
      },
      "outputs": [],
      "source": []
    },
    {
      "cell_type": "code",
      "execution_count": null,
      "metadata": {
        "id": "5oAg0hgFqsNL"
      },
      "outputs": [],
      "source": []
    },
    {
      "cell_type": "code",
      "execution_count": null,
      "metadata": {
        "id": "mqzg4jonqqac"
      },
      "outputs": [],
      "source": []
    },
    {
      "cell_type": "markdown",
      "metadata": {
        "id": "Q5Vulban4ZrD"
      },
      "source": [
        "### Evaluating Accuracy and Loss for the Model\n",
        "\n",
        "training/validation accuracy 와 loss 를 차트로 시각화 한다."
      ]
    },
    {
      "cell_type": "code",
      "execution_count": null,
      "metadata": {
        "id": "gfkDjAxzq1Dh"
      },
      "outputs": [],
      "source": []
    },
    {
      "cell_type": "code",
      "execution_count": null,
      "metadata": {
        "id": "uu5xz_lGq0zh"
      },
      "outputs": [],
      "source": []
    },
    {
      "cell_type": "code",
      "execution_count": null,
      "metadata": {
        "id": "ODiNAnh6q0ea"
      },
      "outputs": [],
      "source": []
    },
    {
      "cell_type": "markdown",
      "metadata": {
        "id": "DgmSjUST4qoS"
      },
      "source": [
        " **overfitting** 을 확인해 보자"
      ]
    }
  ],
  "metadata": {
    "accelerator": "GPU",
    "colab": {
      "provenance": []
    },
    "kernelspec": {
      "display_name": "Python 3",
      "language": "python",
      "name": "python3"
    },
    "language_info": {
      "codemirror_mode": {
        "name": "ipython",
        "version": 3
      },
      "file_extension": ".py",
      "mimetype": "text/x-python",
      "name": "python",
      "nbconvert_exporter": "python",
      "pygments_lexer": "ipython3",
      "version": "3.8.8"
    }
  },
  "nbformat": 4,
  "nbformat_minor": 0
}